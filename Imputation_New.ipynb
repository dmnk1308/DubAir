{
 "cells": [
  {
   "cell_type": "markdown",
   "metadata": {},
   "source": [
    "# For Paper"
   ]
  },
  {
   "cell_type": "code",
   "execution_count": 15,
   "metadata": {},
   "outputs": [],
   "source": [
    "import numpy as np\n",
    "import pandas as pd\n",
    "from sklearn.preprocessing import MultiLabelBinarizer, OneHotEncoder\n",
    "from sklearn.feature_selection import VarianceThreshold\n",
    "from helpers import *\n",
    "import ast\n",
    "import requests\n",
    "from bs4 import BeautifulSoup as bs\n",
    "import statsmodels.api as sm\n",
    "from scipy.stats import halfnorm\n",
    "\n",
    "from sklearn.decomposition import PCA\n",
    "from sklearn.preprocessing import StandardScaler\n",
    "from sklearn.model_selection import train_test_split\n",
    "from scipy import stats\n",
    "import matplotlib.pyplot as plt\n",
    "from scipy.cluster import hierarchy\n",
    "from scipy.spatial.distance import squareform"
   ]
  },
  {
   "cell_type": "code",
   "execution_count": 16,
   "metadata": {},
   "outputs": [],
   "source": [
    "url_listing = \"http://data.insideairbnb.com/ireland/leinster/dublin/2021-11-07/data/listings.csv.gz\"\n",
    "listings = pd.read_csv(url_listing)"
   ]
  },
  {
   "cell_type": "code",
   "execution_count": 17,
   "metadata": {},
   "outputs": [],
   "source": [
    "relevant = [\"id\", \"name\", \"last_scraped\", \"description\", \"neighborhood_overview\", \"host_id\", \"host_url\", \"host_name\", \"host_since\", \"host_location\",\n",
    "                                \"host_about\", \"host_is_superhost\", \"host_listings_count\",\"host_identity_verified\",\n",
    "                                \"neighbourhood_cleansed\",\n",
    "                                \"latitude\",\n",
    "                                \"longitude\",\n",
    "                                \"property_type\",\n",
    "                                \"room_type\",\n",
    "                                \"accommodates\",\n",
    "                                \"bathrooms_text\",\n",
    "                                \"bedrooms\",\n",
    "                                \"beds\",\n",
    "                                \"amenities\",\n",
    "                                \"minimum_nights\",\n",
    "                                \"maximum_nights\",\n",
    "                                \"has_availability\",\n",
    "                                \"availability_30\",\n",
    "                                \"availability_60\",\n",
    "                                \"availability_90\",\n",
    "                                \"availability_365\",\n",
    "                                \"number_of_reviews\",\n",
    "                                \"number_of_reviews_ltm\", \n",
    "                                \"number_of_reviews_l30d\", \n",
    "                                \"first_review\",\n",
    "                                \"last_review\",\n",
    "                                \"review_scores_rating\",\t \n",
    "                                \"review_scores_accuracy\",\t\n",
    "                                \"review_scores_cleanliness\",\n",
    "                                \"review_scores_checkin\",\n",
    "                                \"review_scores_communication\",\n",
    "                                \"review_scores_location\",\t\n",
    "                                \"review_scores_value\",\n",
    "                                \"instant_bookable\",\n",
    "                                \"calculated_host_listings_count\",\n",
    "                                \"reviews_per_month\",\n",
    "                                \"host_has_profile_pic\",\n",
    "                                'minimum_minimum_nights', \n",
    "                                'maximum_minimum_nights', \n",
    "                                'minimum_maximum_nights', \n",
    "                                'maximum_maximum_nights', \n",
    "                                'minimum_nights_avg_ntm', \n",
    "                                'maximum_nights_avg_ntm',\n",
    "                                'calculated_host_listings_count_entire_homes', \n",
    "                                'calculated_host_listings_count_private_rooms', \n",
    "                                'calculated_host_listings_count_shared_rooms', \"price\"]"
   ]
  },
  {
   "cell_type": "code",
   "execution_count": 18,
   "metadata": {},
   "outputs": [
    {
     "name": "stderr",
     "output_type": "stream",
     "text": [
      "C:\\Users\\49173\\AppData\\Local\\Programs\\Python\\Python37\\lib\\site-packages\\ipykernel_launcher.py:7: UserWarning: Boolean Series key will be reindexed to match DataFrame index.\n",
      "  import sys\n"
     ]
    }
   ],
   "source": [
    "hotels = listings[\"room_type\"] == \"Hotel room\"\n",
    "listings = listings[~hotels]\n",
    "prop = listings[\"property_type\"]\n",
    "filter_prop = prop.str.contains(\"hotel\", case = False)\n",
    "listings = listings[~filter_prop]\n",
    "filter_prop = prop.str.contains(\"hostel\", case = False)\n",
    "listings = listings[~filter_prop]\n",
    "#listings = listings[relevant]\n",
    "na_filter = listings[\"bathrooms_text\"].isna()\n",
    "listings = listings[~na_filter]"
   ]
  },
  {
   "cell_type": "code",
   "execution_count": 19,
   "metadata": {},
   "outputs": [
    {
     "data": {
      "text/plain": [
       "name                               1\n",
       "description                      203\n",
       "neighborhood_overview           2976\n",
       "host_name                         11\n",
       "host_since                        11\n",
       "host_location                     32\n",
       "host_about                      3390\n",
       "host_response_time              4505\n",
       "host_response_rate              4505\n",
       "host_acceptance_rate            4323\n",
       "host_is_superhost                 11\n",
       "host_thumbnail_url                11\n",
       "host_picture_url                  11\n",
       "host_neighbourhood              2133\n",
       "host_listings_count               11\n",
       "host_total_listings_count         11\n",
       "host_has_profile_pic              11\n",
       "host_identity_verified            11\n",
       "neighbourhood                   2976\n",
       "neighbourhood_group_cleansed    6840\n",
       "bathrooms                       6840\n",
       "bedrooms                         230\n",
       "beds                             240\n",
       "calendar_updated                6840\n",
       "first_review                    1405\n",
       "last_review                     1405\n",
       "review_scores_rating            1405\n",
       "review_scores_accuracy          1548\n",
       "review_scores_cleanliness       1547\n",
       "review_scores_checkin           1554\n",
       "review_scores_communication     1548\n",
       "review_scores_location          1554\n",
       "review_scores_value             1556\n",
       "license                         6840\n",
       "reviews_per_month               1405\n",
       "dtype: int64"
      ]
     },
     "execution_count": 19,
     "metadata": {},
     "output_type": "execute_result"
    }
   ],
   "source": [
    "listings.isna().sum()[listings.isna().sum() > 0]"
   ]
  },
  {
   "cell_type": "code",
   "execution_count": 22,
   "metadata": {},
   "outputs": [],
   "source": [
    "import numpy as np\n",
    "import pandas as pd\n",
    "from load_data_old import clean\n",
    "import requests\n",
    "from bs4 import BeautifulSoup as bs\n",
    "from urllib.parse import urljoin\n",
    "import matplotlib.pyplot as plt\n",
    "import statsmodels.api as sm\n",
    "from scipy.stats import halfnorm"
   ]
  },
  {
   "cell_type": "code",
   "execution_count": 24,
   "metadata": {},
   "outputs": [
    {
     "name": "stdout",
     "output_type": "stream",
     "text": [
      "Data loaded.\n"
     ]
    },
    {
     "name": "stderr",
     "output_type": "stream",
     "text": [
      "d:\\Uni\\WiSe21-22\\Statistical and Deep Learning\\DubAir\\DubAir\\load_data_old.py:112: SettingWithCopyWarning: \n",
      "A value is trying to be set on a copy of a slice from a DataFrame\n",
      "\n",
      "See the caveats in the documentation: https://pandas.pydata.org/pandas-docs/stable/user_guide/indexing.html#returning-a-view-versus-a-copy\n",
      "  listings[\"host_location_country\"][fil] = str(i)\n",
      "C:\\Users\\49173\\AppData\\Local\\Programs\\Python\\Python37\\lib\\site-packages\\pandas\\core\\strings.py:2001: UserWarning: This pattern has match groups. To actually get the groups, use str.extract.\n",
      "  return func(self, *args, **kwargs)\n",
      "d:\\Uni\\WiSe21-22\\Statistical and Deep Learning\\DubAir\\DubAir\\load_data_old.py:116: SettingWithCopyWarning: \n",
      "A value is trying to be set on a copy of a slice from a DataFrame\n",
      "\n",
      "See the caveats in the documentation: https://pandas.pydata.org/pandas-docs/stable/user_guide/indexing.html#returning-a-view-versus-a-copy\n",
      "  listings[\"host_location_country\"][fil] = str(country_list[i])\n",
      "d:\\Uni\\WiSe21-22\\Statistical and Deep Learning\\DubAir\\DubAir\\load_data_old.py:125: SettingWithCopyWarning: \n",
      "A value is trying to be set on a copy of a slice from a DataFrame\n",
      "\n",
      "See the caveats in the documentation: https://pandas.pydata.org/pandas-docs/stable/user_guide/indexing.html#returning-a-view-versus-a-copy\n",
      "  listings[\"host_location_country\"][fil] = \"Others\"\n",
      "d:\\Uni\\WiSe21-22\\Statistical and Deep Learning\\DubAir\\DubAir\\load_data_old.py:126: SettingWithCopyWarning: \n",
      "A value is trying to be set on a copy of a slice from a DataFrame\n",
      "\n",
      "See the caveats in the documentation: https://pandas.pydata.org/pandas-docs/stable/user_guide/indexing.html#returning-a-view-versus-a-copy\n",
      "  listings[\"host_location_country\"][listings[\"host_location_country\"] == \"53.357852, -6.259787\"] = \"Ireland\"\n",
      "d:\\Uni\\WiSe21-22\\Statistical and Deep Learning\\DubAir\\DubAir\\load_data_old.py:172: SettingWithCopyWarning: \n",
      "A value is trying to be set on a copy of a slice from a DataFrame\n",
      "\n",
      "See the caveats in the documentation: https://pandas.pydata.org/pandas-docs/stable/user_guide/indexing.html#returning-a-view-versus-a-copy\n",
      "  listings[\"property_type\"][fil] = \"Others\"\n",
      "C:\\Users\\49173\\AppData\\Local\\Programs\\Python\\Python37\\lib\\site-packages\\pandas\\core\\strings.py:2001: UserWarning: This pattern has match groups. To actually get the groups, use str.extract.\n",
      "  return func(self, *args, **kwargs)\n",
      "C:\\Users\\49173\\AppData\\Local\\Programs\\Python\\Python37\\lib\\site-packages\\pandas\\core\\strings.py:2001: UserWarning: This pattern has match groups. To actually get the groups, use str.extract.\n",
      "  return func(self, *args, **kwargs)\n",
      "C:\\Users\\49173\\AppData\\Local\\Programs\\Python\\Python37\\lib\\site-packages\\pandas\\core\\strings.py:2001: UserWarning: This pattern has match groups. To actually get the groups, use str.extract.\n",
      "  return func(self, *args, **kwargs)\n",
      "C:\\Users\\49173\\AppData\\Local\\Programs\\Python\\Python37\\lib\\site-packages\\pandas\\core\\strings.py:2001: UserWarning: This pattern has match groups. To actually get the groups, use str.extract.\n",
      "  return func(self, *args, **kwargs)\n",
      "C:\\Users\\49173\\AppData\\Local\\Programs\\Python\\Python37\\lib\\site-packages\\pandas\\core\\strings.py:2001: UserWarning: This pattern has match groups. To actually get the groups, use str.extract.\n",
      "  return func(self, *args, **kwargs)\n",
      "C:\\Users\\49173\\AppData\\Local\\Programs\\Python\\Python37\\lib\\site-packages\\pandas\\core\\strings.py:2001: UserWarning: This pattern has match groups. To actually get the groups, use str.extract.\n",
      "  return func(self, *args, **kwargs)\n",
      "C:\\Users\\49173\\AppData\\Local\\Programs\\Python\\Python37\\lib\\site-packages\\pandas\\core\\strings.py:2001: UserWarning: This pattern has match groups. To actually get the groups, use str.extract.\n",
      "  return func(self, *args, **kwargs)\n",
      "C:\\Users\\49173\\AppData\\Local\\Programs\\Python\\Python37\\lib\\site-packages\\pandas\\core\\strings.py:2001: UserWarning: This pattern has match groups. To actually get the groups, use str.extract.\n",
      "  return func(self, *args, **kwargs)\n",
      "C:\\Users\\49173\\AppData\\Local\\Programs\\Python\\Python37\\lib\\site-packages\\pandas\\core\\strings.py:2001: UserWarning: This pattern has match groups. To actually get the groups, use str.extract.\n",
      "  return func(self, *args, **kwargs)\n",
      "C:\\Users\\49173\\AppData\\Local\\Programs\\Python\\Python37\\lib\\site-packages\\pandas\\core\\strings.py:2001: UserWarning: This pattern has match groups. To actually get the groups, use str.extract.\n",
      "  return func(self, *args, **kwargs)\n",
      "C:\\Users\\49173\\AppData\\Local\\Programs\\Python\\Python37\\lib\\site-packages\\pandas\\core\\strings.py:2001: UserWarning: This pattern has match groups. To actually get the groups, use str.extract.\n",
      "  return func(self, *args, **kwargs)\n",
      "C:\\Users\\49173\\AppData\\Local\\Programs\\Python\\Python37\\lib\\site-packages\\pandas\\core\\strings.py:2001: UserWarning: This pattern has match groups. To actually get the groups, use str.extract.\n",
      "  return func(self, *args, **kwargs)\n",
      "C:\\Users\\49173\\AppData\\Local\\Programs\\Python\\Python37\\lib\\site-packages\\pandas\\core\\strings.py:2001: UserWarning: This pattern has match groups. To actually get the groups, use str.extract.\n",
      "  return func(self, *args, **kwargs)\n",
      "C:\\Users\\49173\\AppData\\Local\\Programs\\Python\\Python37\\lib\\site-packages\\pandas\\core\\strings.py:2001: UserWarning: This pattern has match groups. To actually get the groups, use str.extract.\n",
      "  return func(self, *args, **kwargs)\n",
      "C:\\Users\\49173\\AppData\\Local\\Programs\\Python\\Python37\\lib\\site-packages\\pandas\\core\\strings.py:2001: UserWarning: This pattern has match groups. To actually get the groups, use str.extract.\n",
      "  return func(self, *args, **kwargs)\n",
      "C:\\Users\\49173\\AppData\\Local\\Programs\\Python\\Python37\\lib\\site-packages\\pandas\\core\\strings.py:2001: UserWarning: This pattern has match groups. To actually get the groups, use str.extract.\n",
      "  return func(self, *args, **kwargs)\n",
      "C:\\Users\\49173\\AppData\\Local\\Programs\\Python\\Python37\\lib\\site-packages\\pandas\\core\\strings.py:2001: UserWarning: This pattern has match groups. To actually get the groups, use str.extract.\n",
      "  return func(self, *args, **kwargs)\n",
      "C:\\Users\\49173\\AppData\\Local\\Programs\\Python\\Python37\\lib\\site-packages\\pandas\\core\\strings.py:2001: UserWarning: This pattern has match groups. To actually get the groups, use str.extract.\n",
      "  return func(self, *args, **kwargs)\n",
      "C:\\Users\\49173\\AppData\\Local\\Programs\\Python\\Python37\\lib\\site-packages\\pandas\\core\\strings.py:2001: UserWarning: This pattern has match groups. To actually get the groups, use str.extract.\n",
      "  return func(self, *args, **kwargs)\n",
      "C:\\Users\\49173\\AppData\\Local\\Programs\\Python\\Python37\\lib\\site-packages\\pandas\\core\\strings.py:2001: UserWarning: This pattern has match groups. To actually get the groups, use str.extract.\n",
      "  return func(self, *args, **kwargs)\n",
      "C:\\Users\\49173\\AppData\\Local\\Programs\\Python\\Python37\\lib\\site-packages\\pandas\\core\\strings.py:2001: UserWarning: This pattern has match groups. To actually get the groups, use str.extract.\n",
      "  return func(self, *args, **kwargs)\n",
      "C:\\Users\\49173\\AppData\\Local\\Programs\\Python\\Python37\\lib\\site-packages\\pandas\\core\\strings.py:2001: UserWarning: This pattern has match groups. To actually get the groups, use str.extract.\n",
      "  return func(self, *args, **kwargs)\n",
      "C:\\Users\\49173\\AppData\\Local\\Programs\\Python\\Python37\\lib\\site-packages\\pandas\\core\\strings.py:2001: UserWarning: This pattern has match groups. To actually get the groups, use str.extract.\n",
      "  return func(self, *args, **kwargs)\n",
      "C:\\Users\\49173\\AppData\\Local\\Programs\\Python\\Python37\\lib\\site-packages\\pandas\\core\\strings.py:2001: UserWarning: This pattern has match groups. To actually get the groups, use str.extract.\n",
      "  return func(self, *args, **kwargs)\n",
      "C:\\Users\\49173\\AppData\\Local\\Programs\\Python\\Python37\\lib\\site-packages\\pandas\\core\\strings.py:2001: UserWarning: This pattern has match groups. To actually get the groups, use str.extract.\n",
      "  return func(self, *args, **kwargs)\n",
      "C:\\Users\\49173\\AppData\\Local\\Programs\\Python\\Python37\\lib\\site-packages\\pandas\\core\\strings.py:2001: UserWarning: This pattern has match groups. To actually get the groups, use str.extract.\n",
      "  return func(self, *args, **kwargs)\n",
      "C:\\Users\\49173\\AppData\\Local\\Programs\\Python\\Python37\\lib\\site-packages\\pandas\\core\\strings.py:2001: UserWarning: This pattern has match groups. To actually get the groups, use str.extract.\n",
      "  return func(self, *args, **kwargs)\n",
      "C:\\Users\\49173\\AppData\\Local\\Programs\\Python\\Python37\\lib\\site-packages\\pandas\\core\\strings.py:2001: UserWarning: This pattern has match groups. To actually get the groups, use str.extract.\n",
      "  return func(self, *args, **kwargs)\n",
      "C:\\Users\\49173\\AppData\\Local\\Programs\\Python\\Python37\\lib\\site-packages\\pandas\\core\\strings.py:2001: UserWarning: This pattern has match groups. To actually get the groups, use str.extract.\n",
      "  return func(self, *args, **kwargs)\n"
     ]
    },
    {
     "name": "stdout",
     "output_type": "stream",
     "text": [
      "Data cleansed.\n"
     ]
    }
   ],
   "source": [
    "price, listings, reviews = clean()"
   ]
  },
  {
   "cell_type": "code",
   "execution_count": 25,
   "metadata": {},
   "outputs": [],
   "source": [
    "hotel_filter = listings[\"room_type\"] == \"Hostel\"\n",
    "listings = listings[~hotel_filter]\n",
    "price = price[~hotel_filter]"
   ]
  },
  {
   "cell_type": "code",
   "execution_count": 27,
   "metadata": {},
   "outputs": [
    {
     "data": {
      "text/plain": [
       "name                                1\n",
       "description                       203\n",
       "neighborhood_overview            2976\n",
       "host_name                          11\n",
       "host_since                         11\n",
       "host_about                       3390\n",
       "host_listings_count                11\n",
       "bedrooms                          230\n",
       "beds                              240\n",
       "first_review                     1405\n",
       "last_review                      1405\n",
       "review_scores_rating             1405\n",
       "review_scores_accuracy           1548\n",
       "review_scores_cleanliness        1547\n",
       "review_scores_communication      1548\n",
       "review_scores_location           1554\n",
       "review_scores_value              1556\n",
       "reviews_per_month                1405\n",
       "host_location_country              32\n",
       "Bathtub                           121\n",
       "Bed linens                        121\n",
       "Breakfast                         121\n",
       "Cleaning before checkout          121\n",
       "Dishwasher                        121\n",
       "Elevator                          121\n",
       "Hair dryer                        121\n",
       "Indoor fireplace                  121\n",
       "Long term stays allowed           121\n",
       "Private entrance                  121\n",
       "Security cameras on property      121\n",
       "Single level home                 121\n",
       "Oven_available                    121\n",
       "Stoves_available                  121\n",
       "Refridgerator_available           121\n",
       "Body_soap_available               121\n",
       "Garden_backyard_available         121\n",
       "Free_parking                      121\n",
       "Paid_parking                      121\n",
       "Children_Entertainment            121\n",
       "Workspace                         121\n",
       "Shampoo_Conditioner_available     121\n",
       "Gym_available                     121\n",
       "Coffee_machine_available          121\n",
       "Dryer_available                   121\n",
       "Washer_available                  121\n",
       "Hot_tub_available                 121\n",
       "Pool_available                    121\n",
       "Patio_balcony_available           121\n",
       "Wifi_available                    121\n",
       "AC_available                      121\n",
       "heating_available                 121\n",
       "Kitchen_available                 121\n",
       "Safe_available                    121\n",
       "Water_location                    121\n",
       "sound_system_available            121\n",
       "TV_available                      121\n",
       "Outdoor_stuff                     121\n",
       "Game_consoles                     121\n",
       "Baby_friendly                     121\n",
       "Special_stuff                     121\n",
       "dtype: int64"
      ]
     },
     "execution_count": 27,
     "metadata": {},
     "output_type": "execute_result"
    }
   ],
   "source": [
    "listings.isna().sum()[listings.isna().sum().values > 0]"
   ]
  },
  {
   "cell_type": "code",
   "execution_count": 69,
   "metadata": {},
   "outputs": [
    {
     "data": {
      "text/plain": [
       "[<matplotlib.lines.Line2D at 0x20815be3358>]"
      ]
     },
     "execution_count": 69,
     "metadata": {},
     "output_type": "execute_result"
    },
    {
     "data": {
      "image/png": "[encoded data removed]",
      "text/plain": [
       "<Figure size 1440x720 with 2 Axes>"
      ]
     },
     "metadata": {
      "needs_background": "light"
     },
     "output_type": "display_data"
    }
   ],
   "source": [
    "a = listings[\"accommodates\"]\n",
    "b = listings[\"beds\"]\n",
    "c = listings[\"bedrooms\"]\n",
    "\n",
    "# So let us estimate linear models and predict, for beds\n",
    "Y = b\n",
    "x = a\n",
    "X = pd.DataFrame([x]).transpose()\n",
    "X = sm.add_constant(X) # adding a constant\n",
    "# Fit model for beds\n",
    "model = sm.OLS(Y, X, missing='drop').fit()\n",
    "x_seq1 = [0, 17]\n",
    "x_seq = sm.add_constant(x_seq)\n",
    "y_seq = model.predict(x_seq)\n",
    "\n",
    "# So now estimate linear models and predict, for beds\n",
    "Y2 = c\n",
    "x2 = b\n",
    "X2 = pd.DataFrame([x2]).transpose()\n",
    "X2 = sm.add_constant(X2) # adding a constant\n",
    "# Fit model for beds\n",
    "model2 = sm.OLS(Y2, X2, missing='drop').fit()\n",
    "x_seq2 = [0, 17.5]\n",
    "x_seq3 = sm.add_constant(x_seq2)\n",
    "y_seq2 = model2.predict(x_seq3)\n",
    "\n",
    "\n",
    "fig, ax = plt.subplots(1,2, figsize=(20,10))\n",
    "ax[0].scatter(a,b)\n",
    "ax[0].set_title(\"Accommodates vs. Beds\")\n",
    "ax[0].set_xlabel(\"Accommodates\")\n",
    "ax[0].set_ylabel(\"Beds\")\n",
    "ax[0].plot(x_seq1, y_seq, color='red',linewidth=2)\n",
    "ax[1].scatter(b,c)\n",
    "ax[1].set_title(\"Beds vs. Bedrooms\")\n",
    "ax[1].set_xlabel(\"Beds\")\n",
    "ax[1].set_ylabel(\"Bedrooms\")\n",
    "ax[1].plot(x_seq2, y_seq2, color='red',linewidth=2)"
   ]
  },
  {
   "cell_type": "code",
   "execution_count": 70,
   "metadata": {},
   "outputs": [
    {
     "data": {
      "text/html": [
       "<table class=\"simpletable\">\n",
       "<caption>OLS Regression Results</caption>\n",
       "<tr>\n",
       "  <th>Dep. Variable:</th>          <td>beds</td>       <th>  R-squared:         </th> <td>   0.725</td> \n",
       "</tr>\n",
       "<tr>\n",
       "  <th>Model:</th>                   <td>OLS</td>       <th>  Adj. R-squared:    </th> <td>   0.725</td> \n",
       "</tr>\n",
       "<tr>\n",
       "  <th>Method:</th>             <td>Least Squares</td>  <th>  F-statistic:       </th> <td>1.776e+04</td>\n",
       "</tr>\n",
       "<tr>\n",
       "  <th>Date:</th>             <td>Sun, 13 Feb 2022</td> <th>  Prob (F-statistic):</th>  <td>  0.00</td>  \n",
       "</tr>\n",
       "<tr>\n",
       "  <th>Time:</th>                 <td>19:07:19</td>     <th>  Log-Likelihood:    </th> <td> -7254.9</td> \n",
       "</tr>\n",
       "<tr>\n",
       "  <th>No. Observations:</th>      <td>  6734</td>      <th>  AIC:               </th> <td>1.451e+04</td>\n",
       "</tr>\n",
       "<tr>\n",
       "  <th>Df Residuals:</th>          <td>  6732</td>      <th>  BIC:               </th> <td>1.453e+04</td>\n",
       "</tr>\n",
       "<tr>\n",
       "  <th>Df Model:</th>              <td>     1</td>      <th>                     </th>     <td> </td>    \n",
       "</tr>\n",
       "<tr>\n",
       "  <th>Covariance Type:</th>      <td>nonrobust</td>    <th>                     </th>     <td> </td>    \n",
       "</tr>\n",
       "</table>\n",
       "<table class=\"simpletable\">\n",
       "<tr>\n",
       "        <td></td>          <th>coef</th>     <th>std err</th>      <th>t</th>      <th>P>|t|</th>  <th>[0.025</th>    <th>0.975]</th>  \n",
       "</tr>\n",
       "<tr>\n",
       "  <th>const</th>        <td>    0.0478</td> <td>    0.016</td> <td>    3.008</td> <td> 0.003</td> <td>    0.017</td> <td>    0.079</td>\n",
       "</tr>\n",
       "<tr>\n",
       "  <th>accommodates</th> <td>    0.5941</td> <td>    0.004</td> <td>  133.248</td> <td> 0.000</td> <td>    0.585</td> <td>    0.603</td>\n",
       "</tr>\n",
       "</table>\n",
       "<table class=\"simpletable\">\n",
       "<tr>\n",
       "  <th>Omnibus:</th>       <td>3468.797</td> <th>  Durbin-Watson:     </th> <td>   1.880</td> \n",
       "</tr>\n",
       "<tr>\n",
       "  <th>Prob(Omnibus):</th>  <td> 0.000</td>  <th>  Jarque-Bera (JB):  </th> <td>72230.109</td>\n",
       "</tr>\n",
       "<tr>\n",
       "  <th>Skew:</th>           <td> 1.999</td>  <th>  Prob(JB):          </th> <td>    0.00</td> \n",
       "</tr>\n",
       "<tr>\n",
       "  <th>Kurtosis:</th>       <td>18.539</td>  <th>  Cond. No.          </th> <td>    6.92</td> \n",
       "</tr>\n",
       "</table><br/><br/>Notes:<br/>[1] Standard Errors assume that the covariance matrix of the errors is correctly specified."
      ],
      "text/plain": [
       "<class 'statsmodels.iolib.summary.Summary'>\n",
       "\"\"\"\n",
       "                            OLS Regression Results                            \n",
       "==============================================================================\n",
       "Dep. Variable:                   beds   R-squared:                       0.725\n",
       "Model:                            OLS   Adj. R-squared:                  0.725\n",
       "Method:                 Least Squares   F-statistic:                 1.776e+04\n",
       "Date:                Sun, 13 Feb 2022   Prob (F-statistic):               0.00\n",
       "Time:                        19:07:19   Log-Likelihood:                -7254.9\n",
       "No. Observations:                6734   AIC:                         1.451e+04\n",
       "Df Residuals:                    6732   BIC:                         1.453e+04\n",
       "Df Model:                           1                                         \n",
       "Covariance Type:            nonrobust                                         \n",
       "================================================================================\n",
       "                   coef    std err          t      P>|t|      [0.025      0.975]\n",
       "--------------------------------------------------------------------------------\n",
       "const            0.0478      0.016      3.008      0.003       0.017       0.079\n",
       "accommodates     0.5941      0.004    133.248      0.000       0.585       0.603\n",
       "==============================================================================\n",
       "Omnibus:                     3468.797   Durbin-Watson:                   1.880\n",
       "Prob(Omnibus):                  0.000   Jarque-Bera (JB):            72230.109\n",
       "Skew:                           1.999   Prob(JB):                         0.00\n",
       "Kurtosis:                      18.539   Cond. No.                         6.92\n",
       "==============================================================================\n",
       "\n",
       "Notes:\n",
       "[1] Standard Errors assume that the covariance matrix of the errors is correctly specified.\n",
       "\"\"\""
      ]
     },
     "execution_count": 70,
     "metadata": {},
     "output_type": "execute_result"
    }
   ],
   "source": [
    "model.summary()"
   ]
  },
  {
   "cell_type": "code",
   "execution_count": 71,
   "metadata": {},
   "outputs": [
    {
     "data": {
      "text/html": [
       "<table class=\"simpletable\">\n",
       "<caption>OLS Regression Results</caption>\n",
       "<tr>\n",
       "  <th>Dep. Variable:</th>        <td>bedrooms</td>     <th>  R-squared:         </th> <td>   0.665</td> \n",
       "</tr>\n",
       "<tr>\n",
       "  <th>Model:</th>                   <td>OLS</td>       <th>  Adj. R-squared:    </th> <td>   0.665</td> \n",
       "</tr>\n",
       "<tr>\n",
       "  <th>Method:</th>             <td>Least Squares</td>  <th>  F-statistic:       </th> <td>1.296e+04</td>\n",
       "</tr>\n",
       "<tr>\n",
       "  <th>Date:</th>             <td>Sun, 13 Feb 2022</td> <th>  Prob (F-statistic):</th>  <td>  0.00</td>  \n",
       "</tr>\n",
       "<tr>\n",
       "  <th>Time:</th>                 <td>19:07:35</td>     <th>  Log-Likelihood:    </th> <td> -5026.4</td> \n",
       "</tr>\n",
       "<tr>\n",
       "  <th>No. Observations:</th>      <td>  6522</td>      <th>  AIC:               </th> <td>1.006e+04</td>\n",
       "</tr>\n",
       "<tr>\n",
       "  <th>Df Residuals:</th>          <td>  6520</td>      <th>  BIC:               </th> <td>1.007e+04</td>\n",
       "</tr>\n",
       "<tr>\n",
       "  <th>Df Model:</th>              <td>     1</td>      <th>                     </th>     <td> </td>    \n",
       "</tr>\n",
       "<tr>\n",
       "  <th>Covariance Type:</th>      <td>nonrobust</td>    <th>                     </th>     <td> </td>    \n",
       "</tr>\n",
       "</table>\n",
       "<table class=\"simpletable\">\n",
       "<tr>\n",
       "    <td></td>       <th>coef</th>     <th>std err</th>      <th>t</th>      <th>P>|t|</th>  <th>[0.025</th>    <th>0.975]</th>  \n",
       "</tr>\n",
       "<tr>\n",
       "  <th>const</th> <td>    0.5155</td> <td>    0.011</td> <td>   47.377</td> <td> 0.000</td> <td>    0.494</td> <td>    0.537</td>\n",
       "</tr>\n",
       "<tr>\n",
       "  <th>beds</th>  <td>    0.5404</td> <td>    0.005</td> <td>  113.851</td> <td> 0.000</td> <td>    0.531</td> <td>    0.550</td>\n",
       "</tr>\n",
       "</table>\n",
       "<table class=\"simpletable\">\n",
       "<tr>\n",
       "  <th>Omnibus:</th>       <td>1555.709</td> <th>  Durbin-Watson:     </th> <td>   1.941</td> \n",
       "</tr>\n",
       "<tr>\n",
       "  <th>Prob(Omnibus):</th>  <td> 0.000</td>  <th>  Jarque-Bera (JB):  </th> <td>32659.808</td>\n",
       "</tr>\n",
       "<tr>\n",
       "  <th>Skew:</th>           <td>-0.620</td>  <th>  Prob(JB):          </th> <td>    0.00</td> \n",
       "</tr>\n",
       "<tr>\n",
       "  <th>Kurtosis:</th>       <td>13.893</td>  <th>  Cond. No.          </th> <td>    4.35</td> \n",
       "</tr>\n",
       "</table><br/><br/>Notes:<br/>[1] Standard Errors assume that the covariance matrix of the errors is correctly specified."
      ],
      "text/plain": [
       "<class 'statsmodels.iolib.summary.Summary'>\n",
       "\"\"\"\n",
       "                            OLS Regression Results                            \n",
       "==============================================================================\n",
       "Dep. Variable:               bedrooms   R-squared:                       0.665\n",
       "Model:                            OLS   Adj. R-squared:                  0.665\n",
       "Method:                 Least Squares   F-statistic:                 1.296e+04\n",
       "Date:                Sun, 13 Feb 2022   Prob (F-statistic):               0.00\n",
       "Time:                        19:07:35   Log-Likelihood:                -5026.4\n",
       "No. Observations:                6522   AIC:                         1.006e+04\n",
       "Df Residuals:                    6520   BIC:                         1.007e+04\n",
       "Df Model:                           1                                         \n",
       "Covariance Type:            nonrobust                                         \n",
       "==============================================================================\n",
       "                 coef    std err          t      P>|t|      [0.025      0.975]\n",
       "------------------------------------------------------------------------------\n",
       "const          0.5155      0.011     47.377      0.000       0.494       0.537\n",
       "beds           0.5404      0.005    113.851      0.000       0.531       0.550\n",
       "==============================================================================\n",
       "Omnibus:                     1555.709   Durbin-Watson:                   1.941\n",
       "Prob(Omnibus):                  0.000   Jarque-Bera (JB):            32659.808\n",
       "Skew:                          -0.620   Prob(JB):                         0.00\n",
       "Kurtosis:                      13.893   Cond. No.                         4.35\n",
       "==============================================================================\n",
       "\n",
       "Notes:\n",
       "[1] Standard Errors assume that the covariance matrix of the errors is correctly specified.\n",
       "\"\"\""
      ]
     },
     "execution_count": 71,
     "metadata": {},
     "output_type": "execute_result"
    }
   ],
   "source": [
    "model2.summary()"
   ]
  },
  {
   "cell_type": "code",
   "execution_count": 29,
   "metadata": {},
   "outputs": [],
   "source": [
    "url_listing = \"http://data.insideairbnb.com/ireland/leinster/dublin/2021-11-07/data/listings.csv.gz\"\n",
    "listings = pd.read_csv(url_listing)"
   ]
  },
  {
   "cell_type": "code",
   "execution_count": 51,
   "metadata": {},
   "outputs": [
    {
     "data": {
      "text/plain": [
       "Text(0, 0.5, 'density')"
      ]
     },
     "execution_count": 51,
     "metadata": {},
     "output_type": "execute_result"
    },
    {
     "data": {
      "image/png": "[encoded data removed]",
      "text/plain": [
       "<Figure size 1440x936 with 6 Axes>"
      ]
     },
     "metadata": {
      "needs_background": "light"
     },
     "output_type": "display_data"
    }
   ],
   "source": [
    "# Look all like half normal\n",
    "review_var = ['review_scores_rating', 'review_scores_accuracy', 'review_scores_cleanliness',\n",
    "       'review_scores_communication', 'review_scores_location', 'review_scores_value']\n",
    "\n",
    "fig, ax = plt.subplots(2,3, figsize=(20, 13))\n",
    "ax[0,0].hist(listings['review_scores_rating'], density=True, bins = 20)\n",
    "ax[0,0].set_title('Histogram review_scores_rating')\n",
    "ax[0,0].set_xlabel(\"score\")\n",
    "ax[0,0].set_ylabel(\"density\")\n",
    "ax[0,1].hist(listings['review_scores_accuracy'], density=True, bins = 20)\n",
    "ax[0,1].set_title('Histogram review_scores_accuracy')\n",
    "ax[0,1].set_xlabel(\"score\")\n",
    "ax[0,1].set_ylabel(\"density\")\n",
    "ax[0,2].hist(listings['review_scores_cleanliness'], density=True, bins = 20)\n",
    "ax[0,2].set_title('Histogram review_scores_cleanliness')\n",
    "ax[0,2].set_xlabel(\"score\")\n",
    "ax[0,2].set_ylabel(\"density\")\n",
    "ax[1,0].hist(listings['review_scores_communication'], density=True, bins = 20)\n",
    "ax[1,0].set_title('Histogram review_scores_communication')\n",
    "ax[1,0].set_xlabel(\"score\")\n",
    "ax[1,0].set_ylabel(\"density\")\n",
    "ax[1,1].hist(listings['review_scores_location'], density=True, bins = 20)\n",
    "ax[1,1].set_title('Histogram review_scores_location')\n",
    "ax[1,1].set_xlabel(\"score\")\n",
    "ax[1,1].set_ylabel(\"density\")\n",
    "ax[1,2].hist(listings['review_scores_value'], density=True, bins = 20)\n",
    "ax[1,2].set_title('Histogram review_scores_value')\n",
    "ax[1,2].set_xlabel(\"score\")\n",
    "ax[1,2].set_ylabel(\"density\")\n"
   ]
  },
  {
   "cell_type": "code",
   "execution_count": null,
   "metadata": {},
   "outputs": [],
   "source": []
  },
  {
   "cell_type": "code",
   "execution_count": 34,
   "metadata": {},
   "outputs": [
    {
     "data": {
      "text/plain": [
       "name                               1\n",
       "bathrooms_text                     6\n",
       "host_has_profile_pic              11\n",
       "host_total_listings_count         11\n",
       "host_listings_count               11\n",
       "host_picture_url                  11\n",
       "host_thumbnail_url                11\n",
       "host_is_superhost                 11\n",
       "host_identity_verified            11\n",
       "host_since                        11\n",
       "host_name                         11\n",
       "host_location                     32\n",
       "description                      206\n",
       "bedrooms                         236\n",
       "beds                             242\n",
       "review_scores_rating            1429\n",
       "last_review                     1429\n",
       "first_review                    1429\n",
       "reviews_per_month               1429\n",
       "review_scores_cleanliness       1573\n",
       "review_scores_communication     1574\n",
       "review_scores_accuracy          1574\n",
       "review_scores_location          1580\n",
       "review_scores_checkin           1580\n",
       "review_scores_value             1582\n",
       "host_neighbourhood              2173\n",
       "neighborhood_overview           3028\n",
       "neighbourhood                   3028\n",
       "host_about                      3466\n",
       "host_acceptance_rate            4328\n",
       "host_response_time              4509\n",
       "host_response_rate              4509\n",
       "license                         6976\n",
       "bathrooms                       6976\n",
       "calendar_updated                6976\n",
       "neighbourhood_group_cleansed    6976\n",
       "dtype: int64"
      ]
     },
     "execution_count": 34,
     "metadata": {},
     "output_type": "execute_result"
    }
   ],
   "source": [
    "listings.isna().sum()[listings.isna().sum() > 0].sort_values()"
   ]
  }
 ],
 "metadata": {
  "interpreter": {
   "hash": "e7ceb82608ae6fe88e490753eac496252e6081112e25db21e5455bbb2af41f14"
  },
  "kernelspec": {
   "display_name": "Python 3.7.0 64-bit",
   "language": "python",
   "name": "python3"
  },
  "language_info": {
   "codemirror_mode": {
    "name": "ipython",
    "version": 3
   },
   "file_extension": ".py",
   "mimetype": "text/x-python",
   "name": "python",
   "nbconvert_exporter": "python",
   "pygments_lexer": "ipython3",
   "version": "3.7.0"
  },
  "orig_nbformat": 4
 },
 "nbformat": 4,
 "nbformat_minor": 2
}
