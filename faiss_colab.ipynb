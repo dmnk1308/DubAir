{
  "nbformat": 4,
  "nbformat_minor": 0,
  "metadata": {
    "colab": {
      "name": "Untitled0.ipynb",
      "provenance": [],
      "mount_file_id": "12YAtk5bqt4LlzMpqgfwqG1INeXYcZ_mh",
      "authorship_tag": "ABX9TyNwQvEZg0sQjE8E/Q71KmcE",
      "include_colab_link": true
    },
    "kernelspec": {
      "name": "python3",
      "display_name": "Python 3"
    },
    "language_info": {
      "name": "python"
    }
  },
  "cells": [
    {
      "cell_type": "markdown",
      "metadata": {
        "id": "view-in-github",
        "colab_type": "text"
      },
      "source": [
        "<a href=\"https://colab.research.google.com/github/dmnk1308/DubAir/blob/main/faiss_colab.ipynb\" target=\"_parent\"><img src=\"https://colab.research.google.com/assets/colab-badge.svg\" alt=\"Open In Colab\"/></a>"
      ]
    },
    {
      "cell_type": "code",
      "execution_count": 9,
      "metadata": {
        "colab": {
          "base_uri": "https://localhost:8080/"
        },
        "id": "DavO1UOqKOPk",
        "outputId": "4f6ec5f3-cd76-40f2-a84a-829050ed3741"
      },
      "outputs": [
        {
          "output_type": "stream",
          "name": "stdout",
          "text": [
            "Requirement already satisfied: image_embeddings in /usr/local/lib/python3.7/dist-packages (1.4.0)\n",
            "Requirement already satisfied: fire>=0.3 in /usr/local/lib/python3.7/dist-packages (from image_embeddings) (0.4.0)\n",
            "Requirement already satisfied: pandas>=1 in /usr/local/lib/python3.7/dist-packages (from image_embeddings) (1.1.5)\n",
            "Requirement already satisfied: pyarrow>=0.14 in /usr/local/lib/python3.7/dist-packages (from image_embeddings) (3.0.0)\n",
            "Requirement already satisfied: tensorflow-datasets in /usr/local/lib/python3.7/dist-packages (from image_embeddings) (4.0.1)\n",
            "Requirement already satisfied: dataclasses in /usr/local/lib/python3.7/dist-packages (from image_embeddings) (0.6)\n",
            "Requirement already satisfied: ipywidgets in /usr/local/lib/python3.7/dist-packages (from image_embeddings) (7.6.5)\n",
            "Requirement already satisfied: efficientnet in /usr/local/lib/python3.7/dist-packages (from image_embeddings) (1.1.1)\n",
            "Requirement already satisfied: numpy in /usr/local/lib/python3.7/dist-packages (from image_embeddings) (1.19.5)\n",
            "Requirement already satisfied: tensorflow>=2.2 in /usr/local/lib/python3.7/dist-packages (from image_embeddings) (2.7.0)\n",
            "Requirement already satisfied: faiss-cpu-noavx2 in /usr/local/lib/python3.7/dist-packages (from image_embeddings) (1.6.3)\n",
            "Requirement already satisfied: ipython in /usr/local/lib/python3.7/dist-packages (from image_embeddings) (5.5.0)\n",
            "Requirement already satisfied: python-dateutil>=2.7.3 in /usr/local/lib/python3.7/dist-packages (from pandas>=1->image_embeddings) (2.8.2)\n",
            "Requirement already satisfied: pytz>=2017.2 in /usr/local/lib/python3.7/dist-packages (from pandas>=1->image_embeddings) (2018.9)\n",
            "Requirement already satisfied: six>=1.5 in /usr/local/lib/python3.7/dist-packages (from python-dateutil>=2.7.3->pandas>=1->image_embeddings) (1.15.0)\n",
            "Requirement already satisfied: protobuf>=3.9.2 in /usr/local/lib/python3.7/dist-packages (from tensorflow>=2.2->image_embeddings) (3.17.3)\n",
            "Requirement already satisfied: h5py>=2.9.0 in /usr/local/lib/python3.7/dist-packages (from tensorflow>=2.2->image_embeddings) (3.1.0)\n",
            "Requirement already satisfied: flatbuffers<3.0,>=1.12 in /usr/local/lib/python3.7/dist-packages (from tensorflow>=2.2->image_embeddings) (2.0)\n",
            "Requirement already satisfied: typing-extensions>=3.6.6 in /usr/local/lib/python3.7/dist-packages (from tensorflow>=2.2->image_embeddings) (3.10.0.2)\n",
            "Requirement already satisfied: gast<0.5.0,>=0.2.1 in /usr/local/lib/python3.7/dist-packages (from tensorflow>=2.2->image_embeddings) (0.4.0)\n",
            "Requirement already satisfied: grpcio<2.0,>=1.24.3 in /usr/local/lib/python3.7/dist-packages (from tensorflow>=2.2->image_embeddings) (1.42.0)\n",
            "Requirement already satisfied: opt-einsum>=2.3.2 in /usr/local/lib/python3.7/dist-packages (from tensorflow>=2.2->image_embeddings) (3.3.0)\n",
            "Requirement already satisfied: wrapt>=1.11.0 in /usr/local/lib/python3.7/dist-packages (from tensorflow>=2.2->image_embeddings) (1.13.3)\n",
            "Requirement already satisfied: tensorboard~=2.6 in /usr/local/lib/python3.7/dist-packages (from tensorflow>=2.2->image_embeddings) (2.7.0)\n",
            "Requirement already satisfied: tensorflow-estimator<2.8,~=2.7.0rc0 in /usr/local/lib/python3.7/dist-packages (from tensorflow>=2.2->image_embeddings) (2.7.0)\n",
            "Requirement already satisfied: tensorflow-io-gcs-filesystem>=0.21.0 in /usr/local/lib/python3.7/dist-packages (from tensorflow>=2.2->image_embeddings) (0.22.0)\n",
            "Requirement already satisfied: keras<2.8,>=2.7.0rc0 in /usr/local/lib/python3.7/dist-packages (from tensorflow>=2.2->image_embeddings) (2.7.0)\n",
            "Requirement already satisfied: wheel<1.0,>=0.32.0 in /usr/local/lib/python3.7/dist-packages (from tensorflow>=2.2->image_embeddings) (0.37.0)\n",
            "Requirement already satisfied: libclang>=9.0.1 in /usr/local/lib/python3.7/dist-packages (from tensorflow>=2.2->image_embeddings) (12.0.0)\n",
            "Requirement already satisfied: keras-preprocessing>=1.1.1 in /usr/local/lib/python3.7/dist-packages (from tensorflow>=2.2->image_embeddings) (1.1.2)\n",
            "Requirement already satisfied: absl-py>=0.4.0 in /usr/local/lib/python3.7/dist-packages (from tensorflow>=2.2->image_embeddings) (0.12.0)\n",
            "Requirement already satisfied: astunparse>=1.6.0 in /usr/local/lib/python3.7/dist-packages (from tensorflow>=2.2->image_embeddings) (1.6.3)\n",
            "Requirement already satisfied: termcolor>=1.1.0 in /usr/local/lib/python3.7/dist-packages (from tensorflow>=2.2->image_embeddings) (1.1.0)\n",
            "Requirement already satisfied: google-pasta>=0.1.1 in /usr/local/lib/python3.7/dist-packages (from tensorflow>=2.2->image_embeddings) (0.2.0)\n",
            "Requirement already satisfied: cached-property in /usr/local/lib/python3.7/dist-packages (from h5py>=2.9.0->tensorflow>=2.2->image_embeddings) (1.5.2)\n",
            "Requirement already satisfied: tensorboard-data-server<0.7.0,>=0.6.0 in /usr/local/lib/python3.7/dist-packages (from tensorboard~=2.6->tensorflow>=2.2->image_embeddings) (0.6.1)\n",
            "Requirement already satisfied: requests<3,>=2.21.0 in /usr/local/lib/python3.7/dist-packages (from tensorboard~=2.6->tensorflow>=2.2->image_embeddings) (2.23.0)\n",
            "Requirement already satisfied: tensorboard-plugin-wit>=1.6.0 in /usr/local/lib/python3.7/dist-packages (from tensorboard~=2.6->tensorflow>=2.2->image_embeddings) (1.8.0)\n",
            "Requirement already satisfied: setuptools>=41.0.0 in /usr/local/lib/python3.7/dist-packages (from tensorboard~=2.6->tensorflow>=2.2->image_embeddings) (57.4.0)\n",
            "Requirement already satisfied: markdown>=2.6.8 in /usr/local/lib/python3.7/dist-packages (from tensorboard~=2.6->tensorflow>=2.2->image_embeddings) (3.3.6)\n",
            "Requirement already satisfied: google-auth-oauthlib<0.5,>=0.4.1 in /usr/local/lib/python3.7/dist-packages (from tensorboard~=2.6->tensorflow>=2.2->image_embeddings) (0.4.6)\n",
            "Requirement already satisfied: google-auth<3,>=1.6.3 in /usr/local/lib/python3.7/dist-packages (from tensorboard~=2.6->tensorflow>=2.2->image_embeddings) (1.35.0)\n",
            "Requirement already satisfied: werkzeug>=0.11.15 in /usr/local/lib/python3.7/dist-packages (from tensorboard~=2.6->tensorflow>=2.2->image_embeddings) (1.0.1)\n",
            "Requirement already satisfied: cachetools<5.0,>=2.0.0 in /usr/local/lib/python3.7/dist-packages (from google-auth<3,>=1.6.3->tensorboard~=2.6->tensorflow>=2.2->image_embeddings) (4.2.4)\n",
            "Requirement already satisfied: pyasn1-modules>=0.2.1 in /usr/local/lib/python3.7/dist-packages (from google-auth<3,>=1.6.3->tensorboard~=2.6->tensorflow>=2.2->image_embeddings) (0.2.8)\n",
            "Requirement already satisfied: rsa<5,>=3.1.4 in /usr/local/lib/python3.7/dist-packages (from google-auth<3,>=1.6.3->tensorboard~=2.6->tensorflow>=2.2->image_embeddings) (4.8)\n",
            "Requirement already satisfied: requests-oauthlib>=0.7.0 in /usr/local/lib/python3.7/dist-packages (from google-auth-oauthlib<0.5,>=0.4.1->tensorboard~=2.6->tensorflow>=2.2->image_embeddings) (1.3.0)\n",
            "Requirement already satisfied: importlib-metadata>=4.4 in /usr/local/lib/python3.7/dist-packages (from markdown>=2.6.8->tensorboard~=2.6->tensorflow>=2.2->image_embeddings) (4.8.2)\n",
            "Requirement already satisfied: zipp>=0.5 in /usr/local/lib/python3.7/dist-packages (from importlib-metadata>=4.4->markdown>=2.6.8->tensorboard~=2.6->tensorflow>=2.2->image_embeddings) (3.6.0)\n",
            "Requirement already satisfied: pyasn1<0.5.0,>=0.4.6 in /usr/local/lib/python3.7/dist-packages (from pyasn1-modules>=0.2.1->google-auth<3,>=1.6.3->tensorboard~=2.6->tensorflow>=2.2->image_embeddings) (0.4.8)\n",
            "Requirement already satisfied: chardet<4,>=3.0.2 in /usr/local/lib/python3.7/dist-packages (from requests<3,>=2.21.0->tensorboard~=2.6->tensorflow>=2.2->image_embeddings) (3.0.4)\n",
            "Requirement already satisfied: urllib3!=1.25.0,!=1.25.1,<1.26,>=1.21.1 in /usr/local/lib/python3.7/dist-packages (from requests<3,>=2.21.0->tensorboard~=2.6->tensorflow>=2.2->image_embeddings) (1.24.3)\n",
            "Requirement already satisfied: certifi>=2017.4.17 in /usr/local/lib/python3.7/dist-packages (from requests<3,>=2.21.0->tensorboard~=2.6->tensorflow>=2.2->image_embeddings) (2021.10.8)\n",
            "Requirement already satisfied: idna<3,>=2.5 in /usr/local/lib/python3.7/dist-packages (from requests<3,>=2.21.0->tensorboard~=2.6->tensorflow>=2.2->image_embeddings) (2.10)\n",
            "Requirement already satisfied: oauthlib>=3.0.0 in /usr/local/lib/python3.7/dist-packages (from requests-oauthlib>=0.7.0->google-auth-oauthlib<0.5,>=0.4.1->tensorboard~=2.6->tensorflow>=2.2->image_embeddings) (3.1.1)\n",
            "Requirement already satisfied: scikit-image in /usr/local/lib/python3.7/dist-packages (from efficientnet->image_embeddings) (0.18.3)\n",
            "Requirement already satisfied: keras-applications<=1.0.8,>=1.0.7 in /usr/local/lib/python3.7/dist-packages (from efficientnet->image_embeddings) (1.0.8)\n",
            "Requirement already satisfied: pickleshare in /usr/local/lib/python3.7/dist-packages (from ipython->image_embeddings) (0.7.5)\n",
            "Requirement already satisfied: decorator in /usr/local/lib/python3.7/dist-packages (from ipython->image_embeddings) (4.4.2)\n",
            "Requirement already satisfied: traitlets>=4.2 in /usr/local/lib/python3.7/dist-packages (from ipython->image_embeddings) (5.1.1)\n",
            "Requirement already satisfied: prompt-toolkit<2.0.0,>=1.0.4 in /usr/local/lib/python3.7/dist-packages (from ipython->image_embeddings) (1.0.18)\n",
            "Requirement already satisfied: pygments in /usr/local/lib/python3.7/dist-packages (from ipython->image_embeddings) (2.6.1)\n",
            "Requirement already satisfied: simplegeneric>0.8 in /usr/local/lib/python3.7/dist-packages (from ipython->image_embeddings) (0.8.1)\n",
            "Requirement already satisfied: pexpect in /usr/local/lib/python3.7/dist-packages (from ipython->image_embeddings) (4.8.0)\n",
            "Requirement already satisfied: wcwidth in /usr/local/lib/python3.7/dist-packages (from prompt-toolkit<2.0.0,>=1.0.4->ipython->image_embeddings) (0.2.5)\n",
            "Requirement already satisfied: widgetsnbextension~=3.5.0 in /usr/local/lib/python3.7/dist-packages (from ipywidgets->image_embeddings) (3.5.2)\n",
            "Requirement already satisfied: ipython-genutils~=0.2.0 in /usr/local/lib/python3.7/dist-packages (from ipywidgets->image_embeddings) (0.2.0)\n",
            "Requirement already satisfied: ipykernel>=4.5.1 in /usr/local/lib/python3.7/dist-packages (from ipywidgets->image_embeddings) (4.10.1)\n",
            "Requirement already satisfied: jupyterlab-widgets>=1.0.0 in /usr/local/lib/python3.7/dist-packages (from ipywidgets->image_embeddings) (1.0.2)\n",
            "Requirement already satisfied: nbformat>=4.2.0 in /usr/local/lib/python3.7/dist-packages (from ipywidgets->image_embeddings) (5.1.3)\n",
            "Requirement already satisfied: tornado>=4.0 in /usr/local/lib/python3.7/dist-packages (from ipykernel>=4.5.1->ipywidgets->image_embeddings) (5.1.1)\n",
            "Requirement already satisfied: jupyter-client in /usr/local/lib/python3.7/dist-packages (from ipykernel>=4.5.1->ipywidgets->image_embeddings) (5.3.5)\n",
            "Requirement already satisfied: jupyter-core in /usr/local/lib/python3.7/dist-packages (from nbformat>=4.2.0->ipywidgets->image_embeddings) (4.9.1)\n",
            "Requirement already satisfied: jsonschema!=2.5.0,>=2.4 in /usr/local/lib/python3.7/dist-packages (from nbformat>=4.2.0->ipywidgets->image_embeddings) (2.6.0)\n",
            "Requirement already satisfied: notebook>=4.4.1 in /usr/local/lib/python3.7/dist-packages (from widgetsnbextension~=3.5.0->ipywidgets->image_embeddings) (5.3.1)\n",
            "Requirement already satisfied: jinja2 in /usr/local/lib/python3.7/dist-packages (from notebook>=4.4.1->widgetsnbextension~=3.5.0->ipywidgets->image_embeddings) (2.11.3)\n",
            "Requirement already satisfied: terminado>=0.8.1 in /usr/local/lib/python3.7/dist-packages (from notebook>=4.4.1->widgetsnbextension~=3.5.0->ipywidgets->image_embeddings) (0.12.1)\n",
            "Requirement already satisfied: Send2Trash in /usr/local/lib/python3.7/dist-packages (from notebook>=4.4.1->widgetsnbextension~=3.5.0->ipywidgets->image_embeddings) (1.8.0)\n",
            "Requirement already satisfied: nbconvert in /usr/local/lib/python3.7/dist-packages (from notebook>=4.4.1->widgetsnbextension~=3.5.0->ipywidgets->image_embeddings) (5.6.1)\n",
            "Requirement already satisfied: pyzmq>=13 in /usr/local/lib/python3.7/dist-packages (from jupyter-client->ipykernel>=4.5.1->ipywidgets->image_embeddings) (22.3.0)\n",
            "Requirement already satisfied: ptyprocess in /usr/local/lib/python3.7/dist-packages (from terminado>=0.8.1->notebook>=4.4.1->widgetsnbextension~=3.5.0->ipywidgets->image_embeddings) (0.7.0)\n",
            "Requirement already satisfied: MarkupSafe>=0.23 in /usr/local/lib/python3.7/dist-packages (from jinja2->notebook>=4.4.1->widgetsnbextension~=3.5.0->ipywidgets->image_embeddings) (2.0.1)\n",
            "Requirement already satisfied: testpath in /usr/local/lib/python3.7/dist-packages (from nbconvert->notebook>=4.4.1->widgetsnbextension~=3.5.0->ipywidgets->image_embeddings) (0.5.0)\n",
            "Requirement already satisfied: mistune<2,>=0.8.1 in /usr/local/lib/python3.7/dist-packages (from nbconvert->notebook>=4.4.1->widgetsnbextension~=3.5.0->ipywidgets->image_embeddings) (0.8.4)\n",
            "Requirement already satisfied: bleach in /usr/local/lib/python3.7/dist-packages (from nbconvert->notebook>=4.4.1->widgetsnbextension~=3.5.0->ipywidgets->image_embeddings) (4.1.0)\n",
            "Requirement already satisfied: pandocfilters>=1.4.1 in /usr/local/lib/python3.7/dist-packages (from nbconvert->notebook>=4.4.1->widgetsnbextension~=3.5.0->ipywidgets->image_embeddings) (1.5.0)\n",
            "Requirement already satisfied: defusedxml in /usr/local/lib/python3.7/dist-packages (from nbconvert->notebook>=4.4.1->widgetsnbextension~=3.5.0->ipywidgets->image_embeddings) (0.7.1)\n",
            "Requirement already satisfied: entrypoints>=0.2.2 in /usr/local/lib/python3.7/dist-packages (from nbconvert->notebook>=4.4.1->widgetsnbextension~=3.5.0->ipywidgets->image_embeddings) (0.3)\n",
            "Requirement already satisfied: webencodings in /usr/local/lib/python3.7/dist-packages (from bleach->nbconvert->notebook>=4.4.1->widgetsnbextension~=3.5.0->ipywidgets->image_embeddings) (0.5.1)\n",
            "Requirement already satisfied: packaging in /usr/local/lib/python3.7/dist-packages (from bleach->nbconvert->notebook>=4.4.1->widgetsnbextension~=3.5.0->ipywidgets->image_embeddings) (21.3)\n",
            "Requirement already satisfied: pyparsing!=3.0.5,>=2.0.2 in /usr/local/lib/python3.7/dist-packages (from packaging->bleach->nbconvert->notebook>=4.4.1->widgetsnbextension~=3.5.0->ipywidgets->image_embeddings) (3.0.6)\n",
            "Requirement already satisfied: scipy>=1.0.1 in /usr/local/lib/python3.7/dist-packages (from scikit-image->efficientnet->image_embeddings) (1.4.1)\n",
            "Requirement already satisfied: PyWavelets>=1.1.1 in /usr/local/lib/python3.7/dist-packages (from scikit-image->efficientnet->image_embeddings) (1.2.0)\n",
            "Requirement already satisfied: tifffile>=2019.7.26 in /usr/local/lib/python3.7/dist-packages (from scikit-image->efficientnet->image_embeddings) (2021.11.2)\n",
            "Requirement already satisfied: networkx>=2.0 in /usr/local/lib/python3.7/dist-packages (from scikit-image->efficientnet->image_embeddings) (2.6.3)\n",
            "Requirement already satisfied: pillow!=7.1.0,!=7.1.1,>=4.3.0 in /usr/local/lib/python3.7/dist-packages (from scikit-image->efficientnet->image_embeddings) (7.1.2)\n",
            "Requirement already satisfied: matplotlib!=3.0.0,>=2.0.0 in /usr/local/lib/python3.7/dist-packages (from scikit-image->efficientnet->image_embeddings) (3.2.2)\n",
            "Requirement already satisfied: imageio>=2.3.0 in /usr/local/lib/python3.7/dist-packages (from scikit-image->efficientnet->image_embeddings) (2.4.1)\n",
            "Requirement already satisfied: kiwisolver>=1.0.1 in /usr/local/lib/python3.7/dist-packages (from matplotlib!=3.0.0,>=2.0.0->scikit-image->efficientnet->image_embeddings) (1.3.2)\n",
            "Requirement already satisfied: cycler>=0.10 in /usr/local/lib/python3.7/dist-packages (from matplotlib!=3.0.0,>=2.0.0->scikit-image->efficientnet->image_embeddings) (0.11.0)\n",
            "Requirement already satisfied: future in /usr/local/lib/python3.7/dist-packages (from tensorflow-datasets->image_embeddings) (0.16.0)\n",
            "Requirement already satisfied: dm-tree in /usr/local/lib/python3.7/dist-packages (from tensorflow-datasets->image_embeddings) (0.1.6)\n",
            "Requirement already satisfied: promise in /usr/local/lib/python3.7/dist-packages (from tensorflow-datasets->image_embeddings) (2.3)\n",
            "Requirement already satisfied: importlib-resources in /usr/local/lib/python3.7/dist-packages (from tensorflow-datasets->image_embeddings) (5.4.0)\n",
            "Requirement already satisfied: attrs>=18.1.0 in /usr/local/lib/python3.7/dist-packages (from tensorflow-datasets->image_embeddings) (21.2.0)\n",
            "Requirement already satisfied: tqdm in /usr/local/lib/python3.7/dist-packages (from tensorflow-datasets->image_embeddings) (4.62.3)\n",
            "Requirement already satisfied: dill in /usr/local/lib/python3.7/dist-packages (from tensorflow-datasets->image_embeddings) (0.3.4)\n",
            "Requirement already satisfied: tensorflow-metadata in /usr/local/lib/python3.7/dist-packages (from tensorflow-datasets->image_embeddings) (1.4.0)\n",
            "Requirement already satisfied: googleapis-common-protos<2,>=1.52.0 in /usr/local/lib/python3.7/dist-packages (from tensorflow-metadata->tensorflow-datasets->image_embeddings) (1.53.0)\n"
          ]
        }
      ],
      "source": [
        "%pip install image_embeddings"
      ]
    },
    {
      "cell_type": "code",
      "source": [
        "import image_embeddings\n",
        "import pandas as pd\n",
        "from tqdm import tqdm\n",
        "import os"
      ],
      "metadata": {
        "id": "jPwkwrElK161"
      },
      "execution_count": 10,
      "outputs": []
    },
    {
      "cell_type": "code",
      "source": [
        "len(os.listdir(\"/content/drive/Othercomputers/Mein_MacBook_Air/test\"))"
      ],
      "metadata": {
        "colab": {
          "base_uri": "https://localhost:8080/"
        },
        "id": "NiAWg5_KxUoL",
        "outputId": "4a025667-3803-465d-e943-c10947036481"
      },
      "execution_count": null,
      "outputs": [
        {
          "output_type": "execute_result",
          "data": {
            "text/plain": [
              "143"
            ]
          },
          "metadata": {},
          "execution_count": 3
        }
      ]
    },
    {
      "cell_type": "markdown",
      "source": [
        "# Changes source code image_embeddings"
      ],
      "metadata": {
        "id": "EDLJLOKPLZmo"
      }
    },
    {
      "cell_type": "code",
      "source": [
        "import pyarrow.parquet as pq\n",
        "\n",
        "from dataclasses import dataclass\n",
        "from IPython.display import Image, display\n",
        "from ipywidgets import widgets, HBox, VBox\n",
        "import faiss\n",
        "import numpy as np\n",
        "import random\n",
        "import json\n",
        "from pathlib import Path\n",
        "\n",
        "\n",
        "def read_embeddings(path):\n",
        "    emb = pq.read_table(path).to_pandas()\n",
        "    id_to_name = {k: v.decode(\"utf-8\") for k, v in enumerate(list(emb[\"image_name\"]))}\n",
        "    name_to_id = {v: k for k, v in id_to_name.items()}\n",
        "    embgood = np.stack(emb[\"embedding\"].to_numpy())\n",
        "    return [id_to_name, name_to_id, embgood]\n",
        "\n",
        "\n",
        "def embeddings_to_numpy(input_path, output_path):\n",
        "    emb = pq.read_table(input_path).to_pandas()\n",
        "\n",
        "    Path(output_path).mkdir(parents=True, exist_ok=True)\n",
        "    id_name = [{\"id\": k, \"name\": v.decode(\"utf-8\")} for k, v in enumerate(list(emb[\"image_name\"]))]\n",
        "    json.dump(id_name, open(output_path + \"/id_name.json\", \"w\"))\n",
        "\n",
        "    emb = np.stack(emb[\"embedding\"].to_numpy())\n",
        "    np.save(open(output_path + \"/embedding.npy\", \"wb\"), emb)\n",
        "\n",
        "\n",
        "def build_index(emb):\n",
        "    d = emb.shape[1]\n",
        "    xb = emb\n",
        "    index = faiss.IndexFlatIP(d)\n",
        "    index.add(xb)\n",
        "    return index\n",
        "\n",
        "\n",
        "def random_search(path):\n",
        "    [id_to_name, name_to_id, embeddings] = read_embeddings(path)\n",
        "    index = build_index(embeddings)\n",
        "    p = random.randint(0, len(id_to_name) - 1)\n",
        "    print(id_to_name[p])\n",
        "    results = search(index, id_to_name, embeddings[p])\n",
        "    for e in results:\n",
        "        print(f\"{e[0]:.2f} {e[1]}\")\n",
        "\n",
        "\n",
        "def search(index, id_to_name, emb, k=5):\n",
        "    D, I = index.search(np.expand_dims(emb, 0), k)  # actual search\n",
        "    return list(zip(D[0], [id_to_name[x] for x in I[0]]))\n",
        "\n",
        "\n",
        "def display_picture(image_path, image_name):\n",
        "    display(Image(filename=f\"{image_path}/{image_name}.png\"))\n",
        "\n",
        "\n",
        "def display_results(image_path, results):\n",
        "    hbox = HBox(\n",
        "        [\n",
        "            VBox(\n",
        "                [\n",
        "                    widgets.Label(f\"{distance:.2f} {image_name}\"),\n",
        "                    widgets.Image(value=open(f\"{image_path}/{image_name}.png\", \"rb\").read()),\n",
        "                ]\n",
        "            )\n",
        "            for distance, image_name in results\n",
        "        ]\n",
        "    )\n",
        "    display(hbox)\n",
        "\n",
        "\n",
        "\n",
        "  ############ INFERENCE #############\n",
        "\n",
        "\n",
        "import tensorflow as tf\n",
        "import numpy as np\n",
        "import time\n",
        "from efficientnet.tfkeras import EfficientNetB0\n",
        "import pyarrow.parquet as pq\n",
        "import pyarrow as pa\n",
        "from pathlib import Path\n",
        "\n",
        "\n",
        "def _int64_feature(value):\n",
        "    \"\"\"Returns an int64_list from a bool / enum / int / uint.\"\"\"\n",
        "    return tf.train.Feature(int64_list=tf.train.Int64List(value=[value]))\n",
        "\n",
        "\n",
        "def _bytes_feature(value):\n",
        "    \"\"\"Returns a bytes_list from a string / byte.\"\"\"\n",
        "    if isinstance(value, type(tf.constant(0))):\n",
        "        value = value.numpy()  # BytesList won't unpack a string from an EagerTensor.\n",
        "    return tf.train.Feature(bytes_list=tf.train.BytesList(value=[value]))\n",
        "\n",
        "\n",
        "def serialize_example(image, label):\n",
        "    feature = {\"image\": _bytes_feature(image), \"label\": _bytes_feature(label)}\n",
        "\n",
        "    example_proto = tf.train.Example(features=tf.train.Features(feature=feature))\n",
        "    return example_proto.SerializeToString()\n",
        "\n",
        "\n",
        "def tf_serialize_example(image, image_name):\n",
        "    tf_string = tf.py_function(serialize_example, (image, image_name), tf.string)\n",
        "    return tf.reshape(tf_string, ())\n",
        "\n",
        "\n",
        "def process_path(file_path):\n",
        "    parts = tf.strings.split(file_path, \"/\")\n",
        "    image_name = tf.strings.split(parts[-1], \".\")[0]\n",
        "    raw = tf.io.read_file(file_path)\n",
        "    return raw, image_name\n",
        "\n",
        "\n",
        "def read_image_file_write_tfrecord(files_ds, output_filename):\n",
        "    image_ds = files_ds.map(process_path, num_parallel_calls=tf.data.experimental.AUTOTUNE)\n",
        "    serialized_features_dataset = image_ds.map(tf_serialize_example, num_parallel_calls=tf.data.experimental.AUTOTUNE)\n",
        "    writer = tf.data.experimental.TFRecordWriter(output_filename)\n",
        "    writer.write(serialized_features_dataset)\n",
        "\n",
        "\n",
        "def image_files_to_tfrecords(list_ds, output_folder, num_shard):\n",
        "    start = time.time()\n",
        "    for shard_id in range(0, num_shard):\n",
        "        shard_list = list_ds.shard(num_shards=num_shard, index=shard_id)\n",
        "        read_image_file_write_tfrecord(shard_list, output_folder + \"/part-\" + \"{:03d}\".format(shard_id) + \".tfr\")\n",
        "        print(\"Shard \" + str(shard_id) + \" saved after \" + str(int(time.time() - start)) + \"s\")\n",
        "\n",
        "\n",
        "feature_description = {\n",
        "    \"image\": tf.io.FixedLenFeature([], tf.string),\n",
        "    \"label\": tf.io.FixedLenFeature([], tf.float32),\n",
        "}\n",
        "\n",
        "\n",
        "def _parse_function(example_proto):\n",
        "    return tf.io.parse_single_example(example_proto, feature_description)\n",
        "\n",
        "\n",
        "def preprocess_image(d):\n",
        "    label = d[\"label\"]\n",
        "    raw = d[\"image\"]\n",
        "    image = tf.image.decode_jpeg(raw)\n",
        "    image = tf.image.convert_image_dtype(image, tf.float32)\n",
        "\n",
        "    return image, label\n",
        "\n",
        "\n",
        "def read_tfrecord(filename):\n",
        "    filenames = [filename]\n",
        "    raw_dataset = tf.data.TFRecordDataset(filenames)\n",
        "    return (\n",
        "        raw_dataset.map(_parse_function, num_parallel_calls=tf.data.experimental.AUTOTUNE)\n",
        "        .map(preprocess_image, num_parallel_calls=tf.data.experimental.AUTOTUNE)\n",
        "        .apply(tf.data.experimental.ignore_errors())\n",
        "    )\n",
        "\n",
        "\n",
        "def tfrecords_to_write_embeddings(tfrecords_folder, output_folder, model, batch_size):\n",
        "    tfrecords = [\n",
        "        f.numpy().decode(\"utf-8\") for f in tf.data.Dataset.list_files(tfrecords_folder + \"/*.tfr\", shuffle=False)\n",
        "    ]\n",
        "    start = time.time()\n",
        "    for shard_id, tfrecord in enumerate(tfrecords):\n",
        "        shard = read_tfrecord(tfrecord)\n",
        "        embeddings = images_to_embeddings(model, shard, batch_size)\n",
        "        print(\"\")\n",
        "        print(\"Shard \" + str(shard_id) + \" done after \" + str(int(time.time() - start)) + \"s\")\n",
        "        save_embeddings_ds_to_parquet(\n",
        "            embeddings, shard, output_folder + \"/part-\" + \"{:03d}\".format(shard_id) + \".parquet\"\n",
        "        )\n",
        "        print(\"Shard \" + str(shard_id) + \" saved after \" + str(int(time.time() - start)) + \"s\")\n",
        "\n",
        "\n",
        "def list_files(images_path):\n",
        "    return tf.data.Dataset.list_files(images_path + \"/*\", shuffle=False).cache()\n",
        "\n",
        "\n",
        "def process_path(file_path):\n",
        "    parts = tf.strings.split(file_path, \"/\")\n",
        "    image_name = tf.strings.split(parts[-1], \".\")[0]\n",
        "    raw = tf.io.read_file(file_path)\n",
        "    return raw, image_name\n",
        "\n",
        "\n",
        "def read_data_from_files(list_ds):\n",
        "    return list_ds.map(\n",
        "        process_path, num_parallel_calls=tf.data.experimental.AUTOTUNE\n",
        "    )  # .apply(tf.data.experimental.ignore_errors())\n",
        "\n",
        "\n",
        "def images_to_embeddings(model, dataset, batch_size):\n",
        "    return model.predict(dataset.batch(batch_size).map(lambda image_raw, image_name: image_raw), verbose=1)\n",
        "\n",
        "\n",
        "def save_embeddings_ds_to_parquet(embeddings, dataset, path):\n",
        "    embeddings = pa.array(embeddings.tolist(), type=pa.list_(pa.float32()))\n",
        "    image_names = pa.array(dataset.map(lambda image_raw, image_name: image_name).as_numpy_iterator())\n",
        "    table = pa.Table.from_arrays([image_names, embeddings], [\"image_name\", \"embedding\"])\n",
        "    pq.write_table(table, path)\n",
        "\n",
        "\n",
        "def compute_save_embeddings(list_ds, folder, num_shards, model, batch_size):\n",
        "    start = time.time()\n",
        "    for shard_id in range(0, num_shards):\n",
        "        shard_list = list_ds.shard(num_shards=num_shards, index=shard_id)\n",
        "        shard = read_data_from_files(shard_list)\n",
        "        embeddings = images_to_embeddings(model, shard, batch_size)\n",
        "        print(\"Shard \" + str(shard_id) + \" done after \" + str(int(time.time() - start)) + \"s\")\n",
        "        save_embeddings_ds_to_parquet(embeddings, shard, folder + \"/part-\" + \"{:03d}\".format(shard_id) + \".parquet\")\n",
        "        print(\"Shard \" + str(shard_id) + \" saved after \" + str(int(time.time() - start)) + \"s\")\n",
        "    print(\"Total time : \" + str(int(time.time() - start)))\n",
        "\n",
        "\n",
        "def run_inference_from_files(image_folder, output_folder, num_shards=10, batch_size=1000):\n",
        "    model = EfficientNetB0(weights=\"imagenet\", include_top=False, pooling=\"avg\")\n",
        "    list_ds = list_files(image_folder)\n",
        "    compute_save_embeddings(list_ds, output_folder, num_shards, model, batch_size)\n",
        "\n",
        "\n",
        "def write_tfrecord(image_folder, output_folder, num_shards=10):\n",
        "    Path(output_folder).mkdir(parents=True, exist_ok=True)\n",
        "    list_ds = list_files(image_folder)\n",
        "    image_files_to_tfrecords(list_ds, output_folder, num_shards)\n",
        "\n",
        "\n",
        "def run_inference(tfrecords_folder, output_folder, batch_size=1000):\n",
        "    Path(output_folder).mkdir(parents=True, exist_ok=True)\n",
        "    model = EfficientNetB0(weights=\"imagenet\", include_top=False, pooling=\"avg\")\n",
        "    tfrecords_to_write_embeddings(tfrecords_folder, output_folder, model, batch_size)"
      ],
      "metadata": {
        "id": "FkXXRZ0uLZBX"
      },
      "execution_count": null,
      "outputs": []
    },
    {
      "cell_type": "markdown",
      "source": [
        "# Get index"
      ],
      "metadata": {
        "id": "fuD3c_VDMQ2p"
      }
    },
    {
      "cell_type": "code",
      "source": [
        "path_embeddings = \"/content/drive/Othercomputers/Mein_MacBook_Air/embeddings\"\n",
        "path_images = \"/content/drive/Othercomputers/Mein_MacBook_Air/test\"\n",
        "path_tfrecords = \"/content/tfrecord\""
      ],
      "metadata": {
        "id": "MqM_hTjOK5cj"
      },
      "execution_count": 7,
      "outputs": []
    },
    {
      "cell_type": "code",
      "source": [
        "[id_to_name, name_to_id, embeddings] = image_embeddings.knn.read_embeddings(path_embeddings)\n",
        "index = image_embeddings.knn.build_index(embeddings)"
      ],
      "metadata": {
        "id": "HK_hVw62KRJX"
      },
      "execution_count": 13,
      "outputs": []
    },
    {
      "cell_type": "code",
      "source": [
        "p=2\n",
        "print(id_to_name[p])\n",
        "#display_picture(path_images, id_to_name[p])\n",
        "results = search(index, id_to_name, embeddings[p], k = len(embeddings))"
      ],
      "metadata": {
        "colab": {
          "base_uri": "https://localhost:8080/"
        },
        "id": "CHt2D-5ZK-aw",
        "outputId": "fdd9f3be-7ca6-419d-8a69-fdb0aab1cc8f"
      },
      "execution_count": 14,
      "outputs": [
        {
          "output_type": "stream",
          "name": "stdout",
          "text": [
            "10433007_12\n"
          ]
        }
      ]
    },
    {
      "cell_type": "code",
      "source": [
        "p=0\n",
        "results = search(index, id_to_name, embeddings[p], k = len(embeddings))\n",
        "df = pd.DataFrame(results, columns = [p, \"id\"])\n",
        "df.index = df[\"id\"]\n",
        "df = df.drop(\"id\", axis = 1)\n",
        "\n",
        "for i in tqdm(range(1,len(embeddings))):\n",
        "  p = i\n",
        "  results = search(index, id_to_name, embeddings[p], k = len(embeddings))\n",
        "  df_tmp = pd.DataFrame(results, columns = [p, \"id\"])\n",
        "  df_tmp.index = df_tmp[\"id\"]\n",
        "  df_tmp = df_tmp.drop(\"id\", axis = 1)\n",
        "  pd.concat([df,df_tmp], axis = 1)"
      ],
      "metadata": {
        "colab": {
          "base_uri": "https://localhost:8080/"
        },
        "id": "BtfOT1qJONl6",
        "outputId": "49b75dc4-6a32-4a5c-abdf-89794bc04b18"
      },
      "execution_count": null,
      "outputs": [
        {
          "output_type": "stream",
          "name": "stderr",
          "text": [
            "  3%|▎         | 2492/86444 [24:36<14:18:30,  1.63it/s]"
          ]
        }
      ]
    },
    {
      "cell_type": "code",
      "source": [
        "pd.to_csv(\"/content/drive/MyDrive/DubAir/faiss.csv\")"
      ],
      "metadata": {
        "id": "HQFfa1sj6ivh"
      },
      "execution_count": null,
      "outputs": []
    },
    {
      "cell_type": "code",
      "source": [
        ""
      ],
      "metadata": {
        "id": "MbgW8173EppB"
      },
      "execution_count": null,
      "outputs": []
    }
  ]
}