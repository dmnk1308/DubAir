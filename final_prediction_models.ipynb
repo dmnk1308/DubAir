{
 "cells": [
  {
   "cell_type": "markdown",
   "metadata": {},
   "source": [
    "# Final prediction models\n",
    "Use several different models with the selected features and compare their results in terms of R^2 and MSE\n",
    "\n",
    "Models:\n",
    "- Random Forest\n",
    "- XGBoost\n",
    "- Neural Network\n",
    "- SVR (?)\n"
   ]
  },
  {
   "cell_type": "markdown",
   "metadata": {},
   "source": [
    "## Data Preparation"
   ]
  },
  {
   "cell_type": "code",
   "execution_count": null,
   "metadata": {},
   "outputs": [],
   "source": [
    "# Load data\n"
   ]
  },
  {
   "cell_type": "markdown",
   "metadata": {},
   "source": [
    "## Random Forest"
   ]
  },
  {
   "cell_type": "markdown",
   "metadata": {},
   "source": [
    "## XGBoost"
   ]
  },
  {
   "cell_type": "code",
   "execution_count": null,
   "metadata": {},
   "outputs": [],
   "source": [
    "import pandas as pd\n",
    "import numpy as np\n",
    "import xgboost as xgb\n",
    "from sklearn.metrics import mean_squared_error\n",
    "from hyperopt import STATUS_OK, Trials, fmin, hp, tpe\n",
    "from hyperopt.pyll.base import scope\n",
    "import shap"
   ]
  },
  {
   "cell_type": "code",
   "execution_count": null,
   "metadata": {},
   "outputs": [],
   "source": [
    "space={'max_depth': hp.quniform(\"max_depth\", 3, 18, 1),\n",
    "        'gamma': hp.uniform ('gamma', 1,9),\n",
    "        'reg_alpha' : hp.quniform('reg_alpha', 40,180,1),\n",
    "        'reg_lambda' : hp.uniform('reg_lambda', 0,100),\n",
    "        'colsample_bytree' : hp.uniform('colsample_bytree', 0.5,1),\n",
    "        'min_child_weight' : hp.quniform('min_child_weight', 0, 10, 1),\n",
    "        'n_estimators': 180,\n",
    "        'seed': 0\n",
    "    }"
   ]
  },
  {
   "cell_type": "code",
   "execution_count": null,
   "metadata": {},
   "outputs": [],
   "source": [
    "def objective(space):\n",
    "    model=xgb.XGBRegressor(\n",
    "                    n_estimators =space['n_estimators'], max_depth = int(space['max_depth']), gamma = space['gamma'],\n",
    "                    reg_alpha = int(space['reg_alpha']),min_child_weight=int(space['min_child_weight']),\n",
    "                    colsample_bytree=int(space['colsample_bytree']))\n",
    "    \n",
    "    evaluation = [( X_train, y_train), ( X_test, y_test)]\n",
    "    \n",
    "    model.fit(X_train, y_train,\n",
    "            eval_set=evaluation, eval_metric=\"rmse\",\n",
    "            early_stopping_rounds=10,verbose=False)\n",
    "    \n",
    "\n",
    "    pred = model.predict(X_test)\n",
    "    mse = mean_squared_error(y_test, pred)\n",
    "    print (\"SCORE:\", mse)\n",
    "    return {'loss': mse, 'status': STATUS_OK }"
   ]
  },
  {
   "cell_type": "code",
   "execution_count": null,
   "metadata": {},
   "outputs": [
    {
     "name": "stdout",
     "output_type": "stream",
     "text": [
      "SCORE:                                                 \n",
      "0.35571473768543505                                    \n",
      "SCORE:                                                                            \n",
      "0.3299591702567127                                                                \n",
      "SCORE:                                                                            \n",
      "0.5526295972182068                                                               \n",
      "SCORE:                                                                           \n",
      "0.39160821685627273                                                              \n",
      "SCORE:                                                                           \n",
      "0.3465400296014344                                                               \n",
      "SCORE:                                                                           \n",
      "0.3945164601011938                                                               \n",
      "SCORE:                                                                           \n",
      "0.3898687707370404                                                               \n",
      "SCORE:                                                                           \n",
      "0.40318120083369485                                                              \n",
      "SCORE:                                                                           \n",
      "0.40253531075067644                                                              \n",
      "SCORE:                                                                           \n",
      "0.4553261898438816                                                               \n",
      "SCORE:                                                                            \n",
      "0.3470781192834236                                                                \n",
      "SCORE:                                                                            \n",
      "0.41802834334573363                                                               \n",
      "SCORE:                                                                            \n",
      "0.3984748922661901                                                                \n",
      "SCORE:                                                                            \n",
      "0.4053210753114082                                                                \n",
      "SCORE:                                                                            \n",
      "0.3256577742966937                                                                \n",
      "SCORE:                                                                            \n",
      "0.32929182816167935                                                               \n",
      "SCORE:                                                                            \n",
      "0.40411285567520827                                                               \n",
      "SCORE:                                                                            \n",
      "0.4207326803442032                                                                \n",
      "SCORE:                                                                            \n",
      "0.3970893352888632                                                                \n",
      "SCORE:                                                                            \n",
      "0.4178626641010109                                                                \n",
      "SCORE:                                                                            \n",
      "0.39799884018625475                                                               \n",
      "SCORE:                                                                            \n",
      "0.39725419142264495                                                               \n",
      "SCORE:                                                                            \n",
      "0.37661583473745885                                                               \n",
      "SCORE:                                                                            \n",
      "0.3262354206704896                                                                \n",
      "SCORE:                                                                            \n",
      "0.3249117996395012                                                                \n",
      "SCORE:                                                                            \n",
      "0.39618490350699026                                                               \n",
      "SCORE:                                                                            \n",
      "0.36972261833807984                                                               \n",
      "SCORE:                                                                            \n",
      "0.3890318198687401                                                                \n",
      "SCORE:                                                                            \n",
      "0.40066542278804423                                                               \n",
      "SCORE:                                                                            \n",
      "0.39372473958428783                                                               \n",
      "SCORE:                                                                            \n",
      "0.32811879968601265                                                               \n",
      "SCORE:                                                                            \n",
      "0.3379075986910421                                                                \n",
      "SCORE:                                                                            \n",
      "0.4208984809677964                                                                \n",
      "SCORE:                                                                            \n",
      "0.36547601035805627                                                               \n",
      "SCORE:                                                                            \n",
      "0.35247212990397697                                                               \n",
      "SCORE:                                                                            \n",
      "0.33447862599153144                                                               \n",
      "SCORE:                                                                            \n",
      "0.39768105311965923                                                               \n",
      "SCORE:                                                                            \n",
      "0.3999637608696058                                                                \n",
      "SCORE:                                                                            \n",
      "0.38913999881190525                                                               \n",
      "SCORE:                                                                            \n",
      "0.396939877858412                                                                 \n",
      "SCORE:                                                                            \n",
      "0.38263892316437037                                                               \n",
      "SCORE:                                                                            \n",
      "0.5538311386587002                                                                \n",
      "SCORE:                                                                            \n",
      "0.32932973969696927                                                               \n",
      "SCORE:                                                                            \n",
      "0.4012145294565897                                                                \n",
      "SCORE:                                                                            \n",
      "0.32835126349955696                                                               \n",
      "SCORE:                                                                            \n",
      "0.4192221604499204                                                                \n",
      "SCORE:                                                                            \n",
      "0.35158540370314256                                                               \n",
      "SCORE:                                                                            \n",
      "0.39276221007064765                                                               \n",
      "SCORE:                                                                            \n",
      "0.38918540979312866                                                               \n",
      "SCORE:                                                                            \n",
      "0.40113528169678303                                                               \n",
      "SCORE:                                                                            \n",
      "0.5524418087548221                                                                \n",
      "SCORE:                                                                            \n",
      "0.3336998127432559                                                                \n",
      "SCORE:                                                                            \n",
      "0.5531181677056899                                                                \n",
      "SCORE:                                                                            \n",
      "0.39570026693431665                                                               \n",
      "SCORE:                                                                            \n",
      "0.4050656124871035                                                                \n",
      "SCORE:                                                                            \n",
      "0.4009248785947093                                                                \n",
      "SCORE:                                                                            \n",
      "0.3447584342430587                                                                \n",
      "SCORE:                                                                            \n",
      "0.4143285852926642                                                                \n",
      "SCORE:                                                                            \n",
      "0.39529146407031585                                                               \n",
      "SCORE:                                                                            \n",
      "0.40342824248778886                                                               \n",
      "SCORE:                                                                            \n",
      "0.3350115959095968                                                                \n",
      "SCORE:                                                                            \n",
      "0.38130543977674636                                                               \n",
      "SCORE:                                                                            \n",
      "0.36610098264593843                                                               \n",
      "SCORE:                                                                            \n",
      "0.3981767866957728                                                                \n",
      "SCORE:                                                                            \n",
      "0.3516597312578349                                                                \n",
      "SCORE:                                                                            \n",
      "0.3256577742966937                                                                \n",
      "SCORE:                                                                            \n",
      "0.3441269824518638                                                                \n",
      "SCORE:                                                                            \n",
      "0.3256577742966937                                                                \n",
      "SCORE:                                                                            \n",
      "0.3340820559775546                                                                \n",
      "SCORE:                                                                            \n",
      "0.39125943517529815                                                               \n",
      "SCORE:                                                                            \n",
      "0.38251158236733895                                                               \n",
      "SCORE:                                                                            \n",
      "0.3256577742966937                                                                \n",
      "SCORE:                                                                            \n",
      "0.3915314690692823                                                                \n",
      "SCORE:                                                                            \n",
      "0.39019589019593753                                                               \n",
      "SCORE:                                                                            \n",
      "0.33447862599153144                                                               \n",
      "SCORE:                                                                            \n",
      "0.33901178729646314                                                               \n",
      "SCORE:                                                                            \n",
      "0.37226984638928856                                                               \n",
      "SCORE:                                                                            \n",
      "0.3360459916899373                                                                \n",
      "SCORE:                                                                            \n",
      "0.3485835852858723                                                                \n",
      "SCORE:                                                                            \n",
      "0.35372767247848647                                                               \n",
      "SCORE:                                                                            \n",
      "0.3916835942180683                                                                \n",
      "SCORE:                                                                            \n",
      "0.5534753624255875                                                                \n",
      "SCORE:                                                                            \n",
      "0.3919095270068395                                                                \n",
      "SCORE:                                                                            \n",
      "0.3938510122404991                                                                \n",
      "SCORE:                                                                            \n",
      "0.34502064804142896                                                               \n",
      "SCORE:                                                                            \n",
      "0.3977792644727443                                                                \n",
      "SCORE:                                                                            \n",
      "0.38251158236733895                                                               \n",
      "SCORE:                                                                            \n",
      "0.4053341338142723                                                                \n",
      "SCORE:                                                                            \n",
      "0.33661406460129795                                                               \n",
      "SCORE:                                                                            \n",
      "0.403767024007847                                                                 \n",
      "SCORE:                                                                            \n",
      "0.4012975176961491                                                                \n",
      "SCORE:                                                                            \n",
      "0.33029826431951825                                                               \n",
      "SCORE:                                                                            \n",
      "0.45316848863070586                                                               \n",
      "SCORE:                                                                            \n",
      "0.3663466528408442                                                                \n",
      "SCORE:                                                                            \n",
      "0.4172581760110475                                                                \n",
      "SCORE:                                                                            \n",
      "0.31829328338225543                                                               \n",
      "SCORE:                                                                             \n",
      "0.3284575433373775                                                                 \n",
      "SCORE:                                                                             \n",
      "0.39547429270887446                                                                \n",
      "SCORE:                                                                             \n",
      "0.3943498704738224                                                                 \n",
      "SCORE:                                                                             \n",
      "0.3508237770528675                                                                 \n",
      "100%|██████████| 100/100 [01:27<00:00,  1.14trial/s, best loss: 0.31829328338225543]\n"
     ]
    }
   ],
   "source": [
    "trials = Trials()\n",
    "\n",
    "best_hyperparams = fmin(fn = objective,\n",
    "                        space = space,\n",
    "                        algo = tpe.suggest,\n",
    "                        max_evals = 100,\n",
    "                        trials = trials)"
   ]
  },
  {
   "cell_type": "code",
   "execution_count": null,
   "metadata": {},
   "outputs": [],
   "source": [
    "best_hyperparams\n",
    "best_hyperparams[\"max_depth\"] = int(best_hyperparams[\"max_depth\"])"
   ]
  },
  {
   "cell_type": "code",
   "execution_count": null,
   "metadata": {},
   "outputs": [
    {
     "data": {
      "image/png": "[encoded data removed]",
      "text/plain": [
       "<Figure size 576x468 with 3 Axes>"
      ]
     },
     "metadata": {},
     "output_type": "display_data"
    }
   ],
   "source": [
    "# train an XGBoost model\n",
    "model = xgb.XGBRegressor(**best_hyperparams).fit(X_train, y_train)\n",
    "\n",
    "# explain the model's predictions using SHAP\n",
    "# (same syntax works for LightGBM, CatBoost, scikit-learn, transformers, Spark, etc.)\n",
    "explainer = shap.Explainer(model)\n",
    "shap_values = explainer(X_test)\n",
    "\n",
    "# visualize the first prediction's explanation\n",
    "shap.plots.waterfall(shap_values[2])"
   ]
  },
  {
   "cell_type": "markdown",
   "metadata": {},
   "source": [
    "## Neural Network"
   ]
  },
  {
   "cell_type": "markdown",
   "metadata": {},
   "source": [
    "Important parts:\n",
    "- Regularization on the weights (L1 or L2)\n",
    "- Dropout\n",
    "- Layers (3 proposed in:\n",
    " @article{2021,\n",
    "   title={Airbnb Price Prediction Using Machine Learning and Sentiment Analysis},\n",
    "   ISBN={9783030840600},\n",
    "   ISSN={1611-3349},\n",
    "   url={http://dx.doi.org/10.1007/978-3-030-84060-0_11},\n",
    "   DOI={10.1007/978-3-030-84060-0_11},\n",
    "   journal={Machine Learning and Knowledge Extraction},\n",
    "   publisher={Springer International Publishing},\n",
    "   author={Rezazadeh Kalehbasti, Pouya and Nikolenko, Liubov and Rezaei, Hoormazd},\n",
    "   year={2021},\n",
    "   pages={173–184})"
   ]
  },
  {
   "cell_type": "code",
   "execution_count": null,
   "metadata": {},
   "outputs": [],
   "source": []
  },
  {
   "cell_type": "markdown",
   "metadata": {},
   "source": [
    "## Support Vector Regression"
   ]
  },
  {
   "cell_type": "markdown",
   "metadata": {},
   "source": []
  }
 ],
 "metadata": {
  "interpreter": {
   "hash": "a055630542d55aea1ab1dec3e56eff509a7fc93a2c500b722ed821d49412af4a"
  },
  "kernelspec": {
   "display_name": "Python 3.9.0 64-bit ('tensorflow_m1': conda)",
   "language": "python",
   "name": "python3"
  },
  "language_info": {
   "name": "python",
   "version": "3.9.0"
  },
  "orig_nbformat": 4
 },
 "nbformat": 4,
 "nbformat_minor": 2
}
