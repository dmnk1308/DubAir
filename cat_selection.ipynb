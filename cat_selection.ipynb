{
 "cells": [
  {
   "cell_type": "code",
   "execution_count": 29,
   "metadata": {},
   "outputs": [],
   "source": [
    "import pandas as pd\n",
    "import sklearn as skl\n",
    "from sklearn import feature_selection\n",
    "from load_data import load_data\n",
    "pd.set_option('display.max_columns', None)\n",
    "import pandas as pd\n",
    "import numpy as np\n",
    "from scipy.stats import f_oneway\n",
    "from scipy.stats import ttest_ind\n",
    "from scipy.stats import kruskal\n",
    "\n",
    "\n",
    "\n",
    "from statsmodels.stats.multicomp import pairwise_tukeyhsd"
   ]
  },
  {
   "cell_type": "code",
   "execution_count": 2,
   "metadata": {},
   "outputs": [
    {
     "name": "stderr",
     "output_type": "stream",
     "text": [
      "/Users/dmnk/OneDrive - stud.uni-goettingen.de/Dokumente/3. Semester/SeminarDL/DubAir/load_data.py:42: FutureWarning: The default value of regex will change from True to False in a future version. In addition, single character regular expressions will *not* be treated as literal strings when regex=True.\n",
      "  price = price.str.replace(\"$\",\"\")\n"
     ]
    }
   ],
   "source": [
    "price, listings, reviews = load_data()"
   ]
  },
  {
   "cell_type": "code",
   "execution_count": 4,
   "metadata": {},
   "outputs": [],
   "source": [
    "c = [\"host_location\", \"host_is_superhost\", \"host_identity_verified\", \"neighbourhood_cleansed\", \"bathrooms_text\", \"has_availability\", \"instant_bookable\"]\n",
    "list_cat = listings.filter(c)"
   ]
  },
  {
   "cell_type": "markdown",
   "metadata": {},
   "source": [
    "# Inspect columns"
   ]
  },
  {
   "cell_type": "markdown",
   "metadata": {},
   "source": [
    "First we can have a look at the amount of NAs per feature"
   ]
  },
  {
   "cell_type": "code",
   "execution_count": 5,
   "metadata": {},
   "outputs": [
    {
     "data": {
      "text/plain": [
       "host_location             32\n",
       "host_is_superhost         11\n",
       "host_identity_verified    11\n",
       "neighbourhood_cleansed     0\n",
       "bathrooms_text             6\n",
       "has_availability           0\n",
       "instant_bookable           0\n",
       "dtype: int64"
      ]
     },
     "execution_count": 5,
     "metadata": {},
     "output_type": "execute_result"
    }
   ],
   "source": [
    "list_cat.isna().sum()"
   ]
  },
  {
   "cell_type": "markdown",
   "metadata": {},
   "source": [
    "There are only a few missing values for the host_location, host_is_superhost and host_identity_verfied. We will just drop them for the moment."
   ]
  },
  {
   "cell_type": "code",
   "execution_count": null,
   "metadata": {},
   "outputs": [],
   "source": []
  },
  {
   "cell_type": "code",
   "execution_count": 6,
   "metadata": {},
   "outputs": [
    {
     "data": {
      "text/plain": [
       "host_location             0\n",
       "host_is_superhost         0\n",
       "host_identity_verified    0\n",
       "neighbourhood_cleansed    0\n",
       "bathrooms_text            0\n",
       "has_availability          0\n",
       "instant_bookable          0\n",
       "dtype: int64"
      ]
     },
     "execution_count": 6,
     "metadata": {},
     "output_type": "execute_result"
    }
   ],
   "source": [
    "na_filter = list_cat.isna().any(axis = 1)\n",
    "price = price[~na_filter]\n",
    "list_cat = list_cat.dropna()\n",
    "list_cat.isna().sum()\n"
   ]
  },
  {
   "cell_type": "markdown",
   "metadata": {},
   "source": [
    "## Lets have a look at each variable\n",
    "\n",
    "### host_location"
   ]
  },
  {
   "cell_type": "code",
   "execution_count": 7,
   "metadata": {},
   "outputs": [
    {
     "data": {
      "text/plain": [
       "array(['Dublin  Ireland', 'Dublin, County Dublin, Ireland',\n",
       "       'Tralee, County Kerry, Ireland', 'Dublin, Dublin, Ireland',\n",
       "       'Lucan, Co.Dublin. Ireland', 'County Kildare, Ireland',\n",
       "       'County Dublin, Ireland', 'Salvador Brazil, and Dublin Ireland',\n",
       "       'Lucan, County Dublin, Ireland', 'Istanbul, İstanbul, Turkey',\n",
       "       'Ireland', 'Singapore, Singapore', 'Rathfarnham, Dublin, Ireland',\n",
       "       'Trim, County Meath, Ireland', 'Dublin, Leinster, Ireland',\n",
       "       'Dublin 2, County Dublin, Ireland', 'Smithfield, Dublin, Ireland',\n",
       "       'ireland', 'Dublin 8, County Dublin, Ireland',\n",
       "       'Sallynoggin, County Dublin, Ireland',\n",
       "       'Luxembourg, Luxembourg District, Luxembourg',\n",
       "       'New York, New York, United States', 'London',\n",
       "       'Dublin 6, County Dublin, Ireland', 'Cupramontana, Marche, Italy',\n",
       "       'Ranelagh, Dublin, Ireland',\n",
       "       'Tübingen, Baden-Württemberg, Germany', 'Toronto, Ontario, Canada',\n",
       "       'Glasnevin, Dublin, Ireland', 'County Cork, Ireland',\n",
       "       'Dublin, Ireland', 'Swords, County Dublin, Ireland',\n",
       "       'London, England, United Kingdom', 'IE', 'Rush, Dublin, Ireland',\n",
       "       'Dundrum, Dublin, Ireland', 'Drumcondra, Dublin, Ireland',\n",
       "       'Fairview, Dublin, Ireland', 'Dublin 1, County Dublin, Ireland',\n",
       "       'Dublin 3, County Dublin, Ireland', 'Sandymount, Dublin, Ireland',\n",
       "       'Ballsbridge, Dublin, Ireland', 'Killiney, Dublin, Ireland',\n",
       "       'Phibsborough, County Dublin, Ireland', 'Dublin IE',\n",
       "       'Rush, County Dublin, Ireland', 'Skerries, County Dublin, Ireland',\n",
       "       'Skerries, Dublin, Ireland',\n",
       "       'Greater London, England, United Kingdom', 'Ireland ',\n",
       "       'Howth, Dublin, Ireland', 'Milltown, Dublin, Ireland',\n",
       "       'Sutton, Dublin, Ireland', 'ES',\n",
       "       'Dublin 24, County Dublin, Ireland',\n",
       "       'Auderghem, Brussels, Belgium', 'Singapore',\n",
       "       'Dublin 5, County Dublin, Ireland',\n",
       "       'Wexford, County Wexford, Ireland',\n",
       "       'Clane, County Kildare, Ireland',\n",
       "       'Dublin 13, County Dublin, Ireland',\n",
       "       'Santiago de Querétaro, Querétaro, Mexico',\n",
       "       'Clontarf, Dublin, Ireland', 'Whistler, British Columbia, Canada',\n",
       "       'Mullingar, Westmeath, Ireland',\n",
       "       'Dublin 7, County Dublin, Ireland', 'Berlin, Berlin, Germany',\n",
       "       \"Coudoux, Provence-Alpes-Côte d'Azur, France\",\n",
       "       'Stockholm, Stockholm County, Sweden',\n",
       "       'Donnybrook, Dublin, Ireland',\n",
       "       'San Francisco, California, United States',\n",
       "       'Sandyford, Dublin, Ireland', 'Knocklyon, Dublin, Ireland',\n",
       "       'Donabate, County Dublin, Ireland', 'Rathgar, Dublin, Ireland',\n",
       "       'Rathmines, Dublin, Ireland',\n",
       "       'Stuttgart, Baden-Württemberg, Germany',\n",
       "       'Frankfurt, Hesse, Germany', 'US', 'United Arab Emirates',\n",
       "       'Madrid, Community of Madrid, Spain',\n",
       "       'Gettorf, Schleswig-Holstein, Germany', 'Hellerup, Denmark',\n",
       "       'Sligo, Sligo, Ireland', 'Ringsend, Dublin, Ireland',\n",
       "       'Amsterdam, North Holland, Netherlands',\n",
       "       'Blackrock, County Dublin, Ireland', 'Bogota, Bogota, Colombia',\n",
       "       'County Wicklow, Ireland', 'County Meath, Ireland',\n",
       "       'Letterkenny, Donegal, Ireland', 'United States',\n",
       "       'Glasnevin, County Dublin, Ireland',\n",
       "       'Paris, Île-de-France, France', 'Oslo Municipality, Oslo, Norway',\n",
       "       'Teach Mealóg, Dublin, Ireland', 'Cork, Cork, Ireland',\n",
       "       'Celbridge, Kildare, Ireland', 'Irishtown, Dublin, Ireland',\n",
       "       'Swords, Dublin, Ireland', 'Carlow, Ireland',\n",
       "       'Lyon, Auvergne-Rhône-Alpes, France', 'Kildare, Kildare, Ireland',\n",
       "       'St Pauls, New South Wales, Australia',\n",
       "       'Lorca, Region of Murcia, Spain', 'Galway, Galway, Ireland',\n",
       "       'Zug, Canton of Zug, Switzerland',\n",
       "       'Clontarf, County Dublin, Ireland',\n",
       "       'Dublin 4, County Dublin, Ireland', 'Italy',\n",
       "       'Prague, Prague, Czechia', 'Castleknock, County Dublin, Ireland',\n",
       "       'Hamburg, Hamburg, Germany', 'Málaga, Andalusia, Spain',\n",
       "       'Sydney, New South Wales, Australia', 'Malahide, Dublin, Ireland',\n",
       "       'Lusk, County Dublin, Ireland', 'Austin, Texas, United States',\n",
       "       'New Orleans, Louisiana, United States', 'FR',\n",
       "       'Fasano, Apulia, Italy', 'Tui, Galicia, Spain',\n",
       "       'Raheny, Dublin, Ireland',\n",
       "       'Buenos Aires, Autonomous City of Buenos Aires, Argentina',\n",
       "       'Co Dublin', 'Ronchin, Hauts-de-France, France',\n",
       "       'Youghal, Cork, Ireland',\n",
       "       'Levallois-Perret, Île-de-France, France',\n",
       "       'Balbriggan, County Dublin, Ireland',\n",
       "       'Dubai, Dubai, United Arab Emirates', 'Salthill, Galway, Ireland',\n",
       "       'Drumshanbo, County Leitrim, Ireland',\n",
       "       'Lausanne, Vaud, Switzerland', 'Dalkey, County Dublin, Ireland',\n",
       "       'Malahide, County Dublin, Ireland', 'United Kingdom',\n",
       "       'London, United Kingdom', 'Fairview, County Dublin, Ireland',\n",
       "       'Blackrock, Dublin, Ireland', 'England, United Kingdom',\n",
       "       'San Luis Potosi, San Luis Potosi, Mexico',\n",
       "       'Booterstown, County Dublin, Ireland',\n",
       "       'Cologne, North Rhine-Westphalia, Germany',\n",
       "       'Barcelona, Catalonia, Spain',\n",
       "       'Annecy, Auvergne-Rhône-Alpes, France',\n",
       "       'Newbridge, Kildare, Ireland',\n",
       "       'Valencia, Valencian Community, Spain', 'DE',\n",
       "       'Dunboyne, County Meath, Ireland',\n",
       "       'Ibiza, Balearic Islands, Spain',\n",
       "       'Heidelberg, Baden-Württemberg, Germany',\n",
       "       'Cape Town, Western Cape, South Africa',\n",
       "       'Brussels, Brussels, Belgium',\n",
       "       'Tijuca, State of Rio de Janeiro, Brazil', 'Vigo, Galicia, Spain',\n",
       "       'Brooklyn, New York, United States', 'Curitiba, Parana, Brazil',\n",
       "       'Magnesia Prefecture, Thessalia Sterea Ellada, Greece',\n",
       "       'Worms, Rhineland-Palatinate, Germany',\n",
       "       'Castleknock, Dublin, Ireland',\n",
       "       'Trento, Trentino-South Tyrol, Italy',\n",
       "       'Dublin 15, County Dublin, Ireland',\n",
       "       'Curitiba, State of Paraná, Brazil',\n",
       "       'Galway, County Galway, Ireland', 'County Roscommon, Ireland',\n",
       "       'Roscommon, Roscommon, Ireland', 'Munich, Bavaria, Germany',\n",
       "       'Mount Merrion, County Dublin, Ireland', 'Asker, Viken, Norway',\n",
       "       'London, Ontario, Canada', 'Dublin 9, County Dublin, Ireland',\n",
       "       'Glasson, Westmeath, Ireland',\n",
       "       'Dun Laoghaire-Rathdown, Dublin, Ireland',\n",
       "       'Terenure, County Dublin, Ireland', 'Vienna, Vienna, Austria',\n",
       "       'Épinay-sur-Orge, Île-de-France, France',\n",
       "       'Estepona, Andalucía, Spain', 'GB', 'Amman, Amman, Jordan',\n",
       "       'Alkmaar, North Holland, Netherlands',\n",
       "       'Greystones, County Wicklow, Ireland',\n",
       "       'Düsseldorf, North Rhine-Westphalia, Germany',\n",
       "       'Zürich, Zurich, Switzerland', 'County Sligo, Ireland',\n",
       "       'Dublin 14, County Dublin, Ireland', 'Owenbeg, Sligo, Ireland',\n",
       "       'Foxrock, County Dublin, Ireland', 'Novi Sad, Vojvodina, Serbia',\n",
       "       'Edinburgh, Scotland, United Kingdom', 'County Monaghan, Ireland',\n",
       "       'Cologny, Geneva, Switzerland', 'Ballinasloe, Galway, Ireland',\n",
       "       'Thomastown, County Kilkenny, Ireland',\n",
       "       'Clondalkin, Dublin, Ireland', 'Dublin 16, County Dublin, Ireland',\n",
       "       'Sunshine Coast, Queensland, Australia',\n",
       "       'Salvador, State of Bahia, Brazil',\n",
       "       'Waterford, County Waterford, Ireland',\n",
       "       'Grenoble, Rhone-Alpes, France',\n",
       "       'Limerick, County Limerick, Ireland',\n",
       "       'Leeds, England, United Kingdom',\n",
       "       'Donaghmede, County Dublin, Ireland',\n",
       "       'Castlebar, County Mayo, Ireland', 'Ottawa, Ontario, Canada',\n",
       "       'Dunmore East, Waterford, Ireland', 'Poland',\n",
       "       'Brighton, England, United Kingdom',\n",
       "       'F-10, 23- 25 Lower Rathmines Road, Rathmines, DB 6. ',\n",
       "       'Saint-Jacques-de-la-Lande, Brittany, France',\n",
       "       'County Mayo, Ireland', 'Coquitlam, British Columbia, Canada',\n",
       "       'Sandymount, County Dublin, Ireland',\n",
       "       'Clonskeagh, Dublin, Ireland', 'Bray, Wicklow, Ireland',\n",
       "       'Ballsbridge, County Dublin, Ireland',\n",
       "       'Amsterdam, Noord-Holland, Netherlands',\n",
       "       'Killiney, County Dublin, Ireland',\n",
       "       'Dunmurry, Northern Ireland, United Kingdom',\n",
       "       'Rathcoole, County Dublin, Ireland',\n",
       "       'Portumna, County Galway, Ireland',\n",
       "       'Salthill, County Galway, Ireland',\n",
       "       'Rose Bay, New South Wales, Australia',\n",
       "       'Nozay, Île-de-France, France', 'Fitzroy, Victoria, Australia',\n",
       "       'Shanballa, County Tipperary, Ireland',\n",
       "       'Formigine, Emilia-Romagna, Italy', 'Lucan, Dublin, Ireland',\n",
       "       'Bangkok, Thailand', 'Guadalajara, Jalisco, Mexico',\n",
       "       'Coimbra, Coimbra District, Portugal',\n",
       "       'Jacinto Machado, Santa Catarina, Brazil',\n",
       "       'Letterkenny, County Donegal, Ireland',\n",
       "       'Shannon, County Clare, Ireland', 'County Donegal, Ireland',\n",
       "       'Rome, Lazio, Italy', 'Glasgow, Scotland, United Kingdom',\n",
       "       'Firhouse, County Dublin, Ireland',\n",
       "       'Civitella San Paolo, Lazio, Italy',\n",
       "       'Jeju-si, Jeju-do, South Korea',\n",
       "       'Orvault, Pays de la Loire, France',\n",
       "       'Sutton, County Dublin, Ireland',\n",
       "       'Longford, County Longford, Ireland',\n",
       "       'Houston, Texas, United States',\n",
       "       'Nantes, Pays de la Loire, France', 'Netherlands',\n",
       "       'Boston, Massachusetts, United States', 'County Louth, Ireland',\n",
       "       'APT. 21 MOBHI COURT SAINT MOBHI BOITHIRIN DUBLIN 9 D09 NW88 ',\n",
       "       'Melbourne, Victoria, Australia',\n",
       "       'Joinville, Santa Catarina, Brazil',\n",
       "       'Las Vegas, Nevada, United States',\n",
       "       'Santiago Metropolitan Region, Chile', 'Vannes, Brittany, France',\n",
       "       'Clondalkin, County Dublin, Ireland',\n",
       "       'Bray, County Wicklow, Ireland', 'Caen, Lower Normandy, France',\n",
       "       'São Paulo, State of São Paulo, Brazil',\n",
       "       'Capelle aan den IJssel, South Holland, Netherlands',\n",
       "       'Ringsend, County Dublin, Ireland',\n",
       "       'Flamengo, Rio de Janeiro, Brazil',\n",
       "       'Sonnaz, Auvergne-Rhône-Alpes, France',\n",
       "       'Rathmines, County Dublin, Ireland',\n",
       "       'Merseyside, England, United Kingdom',\n",
       "       'Vancouver, British Columbia, Canada',\n",
       "       'Parla, Community of Madrid, Spain',\n",
       "       'Portmarnock, County Dublin, Ireland',\n",
       "       'Deuil-la-Barre, Île-de-France, France', 'Victoria, Australia',\n",
       "       'Dunmore East, County Waterford, Ireland',\n",
       "       'Mountain View, California, United States',\n",
       "       'Toulouse, Midi-Pyrénées, France',\n",
       "       'Green Bay, Wisconsin, United States',\n",
       "       'Rio de Janeiro, State of Rio de Janeiro, Brazil',\n",
       "       'Saint-Jean-sur-Vilaine, Brittany, France',\n",
       "       'Portmarnock, Dublin, Ireland',\n",
       "       'Norrköping, Östergötlands län, Sweden',\n",
       "       'Dublin 22, County Dublin, Ireland', 'Dublin, Co. Dublin, Ireland',\n",
       "       'Roscommon, County Roscommon, Ireland',\n",
       "       'Detroit, Michigan, United States', 'Dublin, Ohio, United States',\n",
       "       'Kilkea, Kildare, Ireland', 'Kenner, Louisiana, United States',\n",
       "       'Ixelles, Brussels, Belgium', 'Kaohsiung City, Taiwan',\n",
       "       'Longford, Longford, Ireland',\n",
       "       'Valladolid, Castile and León, Spain',\n",
       "       'Auckland, Auckland, New Zealand',\n",
       "       'Teach Mealóg, County Dublin, Ireland',\n",
       "       'Souvigny, Auvergne, France', 'Saggart, County Dublin, Ireland',\n",
       "       'Niederanven, Luxembourg District, Luxembourg',\n",
       "       'Vila-seca, Catalunya, Spain',\n",
       "       'Trento, Trentino-Alto Adige/South Tyrol, Italy',\n",
       "       'Cork, County Cork, Ireland',\n",
       "       'Ballyboughal, County Dublin, Ireland', 'Dalkey, Dublin, Ireland',\n",
       "       'Ascot Park, South Australia, Australia',\n",
       "       'pinecroft lodge, the by-way, off westminster road, forock, dublin 18',\n",
       "       'Cabra, County Dublin, Ireland', 'Greystones, Wicklow, Ireland',\n",
       "       'Leixlip, County Kildare, Ireland',\n",
       "       'Los Angeles, California, United States',\n",
       "       'Rennes, Brittany, France', 'Dublin 18, County Dublin, Ireland',\n",
       "       'Bettystown, County Meath, Ireland', 'County Galway, Ireland',\n",
       "       'Newport, Mayo, Ireland', 'Ballinamore, County Leitrim, Ireland',\n",
       "       'Hialeah, Florida, United States',\n",
       "       'Santa Cruz, California, United States',\n",
       "       'Wilsford, England, United Kingdom', 'Jaén, Andalusia, Spain',\n",
       "       'Cavan, Cavan, Ireland', 'Baiersdorf, Bavaria, Germany',\n",
       "       'Greater Manchester, England, United Kingdom',\n",
       "       'Vällingby, Stockholm County, Sweden', 'Eir code K36PW84 ',\n",
       "       'Breil/Brigels, Grisons, Switzerland',\n",
       "       'Mexico City, Mexico City, Mexico',\n",
       "       'Goatstown, County Dublin, Ireland',\n",
       "       'Fátima, Santarém District, Portugal', 'Germany',\n",
       "       'Copenhagen, Capital Region of Denmark, Denmark',\n",
       "       'Prague, Prague, Czech Republic', 'Portland, Maine, United States',\n",
       "       'Inchicore, County Dublin, Ireland',\n",
       "       'Radomsko County, Łódź Voivodeship, Poland',\n",
       "       'Belfast, Northern Ireland, United Kingdom',\n",
       "       'Delgany, County Wicklow, Ireland', 'New Delhi, Delhi, India',\n",
       "       'Kildare, County Kildare, Ireland',\n",
       "       'Dún Laoghaire, County Dublin, Ireland',\n",
       "       'Reykjavík, Capital Region, Iceland',\n",
       "       'Dublin in a lovely family friendly residential area close to sea, mountains and city!',\n",
       "       'Sofia, Sofia City Province, Bulgaria',\n",
       "       'Dublin 11, County Dublin, Ireland', 'Moycullen, Galway, Ireland',\n",
       "       'Maracaibo, Venezuela', 'Ballinrobe, County Mayo, Ireland',\n",
       "       'Dingle, County Kerry, Ireland',\n",
       "       'Long Beach, New York, United States', 'County Carlow, Ireland',\n",
       "       'Goatstown, Dublin, Ireland',\n",
       "       'North Palm Beach, Florida, United States',\n",
       "       'County Laois, Ireland', 'Mareil-Marly, Île-de-France, France',\n",
       "       'Saggart, Dublin, Ireland', 'Australia', 'County Wexford, Ireland',\n",
       "       'Nimes, Occitanie, France', 'Killarney, County Kerry, Ireland',\n",
       "       'County Tipperary, Ireland', 'Dublin 12, County Dublin, Ireland',\n",
       "       'County Kerry, Ireland',\n",
       "       'Toulouse, Languedoc-Roussillon-Midi-Pyrénées, France',\n",
       "       'Clonee, County Dublin, Ireland',\n",
       "       'Gothenburg, Västra Götaland County, Sweden',\n",
       "       'County Westmeath, Ireland', 'Novara, Piedmont, Italy',\n",
       "       'Brussels, Belgium', 'Glencullen, County Dublin, Ireland', 'AU',\n",
       "       'Seattle, Washington, United States', 'Dublin 16, Dublin, Ireland',\n",
       "       'Finglas, County Dublin, Ireland', 'Limerick, Limerick, Ireland',\n",
       "       'Clonroche, County Wexford, Ireland', 'India',\n",
       "       'Mortara, Lombardy, Italy', 'Tramore, County Waterford, Ireland',\n",
       "       'Recife, State of Pernambuco, Brazil',\n",
       "       'Pelotas, Rio Grande do Sul, Brazil',\n",
       "       'Courdimanche, Île-de-France, France', 'Wexford, Wexford, Ireland',\n",
       "       'Zaragoza, Aragon, Spain', 'Sesvete, City of Zagreb, Croatia',\n",
       "       'Saint-Ismier, Rhone-Alpes, France', 'Cuneo, Piedmont, Italy',\n",
       "       'Boituva, São Paulo, Brazil', 'Montrose, Colorado, United States',\n",
       "       'Wilmington, North Carolina, United States',\n",
       "       'Tulsa, Oklahoma, United States',\n",
       "       'Belo Horizonte, State of Minas Gerais, Brazil',\n",
       "       'Ranelagh, County Dublin, Ireland',\n",
       "       'Bordeaux, Nouvelle-Aquitaine, France',\n",
       "       'Villarrubia de los Ojos, Castile-La Mancha, Spain', 'CN',\n",
       "       'Dublin / Miami / Dubai / Monaco / Lyon',\n",
       "       'Stepaside, County Dublin, Ireland',\n",
       "       'Ciudad Real, Castile-La Mancha, Spain',\n",
       "       'Christchurch, Canterbury, New Zealand',\n",
       "       'Indre, Pays de la Loire, France',\n",
       "       'Cabinteely, County Dublin, Ireland',\n",
       "       'Wicklow, County Wicklow, Ireland',\n",
       "       'Acton, Massachusetts, United States', 'Kerry, Ireland',\n",
       "       'Dundalk, County Louth, Ireland',\n",
       "       'Porto Alegre, State of Rio Grande do Sul, Brazil',\n",
       "       'Salzburg, Salzburg, Austria', 'Nizza Monferrato, Piedmont, Italy',\n",
       "       'Rathgar, County Dublin, Ireland',\n",
       "       'Salaunes, Nouvelle-Aquitaine, France',\n",
       "       'Palma, Balearic Islands, Spain',\n",
       "       'Churchtown, County Dublin, Ireland', 'Catania, Sicily, Italy',\n",
       "       'Toledo, Castile-La Mancha, Spain',\n",
       "       'Arran Quay, County Dublin, Ireland', 'Switzerland',\n",
       "       'Monkstown, County Dublin, Ireland', 'Waterloo, Ontario, Canada',\n",
       "       'Artane, Dublin, Ireland',\n",
       "       'La Teste-de-Buch, Nouvelle-Aquitaine, France',\n",
       "       'Baldoyle, County Dublin, Ireland',\n",
       "       'Stamullin, County Meath, Ireland',\n",
       "       'Maynooth, County Kildare, Ireland',\n",
       "       'Souprosse, Nouvelle-Aquitaine, France',\n",
       "       'Moorabbin Airport, Victoria, Australia',\n",
       "       'Castlefinn, Donegal, Ireland', 'Sveti Vlas, Burgas, Bulgaria',\n",
       "       'Oxford, England, United Kingdom', 'Brazil',\n",
       "       'Haifa, Haifa District, Israel',\n",
       "       'Ballycastle, Northern Ireland, United Kingdom',\n",
       "       'Split, Split-Dalmatia County, Croatia',\n",
       "       'Cobh, County Cork, Ireland',\n",
       "       'Buenos Aires, Buenos Aires, Argentina', 'Moscow, Russia',\n",
       "       'Joinville, State of Santa Catarina, Brazil',\n",
       "       'Norderstedt, Schleswig-Holstein, Germany',\n",
       "       'Seville, Andalusia, Spain', 'Donnybrook, County Dublin, Ireland',\n",
       "       'Montreal, Québec, Canada', 'County Longford, Ireland',\n",
       "       'Rostrevor, Northern Ireland, United Kingdom',\n",
       "       'Courbevoie, Île-de-France, France',\n",
       "       'Vincennes, Île-de-France, France',\n",
       "       'Franklin, Michigan, United States',\n",
       "       'Huddinge, Stockholm County, Sweden', 'Campobasso, Molise, Italy',\n",
       "       'Avoca, County Wicklow, Ireland',\n",
       "       'Issy-les-Moulineaux, Île-de-France, France',\n",
       "       'Achill, Mayo, Ireland', 'Reutlingen, Baden-Württemberg, Germany',\n",
       "       'Ajo, Arizona, United States',\n",
       "       'George Town, George Town, Cayman Islands',\n",
       "       'Dublin 20, County Dublin, Ireland', 'AR', 'China',\n",
       "       'Raheny, County Dublin, Ireland', 'HR', 'Milazzo, Sicily, Italy',\n",
       "       'İstanbul, İstanbul, Turkey',\n",
       "       \"Cagnes-sur-Mer, Provence-Alpes-Côte d'Azur, France\", 'IRELAND',\n",
       "       'Clonskeagh, County Dublin, Ireland',\n",
       "       'Tlalnepantla de Baz, Estado de México, Mexico',\n",
       "       'Auckland, New Zealand', 'Gliwice, Silesian Voivodeship, Poland',\n",
       "       'Clonee, County Meath, Ireland', 'Aujargues, Occitanie, France',\n",
       "       'Katowice, Silesian Voivodeship, Poland', 'Milan, Lombardy, Italy',\n",
       "       'Quickborn, Schleswig-Holstein, Germany',\n",
       "       \"Antibes, Provence-Alpes-Côte d'Azur, France\", 'IL', 'LB',\n",
       "       'Ballincollig, County Cork, Ireland', 'LU',\n",
       "       'Norrmalm, Stockholm County, Sweden',\n",
       "       'Perth, Western Australia, Australia',\n",
       "       'Saint-Gilles, Brussels, Belgium',\n",
       "       'Kilmacthomas, Waterford, Ireland', 'Westport, Mayo, Ireland',\n",
       "       'Enniskillen, Northern Ireland, United Kingdom',\n",
       "       'Orlando, Florida, United States', 'Buenos Aires, Argentina',\n",
       "       'Ballyshannon, County Donegal, Ireland', 'Gold Coast, Queensland',\n",
       "       'Mulhuddart, County Dublin, Ireland',\n",
       "       'Tel Aviv-Yafo, Tel Aviv District, Israel',\n",
       "       'Tours, Centre-Val de Loire, France',\n",
       "       'Prague, Hlavní město Praha, Czech Republic',\n",
       "       'Weil der Stadt, Baden-Württemberg, Germany',\n",
       "       'Mogi-Guaçu, São Paulo, Brazil',\n",
       "       'Boeschepe, Hauts-de-France, France',\n",
       "       'Dortmund, North Rhine-Westphalia, Germany',\n",
       "       'Scottsdale, Arizona, United States', 'Taichung, Taiwan',\n",
       "       '53.357852, -6.259787', 'Delhi, Delhi, India',\n",
       "       'Amsterdam, Noord-Holland, The Netherlands',\n",
       "       'State of Santa Catarina, Brazil', 'Spain',\n",
       "       'Westport, County Mayo, Ireland',\n",
       "       'Notre Dame, Indiana, United States',\n",
       "       'Ho Chi Minh City, Ho Chi Minh City, Vietnam',\n",
       "       'Stoneybatter, County Dublin, Ireland',\n",
       "       'City of Industry, California, United States', \"Côte d'Ivoire\",\n",
       "       'Shillelagh, County Wicklow, Ireland', 'Almería, Andalusia, Spain',\n",
       "       'KR', 'Wistedt, Lower Saxony, Germany',\n",
       "       'Loughlinstown, County Dublin, Ireland',\n",
       "       \"Valbonne, Provence-Alpes-Côte d'Azur, France\",\n",
       "       'Salerno, Campania, Italy', 'Portlaoise, County Laois, Ireland',\n",
       "       'Koh Rong, Kaoh Kong, Cambodia', 'Clonee, Meath, Ireland',\n",
       "       'Ennis, Clare, Ireland', 'Southampton, New York, United States',\n",
       "       'Majadahonda, Community of Madrid, Spain',\n",
       "       'Cavan, County Cavan, Ireland',\n",
       "       'Drumcondra, County Dublin, Ireland',\n",
       "       'Bekmünde, Schleswig-Holstein, Germany',\n",
       "       'San Lazzaro, Emilia-Romagna, Italy',\n",
       "       'Loughgall, Northern Ireland, United Kingdom',\n",
       "       'Lisbon, Lisbon, Portugal', 'Milltown, County Dublin, Ireland',\n",
       "       'Kingston upon Thames, England, United Kingdom', 'BR',\n",
       "       'Listowel, Ontario, Canada',\n",
       "       \"Marseille, Provence-Alpes-Côte d'Azur, France\",\n",
       "       'Brașov County, Romania',\n",
       "       'Fremantle, Western Australia, Australia',\n",
       "       'Piracicaba, São Paulo, Brazil',\n",
       "       'Clonakilty, County Cork, Ireland', 'CA',\n",
       "       'Nogent-sur-Marne, Île-de-France, France',\n",
       "       'Balgowlah, New South Wales, Australia',\n",
       "       'Saint-André-lez-Lille, Hauts-de-France, France',\n",
       "       'Booterstown, Dublin, Ireland',\n",
       "       'Naul Village, County Dublin, Ireland',\n",
       "       \"Abidjan, Lagunes, Côte d'Ivoire\",\n",
       "       'Bonn, North Rhine-Westphalia, Germany',\n",
       "       'Geneva, Geneva, Switzerland', 'Reading, England, United Kingdom',\n",
       "       'Edegem, Flanders, Belgium', 'Kilkenny, County Kilkenny, Ireland',\n",
       "       'West Midlands, England, United Kingdom',\n",
       "       'Totterdown, England, United Kingdom', 'NL',\n",
       "       'Kilmainham, County Dublin, Ireland',\n",
       "       'Kilrush, County Clare, Ireland',\n",
       "       'Athlone, County Westmeath, Ireland',\n",
       "       'Albany, New York, United States',\n",
       "       'Tallaght, County Dublin, Ireland',\n",
       "       'Lanesborough, Longford, Ireland', 'Ardee, County Louth, Ireland',\n",
       "       'Portrane, County Dublin, Ireland',\n",
       "       'Budaiya, Northern Governorate, Bahrain',\n",
       "       'Bucharest, Bucharest, Romania', 'Parque Shalon, Maranhão, Brazil',\n",
       "       'Belgard Heights, County Dublin, Ireland',\n",
       "       'Navan, County Meath, Ireland', 'Meath, Ireland',\n",
       "       'Killorglin, County Kerry, Ireland', 'County Kilkenny, Ireland',\n",
       "       'Ballina, County Mayo, Ireland', 'Helsinki, Uusimaa, Finland',\n",
       "       'Donard, County Wicklow, Ireland', 'Monterrey, Nuevo León, Mexico',\n",
       "       'IRELAND ', 'Celbridge, County Kildare, Ireland',\n",
       "       'Granada, Andalusia, Spain', 'Rīga, Rīgas pilsēta, Latvia',\n",
       "       'Thiéfosse, Grand Est, France', 'Ashland, Oregon, United States',\n",
       "       'Slanemore, County Westmeath, Ireland',\n",
       "       'Buncrana, County Donegal, Ireland',\n",
       "       'Ballybane, County Galway, Ireland',\n",
       "       'Clonmel, County Tipperary, Ireland',\n",
       "       'Smithfield, North Carolina, United States',\n",
       "       'Sorbiers, Auvergne-Rhône-Alpes, France', 'Ariccia, Lazio, Italy',\n",
       "       'Ashford, County Wicklow, Ireland', 'TR',\n",
       "       'Cádiz, Andalusia, Spain',\n",
       "       'The Hague, South Holland, The Netherlands',\n",
       "       'Pune, Maharashtra, India', 'Odivelas, Lisbon, Portugal',\n",
       "       'Tel Aviv, Israel', 'Turku, Finland', 'Treviso, Veneto, Italy',\n",
       "       'Cardiff, Wales, United Kingdom',\n",
       "       'Sandyford, County Dublin, Ireland',\n",
       "       'Ballymun, County Dublin, Ireland', 'Gatineau, Quebec, Canada',\n",
       "       'PT', 'PL', 'Newbridge, County Kildare, Ireland',\n",
       "       'Pickering Brook, Western Australia, Australia',\n",
       "       'Killinierin, County Wexford, Ireland',\n",
       "       'Dublin 10, County Dublin, Ireland', 'Glenealy, Wicklow, Ireland',\n",
       "       'Verona, Veneto, Italy', 'Almancil, Faro District, Portugal',\n",
       "       'Tipperary, Ireland', 'Sevenoaks, England, United Kingdom',\n",
       "       'Ennis, County Clare, Ireland', 'Risor, Aust-Agder, Norway',\n",
       "       'Izbat Al Haganah, Cairo Governorate, Egypt',\n",
       "       'Maltepe, İstanbul, Turkey', 'Airlie Beach, Queensland, Australia',\n",
       "       'Carandiru, São Paulo, Brazil', 'Mustafakemalpaşa, Bursa, Turkey',\n",
       "       'Sligo, County Sligo, Ireland', 'Burgas, Burgas, Bulgaria',\n",
       "       'Tirana, Tirana County, Albania',\n",
       "       'Limpley Stoke, England, United Kingdom',\n",
       "       'Fuengirola, Andalucía, Spain',\n",
       "       'Santa Clara, California, United States',\n",
       "       \"Fréjus, Provence-Alpes-Côte d'Azur, France\",\n",
       "       'Mullingar, County Westmeath, Ireland',\n",
       "       'Mosman, New South Wales, Australia',\n",
       "       'Zurich, Zurich, Switzerland', 'Lusk, Dublin, Ireland',\n",
       "       'Worcester, Massachusetts, United States',\n",
       "       'Irishtown, County Dublin, Ireland',\n",
       "       'Hanover, Lower Saxony, Germany',\n",
       "       'Virginia, County Cavan, Ireland',\n",
       "       'Tipperary, County Tipperary, Ireland'], dtype=object)"
      ]
     },
     "execution_count": 7,
     "metadata": {},
     "output_type": "execute_result"
    }
   ],
   "source": [
    "pd.unique(list_cat[\"host_location\"])"
   ]
  },
  {
   "cell_type": "markdown",
   "metadata": {},
   "source": [
    "There are a lot of different entries for Dublin. Might be reasonable to store them in one category.\n",
    "Therefore turn all values containing Dublin into one category \"Dublin, Ireland\""
   ]
  },
  {
   "cell_type": "code",
   "execution_count": 8,
   "metadata": {},
   "outputs": [
    {
     "data": {
      "text/plain": [
       "0                     Dublin, Ireland\n",
       "2                     Dublin, Ireland\n",
       "3                     Dublin, Ireland\n",
       "4                     Dublin, Ireland\n",
       "5       Tralee, County Kerry, Ireland\n",
       "                    ...              \n",
       "6971                  Dublin, Ireland\n",
       "6972                  Dublin, Ireland\n",
       "6973                  Dublin, Ireland\n",
       "6974                  Dublin, Ireland\n",
       "6975                               IE\n",
       "Name: host_location, Length: 6938, dtype: object"
      ]
     },
     "execution_count": 8,
     "metadata": {},
     "output_type": "execute_result"
    }
   ],
   "source": [
    "fil = list_cat[\"host_location\"].str.contains(\"Dublin|DB\", case = False, na = False)\n",
    "list_cat[\"host_location\"][fil] = \"Dublin, Ireland\"\n",
    "list_cat[\"host_location\"]"
   ]
  },
  {
   "cell_type": "markdown",
   "metadata": {},
   "source": [
    "Could be reasonable to use the home country of the owner. Download csv with all countries."
   ]
  },
  {
   "cell_type": "code",
   "execution_count": 9,
   "metadata": {},
   "outputs": [],
   "source": [
    "country_abr = pd.read_csv(\"https://gist.githubusercontent.com/radcliff/f09c0f88344a7fcef373/raw/2753c482ad091c54b1822288ad2e4811c021d8ec/wikipedia-iso-country-codes.csv\")\n",
    "country_list = list(country_abr.iloc[:,0])\n",
    "abr_list = list(country_abr.iloc[:,1])"
   ]
  },
  {
   "cell_type": "code",
   "execution_count": 10,
   "metadata": {},
   "outputs": [
    {
     "name": "stderr",
     "output_type": "stream",
     "text": [
      "/var/folders/97/j215pw6x7sq158bvx1ktlhf80000gn/T/ipykernel_78953/2422233082.py:4: UserWarning: This pattern has match groups. To actually get the groups, use str.extract.\n",
      "  fil = list_cat[\"host_location\"].str.contains(i, case = False, na = False)\n"
     ]
    },
    {
     "data": {
      "text/plain": [
       "Ireland                    5902\n",
       "United Kingdom              406\n",
       "France                       94\n",
       "United States                88\n",
       "Spain                        64\n",
       "                           ... \n",
       "Jordan                        1\n",
       "Greece                        1\n",
       "South Africa                  1\n",
       "Prague, Prague, Czechia       1\n",
       "Albania                       1\n",
       "Name: host_location_country, Length: 64, dtype: int64"
      ]
     },
     "execution_count": 10,
     "metadata": {},
     "output_type": "execute_result"
    }
   ],
   "source": [
    "list_cat[\"host_location_country\"] = list_cat[\"host_location\"].copy()\n",
    "\n",
    "for i in list(country_list):\n",
    "    fil = list_cat[\"host_location\"].str.contains(i, case = False, na = False)\n",
    "    list_cat[\"host_location_country\"][fil] = str(i)\n",
    "\n",
    "for i,j in enumerate(list(abr_list)):\n",
    "    fil = list_cat[\"host_location\"].str.contains(str(j), case = True, na = False)\n",
    "    list_cat[\"host_location_country\"][fil] = str(country_list[i])\n",
    "\n",
    "list_cat[\"host_location_country\"].value_counts()\n"
   ]
  },
  {
   "cell_type": "markdown",
   "metadata": {},
   "source": [
    "Surprisingly most of the hosts come from ireland. However we still have a lot of different categories/countries."
   ]
  },
  {
   "cell_type": "code",
   "execution_count": 11,
   "metadata": {},
   "outputs": [],
   "source": [
    "other_filter = list_cat[\"host_location_country\"].value_counts() <= 5\n",
    "other_list = list(list_cat[\"host_location_country\"].value_counts().index[other_filter])\n",
    "\n",
    "for i, j in enumerate(other_list):\n",
    "    fil = list_cat[\"host_location_country\"].str.contains(j, case = True, na = False)\n",
    "    list_cat[\"host_location_country\"][fil] = \"Others\""
   ]
  },
  {
   "cell_type": "code",
   "execution_count": 12,
   "metadata": {},
   "outputs": [
    {
     "data": {
      "text/plain": [
       "Ireland                 5902\n",
       "United Kingdom           406\n",
       "France                    94\n",
       "United States             88\n",
       "Others                    72\n",
       "Spain                     64\n",
       "India                     48\n",
       "Germany                   40\n",
       "Italy                     32\n",
       "Brazil                    32\n",
       "Australia                 27\n",
       "Canada                    19\n",
       "Netherlands               15\n",
       "Israel                    13\n",
       "Switzerland               12\n",
       "53.357852, -6.259787      12\n",
       "Sweden                    10\n",
       "Turkey                     9\n",
       "Portugal                   7\n",
       "Argentina                  6\n",
       "Poland                     6\n",
       "Mexico                     6\n",
       "Bulgaria                   6\n",
       "Croatia                    6\n",
       "Belgium                    6\n",
       "Name: host_location_country, dtype: int64"
      ]
     },
     "execution_count": 12,
     "metadata": {},
     "output_type": "execute_result"
    }
   ],
   "source": [
    "list_cat[\"host_location_country\"].value_counts()"
   ]
  },
  {
   "cell_type": "markdown",
   "metadata": {},
   "source": [
    "Looking up \"53.357852, -6.259787\" on google maps leads to an address in Dublin"
   ]
  },
  {
   "cell_type": "code",
   "execution_count": 13,
   "metadata": {},
   "outputs": [],
   "source": [
    "list_cat[\"host_location_country\"][list_cat[\"host_location_country\"] == \"53.357852, -6.259787\"] = \"Ireland\""
   ]
  },
  {
   "cell_type": "markdown",
   "metadata": {},
   "source": [
    "### host_is_superhost"
   ]
  },
  {
   "cell_type": "code",
   "execution_count": 14,
   "metadata": {},
   "outputs": [
    {
     "data": {
      "text/plain": [
       "f    5711\n",
       "t    1227\n",
       "Name: host_is_superhost, dtype: int64"
      ]
     },
     "execution_count": 14,
     "metadata": {},
     "output_type": "execute_result"
    }
   ],
   "source": [
    "list_cat[\"host_is_superhost\"].value_counts()"
   ]
  },
  {
   "cell_type": "markdown",
   "metadata": {},
   "source": [
    "seems fine"
   ]
  },
  {
   "cell_type": "markdown",
   "metadata": {},
   "source": [
    "### host_identity_verified"
   ]
  },
  {
   "cell_type": "code",
   "execution_count": 15,
   "metadata": {},
   "outputs": [
    {
     "data": {
      "text/plain": [
       "t    4946\n",
       "f    1992\n",
       "Name: host_identity_verified, dtype: int64"
      ]
     },
     "execution_count": 15,
     "metadata": {},
     "output_type": "execute_result"
    }
   ],
   "source": [
    "list_cat[\"host_identity_verified\"].value_counts()"
   ]
  },
  {
   "cell_type": "markdown",
   "metadata": {},
   "source": [
    "seems fine too\n",
    "\n",
    "### neighbourhood_cleansed"
   ]
  },
  {
   "cell_type": "code",
   "execution_count": 16,
   "metadata": {},
   "outputs": [
    {
     "data": {
      "text/plain": [
       "Dublin City              5309\n",
       "Dn Laoghaire-Rathdown     726\n",
       "Fingal                    627\n",
       "South Dublin              276\n",
       "Name: neighbourhood_cleansed, dtype: int64"
      ]
     },
     "execution_count": 16,
     "metadata": {},
     "output_type": "execute_result"
    }
   ],
   "source": [
    "list_cat[\"neighbourhood_cleansed\"].value_counts()"
   ]
  },
  {
   "cell_type": "markdown",
   "metadata": {},
   "source": [
    "perfect"
   ]
  },
  {
   "cell_type": "markdown",
   "metadata": {},
   "source": [
    "### bathrooms_text"
   ]
  },
  {
   "cell_type": "code",
   "execution_count": 17,
   "metadata": {},
   "outputs": [
    {
     "data": {
      "text/plain": [
       "1 bath               2402\n",
       "1 shared bath        1290\n",
       "1 private bath       1055\n",
       "2 baths               774\n",
       "1.5 baths             428\n",
       "1.5 shared baths      284\n",
       "2.5 baths             228\n",
       "3 baths               125\n",
       "2 shared baths        119\n",
       "3.5 baths              49\n",
       "4 baths                38\n",
       "2.5 shared baths       28\n",
       "0 baths                24\n",
       "Private half-bath      18\n",
       "0 shared baths         16\n",
       "3 shared baths         13\n",
       "4.5 baths              11\n",
       "Shared half-bath        8\n",
       "Half-bath               7\n",
       "5 baths                 5\n",
       "4 shared baths          4\n",
       "5.5 baths               3\n",
       "6 baths                 2\n",
       "3.5 shared baths        2\n",
       "7.5 baths               1\n",
       "6.5 baths               1\n",
       "8.5 baths               1\n",
       "9 baths                 1\n",
       "6 shared baths          1\n",
       "Name: bathrooms_text, dtype: int64"
      ]
     },
     "execution_count": 17,
     "metadata": {},
     "output_type": "execute_result"
    }
   ],
   "source": [
    "list_cat[\"bathrooms_text\"].value_counts()"
   ]
  },
  {
   "cell_type": "markdown",
   "metadata": {},
   "source": [
    "Some of the categories for the bathroom should be replaced. Half bath can be turned into 0.5 which means just a toilet and a sink without a shower. Then one can differentiate between shared, private (in the room) and a normal bathroom. We construct two variables - one containing the number of bathrooms another the kind of bathrooms howevere \"private\" or \"shared\" might indicate that only one of the bathroom is private or shared."
   ]
  },
  {
   "cell_type": "code",
   "execution_count": 18,
   "metadata": {},
   "outputs": [
    {
     "data": {
      "text/plain": [
       "Normal     4100\n",
       "Shared     1765\n",
       "Private    1073\n",
       "Name: bathrooms_text, dtype: int64"
      ]
     },
     "execution_count": 18,
     "metadata": {},
     "output_type": "execute_result"
    }
   ],
   "source": [
    "bath = list_cat[\"bathrooms_text\"]\n",
    "bath_kind = bath.copy()\n",
    "\n",
    "shared = bath.str.contains(\"shared\", case = False)\n",
    "private = bath.str.contains(\"private\", case = False)\n",
    "normal = ~pd.concat([shared, private], axis = 1).any(axis = 1)\n",
    "\n",
    "bath_kind[shared] = \"Shared\"\n",
    "bath_kind[private] = \"Private\"\n",
    "bath_kind[normal] = \"Normal\"\n",
    "\n",
    "list_cat[\"bath_kind\"] = bath_kind\n",
    "bath_kind.value_counts()\n"
   ]
  },
  {
   "cell_type": "code",
   "execution_count": 19,
   "metadata": {},
   "outputs": [
    {
     "data": {
      "text/plain": [
       "1      4747\n",
       "2       893\n",
       "1.5     712\n",
       "2.5     256\n",
       "3       138\n",
       "3.5      51\n",
       "4        42\n",
       "0        40\n",
       "0.5      33\n",
       "4.5      11\n",
       "5         5\n",
       "5.5       3\n",
       "6         3\n",
       "6.5       1\n",
       "7.5       1\n",
       "8.5       1\n",
       "9         1\n",
       "dtype: int64"
      ]
     },
     "execution_count": 19,
     "metadata": {},
     "output_type": "execute_result"
    }
   ],
   "source": [
    "bath_number = bath.copy()\n",
    "bath_number = bath_number.str.replace(\"half\", \"0.5\", case = False)\n",
    "bath_number = bath_number.str.extract('(\\d+.\\d|\\d+)')\n",
    "\n",
    "list_cat[\"bath_number\"] = bath_number\n",
    "bath_number.value_counts()"
   ]
  },
  {
   "cell_type": "markdown",
   "metadata": {},
   "source": [
    "a lot of different options but everythings seems fine"
   ]
  },
  {
   "cell_type": "markdown",
   "metadata": {},
   "source": [
    "### has_availability"
   ]
  },
  {
   "cell_type": "code",
   "execution_count": 20,
   "metadata": {},
   "outputs": [
    {
     "data": {
      "text/plain": [
       "t    6781\n",
       "f     157\n",
       "Name: has_availability, dtype: int64"
      ]
     },
     "execution_count": 20,
     "metadata": {},
     "output_type": "execute_result"
    }
   ],
   "source": [
    "list_cat[\"has_availability\"].value_counts()"
   ]
  },
  {
   "cell_type": "markdown",
   "metadata": {},
   "source": [
    "nice\n",
    "\n",
    "### instant_bookable"
   ]
  },
  {
   "cell_type": "code",
   "execution_count": 21,
   "metadata": {},
   "outputs": [
    {
     "data": {
      "text/plain": [
       "f    4641\n",
       "t    2297\n",
       "Name: instant_bookable, dtype: int64"
      ]
     },
     "execution_count": 21,
     "metadata": {},
     "output_type": "execute_result"
    }
   ],
   "source": [
    "list_cat[\"instant_bookable\"].value_counts()"
   ]
  },
  {
   "cell_type": "markdown",
   "metadata": {},
   "source": [
    "cool cool cool"
   ]
  },
  {
   "cell_type": "markdown",
   "metadata": {},
   "source": [
    "## t-Test\n",
    "Let's put every binary variable in a Welch t-Test"
   ]
  },
  {
   "cell_type": "code",
   "execution_count": 68,
   "metadata": {},
   "outputs": [],
   "source": [
    "stats_val = []\n",
    "p_val = []\n",
    "names = []\n",
    "\n",
    "def t_Test(X, y, stats, p_val, names):\n",
    "    catg = pd.unique(X)\n",
    "    catg_filter = (X == catg[0])\n",
    "    sample1 = y[catg_filter]\n",
    "    sample2 = y[~catg_filter]\n",
    "    \n",
    "    t, p = ttest_ind(sample1, sample2, equal_var = False)\n",
    "    name = \"t: \"+X.name\n",
    "\n",
    "    stats.append(t)\n",
    "    p_val.append(p)\n",
    "    names.append(name)\n",
    "\n",
    "\n",
    "    return t, p"
   ]
  },
  {
   "cell_type": "markdown",
   "metadata": {},
   "source": []
  },
  {
   "cell_type": "markdown",
   "metadata": {},
   "source": [
    "### has_availability"
   ]
  },
  {
   "cell_type": "code",
   "execution_count": 69,
   "metadata": {},
   "outputs": [
    {
     "data": {
      "text/plain": [
       "(1.0657211124199206, 0.2865872269028238)"
      ]
     },
     "execution_count": 69,
     "metadata": {},
     "output_type": "execute_result"
    }
   ],
   "source": [
    "t_Test(list_cat[\"has_availability\"], price, stats_val, p_val, names)\n"
   ]
  },
  {
   "cell_type": "markdown",
   "metadata": {},
   "source": [
    "not significant\n",
    "\n",
    "### instant_bookable"
   ]
  },
  {
   "cell_type": "code",
   "execution_count": 70,
   "metadata": {},
   "outputs": [
    {
     "data": {
      "text/plain": [
       "(-0.9790457910817654, 0.32766049343717996)"
      ]
     },
     "execution_count": 70,
     "metadata": {},
     "output_type": "execute_result"
    }
   ],
   "source": [
    "t_Test(list_cat[\"instant_bookable\"], price, stats_val, p_val, names)\n",
    "\n"
   ]
  },
  {
   "cell_type": "markdown",
   "metadata": {},
   "source": [
    "not significant\n",
    "\n",
    "### host_identity_verified"
   ]
  },
  {
   "cell_type": "code",
   "execution_count": 71,
   "metadata": {},
   "outputs": [
    {
     "data": {
      "text/plain": [
       "(-0.9530251888678685, 0.34069298191598285)"
      ]
     },
     "execution_count": 71,
     "metadata": {},
     "output_type": "execute_result"
    }
   ],
   "source": [
    "t_Test(list_cat[\"host_identity_verified\"], price, stats_val, p_val, names)\n",
    "\n"
   ]
  },
  {
   "cell_type": "markdown",
   "metadata": {},
   "source": [
    "not significant \n",
    "\n",
    "### host_is_superhost"
   ]
  },
  {
   "cell_type": "code",
   "execution_count": 72,
   "metadata": {},
   "outputs": [
    {
     "data": {
      "text/plain": [
       "(-1.002327937628808, 0.3162274720597048)"
      ]
     },
     "execution_count": 72,
     "metadata": {},
     "output_type": "execute_result"
    }
   ],
   "source": [
    "t_Test(list_cat[\"host_is_superhost\"], price, stats_val, p_val, names)\n",
    "\n"
   ]
  },
  {
   "cell_type": "markdown",
   "metadata": {},
   "source": [
    "not significant\n",
    "\n",
    "### host_location_country (Ireland or not)"
   ]
  },
  {
   "cell_type": "code",
   "execution_count": 73,
   "metadata": {},
   "outputs": [
    {
     "data": {
      "text/plain": [
       "(0.680093604786456, 0.49647167072191534)"
      ]
     },
     "execution_count": 73,
     "metadata": {},
     "output_type": "execute_result"
    }
   ],
   "source": [
    "X = list_cat[\"host_location_country\"].where(list_cat[\"host_location_country\"] == \"Ireland\", \"else\")\n",
    "t_Test(X, price, stats_val, p_val, names)\n",
    "\n"
   ]
  },
  {
   "cell_type": "markdown",
   "metadata": {},
   "source": [
    "not significant"
   ]
  },
  {
   "cell_type": "markdown",
   "metadata": {},
   "source": [
    "## ANOVA \n",
    "so lets find out whether one of the multicategorical variables have at least one group that is significantly different from the others. Therefore we don't use the common ANOVA as the assumption of equal variances across groups is usually not met. Instead we use the Kruskal-Test which is implemented in scipy"
   ]
  },
  {
   "cell_type": "markdown",
   "metadata": {},
   "source": [
    "### host_location_country"
   ]
  },
  {
   "cell_type": "code",
   "execution_count": 74,
   "metadata": {},
   "outputs": [],
   "source": [
    "def krus_test(X, y, stats, p_val, names):\n",
    "    c_list = pd.unique(X)\n",
    "\n",
    "    F, p = kruskal(*[list(y[X == i]) for i in c_list])\n",
    "    name = \"F: \" + X.name\n",
    "\n",
    "    stats.append(F)\n",
    "    p_val.append(p)\n",
    "    names.append(name)\n",
    "\n",
    "    return F, p"
   ]
  },
  {
   "cell_type": "code",
   "execution_count": 75,
   "metadata": {},
   "outputs": [
    {
     "data": {
      "text/plain": [
       "(89.51800805489069, 8.563050545434996e-10)"
      ]
     },
     "execution_count": 75,
     "metadata": {},
     "output_type": "execute_result"
    }
   ],
   "source": [
    "krus_test(list_cat[\"host_location_country\"], price, stats_val, p_val, names)\n"
   ]
  },
  {
   "cell_type": "markdown",
   "metadata": {},
   "source": [
    "significant\n",
    "\n",
    "### bath_kind"
   ]
  },
  {
   "cell_type": "code",
   "execution_count": 76,
   "metadata": {},
   "outputs": [
    {
     "data": {
      "text/plain": [
       "(1989.2204637395907, 0.0)"
      ]
     },
     "execution_count": 76,
     "metadata": {},
     "output_type": "execute_result"
    }
   ],
   "source": [
    "krus_test(list_cat[\"bath_kind\"], price, stats_val, p_val, names)\n"
   ]
  },
  {
   "cell_type": "markdown",
   "metadata": {},
   "source": [
    "significant\n",
    "\n",
    "### neighbourhood_cleansed"
   ]
  },
  {
   "cell_type": "code",
   "execution_count": 77,
   "metadata": {},
   "outputs": [],
   "source": [
    "stat, p = krus_test(list_cat[\"neighbourhood_cleansed\"], price, stats_val, p_val, names)\n"
   ]
  },
  {
   "cell_type": "markdown",
   "metadata": {},
   "source": [
    "significant"
   ]
  },
  {
   "cell_type": "markdown",
   "metadata": {},
   "source": [
    "# Summary"
   ]
  },
  {
   "cell_type": "code",
   "execution_count": 78,
   "metadata": {},
   "outputs": [
    {
     "data": {
      "text/html": [
       "<div>\n",
       "<style scoped>\n",
       "    .dataframe tbody tr th:only-of-type {\n",
       "        vertical-align: middle;\n",
       "    }\n",
       "\n",
       "    .dataframe tbody tr th {\n",
       "        vertical-align: top;\n",
       "    }\n",
       "\n",
       "    .dataframe thead th {\n",
       "        text-align: right;\n",
       "    }\n",
       "</style>\n",
       "<table border=\"1\" class=\"dataframe\">\n",
       "  <thead>\n",
       "    <tr style=\"text-align: right;\">\n",
       "      <th></th>\n",
       "      <th>Variable</th>\n",
       "      <th>t-/F-Statistic</th>\n",
       "      <th>p-value</th>\n",
       "    </tr>\n",
       "  </thead>\n",
       "  <tbody>\n",
       "    <tr>\n",
       "      <th>0</th>\n",
       "      <td>t: has_availability</td>\n",
       "      <td>1.065721</td>\n",
       "      <td>2.865872e-01</td>\n",
       "    </tr>\n",
       "    <tr>\n",
       "      <th>1</th>\n",
       "      <td>t: instant_bookable</td>\n",
       "      <td>-0.979046</td>\n",
       "      <td>3.276605e-01</td>\n",
       "    </tr>\n",
       "    <tr>\n",
       "      <th>2</th>\n",
       "      <td>t: host_identity_verified</td>\n",
       "      <td>-0.953025</td>\n",
       "      <td>3.406930e-01</td>\n",
       "    </tr>\n",
       "    <tr>\n",
       "      <th>3</th>\n",
       "      <td>t: host_is_superhost</td>\n",
       "      <td>-1.002328</td>\n",
       "      <td>3.162275e-01</td>\n",
       "    </tr>\n",
       "    <tr>\n",
       "      <th>4</th>\n",
       "      <td>t: host_location_country</td>\n",
       "      <td>0.680094</td>\n",
       "      <td>4.964717e-01</td>\n",
       "    </tr>\n",
       "    <tr>\n",
       "      <th>5</th>\n",
       "      <td>F: host_location_country</td>\n",
       "      <td>89.518008</td>\n",
       "      <td>8.563051e-10</td>\n",
       "    </tr>\n",
       "    <tr>\n",
       "      <th>6</th>\n",
       "      <td>F: bath_kind</td>\n",
       "      <td>1989.220464</td>\n",
       "      <td>0.000000e+00</td>\n",
       "    </tr>\n",
       "    <tr>\n",
       "      <th>7</th>\n",
       "      <td>F: neighbourhood_cleansed</td>\n",
       "      <td>134.493109</td>\n",
       "      <td>5.816696e-29</td>\n",
       "    </tr>\n",
       "  </tbody>\n",
       "</table>\n",
       "</div>"
      ],
      "text/plain": [
       "                    Variable  t-/F-Statistic       p-value\n",
       "0        t: has_availability        1.065721  2.865872e-01\n",
       "1        t: instant_bookable       -0.979046  3.276605e-01\n",
       "2  t: host_identity_verified       -0.953025  3.406930e-01\n",
       "3       t: host_is_superhost       -1.002328  3.162275e-01\n",
       "4   t: host_location_country        0.680094  4.964717e-01\n",
       "5   F: host_location_country       89.518008  8.563051e-10\n",
       "6               F: bath_kind     1989.220464  0.000000e+00\n",
       "7  F: neighbourhood_cleansed      134.493109  5.816696e-29"
      ]
     },
     "execution_count": 78,
     "metadata": {},
     "output_type": "execute_result"
    }
   ],
   "source": [
    "d = {\"Variable\": names, \"t-/F-Statistic\": stats_val, \"p-value\": p_val}\n",
    "pd.DataFrame(d)"
   ]
  },
  {
   "cell_type": "markdown",
   "metadata": {},
   "source": [
    "the multicategorical variables seem to explain some of the variance in price and should be taken into account "
   ]
  },
  {
   "cell_type": "markdown",
   "metadata": {},
   "source": []
  }
 ],
 "metadata": {
  "interpreter": {
   "hash": "4bd624a0593993fe43ac4046b27b898fb2ef75c21c08f81e89e64ea0f51df676"
  },
  "kernelspec": {
   "display_name": "Python 3.8.12 64-bit ('tensorflow': conda)",
   "language": "python",
   "name": "python3"
  },
  "language_info": {
   "codemirror_mode": {
    "name": "ipython",
    "version": 3
   },
   "file_extension": ".py",
   "mimetype": "text/x-python",
   "name": "python",
   "nbconvert_exporter": "python",
   "pygments_lexer": "ipython3",
   "version": "3.8.12"
  },
  "orig_nbformat": 4
 },
 "nbformat": 4,
 "nbformat_minor": 2
}
