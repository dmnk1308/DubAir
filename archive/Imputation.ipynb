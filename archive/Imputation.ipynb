{
 "cells": [
  {
   "cell_type": "code",
   "execution_count": null,
   "metadata": {
    "collapsed": true
   },
   "outputs": [],
   "source": [
    "import numpy as np\n",
    "import pandas as pd\n",
    "from load_data import load_data_cleansed_imputed\n",
    "import requests\n",
    "from bs4 import BeautifulSoup as bs\n",
    "from urllib.parse import urljoin\n",
    "import matplotlib.pyplot as plt\n",
    "import statsmodels.api as sm\n",
    "from scipy.stats import halfnorm"
   ]
  },
  {
   "cell_type": "markdown",
   "source": [
    "Load Data"
   ],
   "metadata": {
    "collapsed": false,
    "pycharm": {
     "name": "#%% md\n"
    }
   }
  },
  {
   "cell_type": "code",
   "execution_count": null,
   "outputs": [],
   "source": [
    "price, listings, reviews = load_data_cleansed_imputed()"
   ],
   "metadata": {
    "collapsed": false,
    "pycharm": {
     "name": "#%%\n"
    }
   }
  },
  {
   "cell_type": "markdown",
   "source": [
    "Which variables have NAN's"
   ],
   "metadata": {
    "collapsed": false,
    "pycharm": {
     "name": "#%% md\n"
    }
   }
  },
  {
   "cell_type": "code",
   "execution_count": null,
   "outputs": [],
   "source": [
    "listings.isna().sum()\n",
    "url_listing = \"http://data.insideairbnb.com/ireland/leinster/dublin/2021-11-07/data/listings.csv.gz\"\n",
    "listings_orig = pd.read_csv(url_listing)"
   ],
   "metadata": {
    "collapsed": false,
    "pycharm": {
     "name": "#%%\n"
    }
   }
  },
  {
   "cell_type": "markdown",
   "source": [
    "quite a lot, so let's look at one after the other"
   ],
   "metadata": {
    "collapsed": false,
    "pycharm": {
     "name": "#%% md\n"
    }
   }
  },
  {
   "cell_type": "code",
   "execution_count": null,
   "outputs": [],
   "source": [
    "# name and description, take room_type instead\n",
    "ind = listings[listings[\"name\"].isna()][\"name\"].index\n",
    "listings[\"name\"].loc[ind] = listings[\"room_type\"].loc[ind]\n",
    "\n",
    "ind = listings[listings[\"description\"].isna()][\"description\"].index\n",
    "listings[\"description\"].loc[ind] = listings[\"room_type\"].loc[ind]\n",
    "\n",
    "# neighbourhood-overview (=description) just neihgbourhood cleansed\n",
    "ind = listings[listings[\"neighborhood_overview\"].isna()][\"neighborhood_overview\"].index\n",
    "listings[\"neighborhood_overview\"].loc[ind] = listings[\"neighbourhood_cleansed\"].loc[ind]"
   ],
   "metadata": {
    "collapsed": false,
    "pycharm": {
     "name": "#%%\n"
    }
   }
  },
  {
   "cell_type": "code",
   "execution_count": null,
   "outputs": [],
   "source": [
    "host_var = [\"host_name\", \"host_since\", #\"host_is_superhost\",\n",
    "            \"host_listings_count\"] #, \"host_identity_verified\"]\n",
    "listings.isna().sum()[host_var]\n",
    "ind_s = listings[listings[\"host_name\"].isna()][\"host_name\"].index\n",
    "rel_URL = listings_orig.loc[ind_s][\"host_url\"]\n",
    "ids = listings_orig[\"id\"].loc[ind_s]\n",
    "\n",
    "name = []\n",
    "id_ver = []\n",
    "for i in range(len(ind_s)):\n",
    "    listings[\"host_listings_count\"].loc[ind_s]= len(listings_orig[listings_orig.id == ids.values[i]])\n",
    "    session = requests.Session()\n",
    "    html_code = session.get(rel_URL.values[i]).content\n",
    "    soup = bs(html_code, \"html.parser\")\n",
    "    name_html = soup.select(\"._a0kct9 ._14i3z6h\")\n",
    "    verified_html = soup.select(\"._p03egf+ ._p03egf ._1ax9t0a\")\n",
    "    if len(name_html) == 0:\n",
    "        name.append(\"Anonymous\")\n",
    "    else:\n",
    "        name.append(name_html[0].text[8:])\n",
    "    if len(verified_html) == 0:\n",
    "        id_ver.append(0)\n",
    "    else:\n",
    "        id_ver.append(1)\n",
    "\n",
    "\n",
    "listings[\"host_name\"].loc[ind_s] = name\n",
    "#listings[\"host_identity_verified\"].loc[ind_s] = id_ver\n",
    "#listings[\"host_is_superhost\"].loc[ind_s] = 0\n",
    "listings[\"host_since\"].loc[ind_s] = listings[\"first_review\"].loc[ind_s]\n",
    "\n",
    "# host_about\n",
    "ind = listings[listings[\"host_about\"].isna()][\"host_about\"].index\n",
    "listings[\"host_about\"].loc[ind] = \" \""
   ],
   "metadata": {
    "collapsed": false,
    "pycharm": {
     "name": "#%%\n"
    }
   }
  },
  {
   "cell_type": "markdown",
   "source": [
    "Linear Models with beds and bedrooms"
   ],
   "metadata": {
    "collapsed": false,
    "pycharm": {
     "name": "#%% md\n"
    }
   }
  },
  {
   "cell_type": "code",
   "execution_count": null,
   "outputs": [],
   "source": [
    "# nach beds ab availability weiter\n",
    "listings.isna().sum()[[\"bedrooms\", \"beds\"]]\n",
    "# Accommodates look very good linearly\n",
    "a = listings.drop(price[price > 2000].index)[\"accommodates\"]\n",
    "b = listings.drop(price[price > 2000].index)[\"beds\"]\n",
    "plt.scatter(a,b)\n",
    "plt.xlabel(\"accommodates\")\n",
    "plt.ylabel(\"beds\")\n",
    "plt.title(\"Accomodates vs. beds\")\n",
    "plt.grid()\n",
    "plt.show()\n",
    "\n",
    "# So let us estimate linear models and predict, for beds\n",
    "Y = listings[\"beds\"]\n",
    "x = listings[\"accommodates\"]\n",
    "X = pd.DataFrame([x]).transpose()\n",
    "X = sm.add_constant(X) # adding a constant\n",
    "\n",
    "# Fit model for beds\n",
    "model = sm.OLS(Y, X, missing='drop').fit()\n",
    "\n",
    "ind = listings[listings[\"beds\"].isna()][\"beds\"].index\n",
    "x0 = listings[\"accommodates\"].loc[ind]\n",
    "x0 = sm.add_constant(x0)\n",
    "predictions = model.predict(x0)\n",
    "# Round????????????\n",
    "listings[\"beds\"].loc[ind] = round(predictions).astype(int)\n",
    "\n",
    "\n",
    "\n",
    "# Then we see, that bedrooms and beds look linear as well\n",
    "a = listings.drop(price[price > 2000].index)[\"beds\"]\n",
    "b = listings.drop(price[price > 2000].index)[\"bedrooms\"]\n",
    "\n",
    "plt.scatter(a,b)\n",
    "plt.xlabel(\"beds\")\n",
    "plt.ylabel(\"bedrooms\")\n",
    "plt.title(\"beds vs. bedrooms\")\n",
    "plt.grid()\n",
    "plt.show()\n",
    "\n",
    "# So now estimate linear models and predict, for beds\n",
    "Y = listings[\"bedrooms\"]\n",
    "x = listings[\"beds\"]\n",
    "X = pd.DataFrame([x]).transpose()\n",
    "X = sm.add_constant(X) # adding a constant\n",
    "\n",
    "# Fit model for beds\n",
    "model = sm.OLS(Y, X, missing='drop').fit()\n",
    "\n",
    "ind = listings[listings[\"bedrooms\"].isna()][\"bedrooms\"].index\n",
    "x0 = listings[\"beds\"].loc[ind]\n",
    "x0 = sm.add_constant(x0)\n",
    "predictions = model.predict(x0)\n",
    "\n",
    "listings[\"bedrooms\"].loc[ind] = round(predictions).astype(int)\n"
   ],
   "metadata": {
    "collapsed": false,
    "pycharm": {
     "name": "#%%\n"
    }
   }
  },
  {
   "cell_type": "markdown",
   "source": [
    "Go on further"
   ],
   "metadata": {
    "collapsed": false,
    "pycharm": {
     "name": "#%% md\n"
    }
   }
  },
  {
   "cell_type": "code",
   "execution_count": null,
   "outputs": [],
   "source": [
    "listings.isna().sum()[['first_review', 'last_review']]\n",
    "ind = listings[listings[\"first_review\"].isna()][\"first_review\"].index\n",
    "listings[\"first_review\"].loc[ind] = listings_orig[\"last_scraped\"].loc[ind]\n",
    "\n",
    "ind = listings[listings[\"last_review\"].isna()][\"last_review\"].index\n",
    "listings[\"last_review\"].loc[ind] = listings_orig[\"last_scraped\"].loc[ind]\n",
    "\n",
    "\n",
    "\n",
    "# Look all like half normal\n",
    "review_var = ['review_scores_rating', 'review_scores_accuracy', 'review_scores_cleanliness',\n",
    "       'review_scores_communication', 'review_scores_location', 'review_scores_value']\n",
    "\n",
    "for i in range(len(review_var)):\n",
    "    plt.hist(listings[review_var[i]], density=True)\n",
    "    plt.title(\"Histogram of\")\n",
    "    plt.xlabel(review_var[i])\n",
    "    plt.ylabel(\"frequency\")\n",
    "    plt.show()\n",
    "\n",
    "\n",
    "# let us replace the nans\n",
    "for i in range(len(review_var)):\n",
    "    ind = listings[listings[review_var[i]].isna()][review_var[i]].index\n",
    "    sd = np.nanstd(listings[review_var[i]])  # ML-estimator\n",
    "    sd = sd - sd / (4 * len(listings[review_var[i]])) # MLE bias corrected\n",
    "    np.random.seed(123)\n",
    "    fill_ind = (halfnorm.rvs(loc=0, scale=sd, size=len(ind)) * -1) + 5\n",
    "    listings[review_var[i]].loc[ind] = fill_ind\n"
   ],
   "metadata": {
    "collapsed": false,
    "pycharm": {
     "name": "#%%\n"
    }
   }
  },
  {
   "cell_type": "code",
   "execution_count": null,
   "outputs": [],
   "source": [
    "ind = listings[listings[\"reviews_per_month\"].isna()][\"reviews_per_month\"].index\n",
    "listings[\"reviews_per_month\"].loc[ind] = listings[\"number_of_reviews\"].loc[ind]\n",
    "\n",
    "ind = listings[listings[\"host_location_country\"].isna()][\"host_location_country\"].index\n",
    "listings[\"host_location_country\"].loc[ind] = \"Ireland\""
   ],
   "metadata": {
    "collapsed": false,
    "pycharm": {
     "name": "#%%\n"
    }
   }
  },
  {
   "cell_type": "code",
   "execution_count": null,
   "outputs": [],
   "source": [
    "# those are all the same rows\n",
    "rest_var = ['Bathtub', 'Bed linens', 'Breakfast', 'Cleaning before checkout', 'Dishwasher',\n",
    "       'Elevator', 'Hair dryer', 'Indoor fireplace', 'Long term stays allowed',\n",
    "       'Private entrance', 'Security cameras on property', 'Single level home',\n",
    "       'Special_stuff', 'TV_number', 'Outdoor_stuff_number', 'Baby_friendly',\n",
    "       'sound_system_number', 'Oven_available', 'Stoves_available',\n",
    "       'Refridgerator_available', 'Body_soap_available',\n",
    "       'Garden_backyard_available', 'Free_parking_number',\n",
    "       'Paid_parking_number', 'Children_Entertainment', 'Workspace',\n",
    "       'Shampoo_Conditioner_available', 'Fast_wifi_available', 'Gym_available',\n",
    "       'Coffee_machine_available', 'Dryer_available', 'Washer_available',\n",
    "       'Hot_tub_available', 'Pool_available', 'Patio_balcony_available',\n",
    "       'Wifi_available', 'AC_available', 'heating_available',\n",
    "       'Kitchen_available', 'Safe_available', 'Water_location']\n",
    "# all are dummies\n",
    "listings[rest_var].describe()\n",
    "\n",
    "for i in range(len(rest_var)):\n",
    "    ind = listings[listings[rest_var[i]].isna()][rest_var[i]].index\n",
    "    m = np.nanmean(listings[rest_var[i]])\n",
    "    listings[rest_var[i]].loc[ind] = np.random.binomial(n=1, p=m, size=len(ind))"
   ],
   "metadata": {
    "collapsed": false,
    "pycharm": {
     "name": "#%%\n"
    }
   }
  },
  {
   "cell_type": "markdown",
   "source": [
    "Which variable still has nans?"
   ],
   "metadata": {
    "collapsed": false,
    "pycharm": {
     "name": "#%% md\n"
    }
   }
  },
  {
   "cell_type": "code",
   "execution_count": null,
   "outputs": [],
   "source": [
    "len(listings.isna().sum()[listings.isna().sum().values > 0])"
   ],
   "metadata": {
    "collapsed": false,
    "pycharm": {
     "name": "#%%\n"
    }
   }
  }
 ],
 "metadata": {
  "kernelspec": {
   "display_name": "Python 3",
   "language": "python",
   "name": "python3"
  },
  "language_info": {
   "codemirror_mode": {
    "name": "ipython",
    "version": 2
   },
   "file_extension": ".py",
   "mimetype": "text/x-python",
   "name": "python",
   "nbconvert_exporter": "python",
   "pygments_lexer": "ipython2",
   "version": "2.7.6"
  }
 },
 "nbformat": 4,
 "nbformat_minor": 0
}