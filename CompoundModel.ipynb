{
 "cells": [
  {
   "cell_type": "markdown",
   "metadata": {},
   "source": [
    "# Tabnet Image Model"
   ]
  },
  {
   "cell_type": "code",
   "execution_count": 1,
   "metadata": {},
   "outputs": [
    {
     "name": "stdout",
     "output_type": "stream",
     "text": [
      "Init Plugin\n",
      "Init Graph Optimizer\n",
      "Init Kernel\n"
     ]
    }
   ],
   "source": [
    "import tabnet\n",
    "from load_data import *\n",
    "import os\n",
    "from tqdm import tqdm_notebook\n",
    "import numpy as np\n",
    "import tensorflow as tf\n",
    "from tensorflow import keras\n",
    "from sklearn.model_selection import train_test_split\n",
    "import pandas as pd\n",
    "import matplotlib.pyplot as plt\n",
    "import cv2\n",
    "tf.compat.v1.enable_eager_execution()\n",
    "\n",
    "\n",
    "# Display\n",
    "from IPython.display import Image, display\n",
    "import matplotlib.pyplot as plt\n",
    "import matplotlib.cm as cm"
   ]
  },
  {
   "cell_type": "markdown",
   "metadata": {},
   "source": [
    "We only consider a model with the best hyperparameters identified for the individual models"
   ]
  },
  {
   "cell_type": "code",
   "execution_count": 2,
   "metadata": {},
   "outputs": [],
   "source": [
    "# Load data for best fold of Tabnet\n",
    "X_train, X_test, X_val, y_train, y_test, y_val = load_data_fold(fold=4, drop_id = False)"
   ]
  },
  {
   "cell_type": "markdown",
   "metadata": {},
   "source": [
    "## Input process for Image Model"
   ]
  },
  {
   "cell_type": "code",
   "execution_count": 3,
   "metadata": {},
   "outputs": [],
   "source": [
    "# load paths and labels\n",
    "img_folder = \"data/images_resized\"\n",
    "img_df = pd.read_csv(\"data/img_paths.csv\")\n",
    "img_df.reset_index(drop=True, inplace = True)\n",
    "\n",
    "# load label book\n",
    "label_cat = [\"bathroom\", \"bedroom\", \"dining\", \"hallway\", \"kitchen\", \"living\"]\n",
    "label = np.arange(6)\n",
    "label_book = pd.DataFrame({\"label\": label_cat, \"categorical_label\": label})"
   ]
  },
  {
   "cell_type": "code",
   "execution_count": 4,
   "metadata": {},
   "outputs": [],
   "source": [
    "# prices\n",
    "url_listing = \"http://data.insideairbnb.com/ireland/leinster/dublin/2021-11-07/data/listings.csv.gz\"\n",
    "listings = pd.read_csv(url_listing)\n",
    "urls = listings[\"listing_url\"]\n",
    "ids = listings[\"id\"]\n",
    "price = listings[\"price\"]\n",
    "price = price.str.replace(\"$\",\"\")\n",
    "price = price.str.replace(\",\",\"\")\n",
    "price = price.astype(float)\n",
    "listings[\"price\"] = price\n",
    "listings[\"log_price\"] = np.log(price)\n",
    "listings = listings[listings[\"price\"]<500]\n"
   ]
  },
  {
   "cell_type": "code",
   "execution_count": 5,
   "metadata": {},
   "outputs": [
    {
     "data": {
      "text/html": [
       "<div>\n",
       "<style scoped>\n",
       "    .dataframe tbody tr th:only-of-type {\n",
       "        vertical-align: middle;\n",
       "    }\n",
       "\n",
       "    .dataframe tbody tr th {\n",
       "        vertical-align: top;\n",
       "    }\n",
       "\n",
       "    .dataframe thead th {\n",
       "        text-align: right;\n",
       "    }\n",
       "</style>\n",
       "<table border=\"1\" class=\"dataframe\">\n",
       "  <thead>\n",
       "    <tr style=\"text-align: right;\">\n",
       "      <th></th>\n",
       "      <th>img_path</th>\n",
       "      <th>id</th>\n",
       "      <th>img_no</th>\n",
       "      <th>label</th>\n",
       "      <th>log_price</th>\n",
       "    </tr>\n",
       "  </thead>\n",
       "  <tbody>\n",
       "    <tr>\n",
       "      <th>0</th>\n",
       "      <td>44077_0.png</td>\n",
       "      <td>44077</td>\n",
       "      <td>0</td>\n",
       "      <td>4.0</td>\n",
       "      <td>4.174387</td>\n",
       "    </tr>\n",
       "    <tr>\n",
       "      <th>1</th>\n",
       "      <td>44077_1.png</td>\n",
       "      <td>44077</td>\n",
       "      <td>1</td>\n",
       "      <td>5.0</td>\n",
       "      <td>4.174387</td>\n",
       "    </tr>\n",
       "    <tr>\n",
       "      <th>2</th>\n",
       "      <td>44077_2.png</td>\n",
       "      <td>44077</td>\n",
       "      <td>2</td>\n",
       "      <td>1.0</td>\n",
       "      <td>4.174387</td>\n",
       "    </tr>\n",
       "    <tr>\n",
       "      <th>3</th>\n",
       "      <td>44077_3.png</td>\n",
       "      <td>44077</td>\n",
       "      <td>3</td>\n",
       "      <td>1.0</td>\n",
       "      <td>4.174387</td>\n",
       "    </tr>\n",
       "    <tr>\n",
       "      <th>4</th>\n",
       "      <td>44077_4.png</td>\n",
       "      <td>44077</td>\n",
       "      <td>4</td>\n",
       "      <td>1.0</td>\n",
       "      <td>4.174387</td>\n",
       "    </tr>\n",
       "  </tbody>\n",
       "</table>\n",
       "</div>"
      ],
      "text/plain": [
       "      img_path     id  img_no  label  log_price\n",
       "0  44077_0.png  44077       0    4.0   4.174387\n",
       "1  44077_1.png  44077       1    5.0   4.174387\n",
       "2  44077_2.png  44077       2    1.0   4.174387\n",
       "3  44077_3.png  44077       3    1.0   4.174387\n",
       "4  44077_4.png  44077       4    1.0   4.174387"
      ]
     },
     "execution_count": 5,
     "metadata": {},
     "output_type": "execute_result"
    }
   ],
   "source": [
    "price_df = listings[[\"log_price\", \"id\"]]\n",
    "df = pd.merge(img_df, price_df, on = \"id\", how = \"left\")\n",
    "df.head()"
   ]
  },
  {
   "cell_type": "code",
   "execution_count": 6,
   "metadata": {},
   "outputs": [],
   "source": [
    "filter = np.any(df.isna(), axis = 1)\n",
    "df = df[~filter]\n",
    "\n",
    "# drop \"others\"\n",
    "filter = df[\"label\"] == 6.0\n",
    "df = df[~filter]"
   ]
  },
  {
   "cell_type": "code",
   "execution_count": 7,
   "metadata": {},
   "outputs": [],
   "source": [
    "bool = []\n",
    "for id in df[\"id\"]:\n",
    "    tmp = df[df[\"id\"] == id]\n",
    "    if len(np.unique(tmp[\"label\"])) >= 4:\n",
    "        bool.append(True)\n",
    "    else:\n",
    "        bool.append(False)"
   ]
  },
  {
   "cell_type": "code",
   "execution_count": 8,
   "metadata": {},
   "outputs": [],
   "source": [
    "df_new = df[bool]\n",
    "np.unique(df_new[\"id\"].values).shape\n",
    "df = df_new"
   ]
  },
  {
   "cell_type": "code",
   "execution_count": 9,
   "metadata": {},
   "outputs": [
    {
     "data": {
      "text/plain": [
       "(56704, 5)"
      ]
     },
     "execution_count": 9,
     "metadata": {},
     "output_type": "execute_result"
    }
   ],
   "source": [
    "df.shape"
   ]
  },
  {
   "cell_type": "code",
   "execution_count": 10,
   "metadata": {},
   "outputs": [],
   "source": [
    "def data_generator(df):\n",
    "    ''' Extracts the features from a Resnet50 '''\n",
    "    counter_overall_dummy = 0\n",
    "    counter_overall_img = 0\n",
    "\n",
    "    def input_pipeline(room = 0, df = df):\n",
    "        ids = []\n",
    "        features = []\n",
    "        \n",
    "        # Filter df by room type\n",
    "        df_room = df[df[\"label\"] == room]\n",
    "        \n",
    "        # load resnet\n",
    "        resnet = tf.keras.applications.resnet.ResNet50(include_top=False, weights='imagenet', pooling=\"avg\", input_shape = (None,None,3))\n",
    "        resnet_pre = keras.applications.resnet50.preprocess_input\n",
    "        resnet.trainable = False\n",
    "        \n",
    "        # count dummies and images overall\n",
    "        counter_dummy = 0\n",
    "        counter_img = 0\n",
    "        \n",
    "        # for every id route all images of a room through the resnet50\n",
    "        for id in tqdm_notebook(np.unique(df[\"id\"])):\n",
    "            filter = df_room[\"id\"] == id  \n",
    "\n",
    "            # if an error occurs just add a black images otherwise get resnet features\n",
    "            try:\n",
    "                l = []\n",
    "                \n",
    "                # if no image of the room is present add a black image and route it throug the resnet\n",
    "                if filter.sum() == 0:\n",
    "                    dummy_image = np.zeros((1,256,256,3))\n",
    "                    dummy_image = resnet_pre(dummy_image)\n",
    "                    dummy_image = resnet(dummy_image)\n",
    "                    l.append(dummy_image)\n",
    "                    counter_dummy += 1             \n",
    "                \n",
    "                # load image and get features\n",
    "                else:\n",
    "                    path_id = df_room[\"img_path\"][filter]\n",
    "                    for p in path_id:\n",
    "                        img_tmp = cv2.imread(\"data/images_resized/\"+p)\n",
    "                        img_tmp = np.expand_dims(img_tmp, axis = 0)\n",
    "                        img_tmp = resnet_pre(img_tmp.astype(np.float32))\n",
    "                        img_tmp = resnet(img_tmp)\n",
    "                        l.append(img_tmp)\n",
    "                        counter_img += 1\n",
    "                        \n",
    "                # stack all images and compute maximum\n",
    "                l = np.stack(l)\n",
    "                l = np.max(l, axis = 0)\n",
    "                features.append(l)\n",
    "                ids.append(id)\n",
    "                \n",
    "            except:\n",
    "                dummy_image = np.zeros((1,256,256,3))\n",
    "                dummy_image = resnet_pre(dummy_image)\n",
    "                dummy_image = resnet(dummy_image)\n",
    "                l.append(dummy_image)\n",
    "                l = np.stack(l)\n",
    "                l = np.max(l, axis = 0)\n",
    "                features.append(l)\n",
    "                ids.append(id)\n",
    "                continue\n",
    "            \n",
    "        # stack all features of the images and leave out zeros features\n",
    "        features = np.squeeze(np.stack(features))\n",
    "        filter = np.nonzero(features.sum(axis = 0))[0]\n",
    "        features = features[:,filter]\n",
    "        print(len(filter), \" features are nonzero.\")\n",
    "        \n",
    "        features = features.tolist()\n",
    "        print(counter_dummy, \"dummy images were added.\")\n",
    "        \n",
    "        return features, ids, counter_dummy, counter_img\n",
    "\n",
    "    basis_df = df[[\"id\",\"log_price\"]]\n",
    "    basis_df = basis_df.drop_duplicates()\n",
    "    \n",
    "    features = []\n",
    "    ids = []\n",
    "    \n",
    "    # loop over all room categories\n",
    "    for i in tqdm_notebook(np.unique(df[\"label\"])):\n",
    "        \n",
    "        feat_cat, ids_cat, counter_dummy, counter_img = input_pipeline(i,df)\n",
    "        df_tmp = pd.DataFrame({\"features_\"+str(i): feat_cat, \"id\": ids_cat})\n",
    "        basis_df = pd.merge(basis_df, df_tmp, on = \"id\", how = \"left\")\n",
    "        counter_overall_dummy += counter_dummy\n",
    "        counter_overall_img += counter_img\n",
    "        \n",
    "    print(counter_overall_dummy)\n",
    "    print(counter_overall_img)\n",
    "    \n",
    "    return basis_df\n",
    "    "
   ]
  },
  {
   "cell_type": "code",
   "execution_count": 12,
   "metadata": {},
   "outputs": [
    {
     "name": "stderr",
     "output_type": "stream",
     "text": [
      "/var/folders/97/j215pw6x7sq158bvx1ktlhf80000gn/T/ipykernel_54342/54665505.py:84: TqdmDeprecationWarning: This function will be removed in tqdm==5.0.0\n",
      "Please use `tqdm.notebook.tqdm` instead of `tqdm.tqdm_notebook`\n",
      "  for i in tqdm_notebook(np.unique(df[\"label\"])):\n"
     ]
    },
    {
     "data": {
      "application/vnd.jupyter.widget-view+json": {
       "model_id": "0984ff7200c740518200fe65699f8202",
       "version_major": 2,
       "version_minor": 0
      },
      "text/plain": [
       "  0%|          | 0/6 [00:00<?, ?it/s]"
      ]
     },
     "metadata": {},
     "output_type": "display_data"
    },
    {
     "name": "stderr",
     "output_type": "stream",
     "text": [
      "/var/folders/97/j215pw6x7sq158bvx1ktlhf80000gn/T/ipykernel_54342/54665505.py:23: TqdmDeprecationWarning: This function will be removed in tqdm==5.0.0\n",
      "Please use `tqdm.notebook.tqdm` instead of `tqdm.tqdm_notebook`\n",
      "  for id in tqdm_notebook(np.unique(df[\"id\"])):\n"
     ]
    },
    {
     "data": {
      "application/vnd.jupyter.widget-view+json": {
       "model_id": "500747ae8a3c4b49bc608d06afb1f0e2",
       "version_major": 2,
       "version_minor": 0
      },
      "text/plain": [
       "  0%|          | 0/4356 [00:00<?, ?it/s]"
      ]
     },
     "metadata": {},
     "output_type": "display_data"
    },
    {
     "name": "stdout",
     "output_type": "stream",
     "text": [
      "2048  features are nonzero.\n",
      "266 dummy images were added.\n"
     ]
    },
    {
     "name": "stderr",
     "output_type": "stream",
     "text": [
      "/var/folders/97/j215pw6x7sq158bvx1ktlhf80000gn/T/ipykernel_54342/54665505.py:23: TqdmDeprecationWarning: This function will be removed in tqdm==5.0.0\n",
      "Please use `tqdm.notebook.tqdm` instead of `tqdm.tqdm_notebook`\n",
      "  for id in tqdm_notebook(np.unique(df[\"id\"])):\n"
     ]
    },
    {
     "data": {
      "application/vnd.jupyter.widget-view+json": {
       "model_id": "4168ba698e9342368c9a3b982928baa5",
       "version_major": 2,
       "version_minor": 0
      },
      "text/plain": [
       "  0%|          | 0/4356 [00:00<?, ?it/s]"
      ]
     },
     "metadata": {},
     "output_type": "display_data"
    },
    {
     "name": "stdout",
     "output_type": "stream",
     "text": [
      "2048  features are nonzero.\n",
      "42 dummy images were added.\n"
     ]
    },
    {
     "name": "stderr",
     "output_type": "stream",
     "text": [
      "/var/folders/97/j215pw6x7sq158bvx1ktlhf80000gn/T/ipykernel_54342/54665505.py:23: TqdmDeprecationWarning: This function will be removed in tqdm==5.0.0\n",
      "Please use `tqdm.notebook.tqdm` instead of `tqdm.tqdm_notebook`\n",
      "  for id in tqdm_notebook(np.unique(df[\"id\"])):\n"
     ]
    },
    {
     "data": {
      "application/vnd.jupyter.widget-view+json": {
       "model_id": "3b986d7c2184419ba82a6a7d85467619",
       "version_major": 2,
       "version_minor": 0
      },
      "text/plain": [
       "  0%|          | 0/4356 [00:00<?, ?it/s]"
      ]
     },
     "metadata": {},
     "output_type": "display_data"
    },
    {
     "name": "stdout",
     "output_type": "stream",
     "text": [
      "2048  features are nonzero.\n",
      "2316 dummy images were added.\n"
     ]
    },
    {
     "name": "stderr",
     "output_type": "stream",
     "text": [
      "/var/folders/97/j215pw6x7sq158bvx1ktlhf80000gn/T/ipykernel_54342/54665505.py:23: TqdmDeprecationWarning: This function will be removed in tqdm==5.0.0\n",
      "Please use `tqdm.notebook.tqdm` instead of `tqdm.tqdm_notebook`\n",
      "  for id in tqdm_notebook(np.unique(df[\"id\"])):\n"
     ]
    },
    {
     "data": {
      "application/vnd.jupyter.widget-view+json": {
       "model_id": "d5abbfb6659f412c84d11082f27e1b63",
       "version_major": 2,
       "version_minor": 0
      },
      "text/plain": [
       "  0%|          | 0/4356 [00:00<?, ?it/s]"
      ]
     },
     "metadata": {},
     "output_type": "display_data"
    },
    {
     "name": "stdout",
     "output_type": "stream",
     "text": [
      "2048  features are nonzero.\n",
      "2428 dummy images were added.\n"
     ]
    },
    {
     "name": "stderr",
     "output_type": "stream",
     "text": [
      "/var/folders/97/j215pw6x7sq158bvx1ktlhf80000gn/T/ipykernel_54342/54665505.py:23: TqdmDeprecationWarning: This function will be removed in tqdm==5.0.0\n",
      "Please use `tqdm.notebook.tqdm` instead of `tqdm.tqdm_notebook`\n",
      "  for id in tqdm_notebook(np.unique(df[\"id\"])):\n"
     ]
    },
    {
     "data": {
      "application/vnd.jupyter.widget-view+json": {
       "model_id": "46cb2def01854990a30aa5039b5666c8",
       "version_major": 2,
       "version_minor": 0
      },
      "text/plain": [
       "  0%|          | 0/4356 [00:00<?, ?it/s]"
      ]
     },
     "metadata": {},
     "output_type": "display_data"
    },
    {
     "name": "stdout",
     "output_type": "stream",
     "text": [
      "2048  features are nonzero.\n",
      "189 dummy images were added.\n"
     ]
    },
    {
     "name": "stderr",
     "output_type": "stream",
     "text": [
      "/var/folders/97/j215pw6x7sq158bvx1ktlhf80000gn/T/ipykernel_54342/54665505.py:23: TqdmDeprecationWarning: This function will be removed in tqdm==5.0.0\n",
      "Please use `tqdm.notebook.tqdm` instead of `tqdm.tqdm_notebook`\n",
      "  for id in tqdm_notebook(np.unique(df[\"id\"])):\n"
     ]
    },
    {
     "data": {
      "application/vnd.jupyter.widget-view+json": {
       "model_id": "888845ca160248faad5c7c5eede9569f",
       "version_major": 2,
       "version_minor": 0
      },
      "text/plain": [
       "  0%|          | 0/4356 [00:00<?, ?it/s]"
      ]
     },
     "metadata": {},
     "output_type": "display_data"
    },
    {
     "name": "stdout",
     "output_type": "stream",
     "text": [
      "2048  features are nonzero.\n",
      "342 dummy images were added.\n",
      "5583\n",
      "56704\n"
     ]
    }
   ],
   "source": [
    "final_df = data_generator(df)"
   ]
  },
  {
   "cell_type": "code",
   "execution_count": 13,
   "metadata": {},
   "outputs": [],
   "source": [
    "final_df.columns = [\"id\", \"log_price\", \"bath\", \"bed\", \"dining\", \"hall\", \"kitchen\", \"living\"]"
   ]
  },
  {
   "cell_type": "markdown",
   "metadata": {},
   "source": [
    "## Input process for TabNet"
   ]
  },
  {
   "cell_type": "code",
   "execution_count": 14,
   "metadata": {},
   "outputs": [],
   "source": [
    "# Load data for best fold of Tabnet\n",
    "X_train, X_test, X_val, y_train, y_test, y_val = load_data_fold(fold=4, drop_id = False)"
   ]
  },
  {
   "cell_type": "code",
   "execution_count": 15,
   "metadata": {},
   "outputs": [],
   "source": [
    "\n",
    "# set columns for tabnet\n",
    "bin_col = [col for col in X_train if np.isin(X_train[col].unique(), [0, 1]).all()]\n",
    "num_col = [col for col in X_train if ~np.isin(X_train[col].unique(), [0, 1]).all()]\n",
    "col_names = bin_col + num_col\n",
    "feature_columns = []\n",
    "col_names.remove(\"id\")\n",
    "for col in col_names:\n",
    "    feature_columns.append(tf.feature_column.numeric_column(col))"
   ]
  },
  {
   "cell_type": "code",
   "execution_count": 16,
   "metadata": {},
   "outputs": [
    {
     "name": "stdout",
     "output_type": "stream",
     "text": [
      "TRAIN SHAPE:  (2710, 77)\n",
      "TEST SHAPE:  (853, 77)\n",
      "VAL SHAPE:  (706, 77)\n"
     ]
    }
   ],
   "source": [
    "# merge data for tabnet and images to get consistent ids\n",
    "data_df_train = pd.merge(final_df, X_train, on=\"id\", how=\"inner\")\n",
    "data_df_train.dropna(inplace = True)\n",
    "print(\"TRAIN SHAPE: \", data_df_train.shape)\n",
    "\n",
    "data_df_test = pd.merge(final_df, X_test, on=\"id\", how=\"inner\")\n",
    "data_df_test.dropna(inplace = True)\n",
    "print(\"TEST SHAPE: \", data_df_test.shape)\n",
    "\n",
    "data_df_val = pd.merge(final_df, X_val, on=\"id\", how=\"inner\")\n",
    "data_df_val.dropna(inplace = True)\n",
    "print(\"VAL SHAPE: \", data_df_val.shape)\n",
    "\n",
    "# extract consistent columns\n",
    "X_train_tab = data_df_train.filter(col_names)\n",
    "X_test_tab = data_df_test.filter(col_names)\n",
    "X_val_tab = data_df_val.filter(col_names)\n",
    "\n",
    "data_df_train.drop(col_names, axis = 1, inplace = True)\n",
    "data_df_test.drop(col_names, axis = 1, inplace = True)\n",
    "data_df_val.drop(col_names, axis = 1, inplace = True)\n",
    "\n",
    "# extract consistent price\n",
    "y_train = data_df_train.pop(\"log_price\")\n",
    "y_test = data_df_test.pop(\"log_price\")\n",
    "y_val = data_df_val.pop(\"log_price\")\n",
    "\n",
    "# drop id\n",
    "X_train = data_df_train.drop(\"id\", axis = 1)\n",
    "X_test = data_df_test.drop(\"id\", axis = 1)\n",
    "X_val = data_df_val.drop(\"id\", axis = 1)\n"
   ]
  },
  {
   "cell_type": "code",
   "execution_count": 17,
   "metadata": {},
   "outputs": [],
   "source": [
    "def transform(ds):\n",
    "    # tabnet\n",
    "    features = tf.unstack(ds[\"features\"])\n",
    "    features = dict(zip(col_names, features))\n",
    "\n",
    "    # images\n",
    "    bath = tf.unstack(ds[\"bath\"])\n",
    "    bed = tf.unstack(ds[\"bed\"])\n",
    "    dining = tf.unstack(ds[\"dining\"])\n",
    "    hall = tf.unstack(ds[\"hall\"])\n",
    "    kitchen = tf.unstack(ds[\"kitchen\"])\n",
    "    living = tf.unstack(ds[\"living\"])\n",
    "    \n",
    "    prices = ds[\"price\"]\n",
    "    \n",
    "    y = prices\n",
    "    return (bath, bed, dining, hall, kitchen, living, features), y"
   ]
  },
  {
   "cell_type": "markdown",
   "metadata": {},
   "source": [
    "Construct tensorflow dataset"
   ]
  },
  {
   "cell_type": "code",
   "execution_count": 18,
   "metadata": {},
   "outputs": [],
   "source": [
    "train_size = int(X_train.shape[0] * 0.9)\n",
    "batch_size = int(X_train.shape[0] * 0.1)\n",
    "\n",
    "data_train = tf.data.Dataset.from_tensor_slices({\"bath\": np.squeeze(np.stack(X_train[\"bath\"])),\n",
    "                                                 \"bed\": np.squeeze(np.stack(X_train[\"bed\"])),\n",
    "                                                 \"dining\": np.squeeze(np.stack(X_train[\"dining\"])),\n",
    "                                                 \"hall\": np.squeeze(np.stack(X_train[\"hall\"])),\n",
    "                                                 \"kitchen\": np.squeeze(np.stack(X_train[\"kitchen\"])),\n",
    "                                                 \"living\": np.squeeze(np.stack(X_train[\"living\"])),\n",
    "                                                 \"features\": X_train_tab,\n",
    "                                                 \"price\": y_train})\n",
    "data_train = data_train.cache()\n",
    "data_train = data_train.shuffle(6000, seed = 13)\n",
    "train_dataset = data_train.take(len(y_train))\n",
    "train_dataset = train_dataset.map(transform)\n",
    "train_dataset = train_dataset.batch(batch_size)\n",
    "\n",
    "data_test = tf.data.Dataset.from_tensor_slices({\"bath\": np.squeeze(np.stack(X_test[\"bath\"])),\n",
    "                                                 \"bed\": np.squeeze(np.stack(X_test[\"bed\"])),\n",
    "                                                 \"dining\": np.squeeze(np.stack(X_test[\"dining\"])),\n",
    "                                                 \"hall\": np.squeeze(np.stack(X_test[\"hall\"])),\n",
    "                                                 \"kitchen\": np.squeeze(np.stack(X_test[\"kitchen\"])),\n",
    "                                                 \"living\": np.squeeze(np.stack(X_test[\"living\"])),\n",
    "                                                 \"features\": X_test_tab,\n",
    "                                                 \"price\": y_test})\n",
    "data_test = data_test.cache()\n",
    "test_dataset = data_test.take(len(y_test))\n",
    "test_dataset = test_dataset.map(transform)\n",
    "test_dataset = test_dataset.batch(batch_size)\n",
    "\n",
    "data_val = tf.data.Dataset.from_tensor_slices({\"bath\": np.squeeze(np.stack(X_val[\"bath\"])),\n",
    "                                                 \"bed\": np.squeeze(np.stack(X_val[\"bed\"])),\n",
    "                                                 \"dining\": np.squeeze(np.stack(X_val[\"dining\"])),\n",
    "                                                 \"hall\": np.squeeze(np.stack(X_val[\"hall\"])),\n",
    "                                                 \"kitchen\": np.squeeze(np.stack(X_val[\"kitchen\"])),\n",
    "                                                 \"living\": np.squeeze(np.stack(X_val[\"living\"])),\n",
    "                                                 \"features\": X_val_tab,\n",
    "                                                 \"price\": y_val})\n",
    "data_val = data_val.cache()\n",
    "val_dataset = data_val.take(len(y_val))\n",
    "val_dataset = val_dataset.map(transform)\n",
    "val_dataset = val_dataset.batch(batch_size)"
   ]
  },
  {
   "cell_type": "code",
   "execution_count": 19,
   "metadata": {},
   "outputs": [],
   "source": [
    "from tensorflow.keras import backend\n",
    "class weight_constr(tf.keras.constraints.Constraint):\n",
    "  \"\"\"Constrains weight tensors to be centered around `ref_value`.\"\"\"\n",
    "\n",
    "  def __init__(self):\n",
    "    self.ref_value = 1\n",
    "\n",
    "  def __call__(self, w):\n",
    "    nonneg = w * tf.cast(tf.greater_equal(w, 0.), backend.floatx())\n",
    "    sum_w = tf.reduce_sum(nonneg)\n",
    "    nonneg_one = nonneg/sum_w\n",
    "    return nonneg_one\n"
   ]
  },
  {
   "cell_type": "markdown",
   "metadata": {},
   "source": [
    "Model Setup"
   ]
  },
  {
   "cell_type": "code",
   "execution_count": 20,
   "metadata": {},
   "outputs": [],
   "source": [
    "# setup model\n",
    "class Compound_model(tf.keras.Model):\n",
    "\n",
    "  def __init__(self,feature_columns, dropout = 0, l2 = 0, nodes1 = 512, nodes2 = 1,\n",
    "                 num_features=None,\n",
    "                 feature_dim=32,\n",
    "                 output_dim=32,\n",
    "                 num_decision_steps=3,\n",
    "                 relaxation_factor=1.5,\n",
    "                 sparsity_coefficient=1e-5,\n",
    "                 norm_type='group',\n",
    "                 batch_momentum=0.98,\n",
    "                 virtual_batch_size=None,\n",
    "                 num_groups=1,\n",
    "                 epsilon=1e-5):\n",
    "    super().__init__()\n",
    "    # TabNet\n",
    "    self.tabnet = tabnet.TabNet(feature_columns=feature_columns,\n",
    "                          num_features=num_features,\n",
    "                          feature_dim=feature_dim,\n",
    "                          output_dim=output_dim,\n",
    "                          num_decision_steps=num_decision_steps,\n",
    "                          relaxation_factor=relaxation_factor,\n",
    "                          sparsity_coefficient=sparsity_coefficient,\n",
    "                          norm_type=norm_type,\n",
    "                          batch_momentum=batch_momentum,\n",
    "                          virtual_batch_size=virtual_batch_size,\n",
    "                          num_groups=num_groups,\n",
    "                          epsilon=epsilon)\n",
    "   \n",
    "    \n",
    "    # bathroom\n",
    "    self.bn1_bath = tf.keras.layers.BatchNormalization()\n",
    "    self.drop1_bath = tf.keras.layers.Dropout(dropout)\n",
    "    self.dense1_bath = tf.keras.layers.Dense(nodes1, activation=tf.nn.relu, kernel_regularizer = keras.regularizers.l2(l2))\n",
    "    self.bn2_bath = tf.keras.layers.BatchNormalization()\n",
    "    self.drop2_bath = tf.keras.layers.Dropout(dropout)\n",
    "    #self.dense2_bath = tf.keras.layers.Dense(nodes2, activation=tf.nn.relu, kernel_regularizer = keras.regularizers.l2(l2))\n",
    "    self.dense2_bath = tf.keras.layers.Dense(nodes2, kernel_regularizer = keras.regularizers.l2(l2))\n",
    " \n",
    "    # bedroom\n",
    "    self.bn1_bed = tf.keras.layers.BatchNormalization()\n",
    "    self.drop1_bed = tf.keras.layers.Dropout(dropout)\n",
    "    self.dense1_bed = tf.keras.layers.Dense(nodes1, activation=tf.nn.relu, kernel_regularizer = keras.regularizers.l2(l2))\n",
    "    self.bn2_bed = tf.keras.layers.BatchNormalization()\n",
    "    self.drop2_bed = tf.keras.layers.Dropout(dropout)\n",
    "    #self.dense2_bed = tf.keras.layers.Dense(nodes2, activation=tf.nn.relu, kernel_regularizer = keras.regularizers.l2(l2))\n",
    "    self.dense2_bed = tf.keras.layers.Dense(nodes2, kernel_regularizer = keras.regularizers.l2(l2))\n",
    "       \n",
    "      # dining\n",
    "    self.bn1_dining = tf.keras.layers.BatchNormalization()\n",
    "    self.drop1_dining = tf.keras.layers.Dropout(dropout)\n",
    "    self.dense1_dining = tf.keras.layers.Dense(nodes1, activation=tf.nn.relu, kernel_regularizer = keras.regularizers.l2(l2))\n",
    "    self.bn2_dining = tf.keras.layers.BatchNormalization()\n",
    "    self.drop2_dining = tf.keras.layers.Dropout(dropout)\n",
    "    #self.dense2_dining = tf.keras.layers.Dense(nodes2, activation=tf.nn.relu, kernel_regularizer = keras.regularizers.l2(l2))\n",
    "    self.dense2_dining = tf.keras.layers.Dense(nodes2, kernel_regularizer = keras.regularizers.l2(l2))\n",
    "   \n",
    "    # hall\n",
    "    self.bn1_hall = tf.keras.layers.BatchNormalization()\n",
    "    self.drop1_hall = tf.keras.layers.Dropout(dropout)\n",
    "    self.dense1_hall = tf.keras.layers.Dense(nodes1, activation=tf.nn.relu, kernel_regularizer = keras.regularizers.l2(l2))\n",
    "    self.bn2_hall = tf.keras.layers.BatchNormalization()\n",
    "    self.drop2_hall = tf.keras.layers.Dropout(dropout)\n",
    "    #self.dense2_hall = tf.keras.layers.Dense(nodes2, activation=tf.nn.relu, kernel_regularizer = keras.regularizers.l2(l2))\n",
    "    self.dense2_hall = tf.keras.layers.Dense(nodes2, kernel_regularizer = keras.regularizers.l2(l2))\n",
    "    \n",
    "    # kitchen\n",
    "    self.bn1_kitchen = tf.keras.layers.BatchNormalization()\n",
    "    self.drop1_kitchen = tf.keras.layers.Dropout(dropout)\n",
    "    self.dense1_kitchen = tf.keras.layers.Dense(nodes1, activation=tf.nn.relu, kernel_regularizer = keras.regularizers.l2(l2))\n",
    "    self.bn2_kitchen = tf.keras.layers.BatchNormalization()\n",
    "    self.drop2_kitchen = tf.keras.layers.Dropout(dropout)\n",
    "    #self.dense2_kitchen = tf.keras.layers.Dense(nodes2, activation=tf.nn.relu, kernel_regularizer = keras.regularizers.l2(l2))\n",
    "    self.dense2_kitchen = tf.keras.layers.Dense(nodes2, kernel_regularizer = keras.regularizers.l2(l2))\n",
    "  \n",
    "    # livingroom\n",
    "    self.bn1_living = tf.keras.layers.BatchNormalization()\n",
    "    self.drop1_living = tf.keras.layers.Dropout(dropout)\n",
    "    self.dense1_living = tf.keras.layers.Dense(nodes1, activation=tf.nn.relu, kernel_regularizer = keras.regularizers.l2(l2))\n",
    "    self.bn2_living = tf.keras.layers.BatchNormalization()\n",
    "    self.drop2_living = tf.keras.layers.Dropout(dropout)\n",
    "    #self.dense2_living = tf.keras.layers.Dense(nodes2, activation=tf.nn.relu, kernel_regularizer = keras.regularizers.l2(l2))\n",
    "    self.dense2_living = tf.keras.layers.Dense(nodes2, kernel_regularizer = keras.regularizers.l2(l2))\n",
    "    \n",
    "    # bring all images together\n",
    "    self.bn_img = tf.keras.layers.BatchNormalization()\n",
    "    self.drop_img = tf.keras.layers.Dropout(dropout)\n",
    "    self.dense_img = tf.keras.layers.Dense(1, activation = tf.nn.relu)\n",
    "    \n",
    "    # bring features of TabNet together\n",
    "    self.dense_tabnet = tf.keras.layers.Dense(1, activation = tf.nn.relu)\n",
    "        \n",
    "    # final prediction\n",
    "    self.bn_final = tf.keras.layers.BatchNormalization()\n",
    "    self.drop_final = tf.keras.layers.Dropout(dropout)\n",
    "    self.dense_final = tf.keras.layers.Dense(1, kernel_constraint =weight_constr())\n",
    "    \n",
    "  def call(self, inputs, training = None):\n",
    "    \n",
    "    # bathroom\n",
    "    x = self.bn1_bath(inputs[0])\n",
    "    x = self.drop1_bath(x)\n",
    "    x = self.dense1_bath(x)\n",
    "    x = self.bn2_bath(x)\n",
    "    x = self.drop2_bath(x)\n",
    "    bath_out = self.dense2_bath(x)\n",
    "    \n",
    "    \n",
    "    # bedroom\n",
    "    x = self.bn1_bed(inputs[1])\n",
    "    x = self.drop1_bed(x)\n",
    "    x = self.dense1_bed(x)\n",
    "    x = self.bn2_bed(x)\n",
    "    x = self.drop2_bed(x)\n",
    "    bed_out = self.dense2_bed(x)\n",
    "    \n",
    "    # diningroom\n",
    "    x = self.bn1_dining(inputs[2])\n",
    "    x = self.drop1_dining(x)\n",
    "    x = self.dense1_dining(x)\n",
    "    x = self.bn2_dining(x)\n",
    "    x = self.drop2_dining(x)\n",
    "    dining_out = self.dense2_dining(x)\n",
    "    \n",
    "    # hallroom\n",
    "    x = self.bn1_hall(inputs[3])\n",
    "    x = self.drop1_hall(x)\n",
    "    x = self.dense1_hall(x)\n",
    "    x = self.bn2_hall(x)\n",
    "    x = self.drop2_hall(x)\n",
    "    hall_out = self.dense2_hall(x)\n",
    "    \n",
    "    # kitchen\n",
    "    x = self.bn1_kitchen(inputs[4])\n",
    "    x = self.drop1_kitchen(x)\n",
    "    x = self.dense1_kitchen(x)\n",
    "    x = self.bn2_kitchen(x)\n",
    "    x = self.drop2_kitchen(x)\n",
    "    kitchen_out = self.dense2_kitchen(x)\n",
    "    \n",
    "    # livingroom\n",
    "    x = self.bn1_living(inputs[5])\n",
    "    x = self.drop1_living(x)\n",
    "    x = self.dense1_living(x)\n",
    "    x = self.bn2_living(x)\n",
    "    x = self.drop2_living(x)\n",
    "    living_out = self.dense2_living(x)\n",
    "    \n",
    "    \n",
    "    # tabnet\n",
    "    self.activations = self.tabnet(inputs[6], training=True)\n",
    "    out_tabnet = self.dense_tabnet(self.activations)\n",
    "\n",
    "    # join images\n",
    "    out_img = tf.keras.layers.concatenate([bath_out, bed_out, dining_out, hall_out, kitchen_out, living_out])\n",
    "    out_img = self.bn_img(out_img)\n",
    "    out_img = self.drop_img(out_img)\n",
    "    out_img = self.dense_img(out_img)\n",
    "\n",
    "    # join\n",
    "    out = tf.keras.layers.concatenate([out_img, out_tabnet])\n",
    "    out = self.bn_final(out)\n",
    "    out = self.drop_final(out)\n",
    "    return self.dense_final(out)"
   ]
  },
  {
   "cell_type": "code",
   "execution_count": 21,
   "metadata": {},
   "outputs": [],
   "source": [
    "def R_squared(y, y_pred):\n",
    "  residual = tf.reduce_sum(tf.square(tf.subtract(y, y_pred)))\n",
    "  total = tf.reduce_sum(tf.square(tf.subtract(y, tf.reduce_mean(y))))\n",
    "  r2 = tf.subtract(1.0, tf.math.divide(residual, total))  \n",
    "  return r2"
   ]
  },
  {
   "cell_type": "markdown",
   "metadata": {},
   "source": [
    "## Train Compound from Scratch"
   ]
  },
  {
   "cell_type": "code",
   "execution_count": 22,
   "metadata": {},
   "outputs": [
    {
     "name": "stdout",
     "output_type": "stream",
     "text": [
      "[TabNet]: 5 features will be used for decision steps.\n"
     ]
    },
    {
     "name": "stderr",
     "output_type": "stream",
     "text": [
      "2022-03-01 13:18:25.093681: I tensorflow/compiler/mlir/mlir_graph_optimization_pass.cc:176] None of the MLIR Optimization Passes are enabled (registered 2)\n",
      "2022-03-01 13:18:25.113885: W tensorflow/core/platform/profile_utils/cpu_utils.cc:128] Failed to get CPU frequency: 0 Hz\n"
     ]
    },
    {
     "name": "stdout",
     "output_type": "stream",
     "text": [
      "Epoch 1/300\n"
     ]
    },
    {
     "name": "stderr",
     "output_type": "stream",
     "text": [
      "2022-03-01 13:18:30.070096: I tensorflow/core/grappler/optimizers/custom_graph_optimizer_registry.cc:112] Plugin optimizer for device_type GPU is enabled.\n"
     ]
    },
    {
     "name": "stdout",
     "output_type": "stream",
     "text": [
      "10/10 [==============================] - ETA: 0s - loss: 21.2935 - R_squared: -51.5838 - mae: 4.4726"
     ]
    },
    {
     "name": "stderr",
     "output_type": "stream",
     "text": [
      "2022-03-01 13:18:38.168364: I tensorflow/core/grappler/optimizers/custom_graph_optimizer_registry.cc:112] Plugin optimizer for device_type GPU is enabled.\n"
     ]
    },
    {
     "name": "stdout",
     "output_type": "stream",
     "text": [
      "10/10 [==============================] - 14s 801ms/step - loss: 21.2935 - R_squared: -51.5838 - mae: 4.4726 - val_loss: 12.9193 - val_R_squared: -29.8014 - val_mae: 3.2501\n",
      "Epoch 2/300\n",
      "10/10 [==============================] - 8s 747ms/step - loss: 18.9685 - R_squared: -45.7287 - mae: 4.2737 - val_loss: 6.7390 - val_R_squared: -14.6459 - val_mae: 1.9892\n",
      "Epoch 3/300\n",
      "10/10 [==============================] - 8s 791ms/step - loss: 17.2712 - R_squared: -41.3143 - mae: 4.0909 - val_loss: 6.6346 - val_R_squared: -14.2186 - val_mae: 2.2420\n",
      "Epoch 4/300\n",
      "10/10 [==============================] - 9s 864ms/step - loss: 15.6217 - R_squared: -37.6281 - mae: 3.8933 - val_loss: 8.2679 - val_R_squared: -18.4434 - val_mae: 2.7211\n",
      "Epoch 5/300\n",
      "10/10 [==============================] - 13s 1s/step - loss: 14.0732 - R_squared: -33.6369 - mae: 3.6981 - val_loss: 9.2832 - val_R_squared: -20.8480 - val_mae: 2.9719\n",
      "Epoch 6/300\n",
      "10/10 [==============================] - 15s 1s/step - loss: 12.8947 - R_squared: -30.5978 - mae: 3.5372 - val_loss: 8.4477 - val_R_squared: -18.8701 - val_mae: 2.8370\n",
      "Epoch 7/300\n",
      "10/10 [==============================] - 10s 1s/step - loss: 11.6424 - R_squared: -27.6217 - mae: 3.3545 - val_loss: 7.6961 - val_R_squared: -17.1632 - val_mae: 2.7102\n",
      "Epoch 8/300\n",
      "10/10 [==============================] - 10s 1s/step - loss: 10.5319 - R_squared: -24.8726 - mae: 3.1849 - val_loss: 7.4703 - val_R_squared: -16.6261 - val_mae: 2.6795\n",
      "Epoch 9/300\n",
      "10/10 [==============================] - 11s 1s/step - loss: 9.5257 - R_squared: -22.4028 - mae: 3.0194 - val_loss: 7.2914 - val_R_squared: -16.1956 - val_mae: 2.6508\n",
      "Epoch 10/300\n",
      "10/10 [==============================] - 12s 1s/step - loss: 8.7065 - R_squared: -20.3222 - mae: 2.8771 - val_loss: 6.6604 - val_R_squared: -14.6880 - val_mae: 2.5301\n",
      "Epoch 11/300\n",
      "10/10 [==============================] - 14s 1s/step - loss: 7.8820 - R_squared: -18.3583 - mae: 2.7221 - val_loss: 5.7333 - val_R_squared: -12.4918 - val_mae: 2.3390\n",
      "Epoch 12/300\n",
      "10/10 [==============================] - 13s 1s/step - loss: 7.0979 - R_squared: -16.3767 - mae: 2.5718 - val_loss: 5.3071 - val_R_squared: -11.4788 - val_mae: 2.2487\n",
      "Epoch 13/300\n",
      "10/10 [==============================] - 13s 1s/step - loss: 6.5210 - R_squared: -15.0229 - mae: 2.4462 - val_loss: 4.8458 - val_R_squared: -10.3893 - val_mae: 2.1448\n",
      "Epoch 14/300\n",
      "10/10 [==============================] - 13s 1s/step - loss: 5.8073 - R_squared: -13.2749 - mae: 2.2947 - val_loss: 4.5080 - val_R_squared: -9.5747 - val_mae: 2.0658\n",
      "Epoch 15/300\n",
      "10/10 [==============================] - 12s 1s/step - loss: 5.3910 - R_squared: -12.2415 - mae: 2.1892 - val_loss: 4.0638 - val_R_squared: -8.5291 - val_mae: 1.9550\n",
      "Epoch 16/300\n",
      "10/10 [==============================] - 13s 1s/step - loss: 4.8409 - R_squared: -10.8607 - mae: 2.0545 - val_loss: 3.7525 - val_R_squared: -7.7888 - val_mae: 1.8732\n",
      "Epoch 17/300\n",
      "10/10 [==============================] - 14s 1s/step - loss: 4.3627 - R_squared: -9.7515 - mae: 1.9306 - val_loss: 3.2932 - val_R_squared: -6.7220 - val_mae: 1.7472\n",
      "Epoch 18/300\n",
      "10/10 [==============================] - 11s 1s/step - loss: 4.1173 - R_squared: -9.1284 - mae: 1.8512 - val_loss: 2.9324 - val_R_squared: -5.8709 - val_mae: 1.6420\n",
      "Epoch 19/300\n",
      "10/10 [==============================] - 11s 1s/step - loss: 3.7718 - R_squared: -8.2426 - mae: 1.7448 - val_loss: 2.7134 - val_R_squared: -5.3413 - val_mae: 1.5740\n",
      "Epoch 20/300\n",
      "10/10 [==============================] - 11s 1s/step - loss: 3.5164 - R_squared: -7.7052 - mae: 1.6535 - val_loss: 2.3953 - val_R_squared: -4.6073 - val_mae: 1.4701\n",
      "Epoch 21/300\n",
      "10/10 [==============================] - 13s 1s/step - loss: 3.0963 - R_squared: -6.5770 - mae: 1.5325 - val_loss: 2.1569 - val_R_squared: -4.0317 - val_mae: 1.3872\n",
      "Epoch 22/300\n",
      "10/10 [==============================] - 12s 1s/step - loss: 2.9495 - R_squared: -6.2415 - mae: 1.4644 - val_loss: 1.9642 - val_R_squared: -3.5625 - val_mae: 1.3167\n",
      "Epoch 23/300\n",
      "10/10 [==============================] - 14s 1s/step - loss: 2.7183 - R_squared: -5.6921 - mae: 1.3720 - val_loss: 1.7796 - val_R_squared: -3.1337 - val_mae: 1.2471\n",
      "Epoch 24/300\n",
      "10/10 [==============================] - 13s 1s/step - loss: 2.5505 - R_squared: -5.2707 - mae: 1.2997 - val_loss: 1.6988 - val_R_squared: -2.9297 - val_mae: 1.2138\n",
      "Epoch 25/300\n",
      "10/10 [==============================] - 13s 1s/step - loss: 2.3365 - R_squared: -4.7577 - mae: 1.2212 - val_loss: 1.5508 - val_R_squared: -2.5771 - val_mae: 1.1515\n",
      "Epoch 26/300\n",
      "10/10 [==============================] - 13s 1s/step - loss: 2.2242 - R_squared: -4.4400 - mae: 1.1599 - val_loss: 1.4076 - val_R_squared: -2.2336 - val_mae: 1.0896\n",
      "Epoch 27/300\n",
      "10/10 [==============================] - 13s 1s/step - loss: 2.1105 - R_squared: -4.1704 - mae: 1.1072 - val_loss: 1.3220 - val_R_squared: -2.0299 - val_mae: 1.0506\n",
      "Epoch 28/300\n",
      "10/10 [==============================] - 13s 1s/step - loss: 1.9278 - R_squared: -3.7278 - mae: 1.0198 - val_loss: 1.2334 - val_R_squared: -1.8189 - val_mae: 1.0078\n",
      "Epoch 29/300\n",
      "10/10 [==============================] - 13s 1s/step - loss: 1.8194 - R_squared: -3.4574 - mae: 0.9684 - val_loss: 1.1781 - val_R_squared: -1.6698 - val_mae: 0.9773\n",
      "Epoch 30/300\n",
      "10/10 [==============================] - 12s 1s/step - loss: 1.8784 - R_squared: -3.6259 - mae: 0.9615 - val_loss: 1.0066 - val_R_squared: -1.2894 - val_mae: 0.8944\n",
      "Epoch 31/300\n",
      "10/10 [==============================] - 12s 1s/step - loss: 1.6766 - R_squared: -3.1080 - mae: 0.8883 - val_loss: 0.9674 - val_R_squared: -1.1845 - val_mae: 0.8687\n",
      "Epoch 32/300\n",
      "10/10 [==============================] - 13s 1s/step - loss: 1.7029 - R_squared: -3.2112 - mae: 0.8872 - val_loss: 0.8766 - val_R_squared: -0.9916 - val_mae: 0.8247\n",
      "Epoch 33/300\n",
      "10/10 [==============================] - 12s 1s/step - loss: 1.6250 - R_squared: -3.0124 - mae: 0.8552 - val_loss: 0.8905 - val_R_squared: -0.9939 - val_mae: 0.8251\n",
      "Epoch 34/300\n",
      "10/10 [==============================] - 12s 1s/step - loss: 1.5477 - R_squared: -2.8109 - mae: 0.8019 - val_loss: 0.8342 - val_R_squared: -0.8774 - val_mae: 0.7972\n",
      "Epoch 35/300\n",
      "10/10 [==============================] - 12s 1s/step - loss: 1.5328 - R_squared: -2.7596 - mae: 0.7892 - val_loss: 0.8402 - val_R_squared: -0.8849 - val_mae: 0.7949\n",
      "Epoch 36/300\n",
      "10/10 [==============================] - 12s 1s/step - loss: 1.4961 - R_squared: -2.6738 - mae: 0.7761 - val_loss: 0.7812 - val_R_squared: -0.7484 - val_mae: 0.7612\n",
      "Epoch 37/300\n",
      "10/10 [==============================] - 13s 1s/step - loss: 1.4962 - R_squared: -2.6876 - mae: 0.7663 - val_loss: 0.7324 - val_R_squared: -0.6333 - val_mae: 0.7331\n",
      "Epoch 38/300\n",
      "10/10 [==============================] - 12s 1s/step - loss: 1.3725 - R_squared: -2.3641 - mae: 0.7259 - val_loss: 0.7696 - val_R_squared: -0.7144 - val_mae: 0.7485\n",
      "Epoch 39/300\n",
      "10/10 [==============================] - 13s 1s/step - loss: 1.3939 - R_squared: -2.4457 - mae: 0.7340 - val_loss: 0.6604 - val_R_squared: -0.4670 - val_mae: 0.6888\n",
      "Epoch 40/300\n",
      "10/10 [==============================] - 11s 1s/step - loss: 1.3741 - R_squared: -2.3756 - mae: 0.7268 - val_loss: 0.6585 - val_R_squared: -0.4591 - val_mae: 0.6838\n",
      "Epoch 41/300\n",
      "10/10 [==============================] - 11s 1s/step - loss: 1.3039 - R_squared: -2.1941 - mae: 0.7033 - val_loss: 0.6729 - val_R_squared: -0.4979 - val_mae: 0.6915\n",
      "Epoch 42/300\n",
      "10/10 [==============================] - 11s 1s/step - loss: 1.3283 - R_squared: -2.2638 - mae: 0.7120 - val_loss: 0.6256 - val_R_squared: -0.3859 - val_mae: 0.6616\n",
      "Epoch 43/300\n",
      "10/10 [==============================] - 11s 1s/step - loss: 1.2726 - R_squared: -2.1291 - mae: 0.6902 - val_loss: 0.6070 - val_R_squared: -0.3465 - val_mae: 0.6495\n",
      "Epoch 44/300\n",
      "10/10 [==============================] - 11s 1s/step - loss: 1.2136 - R_squared: -1.9780 - mae: 0.6759 - val_loss: 0.5496 - val_R_squared: -0.2112 - val_mae: 0.6119\n",
      "Epoch 45/300\n",
      "10/10 [==============================] - 11s 1s/step - loss: 1.2031 - R_squared: -1.9693 - mae: 0.6750 - val_loss: 0.5454 - val_R_squared: -0.2074 - val_mae: 0.6101\n",
      "Epoch 46/300\n",
      "10/10 [==============================] - 12s 1s/step - loss: 1.2610 - R_squared: -2.1147 - mae: 0.6989 - val_loss: 0.5487 - val_R_squared: -0.2121 - val_mae: 0.6109\n",
      "Epoch 47/300\n",
      "10/10 [==============================] - 11s 1s/step - loss: 1.1577 - R_squared: -1.8517 - mae: 0.6664 - val_loss: 0.5247 - val_R_squared: -0.1545 - val_mae: 0.5948\n",
      "Epoch 48/300\n",
      "10/10 [==============================] - 11s 1s/step - loss: 1.2232 - R_squared: -1.9924 - mae: 0.6870 - val_loss: 0.5259 - val_R_squared: -0.1596 - val_mae: 0.5951\n",
      "Epoch 49/300\n",
      "10/10 [==============================] - 12s 1s/step - loss: 1.2711 - R_squared: -2.1274 - mae: 0.7091 - val_loss: 0.5205 - val_R_squared: -0.1481 - val_mae: 0.5905\n",
      "Epoch 50/300\n",
      "10/10 [==============================] - 12s 1s/step - loss: 1.2304 - R_squared: -2.0050 - mae: 0.7000 - val_loss: 0.4871 - val_R_squared: -0.0699 - val_mae: 0.5648\n",
      "Epoch 51/300\n",
      "10/10 [==============================] - 14s 1s/step - loss: 1.2085 - R_squared: -1.9599 - mae: 0.6967 - val_loss: 0.4607 - val_R_squared: -0.0089 - val_mae: 0.5457\n",
      "Epoch 52/300\n",
      "10/10 [==============================] - 12s 1s/step - loss: 1.1951 - R_squared: -1.9554 - mae: 0.6976 - val_loss: 0.4420 - val_R_squared: 0.0302 - val_mae: 0.5351\n",
      "Epoch 53/300\n",
      "10/10 [==============================] - 12s 1s/step - loss: 1.1071 - R_squared: -1.7200 - mae: 0.6650 - val_loss: 0.4997 - val_R_squared: -0.0998 - val_mae: 0.5702\n",
      "Epoch 54/300\n",
      "10/10 [==============================] - 12s 1s/step - loss: 1.0831 - R_squared: -1.6552 - mae: 0.6588 - val_loss: 0.4596 - val_R_squared: -0.0073 - val_mae: 0.5427\n",
      "Epoch 55/300\n",
      "10/10 [==============================] - 12s 1s/step - loss: 1.1215 - R_squared: -1.7447 - mae: 0.6724 - val_loss: 0.4173 - val_R_squared: 0.0863 - val_mae: 0.5114\n",
      "Epoch 56/300\n",
      "10/10 [==============================] - 12s 1s/step - loss: 1.0692 - R_squared: -1.6486 - mae: 0.6601 - val_loss: 0.3683 - val_R_squared: 0.1941 - val_mae: 0.4729\n",
      "Epoch 57/300\n",
      "10/10 [==============================] - 12s 1s/step - loss: 1.0832 - R_squared: -1.6836 - mae: 0.6653 - val_loss: 0.4469 - val_R_squared: 0.0160 - val_mae: 0.5323\n",
      "Epoch 58/300\n",
      "10/10 [==============================] - 12s 1s/step - loss: 1.0973 - R_squared: -1.6718 - mae: 0.6693 - val_loss: 0.4222 - val_R_squared: 0.0681 - val_mae: 0.5145\n",
      "Epoch 59/300\n",
      "10/10 [==============================] - 12s 1s/step - loss: 1.1221 - R_squared: -1.7675 - mae: 0.6789 - val_loss: 0.3587 - val_R_squared: 0.2105 - val_mae: 0.4643\n",
      "Epoch 60/300\n",
      "10/10 [==============================] - 12s 1s/step - loss: 1.1622 - R_squared: -1.8463 - mae: 0.6952 - val_loss: 0.3593 - val_R_squared: 0.2071 - val_mae: 0.4664\n",
      "Epoch 61/300\n",
      "10/10 [==============================] - 13s 1s/step - loss: 1.0451 - R_squared: -1.5749 - mae: 0.6636 - val_loss: 0.3596 - val_R_squared: 0.2129 - val_mae: 0.4640\n",
      "Epoch 62/300\n",
      "10/10 [==============================] - 14s 1s/step - loss: 1.0583 - R_squared: -1.6027 - mae: 0.6642 - val_loss: 0.3420 - val_R_squared: 0.2527 - val_mae: 0.4500\n",
      "Epoch 63/300\n",
      "10/10 [==============================] - 12s 1s/step - loss: 1.0238 - R_squared: -1.5122 - mae: 0.6489 - val_loss: 0.2901 - val_R_squared: 0.3624 - val_mae: 0.4061\n",
      "Epoch 64/300\n",
      "10/10 [==============================] - 12s 1s/step - loss: 1.0192 - R_squared: -1.5129 - mae: 0.6525 - val_loss: 0.3221 - val_R_squared: 0.2917 - val_mae: 0.4324\n",
      "Epoch 65/300\n",
      "10/10 [==============================] - 15s 2s/step - loss: 1.0012 - R_squared: -1.4641 - mae: 0.6432 - val_loss: 0.3285 - val_R_squared: 0.2743 - val_mae: 0.4405\n",
      "Epoch 66/300\n",
      "10/10 [==============================] - 18s 2s/step - loss: 1.0830 - R_squared: -1.6718 - mae: 0.6748 - val_loss: 0.3470 - val_R_squared: 0.2401 - val_mae: 0.4531\n",
      "Epoch 67/300\n",
      "10/10 [==============================] - 21s 2s/step - loss: 1.0244 - R_squared: -1.5143 - mae: 0.6587 - val_loss: 0.3653 - val_R_squared: 0.2023 - val_mae: 0.4644\n",
      "Epoch 68/300\n",
      "10/10 [==============================] - 15s 1s/step - loss: 0.9377 - R_squared: -1.3001 - mae: 0.6224 - val_loss: 0.2895 - val_R_squared: 0.3659 - val_mae: 0.4053\n",
      "Epoch 69/300\n",
      "10/10 [==============================] - 16s 2s/step - loss: 0.9885 - R_squared: -1.4515 - mae: 0.6421 - val_loss: 0.3658 - val_R_squared: 0.2030 - val_mae: 0.4652\n",
      "Epoch 70/300\n",
      "10/10 [==============================] - 16s 2s/step - loss: 0.9936 - R_squared: -1.4398 - mae: 0.6483 - val_loss: 0.2835 - val_R_squared: 0.3803 - val_mae: 0.3999\n",
      "Epoch 71/300\n",
      "10/10 [==============================] - 18s 2s/step - loss: 0.9990 - R_squared: -1.4596 - mae: 0.6526 - val_loss: 0.3193 - val_R_squared: 0.2977 - val_mae: 0.4293\n",
      "Epoch 72/300\n",
      "10/10 [==============================] - 19s 2s/step - loss: 0.9457 - R_squared: -1.3192 - mae: 0.6253 - val_loss: 0.2873 - val_R_squared: 0.3711 - val_mae: 0.4027\n",
      "Epoch 73/300\n",
      "10/10 [==============================] - 13s 1s/step - loss: 0.9523 - R_squared: -1.3400 - mae: 0.6327 - val_loss: 0.3456 - val_R_squared: 0.2392 - val_mae: 0.4462\n",
      "Epoch 74/300\n",
      "10/10 [==============================] - 16s 2s/step - loss: 0.9099 - R_squared: -1.2256 - mae: 0.6184 - val_loss: 0.2991 - val_R_squared: 0.3395 - val_mae: 0.4108\n",
      "Epoch 75/300\n",
      "10/10 [==============================] - 15s 1s/step - loss: 0.9762 - R_squared: -1.4121 - mae: 0.6422 - val_loss: 0.2955 - val_R_squared: 0.3539 - val_mae: 0.4045\n",
      "Epoch 76/300\n",
      "10/10 [==============================] - 14s 1s/step - loss: 0.9985 - R_squared: -1.4621 - mae: 0.6535 - val_loss: 0.3509 - val_R_squared: 0.2294 - val_mae: 0.4531\n",
      "Epoch 77/300\n",
      "10/10 [==============================] - 14s 1s/step - loss: 0.9167 - R_squared: -1.2513 - mae: 0.6241 - val_loss: 0.3568 - val_R_squared: 0.2174 - val_mae: 0.4584\n",
      "Epoch 78/300\n",
      "10/10 [==============================] - 13s 1s/step - loss: 0.9151 - R_squared: -1.2483 - mae: 0.6232 - val_loss: 0.3475 - val_R_squared: 0.2382 - val_mae: 0.4479\n",
      "Epoch 79/300\n",
      "10/10 [==============================] - 12s 1s/step - loss: 0.8210 - R_squared: -1.0088 - mae: 0.5832 - val_loss: 0.3324 - val_R_squared: 0.2720 - val_mae: 0.4357\n",
      "Epoch 80/300\n",
      "10/10 [==============================] - 13s 1s/step - loss: 0.8881 - R_squared: -1.1945 - mae: 0.6135 - val_loss: 0.3035 - val_R_squared: 0.3435 - val_mae: 0.4139\n",
      "Epoch 81/300\n",
      "10/10 [==============================] - 12s 1s/step - loss: 0.8570 - R_squared: -1.0944 - mae: 0.5948 - val_loss: 0.3732 - val_R_squared: 0.1804 - val_mae: 0.4680\n",
      "Epoch 82/300\n",
      "10/10 [==============================] - 15s 1s/step - loss: 0.8598 - R_squared: -1.1060 - mae: 0.6022 - val_loss: 0.3283 - val_R_squared: 0.2908 - val_mae: 0.4315\n",
      "Epoch 83/300\n",
      "10/10 [==============================] - 13s 1s/step - loss: 0.8406 - R_squared: -1.0547 - mae: 0.5950 - val_loss: 0.3036 - val_R_squared: 0.3409 - val_mae: 0.4112\n",
      "Epoch 84/300\n",
      "10/10 [==============================] - 20s 2s/step - loss: 0.8656 - R_squared: -1.1232 - mae: 0.5993 - val_loss: 0.3392 - val_R_squared: 0.2617 - val_mae: 0.4456\n",
      "Epoch 85/300\n",
      "10/10 [==============================] - 21s 2s/step - loss: 0.8291 - R_squared: -1.0453 - mae: 0.5893 - val_loss: 0.3627 - val_R_squared: 0.2036 - val_mae: 0.4623\n",
      "Epoch 86/300\n",
      "10/10 [==============================] - 34s 3s/step - loss: 0.8704 - R_squared: -1.1341 - mae: 0.6029 - val_loss: 0.3386 - val_R_squared: 0.2588 - val_mae: 0.4414\n",
      "Epoch 87/300\n",
      "10/10 [==============================] - 61s 5s/step - loss: 0.8073 - R_squared: -0.9791 - mae: 0.5796 - val_loss: 0.3576 - val_R_squared: 0.2044 - val_mae: 0.4525\n",
      "Epoch 88/300\n",
      "10/10 [==============================] - 55s 5s/step - loss: 0.7685 - R_squared: -0.8904 - mae: 0.5609 - val_loss: 0.3150 - val_R_squared: 0.3092 - val_mae: 0.4200\n",
      "Epoch 89/300\n",
      "10/10 [==============================] - 43s 4s/step - loss: 0.7614 - R_squared: -0.8642 - mae: 0.5620 - val_loss: 0.3224 - val_R_squared: 0.2897 - val_mae: 0.4246\n",
      "Epoch 90/300\n",
      "10/10 [==============================] - 29s 2s/step - loss: 0.7816 - R_squared: -0.9177 - mae: 0.5690 - val_loss: 0.3293 - val_R_squared: 0.2697 - val_mae: 0.4331\n",
      "Epoch 91/300\n",
      "10/10 [==============================] - 20s 2s/step - loss: 0.7713 - R_squared: -0.9072 - mae: 0.5629 - val_loss: 0.3560 - val_R_squared: 0.2186 - val_mae: 0.4530\n",
      "Epoch 92/300\n",
      "10/10 [==============================] - 15s 1s/step - loss: 0.7306 - R_squared: -0.7985 - mae: 0.5506 - val_loss: 0.3262 - val_R_squared: 0.2865 - val_mae: 0.4343\n",
      "Epoch 93/300\n",
      "10/10 [==============================] - 14s 1s/step - loss: 0.7443 - R_squared: -0.8198 - mae: 0.5547 - val_loss: 0.4107 - val_R_squared: 0.0898 - val_mae: 0.4945\n",
      "Epoch 94/300\n",
      "10/10 [==============================] - 16s 2s/step - loss: 0.7770 - R_squared: -0.9096 - mae: 0.5680 - val_loss: 0.4025 - val_R_squared: 0.1045 - val_mae: 0.4861\n",
      "Epoch 95/300\n",
      "10/10 [==============================] - 13s 1s/step - loss: 0.7951 - R_squared: -0.9658 - mae: 0.5813 - val_loss: 0.3593 - val_R_squared: 0.2016 - val_mae: 0.4564\n",
      "Epoch 96/300\n",
      "10/10 [==============================] - 12s 1s/step - loss: 0.7087 - R_squared: -0.7524 - mae: 0.5365 - val_loss: 0.3872 - val_R_squared: 0.1366 - val_mae: 0.4727\n",
      "Epoch 97/300\n",
      "10/10 [==============================] - 13s 1s/step - loss: 0.7833 - R_squared: -0.9293 - mae: 0.5754 - val_loss: 0.3686 - val_R_squared: 0.1739 - val_mae: 0.4571\n",
      "Epoch 98/300\n",
      "10/10 [==============================] - 12s 1s/step - loss: 0.7047 - R_squared: -0.7384 - mae: 0.5356 - val_loss: 0.3362 - val_R_squared: 0.2534 - val_mae: 0.4376\n",
      "Epoch 99/300\n",
      "10/10 [==============================] - 14s 1s/step - loss: 0.6817 - R_squared: -0.6813 - mae: 0.5241 - val_loss: 0.3235 - val_R_squared: 0.2890 - val_mae: 0.4297\n",
      "Epoch 100/300\n",
      "10/10 [==============================] - 12s 1s/step - loss: 0.6810 - R_squared: -0.6874 - mae: 0.5268 - val_loss: 0.3485 - val_R_squared: 0.2136 - val_mae: 0.4430\n",
      "Epoch 101/300\n",
      "10/10 [==============================] - 14s 1s/step - loss: 0.6938 - R_squared: -0.7076 - mae: 0.5304 - val_loss: 0.3462 - val_R_squared: 0.2199 - val_mae: 0.4423\n",
      "Epoch 102/300\n",
      "10/10 [==============================] - 12s 1s/step - loss: 0.7182 - R_squared: -0.7715 - mae: 0.5378 - val_loss: 0.3183 - val_R_squared: 0.2933 - val_mae: 0.4255\n",
      "Epoch 103/300\n",
      "10/10 [==============================] - 12s 1s/step - loss: 0.6719 - R_squared: -0.6635 - mae: 0.5183 - val_loss: 0.2859 - val_R_squared: 0.3702 - val_mae: 0.4018\n",
      "Epoch 104/300\n",
      "10/10 [==============================] - 12s 1s/step - loss: 0.6293 - R_squared: -0.5428 - mae: 0.5047 - val_loss: 0.3047 - val_R_squared: 0.3285 - val_mae: 0.4208\n",
      "Epoch 105/300\n",
      "10/10 [==============================] - 11s 1s/step - loss: 0.6753 - R_squared: -0.6518 - mae: 0.5221 - val_loss: 0.3261 - val_R_squared: 0.2664 - val_mae: 0.4320\n",
      "Epoch 106/300\n",
      "10/10 [==============================] - 11s 1s/step - loss: 0.6739 - R_squared: -0.6552 - mae: 0.5203 - val_loss: 0.2914 - val_R_squared: 0.3542 - val_mae: 0.4112\n",
      "Epoch 107/300\n",
      "10/10 [==============================] - 15s 1s/step - loss: 0.6430 - R_squared: -0.5833 - mae: 0.5099 - val_loss: 0.3491 - val_R_squared: 0.2206 - val_mae: 0.4485\n",
      "Epoch 108/300\n",
      "10/10 [==============================] - 11s 1s/step - loss: 0.6489 - R_squared: -0.5873 - mae: 0.5116 - val_loss: 0.3059 - val_R_squared: 0.3222 - val_mae: 0.4144\n",
      "Epoch 109/300\n",
      "10/10 [==============================] - 11s 1s/step - loss: 0.6623 - R_squared: -0.6235 - mae: 0.5166 - val_loss: 0.3439 - val_R_squared: 0.2399 - val_mae: 0.4426\n",
      "Epoch 110/300\n",
      "10/10 [==============================] - 12s 1s/step - loss: 0.6337 - R_squared: -0.5639 - mae: 0.5071 - val_loss: 0.3417 - val_R_squared: 0.2365 - val_mae: 0.4379\n",
      "Epoch 111/300\n",
      "10/10 [==============================] - 27s 3s/step - loss: 0.6148 - R_squared: -0.5037 - mae: 0.4979 - val_loss: 0.3064 - val_R_squared: 0.3198 - val_mae: 0.4193\n",
      "Epoch 112/300\n",
      "10/10 [==============================] - 30s 3s/step - loss: 0.6093 - R_squared: -0.5057 - mae: 0.4988 - val_loss: 0.3292 - val_R_squared: 0.2669 - val_mae: 0.4339\n",
      "Epoch 113/300\n",
      "10/10 [==============================] - 27s 3s/step - loss: 0.6746 - R_squared: -0.6511 - mae: 0.5281 - val_loss: 0.3101 - val_R_squared: 0.3136 - val_mae: 0.4165\n",
      "Epoch 114/300\n",
      "10/10 [==============================] - 42s 4s/step - loss: 0.5950 - R_squared: -0.4599 - mae: 0.4953 - val_loss: 0.3341 - val_R_squared: 0.2566 - val_mae: 0.4354\n",
      "Epoch 115/300\n",
      "10/10 [==============================] - 34s 3s/step - loss: 0.5324 - R_squared: -0.2997 - mae: 0.4577 - val_loss: 0.3327 - val_R_squared: 0.2486 - val_mae: 0.4318\n",
      "Epoch 116/300\n",
      "10/10 [==============================] - 35s 3s/step - loss: 0.6212 - R_squared: -0.5150 - mae: 0.4966 - val_loss: 0.2982 - val_R_squared: 0.3462 - val_mae: 0.4113\n",
      "Epoch 117/300\n",
      "10/10 [==============================] - 25s 2s/step - loss: 0.5706 - R_squared: -0.3995 - mae: 0.4792 - val_loss: 0.3151 - val_R_squared: 0.3012 - val_mae: 0.4217\n",
      "Epoch 118/300\n",
      "10/10 [==============================] - 67s 7s/step - loss: 0.6398 - R_squared: -0.5696 - mae: 0.5030 - val_loss: 0.3513 - val_R_squared: 0.2060 - val_mae: 0.4442\n",
      "Epoch 119/300\n",
      "10/10 [==============================] - 39s 3s/step - loss: 0.5877 - R_squared: -0.4481 - mae: 0.4796 - val_loss: 0.3297 - val_R_squared: 0.2671 - val_mae: 0.4345\n",
      "Epoch 120/300\n",
      "10/10 [==============================] - 33s 3s/step - loss: 0.5951 - R_squared: -0.4683 - mae: 0.4859 - val_loss: 0.3070 - val_R_squared: 0.3143 - val_mae: 0.4188\n",
      "Epoch 121/300\n",
      "10/10 [==============================] - 32s 3s/step - loss: 0.5688 - R_squared: -0.3922 - mae: 0.4755 - val_loss: 0.3094 - val_R_squared: 0.3107 - val_mae: 0.4214\n",
      "Epoch 122/300\n",
      "10/10 [==============================] - 31s 3s/step - loss: 0.5500 - R_squared: -0.3542 - mae: 0.4711 - val_loss: 0.3093 - val_R_squared: 0.3135 - val_mae: 0.4202\n",
      "Epoch 123/300\n",
      "10/10 [==============================] - 38s 4s/step - loss: 0.5398 - R_squared: -0.3290 - mae: 0.4585 - val_loss: 0.3175 - val_R_squared: 0.2851 - val_mae: 0.4243\n",
      "Epoch 124/300\n",
      "10/10 [==============================] - 25s 2s/step - loss: 0.5731 - R_squared: -0.4094 - mae: 0.4784 - val_loss: 0.3269 - val_R_squared: 0.2691 - val_mae: 0.4311\n",
      "Epoch 125/300\n",
      "10/10 [==============================] - 33s 3s/step - loss: 0.5729 - R_squared: -0.4019 - mae: 0.4749 - val_loss: 0.3059 - val_R_squared: 0.3155 - val_mae: 0.4177\n",
      "Epoch 126/300\n",
      "10/10 [==============================] - 32s 3s/step - loss: 0.5142 - R_squared: -0.2687 - mae: 0.4574 - val_loss: 0.3379 - val_R_squared: 0.2473 - val_mae: 0.4375\n",
      "Epoch 127/300\n",
      "10/10 [==============================] - 20s 2s/step - loss: 0.5115 - R_squared: -0.2518 - mae: 0.4475 - val_loss: 0.3574 - val_R_squared: 0.1888 - val_mae: 0.4514\n",
      "Epoch 128/300\n",
      "10/10 [==============================] - 13s 1s/step - loss: 0.5300 - R_squared: -0.3004 - mae: 0.4598 - val_loss: 0.3367 - val_R_squared: 0.2505 - val_mae: 0.4379\n",
      "Epoch 129/300\n",
      "10/10 [==============================] - 13s 1s/step - loss: 0.5085 - R_squared: -0.2418 - mae: 0.4453 - val_loss: 0.3252 - val_R_squared: 0.2745 - val_mae: 0.4304\n",
      "Epoch 130/300\n",
      "10/10 [==============================] - 12s 1s/step - loss: 0.5056 - R_squared: -0.2472 - mae: 0.4467 - val_loss: 0.3248 - val_R_squared: 0.2759 - val_mae: 0.4325\n",
      "Epoch 131/300\n",
      "10/10 [==============================] - 11s 1s/step - loss: 0.5213 - R_squared: -0.2846 - mae: 0.4496 - val_loss: 0.3347 - val_R_squared: 0.2508 - val_mae: 0.4380\n",
      "Epoch 132/300\n",
      "10/10 [==============================] - 11s 1s/step - loss: 0.4901 - R_squared: -0.1977 - mae: 0.4371 - val_loss: 0.3371 - val_R_squared: 0.2404 - val_mae: 0.4395\n",
      "Epoch 133/300\n",
      "10/10 [==============================] - 11s 1s/step - loss: 0.4843 - R_squared: -0.1899 - mae: 0.4306 - val_loss: 0.3579 - val_R_squared: 0.1927 - val_mae: 0.4494\n",
      "Epoch 134/300\n",
      "10/10 [==============================] - 11s 1s/step - loss: 0.4930 - R_squared: -0.2063 - mae: 0.4393 - val_loss: 0.3479 - val_R_squared: 0.2171 - val_mae: 0.4449\n",
      "Epoch 135/300\n",
      "10/10 [==============================] - 11s 1s/step - loss: 0.4543 - R_squared: -0.1217 - mae: 0.4201 - val_loss: 0.3415 - val_R_squared: 0.2279 - val_mae: 0.4415\n",
      "Epoch 136/300\n",
      "10/10 [==============================] - 11s 1s/step - loss: 0.5119 - R_squared: -0.2590 - mae: 0.4455 - val_loss: 0.3452 - val_R_squared: 0.2280 - val_mae: 0.4456\n",
      "Epoch 137/300\n",
      "10/10 [==============================] - 11s 1s/step - loss: 0.4999 - R_squared: -0.2231 - mae: 0.4433 - val_loss: 0.3463 - val_R_squared: 0.2167 - val_mae: 0.4446\n",
      "Epoch 138/300\n",
      "10/10 [==============================] - 11s 1s/step - loss: 0.4523 - R_squared: -0.1048 - mae: 0.4201 - val_loss: 0.3590 - val_R_squared: 0.1835 - val_mae: 0.4528\n",
      "Epoch 139/300\n",
      "10/10 [==============================] - 11s 1s/step - loss: 0.4744 - R_squared: -0.1604 - mae: 0.4300 - val_loss: 0.3430 - val_R_squared: 0.2223 - val_mae: 0.4419\n",
      "Epoch 140/300\n",
      "10/10 [==============================] - 11s 1s/step - loss: 0.4540 - R_squared: -0.1107 - mae: 0.4186 - val_loss: 0.3364 - val_R_squared: 0.2361 - val_mae: 0.4389\n",
      "Epoch 141/300\n",
      "10/10 [==============================] - 11s 1s/step - loss: 0.4566 - R_squared: -0.1166 - mae: 0.4200 - val_loss: 0.3217 - val_R_squared: 0.2756 - val_mae: 0.4305\n",
      "Epoch 142/300\n",
      "10/10 [==============================] - 11s 1s/step - loss: 0.4743 - R_squared: -0.1606 - mae: 0.4323 - val_loss: 0.3138 - val_R_squared: 0.2965 - val_mae: 0.4242\n",
      "Epoch 143/300\n",
      "10/10 [==============================] - 11s 1s/step - loss: 0.4343 - R_squared: -0.0649 - mae: 0.4112 - val_loss: 0.3037 - val_R_squared: 0.3198 - val_mae: 0.4201\n",
      "Epoch 144/300\n",
      "10/10 [==============================] - 11s 1s/step - loss: 0.4665 - R_squared: -0.1482 - mae: 0.4315 - val_loss: 0.3266 - val_R_squared: 0.2653 - val_mae: 0.4362\n",
      "Epoch 145/300\n",
      "10/10 [==============================] - 13s 1s/step - loss: 0.4630 - R_squared: -0.1436 - mae: 0.4271 - val_loss: 0.3321 - val_R_squared: 0.2528 - val_mae: 0.4395\n",
      "Epoch 146/300\n",
      "10/10 [==============================] - 12s 1s/step - loss: 0.4471 - R_squared: -0.0958 - mae: 0.4190 - val_loss: 0.3176 - val_R_squared: 0.2870 - val_mae: 0.4272\n",
      "Epoch 147/300\n",
      "10/10 [==============================] - 11s 1s/step - loss: 0.4570 - R_squared: -0.1261 - mae: 0.4247 - val_loss: 0.3231 - val_R_squared: 0.2758 - val_mae: 0.4334\n",
      "Epoch 148/300\n",
      "10/10 [==============================] - 11s 1s/step - loss: 0.4305 - R_squared: -0.0579 - mae: 0.4087 - val_loss: 0.3336 - val_R_squared: 0.2428 - val_mae: 0.4400\n",
      "Epoch 149/300\n",
      "10/10 [==============================] - 12s 1s/step - loss: 0.4397 - R_squared: -0.0817 - mae: 0.4128 - val_loss: 0.3355 - val_R_squared: 0.2399 - val_mae: 0.4397\n",
      "Epoch 150/300\n",
      "10/10 [==============================] - 11s 1s/step - loss: 0.4182 - R_squared: -0.0234 - mae: 0.4003 - val_loss: 0.3529 - val_R_squared: 0.2064 - val_mae: 0.4520\n",
      "Epoch 151/300\n",
      "10/10 [==============================] - 11s 1s/step - loss: 0.4469 - R_squared: -0.0931 - mae: 0.4171 - val_loss: 0.3376 - val_R_squared: 0.2339 - val_mae: 0.4421\n",
      "Epoch 152/300\n",
      "10/10 [==============================] - 10s 1s/step - loss: 0.4048 - R_squared: 0.0055 - mae: 0.3905 - val_loss: 0.3440 - val_R_squared: 0.2202 - val_mae: 0.4443\n",
      "Epoch 153/300\n",
      "10/10 [==============================] - 11s 1s/step - loss: 0.4171 - R_squared: -0.0215 - mae: 0.4011 - val_loss: 0.3388 - val_R_squared: 0.2344 - val_mae: 0.4423\n",
      "Epoch 154/300\n",
      "10/10 [==============================] - 11s 1s/step - loss: 0.4146 - R_squared: -0.0133 - mae: 0.3994 - val_loss: 0.3477 - val_R_squared: 0.2115 - val_mae: 0.4482\n",
      "Epoch 155/300\n",
      "10/10 [==============================] - 10s 1s/step - loss: 0.4113 - R_squared: -0.0097 - mae: 0.3988 - val_loss: 0.3390 - val_R_squared: 0.2328 - val_mae: 0.4413\n",
      "Epoch 156/300\n",
      "10/10 [==============================] - 10s 1s/step - loss: 0.4053 - R_squared: 0.0026 - mae: 0.3981 - val_loss: 0.3308 - val_R_squared: 0.2541 - val_mae: 0.4365\n",
      "Epoch 157/300\n",
      "10/10 [==============================] - 11s 1s/step - loss: 0.3965 - R_squared: 0.0295 - mae: 0.3921 - val_loss: 0.3247 - val_R_squared: 0.2672 - val_mae: 0.4314\n",
      "Epoch 158/300\n",
      "10/10 [==============================] - 10s 1s/step - loss: 0.4130 - R_squared: -0.0149 - mae: 0.3988 - val_loss: 0.3366 - val_R_squared: 0.2417 - val_mae: 0.4413\n",
      "Epoch 159/300\n",
      "10/10 [==============================] - 10s 1s/step - loss: 0.3759 - R_squared: 0.0785 - mae: 0.3780 - val_loss: 0.3430 - val_R_squared: 0.2177 - val_mae: 0.4434\n",
      "Epoch 160/300\n",
      "10/10 [==============================] - 10s 1s/step - loss: 0.3813 - R_squared: 0.0735 - mae: 0.3814 - val_loss: 0.3333 - val_R_squared: 0.2468 - val_mae: 0.4367\n",
      "Epoch 161/300\n",
      "10/10 [==============================] - 11s 1s/step - loss: 0.4209 - R_squared: -0.0320 - mae: 0.4048 - val_loss: 0.3569 - val_R_squared: 0.1916 - val_mae: 0.4562\n",
      "Epoch 162/300\n",
      "10/10 [==============================] - 11s 1s/step - loss: 0.3848 - R_squared: 0.0559 - mae: 0.3846 - val_loss: 0.3371 - val_R_squared: 0.2358 - val_mae: 0.4411\n",
      "Epoch 163/300\n",
      "10/10 [==============================] - 10s 1s/step - loss: 0.3858 - R_squared: 0.0620 - mae: 0.3858 - val_loss: 0.3455 - val_R_squared: 0.2181 - val_mae: 0.4449\n",
      "Epoch 164/300\n",
      "10/10 [==============================] - 12s 1s/step - loss: 0.3648 - R_squared: 0.0974 - mae: 0.3722 - val_loss: 0.3677 - val_R_squared: 0.1622 - val_mae: 0.4611\n",
      "Epoch 165/300\n",
      "10/10 [==============================] - 10s 1s/step - loss: 0.3737 - R_squared: 0.0812 - mae: 0.3793 - val_loss: 0.3356 - val_R_squared: 0.2419 - val_mae: 0.4381\n",
      "Epoch 166/300\n",
      "10/10 [==============================] - 10s 1s/step - loss: 0.3964 - R_squared: 0.0305 - mae: 0.3903 - val_loss: 0.3373 - val_R_squared: 0.2360 - val_mae: 0.4394\n",
      "Epoch 167/300\n",
      "10/10 [==============================] - 10s 1s/step - loss: 0.3574 - R_squared: 0.1211 - mae: 0.3702 - val_loss: 0.3229 - val_R_squared: 0.2660 - val_mae: 0.4332\n",
      "Epoch 168/300\n",
      "10/10 [==============================] - 11s 1s/step - loss: 0.3393 - R_squared: 0.1658 - mae: 0.3605 - val_loss: 0.3448 - val_R_squared: 0.2162 - val_mae: 0.4468\n",
      "Epoch 169/300\n",
      "10/10 [==============================] - 11s 1s/step - loss: 0.3438 - R_squared: 0.1488 - mae: 0.3628 - val_loss: 0.3294 - val_R_squared: 0.2449 - val_mae: 0.4376\n",
      "Epoch 170/300\n",
      "10/10 [==============================] - 11s 1s/step - loss: 0.3524 - R_squared: 0.1358 - mae: 0.3664 - val_loss: 0.3355 - val_R_squared: 0.2325 - val_mae: 0.4424\n",
      "Epoch 171/300\n",
      "10/10 [==============================] - 11s 1s/step - loss: 0.3612 - R_squared: 0.1121 - mae: 0.3709 - val_loss: 0.3412 - val_R_squared: 0.2281 - val_mae: 0.4444\n",
      "Epoch 172/300\n",
      "10/10 [==============================] - 11s 1s/step - loss: 0.3500 - R_squared: 0.1435 - mae: 0.3639 - val_loss: 0.3243 - val_R_squared: 0.2641 - val_mae: 0.4370\n",
      "Epoch 173/300\n",
      "10/10 [==============================] - 10s 1s/step - loss: 0.3608 - R_squared: 0.1192 - mae: 0.3692 - val_loss: 0.3374 - val_R_squared: 0.2307 - val_mae: 0.4439\n",
      "Epoch 174/300\n",
      "10/10 [==============================] - 10s 998ms/step - loss: 0.3366 - R_squared: 0.1748 - mae: 0.3503 - val_loss: 0.3489 - val_R_squared: 0.2045 - val_mae: 0.4549\n",
      "Epoch 175/300\n",
      "10/10 [==============================] - 10s 1s/step - loss: 0.3406 - R_squared: 0.1635 - mae: 0.3570 - val_loss: 0.3609 - val_R_squared: 0.1808 - val_mae: 0.4602\n",
      "Epoch 176/300\n",
      "10/10 [==============================] - 10s 1s/step - loss: 0.3420 - R_squared: 0.1605 - mae: 0.3614 - val_loss: 0.3690 - val_R_squared: 0.1580 - val_mae: 0.4671\n",
      "Epoch 177/300\n",
      "10/10 [==============================] - 10s 1s/step - loss: 0.3593 - R_squared: 0.1173 - mae: 0.3698 - val_loss: 0.3649 - val_R_squared: 0.1674 - val_mae: 0.4622\n",
      "Epoch 178/300\n",
      "10/10 [==============================] - 10s 1s/step - loss: 0.3333 - R_squared: 0.1804 - mae: 0.3524 - val_loss: 0.3548 - val_R_squared: 0.1879 - val_mae: 0.4565\n",
      "Epoch 179/300\n",
      "10/10 [==============================] - 10s 1s/step - loss: 0.3405 - R_squared: 0.1699 - mae: 0.3536 - val_loss: 0.3373 - val_R_squared: 0.2312 - val_mae: 0.4474\n",
      "Epoch 180/300\n",
      "10/10 [==============================] - 10s 1s/step - loss: 0.3139 - R_squared: 0.2301 - mae: 0.3452 - val_loss: 0.3443 - val_R_squared: 0.2181 - val_mae: 0.4492\n",
      "Epoch 181/300\n",
      "10/10 [==============================] - 11s 1s/step - loss: 0.3280 - R_squared: 0.1951 - mae: 0.3522 - val_loss: 0.3545 - val_R_squared: 0.1909 - val_mae: 0.4583\n",
      "Epoch 182/300\n",
      "10/10 [==============================] - 10s 1s/step - loss: 0.3176 - R_squared: 0.2205 - mae: 0.3422 - val_loss: 0.3503 - val_R_squared: 0.2045 - val_mae: 0.4546\n",
      "Epoch 183/300\n",
      "10/10 [==============================] - 10s 1s/step - loss: 0.3466 - R_squared: 0.1548 - mae: 0.3582 - val_loss: 0.3460 - val_R_squared: 0.2122 - val_mae: 0.4514\n",
      "Epoch 184/300\n",
      "10/10 [==============================] - 10s 979ms/step - loss: 0.3160 - R_squared: 0.2244 - mae: 0.3469 - val_loss: 0.3601 - val_R_squared: 0.1738 - val_mae: 0.4619\n",
      "Epoch 185/300\n",
      "10/10 [==============================] - 10s 1s/step - loss: 0.3181 - R_squared: 0.2181 - mae: 0.3416 - val_loss: 0.3514 - val_R_squared: 0.2011 - val_mae: 0.4540\n",
      "Epoch 186/300\n",
      "10/10 [==============================] - 10s 1s/step - loss: 0.3267 - R_squared: 0.2019 - mae: 0.3523 - val_loss: 0.3438 - val_R_squared: 0.2184 - val_mae: 0.4506\n",
      "Epoch 187/300\n",
      "10/10 [==============================] - 10s 1s/step - loss: 0.3197 - R_squared: 0.2185 - mae: 0.3475 - val_loss: 0.3355 - val_R_squared: 0.2360 - val_mae: 0.4438\n",
      "Epoch 188/300\n",
      "10/10 [==============================] - 10s 993ms/step - loss: 0.3152 - R_squared: 0.2223 - mae: 0.3439 - val_loss: 0.3313 - val_R_squared: 0.2421 - val_mae: 0.4430\n",
      "Epoch 189/300\n",
      "10/10 [==============================] - 10s 1s/step - loss: 0.3042 - R_squared: 0.2472 - mae: 0.3395 - val_loss: 0.3438 - val_R_squared: 0.2144 - val_mae: 0.4523\n",
      "Epoch 190/300\n",
      "10/10 [==============================] - 10s 1s/step - loss: 0.3152 - R_squared: 0.2268 - mae: 0.3480 - val_loss: 0.3474 - val_R_squared: 0.2117 - val_mae: 0.4596\n",
      "Epoch 191/300\n",
      "10/10 [==============================] - 10s 1s/step - loss: 0.3176 - R_squared: 0.2192 - mae: 0.3510 - val_loss: 0.3314 - val_R_squared: 0.2501 - val_mae: 0.4469\n",
      "Epoch 192/300\n",
      "10/10 [==============================] - 10s 992ms/step - loss: 0.3003 - R_squared: 0.2636 - mae: 0.3384 - val_loss: 0.3336 - val_R_squared: 0.2431 - val_mae: 0.4505\n",
      "Epoch 193/300\n",
      "10/10 [==============================] - 11s 1s/step - loss: 0.2896 - R_squared: 0.2879 - mae: 0.3386 - val_loss: 0.3380 - val_R_squared: 0.2208 - val_mae: 0.4544\n",
      "Epoch 194/300\n",
      "10/10 [==============================] - 10s 1s/step - loss: 0.3014 - R_squared: 0.2639 - mae: 0.3372 - val_loss: 0.3436 - val_R_squared: 0.2106 - val_mae: 0.4612\n",
      "Epoch 195/300\n",
      "10/10 [==============================] - 12s 1s/step - loss: 0.2815 - R_squared: 0.3085 - mae: 0.3259 - val_loss: 0.3480 - val_R_squared: 0.2016 - val_mae: 0.4611\n",
      "Epoch 196/300\n",
      "10/10 [==============================] - 11s 1s/step - loss: 0.2875 - R_squared: 0.2933 - mae: 0.3309 - val_loss: 0.3588 - val_R_squared: 0.1761 - val_mae: 0.4671\n",
      "Epoch 197/300\n",
      "10/10 [==============================] - 11s 1s/step - loss: 0.2743 - R_squared: 0.3256 - mae: 0.3191 - val_loss: 0.3294 - val_R_squared: 0.2388 - val_mae: 0.4460\n",
      "Epoch 198/300\n",
      "10/10 [==============================] - 12s 1s/step - loss: 0.2724 - R_squared: 0.3331 - mae: 0.3235 - val_loss: 0.3573 - val_R_squared: 0.1792 - val_mae: 0.4641\n",
      "Epoch 199/300\n",
      "10/10 [==============================] - 10s 984ms/step - loss: 0.2845 - R_squared: 0.3034 - mae: 0.3273 - val_loss: 0.3476 - val_R_squared: 0.1981 - val_mae: 0.4609\n",
      "Epoch 200/300\n",
      "10/10 [==============================] - 11s 1s/step - loss: 0.2875 - R_squared: 0.2966 - mae: 0.3255 - val_loss: 0.3622 - val_R_squared: 0.1759 - val_mae: 0.4657\n",
      "Epoch 201/300\n",
      "10/10 [==============================] - 10s 1s/step - loss: 0.2888 - R_squared: 0.2976 - mae: 0.3293 - val_loss: 0.3495 - val_R_squared: 0.1916 - val_mae: 0.4597\n",
      "Epoch 202/300\n",
      "10/10 [==============================] - 11s 1s/step - loss: 0.2613 - R_squared: 0.3626 - mae: 0.3099 - val_loss: 0.3469 - val_R_squared: 0.2101 - val_mae: 0.4568\n",
      "Epoch 203/300\n",
      "10/10 [==============================] - 11s 1s/step - loss: 0.2703 - R_squared: 0.3351 - mae: 0.3102 - val_loss: 0.3546 - val_R_squared: 0.1819 - val_mae: 0.4617\n",
      "Epoch 204/300\n",
      "10/10 [==============================] - 11s 1s/step - loss: 0.3011 - R_squared: 0.2597 - mae: 0.3315 - val_loss: 0.3348 - val_R_squared: 0.2421 - val_mae: 0.4486\n",
      "Epoch 205/300\n",
      "10/10 [==============================] - 11s 1s/step - loss: 0.2737 - R_squared: 0.3287 - mae: 0.3196 - val_loss: 0.3430 - val_R_squared: 0.2104 - val_mae: 0.4521\n",
      "Epoch 206/300\n",
      "10/10 [==============================] - 11s 1s/step - loss: 0.2359 - R_squared: 0.4179 - mae: 0.2952 - val_loss: 0.3453 - val_R_squared: 0.2129 - val_mae: 0.4537\n",
      "Epoch 207/300\n",
      "10/10 [==============================] - 15s 2s/step - loss: 0.2740 - R_squared: 0.3308 - mae: 0.3186 - val_loss: 0.3443 - val_R_squared: 0.2106 - val_mae: 0.4568\n",
      "Epoch 208/300\n",
      "10/10 [==============================] - 12s 1s/step - loss: 0.2884 - R_squared: 0.2859 - mae: 0.3261 - val_loss: 0.3339 - val_R_squared: 0.2397 - val_mae: 0.4487\n",
      "Epoch 209/300\n",
      "10/10 [==============================] - 11s 1s/step - loss: 0.2685 - R_squared: 0.3457 - mae: 0.3118 - val_loss: 0.3403 - val_R_squared: 0.2183 - val_mae: 0.4519\n",
      "Epoch 210/300\n",
      "10/10 [==============================] - 12s 1s/step - loss: 0.2582 - R_squared: 0.3667 - mae: 0.3088 - val_loss: 0.3539 - val_R_squared: 0.1812 - val_mae: 0.4612\n",
      "Epoch 211/300\n",
      "10/10 [==============================] - 11s 1s/step - loss: 0.2653 - R_squared: 0.3506 - mae: 0.3084 - val_loss: 0.3405 - val_R_squared: 0.2182 - val_mae: 0.4532\n",
      "Epoch 212/300\n",
      "10/10 [==============================] - 12s 1s/step - loss: 0.2537 - R_squared: 0.3802 - mae: 0.3028 - val_loss: 0.3545 - val_R_squared: 0.1858 - val_mae: 0.4621\n",
      "Epoch 213/300\n",
      "10/10 [==============================] - 16s 2s/step - loss: 0.2647 - R_squared: 0.3528 - mae: 0.3129 - val_loss: 0.3555 - val_R_squared: 0.1846 - val_mae: 0.4614\n",
      "Epoch 214/300\n",
      "10/10 [==============================] - 13s 1s/step - loss: 0.2720 - R_squared: 0.3307 - mae: 0.3120 - val_loss: 0.3447 - val_R_squared: 0.2174 - val_mae: 0.4539\n",
      "Epoch 215/300\n",
      "10/10 [==============================] - 12s 1s/step - loss: 0.2558 - R_squared: 0.3717 - mae: 0.3074 - val_loss: 0.3438 - val_R_squared: 0.2158 - val_mae: 0.4538\n",
      "Epoch 216/300\n",
      "10/10 [==============================] - 12s 1s/step - loss: 0.2559 - R_squared: 0.3754 - mae: 0.3016 - val_loss: 0.3330 - val_R_squared: 0.2431 - val_mae: 0.4479\n",
      "Epoch 217/300\n",
      "10/10 [==============================] - 12s 1s/step - loss: 0.2475 - R_squared: 0.3931 - mae: 0.2943 - val_loss: 0.3441 - val_R_squared: 0.2195 - val_mae: 0.4511\n",
      "Epoch 218/300\n",
      "10/10 [==============================] - 13s 1s/step - loss: 0.2455 - R_squared: 0.4007 - mae: 0.2986 - val_loss: 0.3480 - val_R_squared: 0.2064 - val_mae: 0.4530\n",
      "Epoch 219/300\n",
      "10/10 [==============================] - 14s 1s/step - loss: 0.2461 - R_squared: 0.4014 - mae: 0.2937 - val_loss: 0.3537 - val_R_squared: 0.1924 - val_mae: 0.4600\n",
      "Epoch 220/300\n",
      "10/10 [==============================] - 12s 1s/step - loss: 0.2671 - R_squared: 0.3453 - mae: 0.3123 - val_loss: 0.3543 - val_R_squared: 0.1946 - val_mae: 0.4580\n",
      "Epoch 221/300\n",
      "10/10 [==============================] - 12s 1s/step - loss: 0.2418 - R_squared: 0.4084 - mae: 0.2972 - val_loss: 0.3639 - val_R_squared: 0.1615 - val_mae: 0.4643\n",
      "Epoch 222/300\n",
      "10/10 [==============================] - 11s 1s/step - loss: 0.2438 - R_squared: 0.4015 - mae: 0.2956 - val_loss: 0.3583 - val_R_squared: 0.1781 - val_mae: 0.4618\n",
      "Epoch 223/300\n",
      "10/10 [==============================] - 12s 1s/step - loss: 0.2593 - R_squared: 0.3630 - mae: 0.3095 - val_loss: 0.3739 - val_R_squared: 0.1418 - val_mae: 0.4707\n",
      "Epoch 224/300\n",
      "10/10 [==============================] - 13s 1s/step - loss: 0.2430 - R_squared: 0.4042 - mae: 0.2949 - val_loss: 0.3488 - val_R_squared: 0.2032 - val_mae: 0.4568\n",
      "Epoch 225/300\n",
      "10/10 [==============================] - 12s 1s/step - loss: 0.2345 - R_squared: 0.4250 - mae: 0.2849 - val_loss: 0.3518 - val_R_squared: 0.1951 - val_mae: 0.4571\n",
      "Epoch 226/300\n",
      "10/10 [==============================] - 13s 1s/step - loss: 0.2328 - R_squared: 0.4283 - mae: 0.2890 - val_loss: 0.3584 - val_R_squared: 0.1755 - val_mae: 0.4615\n",
      "Epoch 227/300\n",
      "10/10 [==============================] - 12s 1s/step - loss: 0.2573 - R_squared: 0.3669 - mae: 0.3077 - val_loss: 0.3734 - val_R_squared: 0.1381 - val_mae: 0.4720\n",
      "Epoch 228/300\n",
      "10/10 [==============================] - 11s 1s/step - loss: 0.2359 - R_squared: 0.4208 - mae: 0.2943 - val_loss: 0.3632 - val_R_squared: 0.1636 - val_mae: 0.4672\n",
      "Epoch 229/300\n",
      "10/10 [==============================] - 11s 1s/step - loss: 0.2423 - R_squared: 0.4050 - mae: 0.2937 - val_loss: 0.3426 - val_R_squared: 0.2196 - val_mae: 0.4523\n",
      "Epoch 230/300\n",
      "10/10 [==============================] - 12s 1s/step - loss: 0.2310 - R_squared: 0.4369 - mae: 0.2887 - val_loss: 0.3496 - val_R_squared: 0.1984 - val_mae: 0.4564\n",
      "Epoch 231/300\n",
      "10/10 [==============================] - 12s 1s/step - loss: 0.2352 - R_squared: 0.4233 - mae: 0.2857 - val_loss: 0.3501 - val_R_squared: 0.2016 - val_mae: 0.4579\n",
      "Epoch 232/300\n",
      "10/10 [==============================] - 11s 1s/step - loss: 0.2289 - R_squared: 0.4386 - mae: 0.2858 - val_loss: 0.3473 - val_R_squared: 0.2070 - val_mae: 0.4541\n",
      "Epoch 233/300\n",
      "10/10 [==============================] - 11s 1s/step - loss: 0.2230 - R_squared: 0.4546 - mae: 0.2797 - val_loss: 0.3643 - val_R_squared: 0.1608 - val_mae: 0.4657\n",
      "Epoch 234/300\n",
      "10/10 [==============================] - 11s 1s/step - loss: 0.2402 - R_squared: 0.4116 - mae: 0.2893 - val_loss: 0.3683 - val_R_squared: 0.1495 - val_mae: 0.4685\n",
      "Epoch 235/300\n",
      "10/10 [==============================] - 13s 1s/step - loss: 0.2178 - R_squared: 0.4609 - mae: 0.2824 - val_loss: 0.3511 - val_R_squared: 0.1932 - val_mae: 0.4585\n",
      "Epoch 236/300\n",
      "10/10 [==============================] - 11s 1s/step - loss: 0.2275 - R_squared: 0.4449 - mae: 0.2837 - val_loss: 0.3454 - val_R_squared: 0.2156 - val_mae: 0.4551\n",
      "Epoch 237/300\n",
      "10/10 [==============================] - 12s 1s/step - loss: 0.2275 - R_squared: 0.4448 - mae: 0.2768 - val_loss: 0.3475 - val_R_squared: 0.2013 - val_mae: 0.4573\n",
      "Epoch 238/300\n",
      "10/10 [==============================] - 11s 1s/step - loss: 0.2246 - R_squared: 0.4484 - mae: 0.2859 - val_loss: 0.3474 - val_R_squared: 0.2094 - val_mae: 0.4575\n",
      "Epoch 239/300\n",
      "10/10 [==============================] - 11s 1s/step - loss: 0.2288 - R_squared: 0.4419 - mae: 0.2849 - val_loss: 0.3504 - val_R_squared: 0.1968 - val_mae: 0.4583\n",
      "Epoch 240/300\n",
      "10/10 [==============================] - 13s 1s/step - loss: 0.2272 - R_squared: 0.4448 - mae: 0.2835 - val_loss: 0.3660 - val_R_squared: 0.1590 - val_mae: 0.4685\n",
      "Epoch 241/300\n",
      "10/10 [==============================] - 11s 1s/step - loss: 0.2249 - R_squared: 0.4463 - mae: 0.2831 - val_loss: 0.3756 - val_R_squared: 0.1315 - val_mae: 0.4779\n",
      "Epoch 242/300\n",
      " 8/10 [=======================>......] - ETA: 1s - loss: 0.2210 - R_squared: 0.4522 - mae: 0.2858"
     ]
    },
    {
     "ename": "KeyboardInterrupt",
     "evalue": "",
     "output_type": "error",
     "traceback": [
      "\u001b[0;31m---------------------------------------------------------------------------\u001b[0m",
      "\u001b[0;31mKeyboardInterrupt\u001b[0m                         Traceback (most recent call last)",
      "\u001b[1;32m/Users/dmnk/OneDrive - stud.uni-goettingen.de/Dokumente/3. Semester/SeminarDL/DubAir/CompoundModel.ipynb Cell 28'\u001b[0m in \u001b[0;36m<module>\u001b[0;34m\u001b[0m\n\u001b[1;32m     <a href='vscode-notebook-cell:/Users/dmnk/OneDrive%20-%20stud.uni-goettingen.de/Dokumente/3.%20Semester/SeminarDL/DubAir/CompoundModel.ipynb#ch0000029?line=9'>10</a>\u001b[0m optimizer \u001b[39m=\u001b[39m tf\u001b[39m.\u001b[39mkeras\u001b[39m.\u001b[39moptimizers\u001b[39m.\u001b[39mAdam(lr)\n\u001b[1;32m     <a href='vscode-notebook-cell:/Users/dmnk/OneDrive%20-%20stud.uni-goettingen.de/Dokumente/3.%20Semester/SeminarDL/DubAir/CompoundModel.ipynb#ch0000029?line=10'>11</a>\u001b[0m model\u001b[39m.\u001b[39mcompile(optimizer, loss\u001b[39m=\u001b[39m\u001b[39m'\u001b[39m\u001b[39mmse\u001b[39m\u001b[39m'\u001b[39m , metrics\u001b[39m=\u001b[39m[R_squared,\u001b[39m\"\u001b[39m\u001b[39mmae\u001b[39m\u001b[39m\"\u001b[39m])\n\u001b[0;32m---> <a href='vscode-notebook-cell:/Users/dmnk/OneDrive%20-%20stud.uni-goettingen.de/Dokumente/3.%20Semester/SeminarDL/DubAir/CompoundModel.ipynb#ch0000029?line=12'>13</a>\u001b[0m model\u001b[39m.\u001b[39;49mfit(train_dataset, validation_data \u001b[39m=\u001b[39;49m val_dataset, epochs\u001b[39m=\u001b[39;49m\u001b[39m300\u001b[39;49m, verbose\u001b[39m=\u001b[39;49m\u001b[39m1\u001b[39;49m)\n",
      "File \u001b[0;32m/opt/homebrew/Caskroom/miniforge/base/envs/tabnet_tf/lib/python3.9/site-packages/tensorflow/python/keras/engine/training.py:1183\u001b[0m, in \u001b[0;36mModel.fit\u001b[0;34m(self, x, y, batch_size, epochs, verbose, callbacks, validation_split, validation_data, shuffle, class_weight, sample_weight, initial_epoch, steps_per_epoch, validation_steps, validation_batch_size, validation_freq, max_queue_size, workers, use_multiprocessing)\u001b[0m\n\u001b[1;32m   <a href='file:///opt/homebrew/Caskroom/miniforge/base/envs/tabnet_tf/lib/python3.9/site-packages/tensorflow/python/keras/engine/training.py?line=1175'>1176</a>\u001b[0m \u001b[39mwith\u001b[39;00m trace\u001b[39m.\u001b[39mTrace(\n\u001b[1;32m   <a href='file:///opt/homebrew/Caskroom/miniforge/base/envs/tabnet_tf/lib/python3.9/site-packages/tensorflow/python/keras/engine/training.py?line=1176'>1177</a>\u001b[0m     \u001b[39m'\u001b[39m\u001b[39mtrain\u001b[39m\u001b[39m'\u001b[39m,\n\u001b[1;32m   <a href='file:///opt/homebrew/Caskroom/miniforge/base/envs/tabnet_tf/lib/python3.9/site-packages/tensorflow/python/keras/engine/training.py?line=1177'>1178</a>\u001b[0m     epoch_num\u001b[39m=\u001b[39mepoch,\n\u001b[1;32m   <a href='file:///opt/homebrew/Caskroom/miniforge/base/envs/tabnet_tf/lib/python3.9/site-packages/tensorflow/python/keras/engine/training.py?line=1178'>1179</a>\u001b[0m     step_num\u001b[39m=\u001b[39mstep,\n\u001b[1;32m   <a href='file:///opt/homebrew/Caskroom/miniforge/base/envs/tabnet_tf/lib/python3.9/site-packages/tensorflow/python/keras/engine/training.py?line=1179'>1180</a>\u001b[0m     batch_size\u001b[39m=\u001b[39mbatch_size,\n\u001b[1;32m   <a href='file:///opt/homebrew/Caskroom/miniforge/base/envs/tabnet_tf/lib/python3.9/site-packages/tensorflow/python/keras/engine/training.py?line=1180'>1181</a>\u001b[0m     _r\u001b[39m=\u001b[39m\u001b[39m1\u001b[39m):\n\u001b[1;32m   <a href='file:///opt/homebrew/Caskroom/miniforge/base/envs/tabnet_tf/lib/python3.9/site-packages/tensorflow/python/keras/engine/training.py?line=1181'>1182</a>\u001b[0m   callbacks\u001b[39m.\u001b[39mon_train_batch_begin(step)\n\u001b[0;32m-> <a href='file:///opt/homebrew/Caskroom/miniforge/base/envs/tabnet_tf/lib/python3.9/site-packages/tensorflow/python/keras/engine/training.py?line=1182'>1183</a>\u001b[0m   tmp_logs \u001b[39m=\u001b[39m \u001b[39mself\u001b[39;49m\u001b[39m.\u001b[39;49mtrain_function(iterator)\n\u001b[1;32m   <a href='file:///opt/homebrew/Caskroom/miniforge/base/envs/tabnet_tf/lib/python3.9/site-packages/tensorflow/python/keras/engine/training.py?line=1183'>1184</a>\u001b[0m   \u001b[39mif\u001b[39;00m data_handler\u001b[39m.\u001b[39mshould_sync:\n\u001b[1;32m   <a href='file:///opt/homebrew/Caskroom/miniforge/base/envs/tabnet_tf/lib/python3.9/site-packages/tensorflow/python/keras/engine/training.py?line=1184'>1185</a>\u001b[0m     context\u001b[39m.\u001b[39masync_wait()\n",
      "File \u001b[0;32m/opt/homebrew/Caskroom/miniforge/base/envs/tabnet_tf/lib/python3.9/site-packages/tensorflow/python/eager/def_function.py:889\u001b[0m, in \u001b[0;36mFunction.__call__\u001b[0;34m(self, *args, **kwds)\u001b[0m\n\u001b[1;32m    <a href='file:///opt/homebrew/Caskroom/miniforge/base/envs/tabnet_tf/lib/python3.9/site-packages/tensorflow/python/eager/def_function.py?line=885'>886</a>\u001b[0m compiler \u001b[39m=\u001b[39m \u001b[39m\"\u001b[39m\u001b[39mxla\u001b[39m\u001b[39m\"\u001b[39m \u001b[39mif\u001b[39;00m \u001b[39mself\u001b[39m\u001b[39m.\u001b[39m_jit_compile \u001b[39melse\u001b[39;00m \u001b[39m\"\u001b[39m\u001b[39mnonXla\u001b[39m\u001b[39m\"\u001b[39m\n\u001b[1;32m    <a href='file:///opt/homebrew/Caskroom/miniforge/base/envs/tabnet_tf/lib/python3.9/site-packages/tensorflow/python/eager/def_function.py?line=887'>888</a>\u001b[0m \u001b[39mwith\u001b[39;00m OptionalXlaContext(\u001b[39mself\u001b[39m\u001b[39m.\u001b[39m_jit_compile):\n\u001b[0;32m--> <a href='file:///opt/homebrew/Caskroom/miniforge/base/envs/tabnet_tf/lib/python3.9/site-packages/tensorflow/python/eager/def_function.py?line=888'>889</a>\u001b[0m   result \u001b[39m=\u001b[39m \u001b[39mself\u001b[39;49m\u001b[39m.\u001b[39;49m_call(\u001b[39m*\u001b[39;49margs, \u001b[39m*\u001b[39;49m\u001b[39m*\u001b[39;49mkwds)\n\u001b[1;32m    <a href='file:///opt/homebrew/Caskroom/miniforge/base/envs/tabnet_tf/lib/python3.9/site-packages/tensorflow/python/eager/def_function.py?line=890'>891</a>\u001b[0m new_tracing_count \u001b[39m=\u001b[39m \u001b[39mself\u001b[39m\u001b[39m.\u001b[39mexperimental_get_tracing_count()\n\u001b[1;32m    <a href='file:///opt/homebrew/Caskroom/miniforge/base/envs/tabnet_tf/lib/python3.9/site-packages/tensorflow/python/eager/def_function.py?line=891'>892</a>\u001b[0m without_tracing \u001b[39m=\u001b[39m (tracing_count \u001b[39m==\u001b[39m new_tracing_count)\n",
      "File \u001b[0;32m/opt/homebrew/Caskroom/miniforge/base/envs/tabnet_tf/lib/python3.9/site-packages/tensorflow/python/eager/def_function.py:917\u001b[0m, in \u001b[0;36mFunction._call\u001b[0;34m(self, *args, **kwds)\u001b[0m\n\u001b[1;32m    <a href='file:///opt/homebrew/Caskroom/miniforge/base/envs/tabnet_tf/lib/python3.9/site-packages/tensorflow/python/eager/def_function.py?line=913'>914</a>\u001b[0m   \u001b[39mself\u001b[39m\u001b[39m.\u001b[39m_lock\u001b[39m.\u001b[39mrelease()\n\u001b[1;32m    <a href='file:///opt/homebrew/Caskroom/miniforge/base/envs/tabnet_tf/lib/python3.9/site-packages/tensorflow/python/eager/def_function.py?line=914'>915</a>\u001b[0m   \u001b[39m# In this case we have created variables on the first call, so we run the\u001b[39;00m\n\u001b[1;32m    <a href='file:///opt/homebrew/Caskroom/miniforge/base/envs/tabnet_tf/lib/python3.9/site-packages/tensorflow/python/eager/def_function.py?line=915'>916</a>\u001b[0m   \u001b[39m# defunned version which is guaranteed to never create variables.\u001b[39;00m\n\u001b[0;32m--> <a href='file:///opt/homebrew/Caskroom/miniforge/base/envs/tabnet_tf/lib/python3.9/site-packages/tensorflow/python/eager/def_function.py?line=916'>917</a>\u001b[0m   \u001b[39mreturn\u001b[39;00m \u001b[39mself\u001b[39;49m\u001b[39m.\u001b[39;49m_stateless_fn(\u001b[39m*\u001b[39;49margs, \u001b[39m*\u001b[39;49m\u001b[39m*\u001b[39;49mkwds)  \u001b[39m# pylint: disable=not-callable\u001b[39;00m\n\u001b[1;32m    <a href='file:///opt/homebrew/Caskroom/miniforge/base/envs/tabnet_tf/lib/python3.9/site-packages/tensorflow/python/eager/def_function.py?line=917'>918</a>\u001b[0m \u001b[39melif\u001b[39;00m \u001b[39mself\u001b[39m\u001b[39m.\u001b[39m_stateful_fn \u001b[39mis\u001b[39;00m \u001b[39mnot\u001b[39;00m \u001b[39mNone\u001b[39;00m:\n\u001b[1;32m    <a href='file:///opt/homebrew/Caskroom/miniforge/base/envs/tabnet_tf/lib/python3.9/site-packages/tensorflow/python/eager/def_function.py?line=918'>919</a>\u001b[0m   \u001b[39m# Release the lock early so that multiple threads can perform the call\u001b[39;00m\n\u001b[1;32m    <a href='file:///opt/homebrew/Caskroom/miniforge/base/envs/tabnet_tf/lib/python3.9/site-packages/tensorflow/python/eager/def_function.py?line=919'>920</a>\u001b[0m   \u001b[39m# in parallel.\u001b[39;00m\n\u001b[1;32m    <a href='file:///opt/homebrew/Caskroom/miniforge/base/envs/tabnet_tf/lib/python3.9/site-packages/tensorflow/python/eager/def_function.py?line=920'>921</a>\u001b[0m   \u001b[39mself\u001b[39m\u001b[39m.\u001b[39m_lock\u001b[39m.\u001b[39mrelease()\n",
      "File \u001b[0;32m/opt/homebrew/Caskroom/miniforge/base/envs/tabnet_tf/lib/python3.9/site-packages/tensorflow/python/eager/function.py:3023\u001b[0m, in \u001b[0;36mFunction.__call__\u001b[0;34m(self, *args, **kwargs)\u001b[0m\n\u001b[1;32m   <a href='file:///opt/homebrew/Caskroom/miniforge/base/envs/tabnet_tf/lib/python3.9/site-packages/tensorflow/python/eager/function.py?line=3019'>3020</a>\u001b[0m \u001b[39mwith\u001b[39;00m \u001b[39mself\u001b[39m\u001b[39m.\u001b[39m_lock:\n\u001b[1;32m   <a href='file:///opt/homebrew/Caskroom/miniforge/base/envs/tabnet_tf/lib/python3.9/site-packages/tensorflow/python/eager/function.py?line=3020'>3021</a>\u001b[0m   (graph_function,\n\u001b[1;32m   <a href='file:///opt/homebrew/Caskroom/miniforge/base/envs/tabnet_tf/lib/python3.9/site-packages/tensorflow/python/eager/function.py?line=3021'>3022</a>\u001b[0m    filtered_flat_args) \u001b[39m=\u001b[39m \u001b[39mself\u001b[39m\u001b[39m.\u001b[39m_maybe_define_function(args, kwargs)\n\u001b[0;32m-> <a href='file:///opt/homebrew/Caskroom/miniforge/base/envs/tabnet_tf/lib/python3.9/site-packages/tensorflow/python/eager/function.py?line=3022'>3023</a>\u001b[0m \u001b[39mreturn\u001b[39;00m graph_function\u001b[39m.\u001b[39;49m_call_flat(\n\u001b[1;32m   <a href='file:///opt/homebrew/Caskroom/miniforge/base/envs/tabnet_tf/lib/python3.9/site-packages/tensorflow/python/eager/function.py?line=3023'>3024</a>\u001b[0m     filtered_flat_args, captured_inputs\u001b[39m=\u001b[39;49mgraph_function\u001b[39m.\u001b[39;49mcaptured_inputs)\n",
      "File \u001b[0;32m/opt/homebrew/Caskroom/miniforge/base/envs/tabnet_tf/lib/python3.9/site-packages/tensorflow/python/eager/function.py:1960\u001b[0m, in \u001b[0;36mConcreteFunction._call_flat\u001b[0;34m(self, args, captured_inputs, cancellation_manager)\u001b[0m\n\u001b[1;32m   <a href='file:///opt/homebrew/Caskroom/miniforge/base/envs/tabnet_tf/lib/python3.9/site-packages/tensorflow/python/eager/function.py?line=1955'>1956</a>\u001b[0m possible_gradient_type \u001b[39m=\u001b[39m gradients_util\u001b[39m.\u001b[39mPossibleTapeGradientTypes(args)\n\u001b[1;32m   <a href='file:///opt/homebrew/Caskroom/miniforge/base/envs/tabnet_tf/lib/python3.9/site-packages/tensorflow/python/eager/function.py?line=1956'>1957</a>\u001b[0m \u001b[39mif\u001b[39;00m (possible_gradient_type \u001b[39m==\u001b[39m gradients_util\u001b[39m.\u001b[39mPOSSIBLE_GRADIENT_TYPES_NONE\n\u001b[1;32m   <a href='file:///opt/homebrew/Caskroom/miniforge/base/envs/tabnet_tf/lib/python3.9/site-packages/tensorflow/python/eager/function.py?line=1957'>1958</a>\u001b[0m     \u001b[39mand\u001b[39;00m executing_eagerly):\n\u001b[1;32m   <a href='file:///opt/homebrew/Caskroom/miniforge/base/envs/tabnet_tf/lib/python3.9/site-packages/tensorflow/python/eager/function.py?line=1958'>1959</a>\u001b[0m   \u001b[39m# No tape is watching; skip to running the function.\u001b[39;00m\n\u001b[0;32m-> <a href='file:///opt/homebrew/Caskroom/miniforge/base/envs/tabnet_tf/lib/python3.9/site-packages/tensorflow/python/eager/function.py?line=1959'>1960</a>\u001b[0m   \u001b[39mreturn\u001b[39;00m \u001b[39mself\u001b[39m\u001b[39m.\u001b[39m_build_call_outputs(\u001b[39mself\u001b[39;49m\u001b[39m.\u001b[39;49m_inference_function\u001b[39m.\u001b[39;49mcall(\n\u001b[1;32m   <a href='file:///opt/homebrew/Caskroom/miniforge/base/envs/tabnet_tf/lib/python3.9/site-packages/tensorflow/python/eager/function.py?line=1960'>1961</a>\u001b[0m       ctx, args, cancellation_manager\u001b[39m=\u001b[39;49mcancellation_manager))\n\u001b[1;32m   <a href='file:///opt/homebrew/Caskroom/miniforge/base/envs/tabnet_tf/lib/python3.9/site-packages/tensorflow/python/eager/function.py?line=1961'>1962</a>\u001b[0m forward_backward \u001b[39m=\u001b[39m \u001b[39mself\u001b[39m\u001b[39m.\u001b[39m_select_forward_and_backward_functions(\n\u001b[1;32m   <a href='file:///opt/homebrew/Caskroom/miniforge/base/envs/tabnet_tf/lib/python3.9/site-packages/tensorflow/python/eager/function.py?line=1962'>1963</a>\u001b[0m     args,\n\u001b[1;32m   <a href='file:///opt/homebrew/Caskroom/miniforge/base/envs/tabnet_tf/lib/python3.9/site-packages/tensorflow/python/eager/function.py?line=1963'>1964</a>\u001b[0m     possible_gradient_type,\n\u001b[1;32m   <a href='file:///opt/homebrew/Caskroom/miniforge/base/envs/tabnet_tf/lib/python3.9/site-packages/tensorflow/python/eager/function.py?line=1964'>1965</a>\u001b[0m     executing_eagerly)\n\u001b[1;32m   <a href='file:///opt/homebrew/Caskroom/miniforge/base/envs/tabnet_tf/lib/python3.9/site-packages/tensorflow/python/eager/function.py?line=1965'>1966</a>\u001b[0m forward_function, args_with_tangents \u001b[39m=\u001b[39m forward_backward\u001b[39m.\u001b[39mforward()\n",
      "File \u001b[0;32m/opt/homebrew/Caskroom/miniforge/base/envs/tabnet_tf/lib/python3.9/site-packages/tensorflow/python/eager/function.py:591\u001b[0m, in \u001b[0;36m_EagerDefinedFunction.call\u001b[0;34m(self, ctx, args, cancellation_manager)\u001b[0m\n\u001b[1;32m    <a href='file:///opt/homebrew/Caskroom/miniforge/base/envs/tabnet_tf/lib/python3.9/site-packages/tensorflow/python/eager/function.py?line=588'>589</a>\u001b[0m \u001b[39mwith\u001b[39;00m _InterpolateFunctionError(\u001b[39mself\u001b[39m):\n\u001b[1;32m    <a href='file:///opt/homebrew/Caskroom/miniforge/base/envs/tabnet_tf/lib/python3.9/site-packages/tensorflow/python/eager/function.py?line=589'>590</a>\u001b[0m   \u001b[39mif\u001b[39;00m cancellation_manager \u001b[39mis\u001b[39;00m \u001b[39mNone\u001b[39;00m:\n\u001b[0;32m--> <a href='file:///opt/homebrew/Caskroom/miniforge/base/envs/tabnet_tf/lib/python3.9/site-packages/tensorflow/python/eager/function.py?line=590'>591</a>\u001b[0m     outputs \u001b[39m=\u001b[39m execute\u001b[39m.\u001b[39;49mexecute(\n\u001b[1;32m    <a href='file:///opt/homebrew/Caskroom/miniforge/base/envs/tabnet_tf/lib/python3.9/site-packages/tensorflow/python/eager/function.py?line=591'>592</a>\u001b[0m         \u001b[39mstr\u001b[39;49m(\u001b[39mself\u001b[39;49m\u001b[39m.\u001b[39;49msignature\u001b[39m.\u001b[39;49mname),\n\u001b[1;32m    <a href='file:///opt/homebrew/Caskroom/miniforge/base/envs/tabnet_tf/lib/python3.9/site-packages/tensorflow/python/eager/function.py?line=592'>593</a>\u001b[0m         num_outputs\u001b[39m=\u001b[39;49m\u001b[39mself\u001b[39;49m\u001b[39m.\u001b[39;49m_num_outputs,\n\u001b[1;32m    <a href='file:///opt/homebrew/Caskroom/miniforge/base/envs/tabnet_tf/lib/python3.9/site-packages/tensorflow/python/eager/function.py?line=593'>594</a>\u001b[0m         inputs\u001b[39m=\u001b[39;49margs,\n\u001b[1;32m    <a href='file:///opt/homebrew/Caskroom/miniforge/base/envs/tabnet_tf/lib/python3.9/site-packages/tensorflow/python/eager/function.py?line=594'>595</a>\u001b[0m         attrs\u001b[39m=\u001b[39;49mattrs,\n\u001b[1;32m    <a href='file:///opt/homebrew/Caskroom/miniforge/base/envs/tabnet_tf/lib/python3.9/site-packages/tensorflow/python/eager/function.py?line=595'>596</a>\u001b[0m         ctx\u001b[39m=\u001b[39;49mctx)\n\u001b[1;32m    <a href='file:///opt/homebrew/Caskroom/miniforge/base/envs/tabnet_tf/lib/python3.9/site-packages/tensorflow/python/eager/function.py?line=596'>597</a>\u001b[0m   \u001b[39melse\u001b[39;00m:\n\u001b[1;32m    <a href='file:///opt/homebrew/Caskroom/miniforge/base/envs/tabnet_tf/lib/python3.9/site-packages/tensorflow/python/eager/function.py?line=597'>598</a>\u001b[0m     outputs \u001b[39m=\u001b[39m execute\u001b[39m.\u001b[39mexecute_with_cancellation(\n\u001b[1;32m    <a href='file:///opt/homebrew/Caskroom/miniforge/base/envs/tabnet_tf/lib/python3.9/site-packages/tensorflow/python/eager/function.py?line=598'>599</a>\u001b[0m         \u001b[39mstr\u001b[39m(\u001b[39mself\u001b[39m\u001b[39m.\u001b[39msignature\u001b[39m.\u001b[39mname),\n\u001b[1;32m    <a href='file:///opt/homebrew/Caskroom/miniforge/base/envs/tabnet_tf/lib/python3.9/site-packages/tensorflow/python/eager/function.py?line=599'>600</a>\u001b[0m         num_outputs\u001b[39m=\u001b[39m\u001b[39mself\u001b[39m\u001b[39m.\u001b[39m_num_outputs,\n\u001b[0;32m   (...)\u001b[0m\n\u001b[1;32m    <a href='file:///opt/homebrew/Caskroom/miniforge/base/envs/tabnet_tf/lib/python3.9/site-packages/tensorflow/python/eager/function.py?line=602'>603</a>\u001b[0m         ctx\u001b[39m=\u001b[39mctx,\n\u001b[1;32m    <a href='file:///opt/homebrew/Caskroom/miniforge/base/envs/tabnet_tf/lib/python3.9/site-packages/tensorflow/python/eager/function.py?line=603'>604</a>\u001b[0m         cancellation_manager\u001b[39m=\u001b[39mcancellation_manager)\n",
      "File \u001b[0;32m/opt/homebrew/Caskroom/miniforge/base/envs/tabnet_tf/lib/python3.9/site-packages/tensorflow/python/eager/execute.py:59\u001b[0m, in \u001b[0;36mquick_execute\u001b[0;34m(op_name, num_outputs, inputs, attrs, ctx, name)\u001b[0m\n\u001b[1;32m     <a href='file:///opt/homebrew/Caskroom/miniforge/base/envs/tabnet_tf/lib/python3.9/site-packages/tensorflow/python/eager/execute.py?line=56'>57</a>\u001b[0m \u001b[39mtry\u001b[39;00m:\n\u001b[1;32m     <a href='file:///opt/homebrew/Caskroom/miniforge/base/envs/tabnet_tf/lib/python3.9/site-packages/tensorflow/python/eager/execute.py?line=57'>58</a>\u001b[0m   ctx\u001b[39m.\u001b[39mensure_initialized()\n\u001b[0;32m---> <a href='file:///opt/homebrew/Caskroom/miniforge/base/envs/tabnet_tf/lib/python3.9/site-packages/tensorflow/python/eager/execute.py?line=58'>59</a>\u001b[0m   tensors \u001b[39m=\u001b[39m pywrap_tfe\u001b[39m.\u001b[39;49mTFE_Py_Execute(ctx\u001b[39m.\u001b[39;49m_handle, device_name, op_name,\n\u001b[1;32m     <a href='file:///opt/homebrew/Caskroom/miniforge/base/envs/tabnet_tf/lib/python3.9/site-packages/tensorflow/python/eager/execute.py?line=59'>60</a>\u001b[0m                                       inputs, attrs, num_outputs)\n\u001b[1;32m     <a href='file:///opt/homebrew/Caskroom/miniforge/base/envs/tabnet_tf/lib/python3.9/site-packages/tensorflow/python/eager/execute.py?line=60'>61</a>\u001b[0m \u001b[39mexcept\u001b[39;00m core\u001b[39m.\u001b[39m_NotOkStatusException \u001b[39mas\u001b[39;00m e:\n\u001b[1;32m     <a href='file:///opt/homebrew/Caskroom/miniforge/base/envs/tabnet_tf/lib/python3.9/site-packages/tensorflow/python/eager/execute.py?line=61'>62</a>\u001b[0m   \u001b[39mif\u001b[39;00m name \u001b[39mis\u001b[39;00m \u001b[39mnot\u001b[39;00m \u001b[39mNone\u001b[39;00m:\n",
      "\u001b[0;31mKeyboardInterrupt\u001b[0m: "
     ]
    }
   ],
   "source": [
    "tf.random.set_seed(123)\n",
    "model = Compound_model(feature_columns = feature_columns,\n",
    "                                output_dim=120, feature_dim=125, num_groups=1,\n",
    "                                num_decision_steps=2, relaxation_factor=1.5,\n",
    "                                sparsity_coefficient=1e-05, dropout= 0.2, nodes1 = 64, nodes2 = 1, l2 = 0)\n",
    "\n",
    "logdir = \"logs/price/compound/final\"\n",
    "checkpoint_callback = tf.keras.callbacks.ModelCheckpoint(filepath = logdir+\"/checkpoint\", monitor='val_R_squared', save_best_only=True, mode='max')\n",
    "lr = tf.keras.optimizers.schedules.ExponentialDecay(0.01, decay_steps=100, decay_rate=0.95, staircase=False)\n",
    "optimizer = tf.keras.optimizers.Adam(lr)\n",
    "model.compile(optimizer, loss='mse' , metrics=[R_squared,\"mae\"])\n",
    "\n",
    "model.fit(train_dataset, validation_data = val_dataset, epochs=300, verbose=1)#, callbacks=[checkpoint_callback])"
   ]
  },
  {
   "cell_type": "markdown",
   "metadata": {},
   "source": [
    "Evaluate test data"
   ]
  },
  {
   "cell_type": "code",
   "execution_count": 47,
   "metadata": {},
   "outputs": [
    {
     "name": "stdout",
     "output_type": "stream",
     "text": [
      "4/4 [==============================] - 2s 219ms/step - loss: 0.3427 - R_squared: 0.2178 - mae: 0.4497\n"
     ]
    },
    {
     "data": {
      "text/plain": [
       "[0.3427451252937317, 0.2177862823009491, 0.4497312903404236]"
      ]
     },
     "execution_count": 47,
     "metadata": {},
     "output_type": "execute_result"
    }
   ],
   "source": [
    "model.evaluate(test_dataset)"
   ]
  },
  {
   "cell_type": "markdown",
   "metadata": {},
   "source": [
    "Evaluate weights of final layer"
   ]
  },
  {
   "cell_type": "code",
   "execution_count": 48,
   "metadata": {},
   "outputs": [
    {
     "data": {
      "text/plain": [
       "[array([[-0.],\n",
       "        [ 1.]], dtype=float32),\n",
       " array([4.179595], dtype=float32)]"
      ]
     },
     "execution_count": 48,
     "metadata": {},
     "output_type": "execute_result"
    }
   ],
   "source": [
    "model.layers[-1].get_weights()"
   ]
  },
  {
   "cell_type": "markdown",
   "metadata": {},
   "source": [
    "# Reload optimal weights from best TabNet and Image Model"
   ]
  },
  {
   "cell_type": "code",
   "execution_count": 23,
   "metadata": {},
   "outputs": [
    {
     "name": "stdout",
     "output_type": "stream",
     "text": [
      "[TabNet]: 5 features will be used for decision steps.\n",
      "Epoch 1/2\n"
     ]
    },
    {
     "name": "stderr",
     "output_type": "stream",
     "text": [
      "2022-03-01 14:18:39.674182: I tensorflow/core/grappler/optimizers/custom_graph_optimizer_registry.cc:112] Plugin optimizer for device_type GPU is enabled.\n"
     ]
    },
    {
     "name": "stdout",
     "output_type": "stream",
     "text": [
      "10/10 [==============================] - ETA: 0s - loss: 21.0671 - R_squared: -50.7218 - mae: 4.4916"
     ]
    },
    {
     "name": "stderr",
     "output_type": "stream",
     "text": [
      "2022-03-01 14:18:52.135042: I tensorflow/core/grappler/optimizers/custom_graph_optimizer_registry.cc:112] Plugin optimizer for device_type GPU is enabled.\n"
     ]
    },
    {
     "name": "stdout",
     "output_type": "stream",
     "text": [
      "10/10 [==============================] - 22s 1s/step - loss: 21.0671 - R_squared: -50.7218 - mae: 4.4916 - val_loss: 10.3320 - val_R_squared: -26.4928 - val_mae: 2.8735\n",
      "Epoch 2/2\n",
      "10/10 [==============================] - 11s 1s/step - loss: 18.9981 - R_squared: -45.5592 - mae: 4.2862 - val_loss: 12.5001 - val_R_squared: -31.6618 - val_mae: 3.3917\n"
     ]
    },
    {
     "data": {
      "text/plain": [
       "<tensorflow.python.keras.callbacks.History at 0x3bffd83a0>"
      ]
     },
     "execution_count": 23,
     "metadata": {},
     "output_type": "execute_result"
    }
   ],
   "source": [
    "model = Compound_model(feature_columns = feature_columns,\n",
    "                                output_dim=120, feature_dim=125, num_groups=1,\n",
    "                                num_decision_steps=2, relaxation_factor=1.5,\n",
    "                                sparsity_coefficient=1e-05, dropout= 0.2, nodes1 = 512, nodes2 = 1, l2 = 0)\n",
    "lr = tf.keras.optimizers.schedules.ExponentialDecay(0.01, decay_steps=100, decay_rate=0.95, staircase=False)\n",
    "optimizer = tf.keras.optimizers.Adam(lr)\n",
    "model.compile(optimizer, loss='mse' , metrics=[R_squared,\"mae\"])\n",
    "\n",
    "model.fit(train_dataset, validation_data = test_dataset, epochs=2, verbose=1)"
   ]
  },
  {
   "cell_type": "markdown",
   "metadata": {},
   "source": [
    "## Load best TabNet"
   ]
  },
  {
   "cell_type": "code",
   "execution_count": 24,
   "metadata": {},
   "outputs": [
    {
     "name": "stdout",
     "output_type": "stream",
     "text": [
      "[TabNet]: 5 features will be used for decision steps.\n"
     ]
    },
    {
     "name": "stderr",
     "output_type": "stream",
     "text": [
      "2022-03-01 14:19:43.549975: I tensorflow/core/grappler/optimizers/custom_graph_optimizer_registry.cc:112] Plugin optimizer for device_type GPU is enabled.\n"
     ]
    },
    {
     "name": "stdout",
     "output_type": "stream",
     "text": [
      "3/3 [==============================] - 2s 104ms/step - loss: 10.0011 - R_squared: -19.8162 - mse: 10.0011 - mae: 2.6982\n"
     ]
    }
   ],
   "source": [
    "X_train_tn, X_test_tn, X_val_tn, y_train_tn, y_test_tn, y_val_tn = load_data(for_dendro = False)\n",
    "\n",
    "def transform(ds):\n",
    "    features = tf.unstack(ds[\"features\"])\n",
    "    prices = ds[\"price\"]\n",
    "\n",
    "    x = dict(zip(col_names, features))\n",
    "    y = prices\n",
    "    return x, y\n",
    "\n",
    "def R_squared(y, y_pred):\n",
    "  residual = tf.reduce_sum(tf.square(tf.subtract(y, y_pred)))\n",
    "  total = tf.reduce_sum(tf.square(tf.subtract(y, tf.reduce_mean(y))))\n",
    "  r2 = tf.subtract(1.0, tf.math.divide(residual, total))\n",
    "  \n",
    "  return r2\n",
    "\n",
    "bin_col = [col for col in X_train_tn if np.isin(X_train_tn[col].unique(), [0, 1]).all()]\n",
    "num_col = [col for col in X_train_tn if ~np.isin(X_train_tn[col].unique(), [0, 1]).all()]\n",
    "col_names = bin_col + num_col\n",
    "\n",
    "train_size = int(X_train_tn.shape[0] * 0.9)\n",
    "batch_size = int(X_train_tn.shape[0] * 0.1)\n",
    "\n",
    "data_train = tf.data.Dataset.from_tensor_slices({\"features\": X_train_tn, \"price\": y_train_tn})\n",
    "data_train = data_train.shuffle(6000, seed = 13)\n",
    "train_dataset = data_train.take(len(X_train_tn))\n",
    "train_dataset = train_dataset.map(transform)\n",
    "train_dataset = train_dataset.batch(batch_size)\n",
    "\n",
    "data_test = tf.data.Dataset.from_tensor_slices({\"features\": X_val_tn, \"price\": y_val_tn})\n",
    "test_dataset = data_test.take(len(X_val_tn))\n",
    "test_dataset = test_dataset.map(transform)\n",
    "test_dataset = test_dataset.batch(batch_size)\n",
    "\n",
    "\n",
    "feature_columns = []\n",
    "\n",
    "for col in col_names:\n",
    "    feature_columns.append(tf.feature_column.numeric_column(col))\n",
    "od = 120\n",
    "fd =  125\n",
    "nds = 2\n",
    "rf = 1.5\n",
    "sc = 1e-05\n",
    "\n",
    "lr = tf.keras.optimizers.schedules.ExponentialDecay(0.01, decay_steps=100, decay_rate=0.95, staircase=False)\n",
    "#lr = 0.01\n",
    "optimizer = tf.keras.optimizers.Adam(lr)\n",
    "\n",
    "model_tn = tabnet.TabNetRegression(feature_columns, num_regressors=1,\n",
    "                                output_dim=od, feature_dim=fd, num_groups=1,\n",
    "                                num_decision_steps=nds, relaxation_factor=rf)\n",
    "\n",
    "model_tn.compile(optimizer, loss='mse' , metrics=[R_squared, \"mse\", \"mae\"])\n",
    "model_tn.fit(test_dataset)\n",
    "model_tn.load_weights(\"TabNet_Selected/best_model3.hdf5\")"
   ]
  },
  {
   "cell_type": "markdown",
   "metadata": {},
   "source": [
    "## Load best Image Model"
   ]
  },
  {
   "cell_type": "code",
   "execution_count": 25,
   "metadata": {},
   "outputs": [],
   "source": [
    "def transform(ds):\n",
    "    bath = tf.unstack(ds[\"bath\"])\n",
    "    bed = tf.unstack(ds[\"bed\"])\n",
    "    dining = tf.unstack(ds[\"dining\"])\n",
    "    hall = tf.unstack(ds[\"hall\"])\n",
    "    kitchen = tf.unstack(ds[\"kitchen\"])\n",
    "    living = tf.unstack(ds[\"living\"])\n",
    "   # others = tf.unstack(ds[\"others\"])\n",
    "\n",
    "    prices = ds[\"price\"]\n",
    "    \n",
    "    y = prices\n",
    "    return (bath, bed, dining, hall, kitchen, living), y\n",
    "\n",
    "batch_size = 128\n",
    "\n",
    "# Load data\n",
    "X_train, X_test, X_val, y_train, y_test, y_val = load_data_fold(fold=4, drop_id = False)\n",
    "\n",
    "train_ids = X_train[\"id\"]\n",
    "test_ids = X_test[\"id\"]\n",
    "val_ids = X_val[\"id\"]\n",
    "\n",
    "X_train = pd.merge(train_ids, final_df, on = \"id\", how = \"left\")\n",
    "X_train = X_train.drop([\"id\",\"log_price\"], axis = 1)\n",
    "X_train.columns = [\"bath\", \"bed\", \"dining\", \"hall\", \"kitchen\", \"living\"]#, \"others\"]\n",
    "filter = np.any(X_train.isna(), axis = 1).values\n",
    "X_train = X_train[~filter]\n",
    "y_train = y_train[~filter]\n",
    "\n",
    "X_test = pd.merge(test_ids, final_df, on = \"id\", how = \"left\")\n",
    "X_test = X_test.drop([\"id\",\"log_price\"], axis = 1)\n",
    "X_test.columns = [\"bath\", \"bed\", \"dining\", \"hall\", \"kitchen\", \"living\"]#, \"others\"]\n",
    "filter = np.any(X_test.isna(), axis = 1).values\n",
    "X_test = X_test[~filter]\n",
    "y_test = y_test[~filter]\n",
    "\n",
    "X_val = pd.merge(val_ids, final_df, on = \"id\", how = \"left\")\n",
    "X_val = X_val.drop([\"id\",\"log_price\"], axis = 1)\n",
    "X_val.columns = [\"bath\", \"bed\", \"dining\", \"hall\", \"kitchen\", \"living\"]#, \"others\"]\n",
    "filter = np.any(X_val.isna(), axis = 1).values\n",
    "X_val = X_val[~filter]\n",
    "y_val = y_val[~filter]\n",
    "\n",
    "data_train = tf.data.Dataset.from_tensor_slices({\"bath\": np.squeeze(np.stack(X_train[\"bath\"])),\n",
    "                                                 \"bed\": np.squeeze(np.stack(X_train[\"bed\"])),\n",
    "                                                 \"dining\": np.squeeze(np.stack(X_train[\"dining\"])),\n",
    "                                                 \"hall\": np.squeeze(np.stack(X_train[\"hall\"])),\n",
    "                                                 \"kitchen\": np.squeeze(np.stack(X_train[\"kitchen\"])),\n",
    "                                                 \"living\": np.squeeze(np.stack(X_train[\"living\"])),\n",
    "                                                 #\"others\": np.squeeze(np.stack(X_train[\"others\"])),\n",
    "                                                 \"price\": y_train})\n",
    "data_train = data_train.cache()\n",
    "data_train = data_train.shuffle(6000, seed = 13)\n",
    "train_dataset = data_train.take(len(y_train))\n",
    "train_dataset = train_dataset.map(transform)\n",
    "train_dataset = train_dataset.batch(batch_size)\n",
    "\n",
    "data_test = tf.data.Dataset.from_tensor_slices({\"bath\": np.squeeze(np.stack(X_test[\"bath\"])),\n",
    "                                                 \"bed\": np.squeeze(np.stack(X_test[\"bed\"])),\n",
    "                                                 \"dining\": np.squeeze(np.stack(X_test[\"dining\"])),\n",
    "                                                 \"hall\": np.squeeze(np.stack(X_test[\"hall\"])),\n",
    "                                                 \"kitchen\": np.squeeze(np.stack(X_test[\"kitchen\"])),\n",
    "                                                 \"living\": np.squeeze(np.stack(X_test[\"living\"])),\n",
    "                                                # \"others\": np.squeeze(np.stack(X_test[\"others\"])),\n",
    "                                                 \"price\": y_test})\n",
    "data_test = data_test.cache()\n",
    "test_dataset = data_test.take(len(y_test))\n",
    "test_dataset = test_dataset.map(transform)\n",
    "test_dataset = test_dataset.batch(batch_size)\n",
    "\n",
    "data_val = tf.data.Dataset.from_tensor_slices({\"bath\": np.squeeze(np.stack(X_val[\"bath\"])),\n",
    "                                                 \"bed\": np.squeeze(np.stack(X_val[\"bed\"])),\n",
    "                                                 \"dining\": np.squeeze(np.stack(X_val[\"dining\"])),\n",
    "                                                 \"hall\": np.squeeze(np.stack(X_val[\"hall\"])),\n",
    "                                                 \"kitchen\": np.squeeze(np.stack(X_val[\"kitchen\"])),\n",
    "                                                 \"living\": np.squeeze(np.stack(X_val[\"living\"])),\n",
    "                                                 #\"others\": np.squeeze(np.stack(X_val[\"others\"])),\n",
    "                                                 \"price\": y_val})\n",
    "data_val = data_val.cache()\n",
    "val_dataset = data_val.take(len(y_val))\n",
    "val_dataset = val_dataset.map(transform)\n",
    "val_dataset = val_dataset.batch(batch_size)"
   ]
  },
  {
   "cell_type": "code",
   "execution_count": 26,
   "metadata": {},
   "outputs": [],
   "source": [
    "# setup model\n",
    "class Img_model(tf.keras.Model):\n",
    "\n",
    "  def __init__(self, dropout = 0, l2 = 0, nodes1 = 512, nodes2 = 1):\n",
    "    super().__init__()\n",
    "    \n",
    "    # bathroom\n",
    "    self.bn1_bath = tf.keras.layers.BatchNormalization()\n",
    "    self.drop1_bath = tf.keras.layers.Dropout(dropout)\n",
    "    self.dense1_bath = tf.keras.layers.Dense(nodes1, activation=tf.nn.relu, kernel_regularizer = keras.regularizers.l2(l2))\n",
    "    self.bn2_bath = tf.keras.layers.BatchNormalization()\n",
    "    self.drop2_bath = tf.keras.layers.Dropout(dropout)\n",
    "    #self.dense2_bath = tf.keras.layers.Dense(nodes2, activation=tf.nn.relu, kernel_regularizer = keras.regularizers.l2(l2))\n",
    "    self.dense2_bath = tf.keras.layers.Dense(nodes2, kernel_regularizer = keras.regularizers.l2(l2))\n",
    " \n",
    "    # bedroom\n",
    "    self.bn1_bed = tf.keras.layers.BatchNormalization()\n",
    "    self.drop1_bed = tf.keras.layers.Dropout(dropout)\n",
    "    self.dense1_bed = tf.keras.layers.Dense(nodes1, activation=tf.nn.relu, kernel_regularizer = keras.regularizers.l2(l2))\n",
    "    self.bn2_bed = tf.keras.layers.BatchNormalization()\n",
    "    self.drop2_bed = tf.keras.layers.Dropout(dropout)\n",
    "    #self.dense2_bed = tf.keras.layers.Dense(nodes2, activation=tf.nn.relu, kernel_regularizer = keras.regularizers.l2(l2))\n",
    "    self.dense2_bed = tf.keras.layers.Dense(nodes2, kernel_regularizer = keras.regularizers.l2(l2))\n",
    "       \n",
    "      # dining\n",
    "    self.bn1_dining = tf.keras.layers.BatchNormalization()\n",
    "    self.drop1_dining = tf.keras.layers.Dropout(dropout)\n",
    "    self.dense1_dining = tf.keras.layers.Dense(nodes1, activation=tf.nn.relu, kernel_regularizer = keras.regularizers.l2(l2))\n",
    "    self.bn2_dining = tf.keras.layers.BatchNormalization()\n",
    "    self.drop2_dining = tf.keras.layers.Dropout(dropout)\n",
    "    #self.dense2_dining = tf.keras.layers.Dense(nodes2, activation=tf.nn.relu, kernel_regularizer = keras.regularizers.l2(l2))\n",
    "    self.dense2_dining = tf.keras.layers.Dense(nodes2, kernel_regularizer = keras.regularizers.l2(l2))\n",
    "   \n",
    "    # hall\n",
    "    self.bn1_hall = tf.keras.layers.BatchNormalization()\n",
    "    self.drop1_hall = tf.keras.layers.Dropout(dropout)\n",
    "    self.dense1_hall = tf.keras.layers.Dense(nodes1, activation=tf.nn.relu, kernel_regularizer = keras.regularizers.l2(l2))\n",
    "    self.bn2_hall = tf.keras.layers.BatchNormalization()\n",
    "    self.drop2_hall = tf.keras.layers.Dropout(dropout)\n",
    "    #self.dense2_hall = tf.keras.layers.Dense(nodes2, activation=tf.nn.relu, kernel_regularizer = keras.regularizers.l2(l2))\n",
    "    self.dense2_hall = tf.keras.layers.Dense(nodes2, kernel_regularizer = keras.regularizers.l2(l2))\n",
    "    \n",
    "      # kitchen\n",
    "    self.bn1_kitchen = tf.keras.layers.BatchNormalization()\n",
    "    self.drop1_kitchen = tf.keras.layers.Dropout(dropout)\n",
    "    self.dense1_kitchen = tf.keras.layers.Dense(nodes1, activation=tf.nn.relu, kernel_regularizer = keras.regularizers.l2(l2))\n",
    "    self.bn2_kitchen = tf.keras.layers.BatchNormalization()\n",
    "    self.drop2_kitchen = tf.keras.layers.Dropout(dropout)\n",
    "    #self.dense2_kitchen = tf.keras.layers.Dense(nodes2, activation=tf.nn.relu, kernel_regularizer = keras.regularizers.l2(l2))\n",
    "    self.dense2_kitchen = tf.keras.layers.Dense(nodes2, kernel_regularizer = keras.regularizers.l2(l2))\n",
    "  \n",
    "      # livingroom\n",
    "    self.bn1_living = tf.keras.layers.BatchNormalization()\n",
    "    self.drop1_living = tf.keras.layers.Dropout(dropout)\n",
    "    self.dense1_living = tf.keras.layers.Dense(nodes1, activation=tf.nn.relu, kernel_regularizer = keras.regularizers.l2(l2))\n",
    "    self.bn2_living = tf.keras.layers.BatchNormalization()\n",
    "    self.drop2_living = tf.keras.layers.Dropout(dropout)\n",
    "    #self.dense2_living = tf.keras.layers.Dense(nodes2, activation=tf.nn.relu, kernel_regularizer = keras.regularizers.l2(l2))\n",
    "    self.dense2_living = tf.keras.layers.Dense(nodes2, kernel_regularizer = keras.regularizers.l2(l2))\n",
    "\n",
    "    # final prediction\n",
    "    self.bn_final = tf.keras.layers.BatchNormalization()\n",
    "    self.drop_final = tf.keras.layers.Dropout(dropout)\n",
    "    self.dense_final = tf.keras.layers.Dense(1, kernel_constraint =weight_constr())\n",
    "    \n",
    "  def call(self, inputs, training = None):\n",
    "    \n",
    "    # bathroom\n",
    "    x = self.bn1_bath(inputs[0])\n",
    "    x = self.drop1_bath(x)\n",
    "    x = self.dense1_bath(x)\n",
    "    x = self.bn2_bath(x)\n",
    "    x = self.drop2_bath(x)\n",
    "    bath_out = self.dense2_bath(x)\n",
    "    \n",
    "    \n",
    "    # bedroom\n",
    "    x = self.bn1_bed(inputs[1])\n",
    "    x = self.drop1_bed(x)\n",
    "    x = self.dense1_bed(x)\n",
    "    x = self.bn2_bed(x)\n",
    "    x = self.drop2_bed(x)\n",
    "    bed_out = self.dense2_bed(x)\n",
    "    \n",
    "    # diningroom\n",
    "    x = self.bn1_dining(inputs[2])\n",
    "    x = self.drop1_dining(x)\n",
    "    x = self.dense1_dining(x)\n",
    "    x = self.bn2_dining(x)\n",
    "    x = self.drop2_dining(x)\n",
    "    dining_out = self.dense2_dining(x)\n",
    "    \n",
    "    # hallroom\n",
    "    x = self.bn1_hall(inputs[3])\n",
    "    x = self.drop1_hall(x)\n",
    "    x = self.dense1_hall(x)\n",
    "    x = self.bn2_hall(x)\n",
    "    x = self.drop2_hall(x)\n",
    "    hall_out = self.dense2_hall(x)\n",
    "    \n",
    "    # kitchen\n",
    "    x = self.bn1_kitchen(inputs[4])\n",
    "    x = self.drop1_kitchen(x)\n",
    "    x = self.dense1_kitchen(x)\n",
    "    x = self.bn2_kitchen(x)\n",
    "    x = self.drop2_kitchen(x)\n",
    "    kitchen_out = self.dense2_kitchen(x)\n",
    "    \n",
    "    # livingroom\n",
    "    x = self.bn1_living(inputs[5])\n",
    "    x = self.drop1_living(x)\n",
    "    x = self.dense1_living(x)\n",
    "    x = self.bn2_living(x)\n",
    "    x = self.drop2_living(x)\n",
    "    living_out = self.dense2_living(x)\n",
    "    \n",
    "    # join\n",
    "    out = tf.keras.layers.concatenate([bath_out, bed_out, dining_out, hall_out, kitchen_out, living_out])#, others_out])\n",
    "    out = self.bn_final(out)\n",
    "    out = self.drop_final(out)\n",
    "    return self.dense_final(out)"
   ]
  },
  {
   "cell_type": "code",
   "execution_count": 27,
   "metadata": {},
   "outputs": [
    {
     "name": "stdout",
     "output_type": "stream",
     "text": [
      "WARNING:tensorflow:Gradients do not exist for variables ['img_model/batch_normalization_28/gamma:0', 'img_model/batch_normalization_28/beta:0', 'img_model/dense_30/bias:0', 'img_model/batch_normalization_29/gamma:0', 'img_model/batch_normalization_29/beta:0', 'img_model/dense_31/bias:0', 'img_model/batch_normalization_30/gamma:0', 'img_model/batch_normalization_30/beta:0', 'img_model/dense_32/bias:0', 'img_model/batch_normalization_31/gamma:0', 'img_model/batch_normalization_31/beta:0', 'img_model/dense_33/bias:0', 'img_model/batch_normalization_32/gamma:0', 'img_model/batch_normalization_32/beta:0', 'img_model/dense_34/bias:0', 'img_model/batch_normalization_33/gamma:0', 'img_model/batch_normalization_33/beta:0', 'img_model/dense_35/bias:0', 'img_model/batch_normalization_34/gamma:0', 'img_model/batch_normalization_34/beta:0', 'img_model/dense_36/bias:0', 'img_model/batch_normalization_35/gamma:0', 'img_model/batch_normalization_35/beta:0', 'img_model/dense_37/bias:0', 'img_model/batch_normalization_36/gamma:0', 'img_model/batch_normalization_36/beta:0', 'img_model/dense_38/bias:0', 'img_model/batch_normalization_37/gamma:0', 'img_model/batch_normalization_37/beta:0', 'img_model/dense_39/bias:0', 'img_model/batch_normalization_38/gamma:0', 'img_model/batch_normalization_38/beta:0', 'img_model/dense_40/bias:0', 'img_model/batch_normalization_39/gamma:0', 'img_model/batch_normalization_39/beta:0', 'img_model/dense_41/bias:0', 'img_model/batch_normalization_40/gamma:0', 'img_model/batch_normalization_40/beta:0', 'img_model/dense_42/kernel:0', 'img_model/dense_42/bias:0'] when minimizing the loss.\n",
      "WARNING:tensorflow:Gradients do not exist for variables ['img_model/batch_normalization_28/gamma:0', 'img_model/batch_normalization_28/beta:0', 'img_model/dense_30/bias:0', 'img_model/batch_normalization_29/gamma:0', 'img_model/batch_normalization_29/beta:0', 'img_model/dense_31/bias:0', 'img_model/batch_normalization_30/gamma:0', 'img_model/batch_normalization_30/beta:0', 'img_model/dense_32/bias:0', 'img_model/batch_normalization_31/gamma:0', 'img_model/batch_normalization_31/beta:0', 'img_model/dense_33/bias:0', 'img_model/batch_normalization_32/gamma:0', 'img_model/batch_normalization_32/beta:0', 'img_model/dense_34/bias:0', 'img_model/batch_normalization_33/gamma:0', 'img_model/batch_normalization_33/beta:0', 'img_model/dense_35/bias:0', 'img_model/batch_normalization_34/gamma:0', 'img_model/batch_normalization_34/beta:0', 'img_model/dense_36/bias:0', 'img_model/batch_normalization_35/gamma:0', 'img_model/batch_normalization_35/beta:0', 'img_model/dense_37/bias:0', 'img_model/batch_normalization_36/gamma:0', 'img_model/batch_normalization_36/beta:0', 'img_model/dense_38/bias:0', 'img_model/batch_normalization_37/gamma:0', 'img_model/batch_normalization_37/beta:0', 'img_model/dense_39/bias:0', 'img_model/batch_normalization_38/gamma:0', 'img_model/batch_normalization_38/beta:0', 'img_model/dense_40/bias:0', 'img_model/batch_normalization_39/gamma:0', 'img_model/batch_normalization_39/beta:0', 'img_model/dense_41/bias:0', 'img_model/batch_normalization_40/gamma:0', 'img_model/batch_normalization_40/beta:0', 'img_model/dense_42/kernel:0', 'img_model/dense_42/bias:0'] when minimizing the loss.\n"
     ]
    },
    {
     "name": "stderr",
     "output_type": "stream",
     "text": [
      "2022-03-01 14:20:29.796579: I tensorflow/core/grappler/optimizers/custom_graph_optimizer_registry.cc:112] Plugin optimizer for device_type GPU is enabled.\n"
     ]
    },
    {
     "name": "stdout",
     "output_type": "stream",
     "text": [
      "22/22 [==============================] - 8s 288ms/step - loss: 0.0000e+00\n"
     ]
    },
    {
     "name": "stderr",
     "output_type": "stream",
     "text": [
      "2022-03-01 14:20:36.810053: W tensorflow/core/util/tensor_slice_reader.cc:95] Could not open img_models/price/0/checkpoint: Failed precondition: img_models/price/0/checkpoint; Is a directory: perhaps your file is in a different file format and you need to use a different restore operator?\n"
     ]
    },
    {
     "data": {
      "text/plain": [
       "<tensorflow.python.training.tracking.util.CheckpointLoadStatus at 0x155654280>"
      ]
     },
     "execution_count": 27,
     "metadata": {},
     "output_type": "execute_result"
    }
   ],
   "source": [
    "model_img = Img_model(dropout = 0.2, l2 = 0, nodes1 = 64, nodes2 = 1)\n",
    "model_img.compile()\n",
    "model_img.fit(train_dataset, epochs = 1)\n",
    "model_img.load_weights(\"img_models/price/0/checkpoint\"\n",
    ")"
   ]
  },
  {
   "cell_type": "markdown",
   "metadata": {},
   "source": [
    "## Train Compound with reloaded weights (frozen)"
   ]
  },
  {
   "cell_type": "code",
   "execution_count": 57,
   "metadata": {},
   "outputs": [],
   "source": [
    "# Load data\n",
    "X_train, X_test, X_val, y_train, y_test, y_val = load_data_fold(fold=4, drop_id = False)\n",
    "\n",
    "\n",
    "# set columns for tabnet\n",
    "bin_col = [col for col in X_train if np.isin(X_train[col].unique(), [0, 1]).all()]\n",
    "num_col = [col for col in X_train if ~np.isin(X_train[col].unique(), [0, 1]).all()]\n",
    "col_names = bin_col + num_col\n",
    "feature_columns = []\n",
    "col_names.remove(\"id\")\n",
    "for col in col_names:\n",
    "    feature_columns.append(tf.feature_column.numeric_column(col))\n",
    "    \n",
    "def transform(ds):\n",
    "    # tabnet\n",
    "    features = tf.unstack(ds[\"features\"])\n",
    "    features = dict(zip(col_names, features))\n",
    "\n",
    "    # images\n",
    "    bath = tf.unstack(ds[\"bath\"])\n",
    "    bed = tf.unstack(ds[\"bed\"])\n",
    "    dining = tf.unstack(ds[\"dining\"])\n",
    "    hall = tf.unstack(ds[\"hall\"])\n",
    "    kitchen = tf.unstack(ds[\"kitchen\"])\n",
    "    living = tf.unstack(ds[\"living\"])\n",
    "    \n",
    "    prices = ds[\"price\"]\n",
    "    \n",
    "    y = prices\n",
    "    return (bath, bed, dining, hall, kitchen, living, features), y"
   ]
  },
  {
   "cell_type": "code",
   "execution_count": 58,
   "metadata": {},
   "outputs": [
    {
     "name": "stdout",
     "output_type": "stream",
     "text": [
      "TRAIN SHAPE:  (2710, 77)\n",
      "TEST SHAPE:  (853, 77)\n",
      "VAL SHAPE:  (706, 77)\n"
     ]
    }
   ],
   "source": [
    "# merge data for tabnet and images to get consistent ids\n",
    "data_df_train = pd.merge(final_df, X_train, on=\"id\", how=\"inner\")\n",
    "data_df_train.dropna(inplace = True)\n",
    "print(\"TRAIN SHAPE: \", data_df_train.shape)\n",
    "\n",
    "data_df_test = pd.merge(final_df, X_test, on=\"id\", how=\"inner\")\n",
    "data_df_test.dropna(inplace = True)\n",
    "print(\"TEST SHAPE: \", data_df_test.shape)\n",
    "\n",
    "data_df_val = pd.merge(final_df, X_val, on=\"id\", how=\"inner\")\n",
    "data_df_val.dropna(inplace = True)\n",
    "print(\"VAL SHAPE: \", data_df_val.shape)\n",
    "\n",
    "# extract consistent columns\n",
    "X_train_tab = data_df_train.filter(col_names)\n",
    "X_test_tab = data_df_test.filter(col_names)\n",
    "X_val_tab = data_df_val.filter(col_names)\n",
    "\n",
    "data_df_train.drop(col_names, axis = 1, inplace = True)\n",
    "data_df_test.drop(col_names, axis = 1, inplace = True)\n",
    "data_df_val.drop(col_names, axis = 1, inplace = True)\n",
    "\n",
    "# extract consistent price\n",
    "y_train = data_df_train.pop(\"log_price\")\n",
    "y_test = data_df_test.pop(\"log_price\")\n",
    "y_val = data_df_val.pop(\"log_price\")\n",
    "\n",
    "# drop id\n",
    "X_train = data_df_train.drop(\"id\", axis = 1)\n",
    "X_test = data_df_test.drop(\"id\", axis = 1)\n",
    "X_val = data_df_val.drop(\"id\", axis = 1)\n"
   ]
  },
  {
   "cell_type": "code",
   "execution_count": 59,
   "metadata": {},
   "outputs": [],
   "source": [
    "train_size = int(X_train.shape[0] * 0.9)\n",
    "batch_size = int(X_train.shape[0] * 0.1)\n",
    "\n",
    "# X_train, X_test, y_train, y_test = train_test_split(features, prices, random_state = 123, test_size = 0.2)\n",
    "# X_train, X_val, y_train, y_val  = train_test_split(X_train, y_train, test_size=0.2, random_state=1) # 0.25 x 0.8 = 0.2\n",
    "\n",
    "data_train = tf.data.Dataset.from_tensor_slices({\"bath\": np.squeeze(np.stack(X_train[\"bath\"])),\n",
    "                                                 \"bed\": np.squeeze(np.stack(X_train[\"bed\"])),\n",
    "                                                 \"dining\": np.squeeze(np.stack(X_train[\"dining\"])),\n",
    "                                                 \"hall\": np.squeeze(np.stack(X_train[\"hall\"])),\n",
    "                                                 \"kitchen\": np.squeeze(np.stack(X_train[\"kitchen\"])),\n",
    "                                                 \"living\": np.squeeze(np.stack(X_train[\"living\"])),\n",
    "                                                 \"features\": X_train_tab,\n",
    "                                                 \"price\": y_train})\n",
    "data_train = data_train.cache()\n",
    "data_train = data_train.shuffle(6000, seed = 13)\n",
    "train_dataset = data_train.take(len(y_train))\n",
    "train_dataset = train_dataset.map(transform)\n",
    "train_dataset = train_dataset.batch(batch_size)\n",
    "\n",
    "data_test = tf.data.Dataset.from_tensor_slices({\"bath\": np.squeeze(np.stack(X_test[\"bath\"])),\n",
    "                                                 \"bed\": np.squeeze(np.stack(X_test[\"bed\"])),\n",
    "                                                 \"dining\": np.squeeze(np.stack(X_test[\"dining\"])),\n",
    "                                                 \"hall\": np.squeeze(np.stack(X_test[\"hall\"])),\n",
    "                                                 \"kitchen\": np.squeeze(np.stack(X_test[\"kitchen\"])),\n",
    "                                                 \"living\": np.squeeze(np.stack(X_test[\"living\"])),\n",
    "                                                 \"features\": X_test_tab,\n",
    "                                                 \"price\": y_test})\n",
    "data_test = data_test.cache()\n",
    "test_dataset = data_test.take(len(y_test))\n",
    "test_dataset = test_dataset.map(transform)\n",
    "test_dataset = test_dataset.batch(batch_size)\n",
    "\n",
    "data_val = tf.data.Dataset.from_tensor_slices({\"bath\": np.squeeze(np.stack(X_val[\"bath\"])),\n",
    "                                                 \"bed\": np.squeeze(np.stack(X_val[\"bed\"])),\n",
    "                                                 \"dining\": np.squeeze(np.stack(X_val[\"dining\"])),\n",
    "                                                 \"hall\": np.squeeze(np.stack(X_val[\"hall\"])),\n",
    "                                                 \"kitchen\": np.squeeze(np.stack(X_val[\"kitchen\"])),\n",
    "                                                 \"living\": np.squeeze(np.stack(X_val[\"living\"])),\n",
    "                                                 \"features\": X_val_tab,\n",
    "                                                 \"price\": y_val})\n",
    "data_val = data_val.cache()\n",
    "val_dataset = data_val.take(len(y_val))\n",
    "val_dataset = val_dataset.map(transform)\n",
    "val_dataset = val_dataset.batch(batch_size)"
   ]
  },
  {
   "cell_type": "code",
   "execution_count": 61,
   "metadata": {},
   "outputs": [
    {
     "name": "stdout",
     "output_type": "stream",
     "text": [
      "[TabNet]: 5 features will be used for decision steps.\n"
     ]
    },
    {
     "name": "stderr",
     "output_type": "stream",
     "text": [
      "2022-03-01 18:21:37.976133: I tensorflow/core/grappler/optimizers/custom_graph_optimizer_registry.cc:112] Plugin optimizer for device_type GPU is enabled.\n"
     ]
    },
    {
     "name": "stdout",
     "output_type": "stream",
     "text": [
      "10/10 [==============================] - ETA: 0s - loss: 21.5971 - R_squared: -52.1608 - mae: 4.5296"
     ]
    },
    {
     "name": "stderr",
     "output_type": "stream",
     "text": [
      "2022-03-01 18:22:16.853368: I tensorflow/core/grappler/optimizers/custom_graph_optimizer_registry.cc:112] Plugin optimizer for device_type GPU is enabled.\n"
     ]
    },
    {
     "name": "stdout",
     "output_type": "stream",
     "text": [
      "10/10 [==============================] - 76s 4s/step - loss: 21.5971 - R_squared: -52.1608 - mae: 4.5296 - val_loss: 15.7903 - val_R_squared: -36.3999 - val_mae: 3.7730\n",
      "Epoch 1/300\n",
      "10/10 [==============================] - 29s 3s/step - loss: 19.3269 - R_squared: -46.4065 - mae: 4.2607 - val_loss: 15.7703 - val_R_squared: -35.9743 - val_mae: 3.8126\n"
     ]
    },
    {
     "name": "stderr",
     "output_type": "stream",
     "text": [
      "WARNING:absl:Function `_wrapped_model` contains input name(s) input_7_Carbon_monoxide_alarm, input_7_Dryer_available, input_7_Elevator, input_7_Fire_extinguisher, input_7_Garden_backyard_available, input_7_Patio_balcony_available, input_7_Shampoo_Conditioner_available, input_7_TV_available, input_7_Workspace with unsupported characters which will be renamed to input_7_carbon_monoxide_alarm, input_7_dryer_available, input_7_elevator, input_7_fire_extinguisher, input_7_garden_backyard_available, input_7_patio_balcony_available, input_7_shampoo_conditioner_available, input_7_tv_available, input_7_workspace in the SavedModel.\n"
     ]
    },
    {
     "name": "stdout",
     "output_type": "stream",
     "text": [
      "INFO:tensorflow:Assets written to: logs/price/compound/final_frozen/checkpoint.ckpt/assets\n"
     ]
    },
    {
     "name": "stderr",
     "output_type": "stream",
     "text": [
      "INFO:tensorflow:Assets written to: logs/price/compound/final_frozen/checkpoint.ckpt/assets\n"
     ]
    },
    {
     "name": "stdout",
     "output_type": "stream",
     "text": [
      "Epoch 2/300\n",
      "10/10 [==============================] - 42s 3s/step - loss: 17.5530 - R_squared: -42.1781 - mae: 4.0743 - val_loss: 14.0717 - val_R_squared: -31.8778 - val_mae: 3.6228\n"
     ]
    },
    {
     "name": "stderr",
     "output_type": "stream",
     "text": [
      "WARNING:absl:Function `_wrapped_model` contains input name(s) input_7_Carbon_monoxide_alarm, input_7_Dryer_available, input_7_Elevator, input_7_Fire_extinguisher, input_7_Garden_backyard_available, input_7_Patio_balcony_available, input_7_Shampoo_Conditioner_available, input_7_TV_available, input_7_Workspace with unsupported characters which will be renamed to input_7_carbon_monoxide_alarm, input_7_dryer_available, input_7_elevator, input_7_fire_extinguisher, input_7_garden_backyard_available, input_7_patio_balcony_available, input_7_shampoo_conditioner_available, input_7_tv_available, input_7_workspace in the SavedModel.\n"
     ]
    },
    {
     "name": "stdout",
     "output_type": "stream",
     "text": [
      "INFO:tensorflow:Assets written to: logs/price/compound/final_frozen/checkpoint.ckpt/assets\n"
     ]
    },
    {
     "name": "stderr",
     "output_type": "stream",
     "text": [
      "INFO:tensorflow:Assets written to: logs/price/compound/final_frozen/checkpoint.ckpt/assets\n"
     ]
    },
    {
     "name": "stdout",
     "output_type": "stream",
     "text": [
      "Epoch 3/300\n",
      "10/10 [==============================] - 48s 3s/step - loss: 15.8588 - R_squared: -38.1867 - mae: 3.8874 - val_loss: 11.1856 - val_R_squared: -25.1082 - val_mae: 3.1409\n"
     ]
    },
    {
     "name": "stderr",
     "output_type": "stream",
     "text": [
      "WARNING:absl:Function `_wrapped_model` contains input name(s) input_7_Carbon_monoxide_alarm, input_7_Dryer_available, input_7_Elevator, input_7_Fire_extinguisher, input_7_Garden_backyard_available, input_7_Patio_balcony_available, input_7_Shampoo_Conditioner_available, input_7_TV_available, input_7_Workspace with unsupported characters which will be renamed to input_7_carbon_monoxide_alarm, input_7_dryer_available, input_7_elevator, input_7_fire_extinguisher, input_7_garden_backyard_available, input_7_patio_balcony_available, input_7_shampoo_conditioner_available, input_7_tv_available, input_7_workspace in the SavedModel.\n"
     ]
    },
    {
     "name": "stdout",
     "output_type": "stream",
     "text": [
      "INFO:tensorflow:Assets written to: logs/price/compound/final_frozen/checkpoint.ckpt/assets\n"
     ]
    },
    {
     "name": "stderr",
     "output_type": "stream",
     "text": [
      "INFO:tensorflow:Assets written to: logs/price/compound/final_frozen/checkpoint.ckpt/assets\n"
     ]
    },
    {
     "name": "stdout",
     "output_type": "stream",
     "text": [
      "Epoch 4/300\n",
      "10/10 [==============================] - 34s 2s/step - loss: 14.2917 - R_squared: -34.1902 - mae: 3.7002 - val_loss: 10.4615 - val_R_squared: -23.5848 - val_mae: 3.1011\n"
     ]
    },
    {
     "name": "stderr",
     "output_type": "stream",
     "text": [
      "WARNING:absl:Function `_wrapped_model` contains input name(s) input_7_Carbon_monoxide_alarm, input_7_Dryer_available, input_7_Elevator, input_7_Fire_extinguisher, input_7_Garden_backyard_available, input_7_Patio_balcony_available, input_7_Shampoo_Conditioner_available, input_7_TV_available, input_7_Workspace with unsupported characters which will be renamed to input_7_carbon_monoxide_alarm, input_7_dryer_available, input_7_elevator, input_7_fire_extinguisher, input_7_garden_backyard_available, input_7_patio_balcony_available, input_7_shampoo_conditioner_available, input_7_tv_available, input_7_workspace in the SavedModel.\n"
     ]
    },
    {
     "name": "stdout",
     "output_type": "stream",
     "text": [
      "INFO:tensorflow:Assets written to: logs/price/compound/final_frozen/checkpoint.ckpt/assets\n"
     ]
    },
    {
     "name": "stderr",
     "output_type": "stream",
     "text": [
      "INFO:tensorflow:Assets written to: logs/price/compound/final_frozen/checkpoint.ckpt/assets\n"
     ]
    },
    {
     "name": "stdout",
     "output_type": "stream",
     "text": [
      "Epoch 5/300\n",
      "10/10 [==============================] - 52s 3s/step - loss: 13.0730 - R_squared: -31.4646 - mae: 3.5385 - val_loss: 10.6292 - val_R_squared: -23.9169 - val_mae: 3.1735\n",
      "Epoch 6/300\n",
      "10/10 [==============================] - 33s 3s/step - loss: 11.7493 - R_squared: -27.9331 - mae: 3.3521 - val_loss: 8.9039 - val_R_squared: -19.9558 - val_mae: 2.9035\n"
     ]
    },
    {
     "name": "stderr",
     "output_type": "stream",
     "text": [
      "WARNING:absl:Function `_wrapped_model` contains input name(s) input_7_Carbon_monoxide_alarm, input_7_Dryer_available, input_7_Elevator, input_7_Fire_extinguisher, input_7_Garden_backyard_available, input_7_Patio_balcony_available, input_7_Shampoo_Conditioner_available, input_7_TV_available, input_7_Workspace with unsupported characters which will be renamed to input_7_carbon_monoxide_alarm, input_7_dryer_available, input_7_elevator, input_7_fire_extinguisher, input_7_garden_backyard_available, input_7_patio_balcony_available, input_7_shampoo_conditioner_available, input_7_tv_available, input_7_workspace in the SavedModel.\n"
     ]
    },
    {
     "name": "stdout",
     "output_type": "stream",
     "text": [
      "INFO:tensorflow:Assets written to: logs/price/compound/final_frozen/checkpoint.ckpt/assets\n"
     ]
    },
    {
     "name": "stderr",
     "output_type": "stream",
     "text": [
      "INFO:tensorflow:Assets written to: logs/price/compound/final_frozen/checkpoint.ckpt/assets\n"
     ]
    },
    {
     "name": "stdout",
     "output_type": "stream",
     "text": [
      "Epoch 7/300\n",
      "10/10 [==============================] - 36s 3s/step - loss: 10.6541 - R_squared: -25.2728 - mae: 3.1886 - val_loss: 7.1386 - val_R_squared: -15.8313 - val_mae: 2.5957\n"
     ]
    },
    {
     "name": "stderr",
     "output_type": "stream",
     "text": [
      "WARNING:absl:Function `_wrapped_model` contains input name(s) input_7_Carbon_monoxide_alarm, input_7_Dryer_available, input_7_Elevator, input_7_Fire_extinguisher, input_7_Garden_backyard_available, input_7_Patio_balcony_available, input_7_Shampoo_Conditioner_available, input_7_TV_available, input_7_Workspace with unsupported characters which will be renamed to input_7_carbon_monoxide_alarm, input_7_dryer_available, input_7_elevator, input_7_fire_extinguisher, input_7_garden_backyard_available, input_7_patio_balcony_available, input_7_shampoo_conditioner_available, input_7_tv_available, input_7_workspace in the SavedModel.\n"
     ]
    },
    {
     "name": "stdout",
     "output_type": "stream",
     "text": [
      "INFO:tensorflow:Assets written to: logs/price/compound/final_frozen/checkpoint.ckpt/assets\n"
     ]
    },
    {
     "name": "stderr",
     "output_type": "stream",
     "text": [
      "INFO:tensorflow:Assets written to: logs/price/compound/final_frozen/checkpoint.ckpt/assets\n"
     ]
    },
    {
     "name": "stdout",
     "output_type": "stream",
     "text": [
      "Epoch 8/300\n",
      "10/10 [==============================] - 47s 3s/step - loss: 9.5299 - R_squared: -22.4042 - mae: 3.0158 - val_loss: 6.5375 - val_R_squared: -14.3953 - val_mae: 2.4896\n"
     ]
    },
    {
     "name": "stderr",
     "output_type": "stream",
     "text": [
      "WARNING:absl:Function `_wrapped_model` contains input name(s) input_7_Carbon_monoxide_alarm, input_7_Dryer_available, input_7_Elevator, input_7_Fire_extinguisher, input_7_Garden_backyard_available, input_7_Patio_balcony_available, input_7_Shampoo_Conditioner_available, input_7_TV_available, input_7_Workspace with unsupported characters which will be renamed to input_7_carbon_monoxide_alarm, input_7_dryer_available, input_7_elevator, input_7_fire_extinguisher, input_7_garden_backyard_available, input_7_patio_balcony_available, input_7_shampoo_conditioner_available, input_7_tv_available, input_7_workspace in the SavedModel.\n"
     ]
    },
    {
     "name": "stdout",
     "output_type": "stream",
     "text": [
      "INFO:tensorflow:Assets written to: logs/price/compound/final_frozen/checkpoint.ckpt/assets\n"
     ]
    },
    {
     "name": "stderr",
     "output_type": "stream",
     "text": [
      "INFO:tensorflow:Assets written to: logs/price/compound/final_frozen/checkpoint.ckpt/assets\n"
     ]
    },
    {
     "name": "stdout",
     "output_type": "stream",
     "text": [
      "Epoch 9/300\n",
      "10/10 [==============================] - 47s 4s/step - loss: 8.7637 - R_squared: -20.4936 - mae: 2.8789 - val_loss: 6.1358 - val_R_squared: -13.4403 - val_mae: 2.4118\n"
     ]
    },
    {
     "name": "stderr",
     "output_type": "stream",
     "text": [
      "WARNING:absl:Function `_wrapped_model` contains input name(s) input_7_Carbon_monoxide_alarm, input_7_Dryer_available, input_7_Elevator, input_7_Fire_extinguisher, input_7_Garden_backyard_available, input_7_Patio_balcony_available, input_7_Shampoo_Conditioner_available, input_7_TV_available, input_7_Workspace with unsupported characters which will be renamed to input_7_carbon_monoxide_alarm, input_7_dryer_available, input_7_elevator, input_7_fire_extinguisher, input_7_garden_backyard_available, input_7_patio_balcony_available, input_7_shampoo_conditioner_available, input_7_tv_available, input_7_workspace in the SavedModel.\n"
     ]
    },
    {
     "name": "stdout",
     "output_type": "stream",
     "text": [
      "INFO:tensorflow:Assets written to: logs/price/compound/final_frozen/checkpoint.ckpt/assets\n"
     ]
    },
    {
     "name": "stderr",
     "output_type": "stream",
     "text": [
      "INFO:tensorflow:Assets written to: logs/price/compound/final_frozen/checkpoint.ckpt/assets\n"
     ]
    },
    {
     "name": "stdout",
     "output_type": "stream",
     "text": [
      "Epoch 10/300\n",
      "10/10 [==============================] - 52s 5s/step - loss: 7.8864 - R_squared: -18.5707 - mae: 2.7160 - val_loss: 5.5545 - val_R_squared: -12.0543 - val_mae: 2.2887\n"
     ]
    },
    {
     "name": "stderr",
     "output_type": "stream",
     "text": [
      "WARNING:absl:Function `_wrapped_model` contains input name(s) input_7_Carbon_monoxide_alarm, input_7_Dryer_available, input_7_Elevator, input_7_Fire_extinguisher, input_7_Garden_backyard_available, input_7_Patio_balcony_available, input_7_Shampoo_Conditioner_available, input_7_TV_available, input_7_Workspace with unsupported characters which will be renamed to input_7_carbon_monoxide_alarm, input_7_dryer_available, input_7_elevator, input_7_fire_extinguisher, input_7_garden_backyard_available, input_7_patio_balcony_available, input_7_shampoo_conditioner_available, input_7_tv_available, input_7_workspace in the SavedModel.\n"
     ]
    },
    {
     "name": "stdout",
     "output_type": "stream",
     "text": [
      "INFO:tensorflow:Assets written to: logs/price/compound/final_frozen/checkpoint.ckpt/assets\n"
     ]
    },
    {
     "name": "stderr",
     "output_type": "stream",
     "text": [
      "INFO:tensorflow:Assets written to: logs/price/compound/final_frozen/checkpoint.ckpt/assets\n"
     ]
    },
    {
     "name": "stdout",
     "output_type": "stream",
     "text": [
      "Epoch 11/300\n",
      "10/10 [==============================] - 96s 7s/step - loss: 7.1810 - R_squared: -16.5969 - mae: 2.5795 - val_loss: 4.9628 - val_R_squared: -10.6380 - val_mae: 2.1574\n"
     ]
    },
    {
     "name": "stderr",
     "output_type": "stream",
     "text": [
      "WARNING:absl:Function `_wrapped_model` contains input name(s) input_7_Carbon_monoxide_alarm, input_7_Dryer_available, input_7_Elevator, input_7_Fire_extinguisher, input_7_Garden_backyard_available, input_7_Patio_balcony_available, input_7_Shampoo_Conditioner_available, input_7_TV_available, input_7_Workspace with unsupported characters which will be renamed to input_7_carbon_monoxide_alarm, input_7_dryer_available, input_7_elevator, input_7_fire_extinguisher, input_7_garden_backyard_available, input_7_patio_balcony_available, input_7_shampoo_conditioner_available, input_7_tv_available, input_7_workspace in the SavedModel.\n"
     ]
    },
    {
     "name": "stdout",
     "output_type": "stream",
     "text": [
      "INFO:tensorflow:Assets written to: logs/price/compound/final_frozen/checkpoint.ckpt/assets\n"
     ]
    },
    {
     "name": "stderr",
     "output_type": "stream",
     "text": [
      "INFO:tensorflow:Assets written to: logs/price/compound/final_frozen/checkpoint.ckpt/assets\n"
     ]
    },
    {
     "name": "stdout",
     "output_type": "stream",
     "text": [
      "Epoch 12/300\n",
      "10/10 [==============================] - 62s 3s/step - loss: 6.5383 - R_squared: -15.1069 - mae: 2.4447 - val_loss: 4.4872 - val_R_squared: -9.4598 - val_mae: 2.0500\n"
     ]
    },
    {
     "name": "stderr",
     "output_type": "stream",
     "text": [
      "WARNING:absl:Function `_wrapped_model` contains input name(s) input_7_Carbon_monoxide_alarm, input_7_Dryer_available, input_7_Elevator, input_7_Fire_extinguisher, input_7_Garden_backyard_available, input_7_Patio_balcony_available, input_7_Shampoo_Conditioner_available, input_7_TV_available, input_7_Workspace with unsupported characters which will be renamed to input_7_carbon_monoxide_alarm, input_7_dryer_available, input_7_elevator, input_7_fire_extinguisher, input_7_garden_backyard_available, input_7_patio_balcony_available, input_7_shampoo_conditioner_available, input_7_tv_available, input_7_workspace in the SavedModel.\n"
     ]
    },
    {
     "name": "stdout",
     "output_type": "stream",
     "text": [
      "INFO:tensorflow:Assets written to: logs/price/compound/final_frozen/checkpoint.ckpt/assets\n"
     ]
    },
    {
     "name": "stderr",
     "output_type": "stream",
     "text": [
      "INFO:tensorflow:Assets written to: logs/price/compound/final_frozen/checkpoint.ckpt/assets\n"
     ]
    },
    {
     "name": "stdout",
     "output_type": "stream",
     "text": [
      "Epoch 13/300\n",
      "10/10 [==============================] - 31s 3s/step - loss: 5.8276 - R_squared: -13.2874 - mae: 2.2960 - val_loss: 4.0752 - val_R_squared: -8.4796 - val_mae: 1.9492\n"
     ]
    },
    {
     "name": "stderr",
     "output_type": "stream",
     "text": [
      "WARNING:absl:Function `_wrapped_model` contains input name(s) input_7_Carbon_monoxide_alarm, input_7_Dryer_available, input_7_Elevator, input_7_Fire_extinguisher, input_7_Garden_backyard_available, input_7_Patio_balcony_available, input_7_Shampoo_Conditioner_available, input_7_TV_available, input_7_Workspace with unsupported characters which will be renamed to input_7_carbon_monoxide_alarm, input_7_dryer_available, input_7_elevator, input_7_fire_extinguisher, input_7_garden_backyard_available, input_7_patio_balcony_available, input_7_shampoo_conditioner_available, input_7_tv_available, input_7_workspace in the SavedModel.\n"
     ]
    },
    {
     "name": "stdout",
     "output_type": "stream",
     "text": [
      "INFO:tensorflow:Assets written to: logs/price/compound/final_frozen/checkpoint.ckpt/assets\n"
     ]
    },
    {
     "name": "stderr",
     "output_type": "stream",
     "text": [
      "INFO:tensorflow:Assets written to: logs/price/compound/final_frozen/checkpoint.ckpt/assets\n"
     ]
    },
    {
     "name": "stdout",
     "output_type": "stream",
     "text": [
      "Epoch 14/300\n",
      "10/10 [==============================] - 26s 2s/step - loss: 5.3945 - R_squared: -12.2298 - mae: 2.1838 - val_loss: 3.7293 - val_R_squared: -7.6895 - val_mae: 1.8613\n"
     ]
    },
    {
     "name": "stderr",
     "output_type": "stream",
     "text": [
      "WARNING:absl:Function `_wrapped_model` contains input name(s) input_7_Carbon_monoxide_alarm, input_7_Dryer_available, input_7_Elevator, input_7_Fire_extinguisher, input_7_Garden_backyard_available, input_7_Patio_balcony_available, input_7_Shampoo_Conditioner_available, input_7_TV_available, input_7_Workspace with unsupported characters which will be renamed to input_7_carbon_monoxide_alarm, input_7_dryer_available, input_7_elevator, input_7_fire_extinguisher, input_7_garden_backyard_available, input_7_patio_balcony_available, input_7_shampoo_conditioner_available, input_7_tv_available, input_7_workspace in the SavedModel.\n"
     ]
    },
    {
     "name": "stdout",
     "output_type": "stream",
     "text": [
      "INFO:tensorflow:Assets written to: logs/price/compound/final_frozen/checkpoint.ckpt/assets\n"
     ]
    },
    {
     "name": "stderr",
     "output_type": "stream",
     "text": [
      "INFO:tensorflow:Assets written to: logs/price/compound/final_frozen/checkpoint.ckpt/assets\n"
     ]
    },
    {
     "name": "stdout",
     "output_type": "stream",
     "text": [
      "Epoch 15/300\n",
      "10/10 [==============================] - 24s 2s/step - loss: 4.8713 - R_squared: -10.9242 - mae: 2.0569 - val_loss: 3.3953 - val_R_squared: -6.9045 - val_mae: 1.7684\n"
     ]
    },
    {
     "name": "stderr",
     "output_type": "stream",
     "text": [
      "WARNING:absl:Function `_wrapped_model` contains input name(s) input_7_Carbon_monoxide_alarm, input_7_Dryer_available, input_7_Elevator, input_7_Fire_extinguisher, input_7_Garden_backyard_available, input_7_Patio_balcony_available, input_7_Shampoo_Conditioner_available, input_7_TV_available, input_7_Workspace with unsupported characters which will be renamed to input_7_carbon_monoxide_alarm, input_7_dryer_available, input_7_elevator, input_7_fire_extinguisher, input_7_garden_backyard_available, input_7_patio_balcony_available, input_7_shampoo_conditioner_available, input_7_tv_available, input_7_workspace in the SavedModel.\n"
     ]
    },
    {
     "name": "stdout",
     "output_type": "stream",
     "text": [
      "INFO:tensorflow:Assets written to: logs/price/compound/final_frozen/checkpoint.ckpt/assets\n"
     ]
    },
    {
     "name": "stderr",
     "output_type": "stream",
     "text": [
      "INFO:tensorflow:Assets written to: logs/price/compound/final_frozen/checkpoint.ckpt/assets\n"
     ]
    },
    {
     "name": "stdout",
     "output_type": "stream",
     "text": [
      "Epoch 16/300\n",
      "10/10 [==============================] - 26s 2s/step - loss: 4.4277 - R_squared: -9.8165 - mae: 1.9324 - val_loss: 3.1187 - val_R_squared: -6.2484 - val_mae: 1.6898\n"
     ]
    },
    {
     "name": "stderr",
     "output_type": "stream",
     "text": [
      "WARNING:absl:Function `_wrapped_model` contains input name(s) input_7_Carbon_monoxide_alarm, input_7_Dryer_available, input_7_Elevator, input_7_Fire_extinguisher, input_7_Garden_backyard_available, input_7_Patio_balcony_available, input_7_Shampoo_Conditioner_available, input_7_TV_available, input_7_Workspace with unsupported characters which will be renamed to input_7_carbon_monoxide_alarm, input_7_dryer_available, input_7_elevator, input_7_fire_extinguisher, input_7_garden_backyard_available, input_7_patio_balcony_available, input_7_shampoo_conditioner_available, input_7_tv_available, input_7_workspace in the SavedModel.\n"
     ]
    },
    {
     "name": "stdout",
     "output_type": "stream",
     "text": [
      "INFO:tensorflow:Assets written to: logs/price/compound/final_frozen/checkpoint.ckpt/assets\n"
     ]
    },
    {
     "name": "stderr",
     "output_type": "stream",
     "text": [
      "INFO:tensorflow:Assets written to: logs/price/compound/final_frozen/checkpoint.ckpt/assets\n"
     ]
    },
    {
     "name": "stdout",
     "output_type": "stream",
     "text": [
      "Epoch 17/300\n",
      "10/10 [==============================] - 22s 2s/step - loss: 4.2217 - R_squared: -9.3501 - mae: 1.8641 - val_loss: 2.8925 - val_R_squared: -5.7514 - val_mae: 1.6240\n"
     ]
    },
    {
     "name": "stderr",
     "output_type": "stream",
     "text": [
      "WARNING:absl:Function `_wrapped_model` contains input name(s) input_7_Carbon_monoxide_alarm, input_7_Dryer_available, input_7_Elevator, input_7_Fire_extinguisher, input_7_Garden_backyard_available, input_7_Patio_balcony_available, input_7_Shampoo_Conditioner_available, input_7_TV_available, input_7_Workspace with unsupported characters which will be renamed to input_7_carbon_monoxide_alarm, input_7_dryer_available, input_7_elevator, input_7_fire_extinguisher, input_7_garden_backyard_available, input_7_patio_balcony_available, input_7_shampoo_conditioner_available, input_7_tv_available, input_7_workspace in the SavedModel.\n"
     ]
    },
    {
     "name": "stdout",
     "output_type": "stream",
     "text": [
      "INFO:tensorflow:Assets written to: logs/price/compound/final_frozen/checkpoint.ckpt/assets\n"
     ]
    },
    {
     "name": "stderr",
     "output_type": "stream",
     "text": [
      "INFO:tensorflow:Assets written to: logs/price/compound/final_frozen/checkpoint.ckpt/assets\n"
     ]
    },
    {
     "name": "stdout",
     "output_type": "stream",
     "text": [
      "Epoch 18/300\n",
      "10/10 [==============================] - 23s 2s/step - loss: 3.8180 - R_squared: -8.4255 - mae: 1.7498 - val_loss: 2.6301 - val_R_squared: -5.1334 - val_mae: 1.5414\n"
     ]
    },
    {
     "name": "stderr",
     "output_type": "stream",
     "text": [
      "WARNING:absl:Function `_wrapped_model` contains input name(s) input_7_Carbon_monoxide_alarm, input_7_Dryer_available, input_7_Elevator, input_7_Fire_extinguisher, input_7_Garden_backyard_available, input_7_Patio_balcony_available, input_7_Shampoo_Conditioner_available, input_7_TV_available, input_7_Workspace with unsupported characters which will be renamed to input_7_carbon_monoxide_alarm, input_7_dryer_available, input_7_elevator, input_7_fire_extinguisher, input_7_garden_backyard_available, input_7_patio_balcony_available, input_7_shampoo_conditioner_available, input_7_tv_available, input_7_workspace in the SavedModel.\n"
     ]
    },
    {
     "name": "stdout",
     "output_type": "stream",
     "text": [
      "INFO:tensorflow:Assets written to: logs/price/compound/final_frozen/checkpoint.ckpt/assets\n"
     ]
    },
    {
     "name": "stderr",
     "output_type": "stream",
     "text": [
      "INFO:tensorflow:Assets written to: logs/price/compound/final_frozen/checkpoint.ckpt/assets\n"
     ]
    },
    {
     "name": "stdout",
     "output_type": "stream",
     "text": [
      "Epoch 19/300\n",
      "10/10 [==============================] - 22s 2s/step - loss: 3.5313 - R_squared: -7.6833 - mae: 1.6542 - val_loss: 2.3726 - val_R_squared: -4.5358 - val_mae: 1.4574\n"
     ]
    },
    {
     "name": "stderr",
     "output_type": "stream",
     "text": [
      "WARNING:absl:Function `_wrapped_model` contains input name(s) input_7_Carbon_monoxide_alarm, input_7_Dryer_available, input_7_Elevator, input_7_Fire_extinguisher, input_7_Garden_backyard_available, input_7_Patio_balcony_available, input_7_Shampoo_Conditioner_available, input_7_TV_available, input_7_Workspace with unsupported characters which will be renamed to input_7_carbon_monoxide_alarm, input_7_dryer_available, input_7_elevator, input_7_fire_extinguisher, input_7_garden_backyard_available, input_7_patio_balcony_available, input_7_shampoo_conditioner_available, input_7_tv_available, input_7_workspace in the SavedModel.\n"
     ]
    },
    {
     "name": "stdout",
     "output_type": "stream",
     "text": [
      "INFO:tensorflow:Assets written to: logs/price/compound/final_frozen/checkpoint.ckpt/assets\n"
     ]
    },
    {
     "name": "stderr",
     "output_type": "stream",
     "text": [
      "INFO:tensorflow:Assets written to: logs/price/compound/final_frozen/checkpoint.ckpt/assets\n"
     ]
    },
    {
     "name": "stdout",
     "output_type": "stream",
     "text": [
      "Epoch 20/300\n",
      "10/10 [==============================] - 21s 2s/step - loss: 3.0944 - R_squared: -6.5625 - mae: 1.5282 - val_loss: 2.1469 - val_R_squared: -4.0050 - val_mae: 1.3786\n"
     ]
    },
    {
     "name": "stderr",
     "output_type": "stream",
     "text": [
      "WARNING:absl:Function `_wrapped_model` contains input name(s) input_7_Carbon_monoxide_alarm, input_7_Dryer_available, input_7_Elevator, input_7_Fire_extinguisher, input_7_Garden_backyard_available, input_7_Patio_balcony_available, input_7_Shampoo_Conditioner_available, input_7_TV_available, input_7_Workspace with unsupported characters which will be renamed to input_7_carbon_monoxide_alarm, input_7_dryer_available, input_7_elevator, input_7_fire_extinguisher, input_7_garden_backyard_available, input_7_patio_balcony_available, input_7_shampoo_conditioner_available, input_7_tv_available, input_7_workspace in the SavedModel.\n"
     ]
    },
    {
     "name": "stdout",
     "output_type": "stream",
     "text": [
      "INFO:tensorflow:Assets written to: logs/price/compound/final_frozen/checkpoint.ckpt/assets\n"
     ]
    },
    {
     "name": "stderr",
     "output_type": "stream",
     "text": [
      "INFO:tensorflow:Assets written to: logs/price/compound/final_frozen/checkpoint.ckpt/assets\n"
     ]
    },
    {
     "name": "stdout",
     "output_type": "stream",
     "text": [
      "Epoch 21/300\n",
      "10/10 [==============================] - 21s 2s/step - loss: 2.9990 - R_squared: -6.3531 - mae: 1.4681 - val_loss: 1.9611 - val_R_squared: -3.5704 - val_mae: 1.3113\n"
     ]
    },
    {
     "name": "stderr",
     "output_type": "stream",
     "text": [
      "WARNING:absl:Function `_wrapped_model` contains input name(s) input_7_Carbon_monoxide_alarm, input_7_Dryer_available, input_7_Elevator, input_7_Fire_extinguisher, input_7_Garden_backyard_available, input_7_Patio_balcony_available, input_7_Shampoo_Conditioner_available, input_7_TV_available, input_7_Workspace with unsupported characters which will be renamed to input_7_carbon_monoxide_alarm, input_7_dryer_available, input_7_elevator, input_7_fire_extinguisher, input_7_garden_backyard_available, input_7_patio_balcony_available, input_7_shampoo_conditioner_available, input_7_tv_available, input_7_workspace in the SavedModel.\n"
     ]
    },
    {
     "name": "stdout",
     "output_type": "stream",
     "text": [
      "INFO:tensorflow:Assets written to: logs/price/compound/final_frozen/checkpoint.ckpt/assets\n"
     ]
    },
    {
     "name": "stderr",
     "output_type": "stream",
     "text": [
      "INFO:tensorflow:Assets written to: logs/price/compound/final_frozen/checkpoint.ckpt/assets\n"
     ]
    },
    {
     "name": "stdout",
     "output_type": "stream",
     "text": [
      "Epoch 22/300\n",
      "10/10 [==============================] - 23s 2s/step - loss: 2.7143 - R_squared: -5.6689 - mae: 1.3703 - val_loss: 1.7752 - val_R_squared: -3.1345 - val_mae: 1.2400\n"
     ]
    },
    {
     "name": "stderr",
     "output_type": "stream",
     "text": [
      "WARNING:absl:Function `_wrapped_model` contains input name(s) input_7_Carbon_monoxide_alarm, input_7_Dryer_available, input_7_Elevator, input_7_Fire_extinguisher, input_7_Garden_backyard_available, input_7_Patio_balcony_available, input_7_Shampoo_Conditioner_available, input_7_TV_available, input_7_Workspace with unsupported characters which will be renamed to input_7_carbon_monoxide_alarm, input_7_dryer_available, input_7_elevator, input_7_fire_extinguisher, input_7_garden_backyard_available, input_7_patio_balcony_available, input_7_shampoo_conditioner_available, input_7_tv_available, input_7_workspace in the SavedModel.\n"
     ]
    },
    {
     "name": "stdout",
     "output_type": "stream",
     "text": [
      "INFO:tensorflow:Assets written to: logs/price/compound/final_frozen/checkpoint.ckpt/assets\n"
     ]
    },
    {
     "name": "stderr",
     "output_type": "stream",
     "text": [
      "INFO:tensorflow:Assets written to: logs/price/compound/final_frozen/checkpoint.ckpt/assets\n"
     ]
    },
    {
     "name": "stdout",
     "output_type": "stream",
     "text": [
      "Epoch 23/300\n",
      "10/10 [==============================] - 22s 2s/step - loss: 2.5731 - R_squared: -5.3316 - mae: 1.3020 - val_loss: 1.6076 - val_R_squared: -2.7432 - val_mae: 1.1723\n"
     ]
    },
    {
     "name": "stderr",
     "output_type": "stream",
     "text": [
      "WARNING:absl:Function `_wrapped_model` contains input name(s) input_7_Carbon_monoxide_alarm, input_7_Dryer_available, input_7_Elevator, input_7_Fire_extinguisher, input_7_Garden_backyard_available, input_7_Patio_balcony_available, input_7_Shampoo_Conditioner_available, input_7_TV_available, input_7_Workspace with unsupported characters which will be renamed to input_7_carbon_monoxide_alarm, input_7_dryer_available, input_7_elevator, input_7_fire_extinguisher, input_7_garden_backyard_available, input_7_patio_balcony_available, input_7_shampoo_conditioner_available, input_7_tv_available, input_7_workspace in the SavedModel.\n"
     ]
    },
    {
     "name": "stdout",
     "output_type": "stream",
     "text": [
      "INFO:tensorflow:Assets written to: logs/price/compound/final_frozen/checkpoint.ckpt/assets\n"
     ]
    },
    {
     "name": "stderr",
     "output_type": "stream",
     "text": [
      "INFO:tensorflow:Assets written to: logs/price/compound/final_frozen/checkpoint.ckpt/assets\n"
     ]
    },
    {
     "name": "stdout",
     "output_type": "stream",
     "text": [
      "Epoch 24/300\n",
      "10/10 [==============================] - 21s 2s/step - loss: 2.3728 - R_squared: -4.8114 - mae: 1.2227 - val_loss: 1.4689 - val_R_squared: -2.4143 - val_mae: 1.1137\n"
     ]
    },
    {
     "name": "stderr",
     "output_type": "stream",
     "text": [
      "WARNING:absl:Function `_wrapped_model` contains input name(s) input_7_Carbon_monoxide_alarm, input_7_Dryer_available, input_7_Elevator, input_7_Fire_extinguisher, input_7_Garden_backyard_available, input_7_Patio_balcony_available, input_7_Shampoo_Conditioner_available, input_7_TV_available, input_7_Workspace with unsupported characters which will be renamed to input_7_carbon_monoxide_alarm, input_7_dryer_available, input_7_elevator, input_7_fire_extinguisher, input_7_garden_backyard_available, input_7_patio_balcony_available, input_7_shampoo_conditioner_available, input_7_tv_available, input_7_workspace in the SavedModel.\n"
     ]
    },
    {
     "name": "stdout",
     "output_type": "stream",
     "text": [
      "INFO:tensorflow:Assets written to: logs/price/compound/final_frozen/checkpoint.ckpt/assets\n"
     ]
    },
    {
     "name": "stderr",
     "output_type": "stream",
     "text": [
      "INFO:tensorflow:Assets written to: logs/price/compound/final_frozen/checkpoint.ckpt/assets\n"
     ]
    },
    {
     "name": "stdout",
     "output_type": "stream",
     "text": [
      "Epoch 25/300\n",
      "10/10 [==============================] - 24s 2s/step - loss: 2.2592 - R_squared: -4.5185 - mae: 1.1632 - val_loss: 1.3380 - val_R_squared: -2.1049 - val_mae: 1.0556\n"
     ]
    },
    {
     "name": "stderr",
     "output_type": "stream",
     "text": [
      "WARNING:absl:Function `_wrapped_model` contains input name(s) input_7_Carbon_monoxide_alarm, input_7_Dryer_available, input_7_Elevator, input_7_Fire_extinguisher, input_7_Garden_backyard_available, input_7_Patio_balcony_available, input_7_Shampoo_Conditioner_available, input_7_TV_available, input_7_Workspace with unsupported characters which will be renamed to input_7_carbon_monoxide_alarm, input_7_dryer_available, input_7_elevator, input_7_fire_extinguisher, input_7_garden_backyard_available, input_7_patio_balcony_available, input_7_shampoo_conditioner_available, input_7_tv_available, input_7_workspace in the SavedModel.\n"
     ]
    },
    {
     "name": "stdout",
     "output_type": "stream",
     "text": [
      "INFO:tensorflow:Assets written to: logs/price/compound/final_frozen/checkpoint.ckpt/assets\n"
     ]
    },
    {
     "name": "stderr",
     "output_type": "stream",
     "text": [
      "INFO:tensorflow:Assets written to: logs/price/compound/final_frozen/checkpoint.ckpt/assets\n"
     ]
    },
    {
     "name": "stdout",
     "output_type": "stream",
     "text": [
      "Epoch 26/300\n",
      "10/10 [==============================] - 20s 2s/step - loss: 2.1419 - R_squared: -4.2408 - mae: 1.1150 - val_loss: 1.2383 - val_R_squared: -1.8727 - val_mae: 1.0085\n"
     ]
    },
    {
     "name": "stderr",
     "output_type": "stream",
     "text": [
      "WARNING:absl:Function `_wrapped_model` contains input name(s) input_7_Carbon_monoxide_alarm, input_7_Dryer_available, input_7_Elevator, input_7_Fire_extinguisher, input_7_Garden_backyard_available, input_7_Patio_balcony_available, input_7_Shampoo_Conditioner_available, input_7_TV_available, input_7_Workspace with unsupported characters which will be renamed to input_7_carbon_monoxide_alarm, input_7_dryer_available, input_7_elevator, input_7_fire_extinguisher, input_7_garden_backyard_available, input_7_patio_balcony_available, input_7_shampoo_conditioner_available, input_7_tv_available, input_7_workspace in the SavedModel.\n"
     ]
    },
    {
     "name": "stdout",
     "output_type": "stream",
     "text": [
      "INFO:tensorflow:Assets written to: logs/price/compound/final_frozen/checkpoint.ckpt/assets\n"
     ]
    },
    {
     "name": "stderr",
     "output_type": "stream",
     "text": [
      "INFO:tensorflow:Assets written to: logs/price/compound/final_frozen/checkpoint.ckpt/assets\n"
     ]
    },
    {
     "name": "stdout",
     "output_type": "stream",
     "text": [
      "Epoch 27/300\n",
      "10/10 [==============================] - 22s 2s/step - loss: 1.9048 - R_squared: -3.6942 - mae: 1.0237 - val_loss: 1.1427 - val_R_squared: -1.6468 - val_mae: 0.9619\n"
     ]
    },
    {
     "name": "stderr",
     "output_type": "stream",
     "text": [
      "WARNING:absl:Function `_wrapped_model` contains input name(s) input_7_Carbon_monoxide_alarm, input_7_Dryer_available, input_7_Elevator, input_7_Fire_extinguisher, input_7_Garden_backyard_available, input_7_Patio_balcony_available, input_7_Shampoo_Conditioner_available, input_7_TV_available, input_7_Workspace with unsupported characters which will be renamed to input_7_carbon_monoxide_alarm, input_7_dryer_available, input_7_elevator, input_7_fire_extinguisher, input_7_garden_backyard_available, input_7_patio_balcony_available, input_7_shampoo_conditioner_available, input_7_tv_available, input_7_workspace in the SavedModel.\n"
     ]
    },
    {
     "name": "stdout",
     "output_type": "stream",
     "text": [
      "INFO:tensorflow:Assets written to: logs/price/compound/final_frozen/checkpoint.ckpt/assets\n"
     ]
    },
    {
     "name": "stderr",
     "output_type": "stream",
     "text": [
      "INFO:tensorflow:Assets written to: logs/price/compound/final_frozen/checkpoint.ckpt/assets\n"
     ]
    },
    {
     "name": "stdout",
     "output_type": "stream",
     "text": [
      "Epoch 28/300\n",
      "10/10 [==============================] - 22s 2s/step - loss: 1.8269 - R_squared: -3.4650 - mae: 0.9723 - val_loss: 1.0693 - val_R_squared: -1.4728 - val_mae: 0.9244\n"
     ]
    },
    {
     "name": "stderr",
     "output_type": "stream",
     "text": [
      "WARNING:absl:Function `_wrapped_model` contains input name(s) input_7_Carbon_monoxide_alarm, input_7_Dryer_available, input_7_Elevator, input_7_Fire_extinguisher, input_7_Garden_backyard_available, input_7_Patio_balcony_available, input_7_Shampoo_Conditioner_available, input_7_TV_available, input_7_Workspace with unsupported characters which will be renamed to input_7_carbon_monoxide_alarm, input_7_dryer_available, input_7_elevator, input_7_fire_extinguisher, input_7_garden_backyard_available, input_7_patio_balcony_available, input_7_shampoo_conditioner_available, input_7_tv_available, input_7_workspace in the SavedModel.\n"
     ]
    },
    {
     "name": "stdout",
     "output_type": "stream",
     "text": [
      "INFO:tensorflow:Assets written to: logs/price/compound/final_frozen/checkpoint.ckpt/assets\n"
     ]
    },
    {
     "name": "stderr",
     "output_type": "stream",
     "text": [
      "INFO:tensorflow:Assets written to: logs/price/compound/final_frozen/checkpoint.ckpt/assets\n"
     ]
    },
    {
     "name": "stdout",
     "output_type": "stream",
     "text": [
      "Epoch 29/300\n",
      "10/10 [==============================] - 25s 2s/step - loss: 1.8634 - R_squared: -3.5601 - mae: 0.9718 - val_loss: 1.0018 - val_R_squared: -1.3140 - val_mae: 0.8878\n"
     ]
    },
    {
     "name": "stderr",
     "output_type": "stream",
     "text": [
      "WARNING:absl:Function `_wrapped_model` contains input name(s) input_7_Carbon_monoxide_alarm, input_7_Dryer_available, input_7_Elevator, input_7_Fire_extinguisher, input_7_Garden_backyard_available, input_7_Patio_balcony_available, input_7_Shampoo_Conditioner_available, input_7_TV_available, input_7_Workspace with unsupported characters which will be renamed to input_7_carbon_monoxide_alarm, input_7_dryer_available, input_7_elevator, input_7_fire_extinguisher, input_7_garden_backyard_available, input_7_patio_balcony_available, input_7_shampoo_conditioner_available, input_7_tv_available, input_7_workspace in the SavedModel.\n"
     ]
    },
    {
     "name": "stdout",
     "output_type": "stream",
     "text": [
      "INFO:tensorflow:Assets written to: logs/price/compound/final_frozen/checkpoint.ckpt/assets\n"
     ]
    },
    {
     "name": "stderr",
     "output_type": "stream",
     "text": [
      "INFO:tensorflow:Assets written to: logs/price/compound/final_frozen/checkpoint.ckpt/assets\n"
     ]
    },
    {
     "name": "stdout",
     "output_type": "stream",
     "text": [
      "Epoch 30/300\n",
      "10/10 [==============================] - 22s 2s/step - loss: 1.7105 - R_squared: -3.1917 - mae: 0.9029 - val_loss: 0.9370 - val_R_squared: -1.1606 - val_mae: 0.8519\n"
     ]
    },
    {
     "name": "stderr",
     "output_type": "stream",
     "text": [
      "WARNING:absl:Function `_wrapped_model` contains input name(s) input_7_Carbon_monoxide_alarm, input_7_Dryer_available, input_7_Elevator, input_7_Fire_extinguisher, input_7_Garden_backyard_available, input_7_Patio_balcony_available, input_7_Shampoo_Conditioner_available, input_7_TV_available, input_7_Workspace with unsupported characters which will be renamed to input_7_carbon_monoxide_alarm, input_7_dryer_available, input_7_elevator, input_7_fire_extinguisher, input_7_garden_backyard_available, input_7_patio_balcony_available, input_7_shampoo_conditioner_available, input_7_tv_available, input_7_workspace in the SavedModel.\n"
     ]
    },
    {
     "name": "stdout",
     "output_type": "stream",
     "text": [
      "INFO:tensorflow:Assets written to: logs/price/compound/final_frozen/checkpoint.ckpt/assets\n"
     ]
    },
    {
     "name": "stderr",
     "output_type": "stream",
     "text": [
      "INFO:tensorflow:Assets written to: logs/price/compound/final_frozen/checkpoint.ckpt/assets\n"
     ]
    },
    {
     "name": "stdout",
     "output_type": "stream",
     "text": [
      "Epoch 31/300\n",
      "10/10 [==============================] - 24s 2s/step - loss: 1.7741 - R_squared: -3.3804 - mae: 0.8986 - val_loss: 0.8484 - val_R_squared: -0.9537 - val_mae: 0.8021\n"
     ]
    },
    {
     "name": "stderr",
     "output_type": "stream",
     "text": [
      "WARNING:absl:Function `_wrapped_model` contains input name(s) input_7_Carbon_monoxide_alarm, input_7_Dryer_available, input_7_Elevator, input_7_Fire_extinguisher, input_7_Garden_backyard_available, input_7_Patio_balcony_available, input_7_Shampoo_Conditioner_available, input_7_TV_available, input_7_Workspace with unsupported characters which will be renamed to input_7_carbon_monoxide_alarm, input_7_dryer_available, input_7_elevator, input_7_fire_extinguisher, input_7_garden_backyard_available, input_7_patio_balcony_available, input_7_shampoo_conditioner_available, input_7_tv_available, input_7_workspace in the SavedModel.\n"
     ]
    },
    {
     "name": "stdout",
     "output_type": "stream",
     "text": [
      "INFO:tensorflow:Assets written to: logs/price/compound/final_frozen/checkpoint.ckpt/assets\n"
     ]
    },
    {
     "name": "stderr",
     "output_type": "stream",
     "text": [
      "INFO:tensorflow:Assets written to: logs/price/compound/final_frozen/checkpoint.ckpt/assets\n"
     ]
    },
    {
     "name": "stdout",
     "output_type": "stream",
     "text": [
      "Epoch 32/300\n",
      "10/10 [==============================] - 21s 2s/step - loss: 1.6852 - R_squared: -3.1148 - mae: 0.8661 - val_loss: 0.7959 - val_R_squared: -0.8292 - val_mae: 0.7721\n"
     ]
    },
    {
     "name": "stderr",
     "output_type": "stream",
     "text": [
      "WARNING:absl:Function `_wrapped_model` contains input name(s) input_7_Carbon_monoxide_alarm, input_7_Dryer_available, input_7_Elevator, input_7_Fire_extinguisher, input_7_Garden_backyard_available, input_7_Patio_balcony_available, input_7_Shampoo_Conditioner_available, input_7_TV_available, input_7_Workspace with unsupported characters which will be renamed to input_7_carbon_monoxide_alarm, input_7_dryer_available, input_7_elevator, input_7_fire_extinguisher, input_7_garden_backyard_available, input_7_patio_balcony_available, input_7_shampoo_conditioner_available, input_7_tv_available, input_7_workspace in the SavedModel.\n"
     ]
    },
    {
     "name": "stdout",
     "output_type": "stream",
     "text": [
      "INFO:tensorflow:Assets written to: logs/price/compound/final_frozen/checkpoint.ckpt/assets\n"
     ]
    },
    {
     "name": "stderr",
     "output_type": "stream",
     "text": [
      "INFO:tensorflow:Assets written to: logs/price/compound/final_frozen/checkpoint.ckpt/assets\n"
     ]
    },
    {
     "name": "stdout",
     "output_type": "stream",
     "text": [
      "Epoch 33/300\n",
      "10/10 [==============================] - 22s 2s/step - loss: 1.6220 - R_squared: -2.9762 - mae: 0.8295 - val_loss: 0.7445 - val_R_squared: -0.7039 - val_mae: 0.7384\n"
     ]
    },
    {
     "name": "stderr",
     "output_type": "stream",
     "text": [
      "WARNING:absl:Function `_wrapped_model` contains input name(s) input_7_Carbon_monoxide_alarm, input_7_Dryer_available, input_7_Elevator, input_7_Fire_extinguisher, input_7_Garden_backyard_available, input_7_Patio_balcony_available, input_7_Shampoo_Conditioner_available, input_7_TV_available, input_7_Workspace with unsupported characters which will be renamed to input_7_carbon_monoxide_alarm, input_7_dryer_available, input_7_elevator, input_7_fire_extinguisher, input_7_garden_backyard_available, input_7_patio_balcony_available, input_7_shampoo_conditioner_available, input_7_tv_available, input_7_workspace in the SavedModel.\n"
     ]
    },
    {
     "name": "stdout",
     "output_type": "stream",
     "text": [
      "INFO:tensorflow:Assets written to: logs/price/compound/final_frozen/checkpoint.ckpt/assets\n"
     ]
    },
    {
     "name": "stderr",
     "output_type": "stream",
     "text": [
      "INFO:tensorflow:Assets written to: logs/price/compound/final_frozen/checkpoint.ckpt/assets\n"
     ]
    },
    {
     "name": "stdout",
     "output_type": "stream",
     "text": [
      "Epoch 34/300\n",
      "10/10 [==============================] - 20s 2s/step - loss: 1.4903 - R_squared: -2.6449 - mae: 0.7991 - val_loss: 0.7049 - val_R_squared: -0.6099 - val_mae: 0.7132\n"
     ]
    },
    {
     "name": "stderr",
     "output_type": "stream",
     "text": [
      "WARNING:absl:Function `_wrapped_model` contains input name(s) input_7_Carbon_monoxide_alarm, input_7_Dryer_available, input_7_Elevator, input_7_Fire_extinguisher, input_7_Garden_backyard_available, input_7_Patio_balcony_available, input_7_Shampoo_Conditioner_available, input_7_TV_available, input_7_Workspace with unsupported characters which will be renamed to input_7_carbon_monoxide_alarm, input_7_dryer_available, input_7_elevator, input_7_fire_extinguisher, input_7_garden_backyard_available, input_7_patio_balcony_available, input_7_shampoo_conditioner_available, input_7_tv_available, input_7_workspace in the SavedModel.\n"
     ]
    },
    {
     "name": "stdout",
     "output_type": "stream",
     "text": [
      "INFO:tensorflow:Assets written to: logs/price/compound/final_frozen/checkpoint.ckpt/assets\n"
     ]
    },
    {
     "name": "stderr",
     "output_type": "stream",
     "text": [
      "INFO:tensorflow:Assets written to: logs/price/compound/final_frozen/checkpoint.ckpt/assets\n"
     ]
    },
    {
     "name": "stdout",
     "output_type": "stream",
     "text": [
      "Epoch 35/300\n",
      "10/10 [==============================] - 22s 2s/step - loss: 1.5705 - R_squared: -2.8535 - mae: 0.8117 - val_loss: 0.6657 - val_R_squared: -0.5190 - val_mae: 0.6885\n"
     ]
    },
    {
     "name": "stderr",
     "output_type": "stream",
     "text": [
      "WARNING:absl:Function `_wrapped_model` contains input name(s) input_7_Carbon_monoxide_alarm, input_7_Dryer_available, input_7_Elevator, input_7_Fire_extinguisher, input_7_Garden_backyard_available, input_7_Patio_balcony_available, input_7_Shampoo_Conditioner_available, input_7_TV_available, input_7_Workspace with unsupported characters which will be renamed to input_7_carbon_monoxide_alarm, input_7_dryer_available, input_7_elevator, input_7_fire_extinguisher, input_7_garden_backyard_available, input_7_patio_balcony_available, input_7_shampoo_conditioner_available, input_7_tv_available, input_7_workspace in the SavedModel.\n"
     ]
    },
    {
     "name": "stdout",
     "output_type": "stream",
     "text": [
      "INFO:tensorflow:Assets written to: logs/price/compound/final_frozen/checkpoint.ckpt/assets\n"
     ]
    },
    {
     "name": "stderr",
     "output_type": "stream",
     "text": [
      "INFO:tensorflow:Assets written to: logs/price/compound/final_frozen/checkpoint.ckpt/assets\n"
     ]
    },
    {
     "name": "stdout",
     "output_type": "stream",
     "text": [
      "Epoch 36/300\n",
      "10/10 [==============================] - 19s 2s/step - loss: 1.5000 - R_squared: -2.6877 - mae: 0.7878 - val_loss: 0.6275 - val_R_squared: -0.4307 - val_mae: 0.6627\n"
     ]
    },
    {
     "name": "stderr",
     "output_type": "stream",
     "text": [
      "WARNING:absl:Function `_wrapped_model` contains input name(s) input_7_Carbon_monoxide_alarm, input_7_Dryer_available, input_7_Elevator, input_7_Fire_extinguisher, input_7_Garden_backyard_available, input_7_Patio_balcony_available, input_7_Shampoo_Conditioner_available, input_7_TV_available, input_7_Workspace with unsupported characters which will be renamed to input_7_carbon_monoxide_alarm, input_7_dryer_available, input_7_elevator, input_7_fire_extinguisher, input_7_garden_backyard_available, input_7_patio_balcony_available, input_7_shampoo_conditioner_available, input_7_tv_available, input_7_workspace in the SavedModel.\n"
     ]
    },
    {
     "name": "stdout",
     "output_type": "stream",
     "text": [
      "INFO:tensorflow:Assets written to: logs/price/compound/final_frozen/checkpoint.ckpt/assets\n"
     ]
    },
    {
     "name": "stderr",
     "output_type": "stream",
     "text": [
      "INFO:tensorflow:Assets written to: logs/price/compound/final_frozen/checkpoint.ckpt/assets\n"
     ]
    },
    {
     "name": "stdout",
     "output_type": "stream",
     "text": [
      "Epoch 37/300\n",
      "10/10 [==============================] - 23s 2s/step - loss: 1.3915 - R_squared: -2.4027 - mae: 0.7509 - val_loss: 0.6244 - val_R_squared: -0.4210 - val_mae: 0.6615\n"
     ]
    },
    {
     "name": "stderr",
     "output_type": "stream",
     "text": [
      "WARNING:absl:Function `_wrapped_model` contains input name(s) input_7_Carbon_monoxide_alarm, input_7_Dryer_available, input_7_Elevator, input_7_Fire_extinguisher, input_7_Garden_backyard_available, input_7_Patio_balcony_available, input_7_Shampoo_Conditioner_available, input_7_TV_available, input_7_Workspace with unsupported characters which will be renamed to input_7_carbon_monoxide_alarm, input_7_dryer_available, input_7_elevator, input_7_fire_extinguisher, input_7_garden_backyard_available, input_7_patio_balcony_available, input_7_shampoo_conditioner_available, input_7_tv_available, input_7_workspace in the SavedModel.\n"
     ]
    },
    {
     "name": "stdout",
     "output_type": "stream",
     "text": [
      "INFO:tensorflow:Assets written to: logs/price/compound/final_frozen/checkpoint.ckpt/assets\n"
     ]
    },
    {
     "name": "stderr",
     "output_type": "stream",
     "text": [
      "INFO:tensorflow:Assets written to: logs/price/compound/final_frozen/checkpoint.ckpt/assets\n"
     ]
    },
    {
     "name": "stdout",
     "output_type": "stream",
     "text": [
      "Epoch 38/300\n",
      "10/10 [==============================] - 21s 2s/step - loss: 1.4064 - R_squared: -2.4261 - mae: 0.7597 - val_loss: 0.5726 - val_R_squared: -0.3000 - val_mae: 0.6243\n"
     ]
    },
    {
     "name": "stderr",
     "output_type": "stream",
     "text": [
      "WARNING:absl:Function `_wrapped_model` contains input name(s) input_7_Carbon_monoxide_alarm, input_7_Dryer_available, input_7_Elevator, input_7_Fire_extinguisher, input_7_Garden_backyard_available, input_7_Patio_balcony_available, input_7_Shampoo_Conditioner_available, input_7_TV_available, input_7_Workspace with unsupported characters which will be renamed to input_7_carbon_monoxide_alarm, input_7_dryer_available, input_7_elevator, input_7_fire_extinguisher, input_7_garden_backyard_available, input_7_patio_balcony_available, input_7_shampoo_conditioner_available, input_7_tv_available, input_7_workspace in the SavedModel.\n"
     ]
    },
    {
     "name": "stdout",
     "output_type": "stream",
     "text": [
      "INFO:tensorflow:Assets written to: logs/price/compound/final_frozen/checkpoint.ckpt/assets\n"
     ]
    },
    {
     "name": "stderr",
     "output_type": "stream",
     "text": [
      "INFO:tensorflow:Assets written to: logs/price/compound/final_frozen/checkpoint.ckpt/assets\n"
     ]
    },
    {
     "name": "stdout",
     "output_type": "stream",
     "text": [
      "Epoch 39/300\n",
      "10/10 [==============================] - 23s 2s/step - loss: 1.3860 - R_squared: -2.4021 - mae: 0.7491 - val_loss: 0.5465 - val_R_squared: -0.2371 - val_mae: 0.6056\n"
     ]
    },
    {
     "name": "stderr",
     "output_type": "stream",
     "text": [
      "WARNING:absl:Function `_wrapped_model` contains input name(s) input_7_Carbon_monoxide_alarm, input_7_Dryer_available, input_7_Elevator, input_7_Fire_extinguisher, input_7_Garden_backyard_available, input_7_Patio_balcony_available, input_7_Shampoo_Conditioner_available, input_7_TV_available, input_7_Workspace with unsupported characters which will be renamed to input_7_carbon_monoxide_alarm, input_7_dryer_available, input_7_elevator, input_7_fire_extinguisher, input_7_garden_backyard_available, input_7_patio_balcony_available, input_7_shampoo_conditioner_available, input_7_tv_available, input_7_workspace in the SavedModel.\n"
     ]
    },
    {
     "name": "stdout",
     "output_type": "stream",
     "text": [
      "INFO:tensorflow:Assets written to: logs/price/compound/final_frozen/checkpoint.ckpt/assets\n"
     ]
    },
    {
     "name": "stderr",
     "output_type": "stream",
     "text": [
      "INFO:tensorflow:Assets written to: logs/price/compound/final_frozen/checkpoint.ckpt/assets\n"
     ]
    },
    {
     "name": "stdout",
     "output_type": "stream",
     "text": [
      "Epoch 40/300\n",
      "10/10 [==============================] - 20s 2s/step - loss: 1.3518 - R_squared: -2.3205 - mae: 0.7359 - val_loss: 0.5577 - val_R_squared: -0.2654 - val_mae: 0.6126\n",
      "Epoch 41/300\n",
      "10/10 [==============================] - 18s 2s/step - loss: 1.3670 - R_squared: -2.3613 - mae: 0.7443 - val_loss: 0.5404 - val_R_squared: -0.2262 - val_mae: 0.5996\n"
     ]
    },
    {
     "name": "stderr",
     "output_type": "stream",
     "text": [
      "WARNING:absl:Function `_wrapped_model` contains input name(s) input_7_Carbon_monoxide_alarm, input_7_Dryer_available, input_7_Elevator, input_7_Fire_extinguisher, input_7_Garden_backyard_available, input_7_Patio_balcony_available, input_7_Shampoo_Conditioner_available, input_7_TV_available, input_7_Workspace with unsupported characters which will be renamed to input_7_carbon_monoxide_alarm, input_7_dryer_available, input_7_elevator, input_7_fire_extinguisher, input_7_garden_backyard_available, input_7_patio_balcony_available, input_7_shampoo_conditioner_available, input_7_tv_available, input_7_workspace in the SavedModel.\n"
     ]
    },
    {
     "name": "stdout",
     "output_type": "stream",
     "text": [
      "INFO:tensorflow:Assets written to: logs/price/compound/final_frozen/checkpoint.ckpt/assets\n"
     ]
    },
    {
     "name": "stderr",
     "output_type": "stream",
     "text": [
      "INFO:tensorflow:Assets written to: logs/price/compound/final_frozen/checkpoint.ckpt/assets\n"
     ]
    },
    {
     "name": "stdout",
     "output_type": "stream",
     "text": [
      "Epoch 42/300\n",
      "10/10 [==============================] - 22s 2s/step - loss: 1.2649 - R_squared: -2.0908 - mae: 0.7119 - val_loss: 0.5163 - val_R_squared: -0.1684 - val_mae: 0.5803\n"
     ]
    },
    {
     "name": "stderr",
     "output_type": "stream",
     "text": [
      "WARNING:absl:Function `_wrapped_model` contains input name(s) input_7_Carbon_monoxide_alarm, input_7_Dryer_available, input_7_Elevator, input_7_Fire_extinguisher, input_7_Garden_backyard_available, input_7_Patio_balcony_available, input_7_Shampoo_Conditioner_available, input_7_TV_available, input_7_Workspace with unsupported characters which will be renamed to input_7_carbon_monoxide_alarm, input_7_dryer_available, input_7_elevator, input_7_fire_extinguisher, input_7_garden_backyard_available, input_7_patio_balcony_available, input_7_shampoo_conditioner_available, input_7_tv_available, input_7_workspace in the SavedModel.\n"
     ]
    },
    {
     "name": "stdout",
     "output_type": "stream",
     "text": [
      "INFO:tensorflow:Assets written to: logs/price/compound/final_frozen/checkpoint.ckpt/assets\n"
     ]
    },
    {
     "name": "stderr",
     "output_type": "stream",
     "text": [
      "INFO:tensorflow:Assets written to: logs/price/compound/final_frozen/checkpoint.ckpt/assets\n"
     ]
    },
    {
     "name": "stdout",
     "output_type": "stream",
     "text": [
      "Epoch 43/300\n",
      "10/10 [==============================] - 25s 2s/step - loss: 1.2395 - R_squared: -2.0357 - mae: 0.7046 - val_loss: 0.5401 - val_R_squared: -0.2217 - val_mae: 0.5980\n",
      "Epoch 44/300\n",
      "10/10 [==============================] - 21s 2s/step - loss: 1.2683 - R_squared: -2.1055 - mae: 0.7114 - val_loss: 0.4694 - val_R_squared: -0.0561 - val_mae: 0.5469\n"
     ]
    },
    {
     "name": "stderr",
     "output_type": "stream",
     "text": [
      "WARNING:absl:Function `_wrapped_model` contains input name(s) input_7_Carbon_monoxide_alarm, input_7_Dryer_available, input_7_Elevator, input_7_Fire_extinguisher, input_7_Garden_backyard_available, input_7_Patio_balcony_available, input_7_Shampoo_Conditioner_available, input_7_TV_available, input_7_Workspace with unsupported characters which will be renamed to input_7_carbon_monoxide_alarm, input_7_dryer_available, input_7_elevator, input_7_fire_extinguisher, input_7_garden_backyard_available, input_7_patio_balcony_available, input_7_shampoo_conditioner_available, input_7_tv_available, input_7_workspace in the SavedModel.\n"
     ]
    },
    {
     "name": "stdout",
     "output_type": "stream",
     "text": [
      "INFO:tensorflow:Assets written to: logs/price/compound/final_frozen/checkpoint.ckpt/assets\n"
     ]
    },
    {
     "name": "stderr",
     "output_type": "stream",
     "text": [
      "INFO:tensorflow:Assets written to: logs/price/compound/final_frozen/checkpoint.ckpt/assets\n"
     ]
    },
    {
     "name": "stdout",
     "output_type": "stream",
     "text": [
      "Epoch 45/300\n",
      "10/10 [==============================] - 21s 2s/step - loss: 1.3238 - R_squared: -2.2435 - mae: 0.7345 - val_loss: 0.5082 - val_R_squared: -0.1488 - val_mae: 0.5743\n",
      "Epoch 46/300\n",
      "10/10 [==============================] - 21s 2s/step - loss: 1.1609 - R_squared: -1.8535 - mae: 0.6924 - val_loss: 0.4559 - val_R_squared: -0.0238 - val_mae: 0.5381\n"
     ]
    },
    {
     "name": "stderr",
     "output_type": "stream",
     "text": [
      "WARNING:absl:Function `_wrapped_model` contains input name(s) input_7_Carbon_monoxide_alarm, input_7_Dryer_available, input_7_Elevator, input_7_Fire_extinguisher, input_7_Garden_backyard_available, input_7_Patio_balcony_available, input_7_Shampoo_Conditioner_available, input_7_TV_available, input_7_Workspace with unsupported characters which will be renamed to input_7_carbon_monoxide_alarm, input_7_dryer_available, input_7_elevator, input_7_fire_extinguisher, input_7_garden_backyard_available, input_7_patio_balcony_available, input_7_shampoo_conditioner_available, input_7_tv_available, input_7_workspace in the SavedModel.\n"
     ]
    },
    {
     "name": "stdout",
     "output_type": "stream",
     "text": [
      "INFO:tensorflow:Assets written to: logs/price/compound/final_frozen/checkpoint.ckpt/assets\n"
     ]
    },
    {
     "name": "stderr",
     "output_type": "stream",
     "text": [
      "INFO:tensorflow:Assets written to: logs/price/compound/final_frozen/checkpoint.ckpt/assets\n"
     ]
    },
    {
     "name": "stdout",
     "output_type": "stream",
     "text": [
      "Epoch 47/300\n",
      "10/10 [==============================] - 36s 3s/step - loss: 1.2080 - R_squared: -1.9627 - mae: 0.7076 - val_loss: 0.4463 - val_R_squared: -9.4573e-04 - val_mae: 0.5318\n"
     ]
    },
    {
     "name": "stderr",
     "output_type": "stream",
     "text": [
      "WARNING:absl:Function `_wrapped_model` contains input name(s) input_7_Carbon_monoxide_alarm, input_7_Dryer_available, input_7_Elevator, input_7_Fire_extinguisher, input_7_Garden_backyard_available, input_7_Patio_balcony_available, input_7_Shampoo_Conditioner_available, input_7_TV_available, input_7_Workspace with unsupported characters which will be renamed to input_7_carbon_monoxide_alarm, input_7_dryer_available, input_7_elevator, input_7_fire_extinguisher, input_7_garden_backyard_available, input_7_patio_balcony_available, input_7_shampoo_conditioner_available, input_7_tv_available, input_7_workspace in the SavedModel.\n"
     ]
    },
    {
     "name": "stdout",
     "output_type": "stream",
     "text": [
      "INFO:tensorflow:Assets written to: logs/price/compound/final_frozen/checkpoint.ckpt/assets\n"
     ]
    },
    {
     "name": "stderr",
     "output_type": "stream",
     "text": [
      "INFO:tensorflow:Assets written to: logs/price/compound/final_frozen/checkpoint.ckpt/assets\n"
     ]
    },
    {
     "name": "stdout",
     "output_type": "stream",
     "text": [
      "Epoch 48/300\n",
      "10/10 [==============================] - 27s 2s/step - loss: 1.3077 - R_squared: -2.2210 - mae: 0.7407 - val_loss: 0.4626 - val_R_squared: -0.0400 - val_mae: 0.5445\n",
      "Epoch 49/300\n",
      "10/10 [==============================] - 23s 2s/step - loss: 1.2282 - R_squared: -2.0213 - mae: 0.7182 - val_loss: 0.4656 - val_R_squared: -0.0440 - val_mae: 0.5456\n",
      "Epoch 50/300\n",
      "10/10 [==============================] - 13s 1s/step - loss: 1.2384 - R_squared: -2.0095 - mae: 0.7265 - val_loss: 0.3975 - val_R_squared: 0.1125 - val_mae: 0.4942\n"
     ]
    },
    {
     "name": "stderr",
     "output_type": "stream",
     "text": [
      "WARNING:absl:Function `_wrapped_model` contains input name(s) input_7_Carbon_monoxide_alarm, input_7_Dryer_available, input_7_Elevator, input_7_Fire_extinguisher, input_7_Garden_backyard_available, input_7_Patio_balcony_available, input_7_Shampoo_Conditioner_available, input_7_TV_available, input_7_Workspace with unsupported characters which will be renamed to input_7_carbon_monoxide_alarm, input_7_dryer_available, input_7_elevator, input_7_fire_extinguisher, input_7_garden_backyard_available, input_7_patio_balcony_available, input_7_shampoo_conditioner_available, input_7_tv_available, input_7_workspace in the SavedModel.\n"
     ]
    },
    {
     "name": "stdout",
     "output_type": "stream",
     "text": [
      "INFO:tensorflow:Assets written to: logs/price/compound/final_frozen/checkpoint.ckpt/assets\n"
     ]
    },
    {
     "name": "stderr",
     "output_type": "stream",
     "text": [
      "INFO:tensorflow:Assets written to: logs/price/compound/final_frozen/checkpoint.ckpt/assets\n"
     ]
    },
    {
     "name": "stdout",
     "output_type": "stream",
     "text": [
      "Epoch 51/300\n",
      "10/10 [==============================] - 25s 2s/step - loss: 1.2526 - R_squared: -2.0833 - mae: 0.7301 - val_loss: 0.4255 - val_R_squared: 0.0523 - val_mae: 0.5190\n",
      "Epoch 52/300\n",
      "10/10 [==============================] - 23s 2s/step - loss: 1.0978 - R_squared: -1.6940 - mae: 0.6841 - val_loss: 0.4242 - val_R_squared: 0.0456 - val_mae: 0.5180\n",
      "Epoch 53/300\n",
      "10/10 [==============================] - 21s 2s/step - loss: 1.1456 - R_squared: -1.8209 - mae: 0.6941 - val_loss: 0.4019 - val_R_squared: 0.0990 - val_mae: 0.4999\n",
      "Epoch 54/300\n",
      "10/10 [==============================] - 22s 2s/step - loss: 1.1439 - R_squared: -1.7991 - mae: 0.7004 - val_loss: 0.4027 - val_R_squared: 0.1019 - val_mae: 0.5002\n",
      "Epoch 55/300\n",
      "10/10 [==============================] - 22s 2s/step - loss: 1.1212 - R_squared: -1.7499 - mae: 0.6899 - val_loss: 0.4368 - val_R_squared: 0.0184 - val_mae: 0.5272\n",
      "Epoch 56/300\n",
      "10/10 [==============================] - 22s 2s/step - loss: 1.0948 - R_squared: -1.6971 - mae: 0.6854 - val_loss: 0.3918 - val_R_squared: 0.1215 - val_mae: 0.4927\n"
     ]
    },
    {
     "name": "stderr",
     "output_type": "stream",
     "text": [
      "WARNING:absl:Function `_wrapped_model` contains input name(s) input_7_Carbon_monoxide_alarm, input_7_Dryer_available, input_7_Elevator, input_7_Fire_extinguisher, input_7_Garden_backyard_available, input_7_Patio_balcony_available, input_7_Shampoo_Conditioner_available, input_7_TV_available, input_7_Workspace with unsupported characters which will be renamed to input_7_carbon_monoxide_alarm, input_7_dryer_available, input_7_elevator, input_7_fire_extinguisher, input_7_garden_backyard_available, input_7_patio_balcony_available, input_7_shampoo_conditioner_available, input_7_tv_available, input_7_workspace in the SavedModel.\n"
     ]
    },
    {
     "name": "stdout",
     "output_type": "stream",
     "text": [
      "INFO:tensorflow:Assets written to: logs/price/compound/final_frozen/checkpoint.ckpt/assets\n"
     ]
    },
    {
     "name": "stderr",
     "output_type": "stream",
     "text": [
      "INFO:tensorflow:Assets written to: logs/price/compound/final_frozen/checkpoint.ckpt/assets\n"
     ]
    },
    {
     "name": "stdout",
     "output_type": "stream",
     "text": [
      "Epoch 57/300\n",
      "10/10 [==============================] - 22s 2s/step - loss: 1.0894 - R_squared: -1.6853 - mae: 0.6874 - val_loss: 0.4074 - val_R_squared: 0.0873 - val_mae: 0.5043\n",
      "Epoch 58/300\n",
      "10/10 [==============================] - 21s 2s/step - loss: 1.1165 - R_squared: -1.7307 - mae: 0.6952 - val_loss: 0.4306 - val_R_squared: 0.0354 - val_mae: 0.5225\n",
      "Epoch 59/300\n",
      "10/10 [==============================] - 20s 2s/step - loss: 1.1212 - R_squared: -1.7596 - mae: 0.7024 - val_loss: 0.3998 - val_R_squared: 0.1049 - val_mae: 0.5000\n",
      "Epoch 60/300\n",
      "10/10 [==============================] - 20s 2s/step - loss: 1.1134 - R_squared: -1.7310 - mae: 0.7034 - val_loss: 0.3539 - val_R_squared: 0.2119 - val_mae: 0.4646\n"
     ]
    },
    {
     "name": "stderr",
     "output_type": "stream",
     "text": [
      "WARNING:absl:Function `_wrapped_model` contains input name(s) input_7_Carbon_monoxide_alarm, input_7_Dryer_available, input_7_Elevator, input_7_Fire_extinguisher, input_7_Garden_backyard_available, input_7_Patio_balcony_available, input_7_Shampoo_Conditioner_available, input_7_TV_available, input_7_Workspace with unsupported characters which will be renamed to input_7_carbon_monoxide_alarm, input_7_dryer_available, input_7_elevator, input_7_fire_extinguisher, input_7_garden_backyard_available, input_7_patio_balcony_available, input_7_shampoo_conditioner_available, input_7_tv_available, input_7_workspace in the SavedModel.\n"
     ]
    },
    {
     "name": "stdout",
     "output_type": "stream",
     "text": [
      "INFO:tensorflow:Assets written to: logs/price/compound/final_frozen/checkpoint.ckpt/assets\n"
     ]
    },
    {
     "name": "stderr",
     "output_type": "stream",
     "text": [
      "INFO:tensorflow:Assets written to: logs/price/compound/final_frozen/checkpoint.ckpt/assets\n"
     ]
    },
    {
     "name": "stdout",
     "output_type": "stream",
     "text": [
      "Epoch 61/300\n",
      "10/10 [==============================] - 24s 2s/step - loss: 1.0863 - R_squared: -1.6511 - mae: 0.6885 - val_loss: 0.3885 - val_R_squared: 0.1341 - val_mae: 0.4912\n",
      "Epoch 62/300\n",
      "10/10 [==============================] - 20s 2s/step - loss: 1.0457 - R_squared: -1.5898 - mae: 0.6718 - val_loss: 0.3558 - val_R_squared: 0.2085 - val_mae: 0.4673\n",
      "Epoch 63/300\n",
      "10/10 [==============================] - 20s 2s/step - loss: 1.0307 - R_squared: -1.5388 - mae: 0.6678 - val_loss: 0.3983 - val_R_squared: 0.1087 - val_mae: 0.4989\n",
      "Epoch 64/300\n",
      "10/10 [==============================] - 19s 2s/step - loss: 0.9934 - R_squared: -1.4261 - mae: 0.6504 - val_loss: 0.3691 - val_R_squared: 0.1773 - val_mae: 0.4759\n",
      "Epoch 65/300\n",
      "10/10 [==============================] - 17s 2s/step - loss: 1.0590 - R_squared: -1.6116 - mae: 0.6815 - val_loss: 0.3846 - val_R_squared: 0.1398 - val_mae: 0.4882\n",
      "Epoch 66/300\n",
      "10/10 [==============================] - 16s 2s/step - loss: 1.0256 - R_squared: -1.5119 - mae: 0.6718 - val_loss: 0.3932 - val_R_squared: 0.1183 - val_mae: 0.4950\n",
      "Epoch 67/300\n",
      "10/10 [==============================] - 18s 2s/step - loss: 0.9503 - R_squared: -1.3349 - mae: 0.6380 - val_loss: 0.3454 - val_R_squared: 0.2336 - val_mae: 0.4581\n"
     ]
    },
    {
     "name": "stderr",
     "output_type": "stream",
     "text": [
      "WARNING:absl:Function `_wrapped_model` contains input name(s) input_7_Carbon_monoxide_alarm, input_7_Dryer_available, input_7_Elevator, input_7_Fire_extinguisher, input_7_Garden_backyard_available, input_7_Patio_balcony_available, input_7_Shampoo_Conditioner_available, input_7_TV_available, input_7_Workspace with unsupported characters which will be renamed to input_7_carbon_monoxide_alarm, input_7_dryer_available, input_7_elevator, input_7_fire_extinguisher, input_7_garden_backyard_available, input_7_patio_balcony_available, input_7_shampoo_conditioner_available, input_7_tv_available, input_7_workspace in the SavedModel.\n"
     ]
    },
    {
     "name": "stdout",
     "output_type": "stream",
     "text": [
      "INFO:tensorflow:Assets written to: logs/price/compound/final_frozen/checkpoint.ckpt/assets\n"
     ]
    },
    {
     "name": "stderr",
     "output_type": "stream",
     "text": [
      "INFO:tensorflow:Assets written to: logs/price/compound/final_frozen/checkpoint.ckpt/assets\n"
     ]
    },
    {
     "name": "stdout",
     "output_type": "stream",
     "text": [
      "Epoch 68/300\n",
      "10/10 [==============================] - 22s 2s/step - loss: 0.9986 - R_squared: -1.4517 - mae: 0.6623 - val_loss: 0.4154 - val_R_squared: 0.0705 - val_mae: 0.5103\n",
      "Epoch 69/300\n",
      "10/10 [==============================] - 20s 2s/step - loss: 1.0186 - R_squared: -1.5099 - mae: 0.6702 - val_loss: 0.4011 - val_R_squared: 0.1037 - val_mae: 0.5009\n",
      "Epoch 70/300\n",
      "10/10 [==============================] - 20s 2s/step - loss: 1.0554 - R_squared: -1.5972 - mae: 0.6815 - val_loss: 0.3591 - val_R_squared: 0.1952 - val_mae: 0.4689\n",
      "Epoch 71/300\n",
      "10/10 [==============================] - 20s 2s/step - loss: 0.9299 - R_squared: -1.3050 - mae: 0.6382 - val_loss: 0.3485 - val_R_squared: 0.2287 - val_mae: 0.4581\n",
      "Epoch 72/300\n",
      "10/10 [==============================] - 25s 3s/step - loss: 0.9589 - R_squared: -1.3450 - mae: 0.6519 - val_loss: 0.3821 - val_R_squared: 0.1486 - val_mae: 0.4859\n",
      "Epoch 73/300\n",
      "10/10 [==============================] - 21s 2s/step - loss: 0.9845 - R_squared: -1.4039 - mae: 0.6559 - val_loss: 0.3929 - val_R_squared: 0.1176 - val_mae: 0.4950\n",
      "Epoch 74/300\n",
      "10/10 [==============================] - 17s 2s/step - loss: 0.9709 - R_squared: -1.3771 - mae: 0.6553 - val_loss: 0.3859 - val_R_squared: 0.1352 - val_mae: 0.4865\n",
      "Epoch 75/300\n",
      "10/10 [==============================] - 10s 977ms/step - loss: 1.0106 - R_squared: -1.4873 - mae: 0.6661 - val_loss: 0.3814 - val_R_squared: 0.1489 - val_mae: 0.4840\n",
      "Epoch 76/300\n",
      "10/10 [==============================] - 9s 865ms/step - loss: 0.8816 - R_squared: -1.1649 - mae: 0.6243 - val_loss: 0.3650 - val_R_squared: 0.1817 - val_mae: 0.4725\n",
      "Epoch 77/300\n",
      "10/10 [==============================] - 9s 883ms/step - loss: 0.9209 - R_squared: -1.2691 - mae: 0.6351 - val_loss: 0.3899 - val_R_squared: 0.1301 - val_mae: 0.4916\n",
      "Epoch 78/300\n",
      "10/10 [==============================] - 10s 959ms/step - loss: 0.8354 - R_squared: -1.0549 - mae: 0.6013 - val_loss: 0.3722 - val_R_squared: 0.1711 - val_mae: 0.4806\n",
      "Epoch 79/300\n",
      "10/10 [==============================] - 10s 968ms/step - loss: 0.8786 - R_squared: -1.1594 - mae: 0.6259 - val_loss: 0.3492 - val_R_squared: 0.2227 - val_mae: 0.4594\n",
      "Epoch 80/300\n",
      "10/10 [==============================] - 10s 919ms/step - loss: 0.8820 - R_squared: -1.1614 - mae: 0.6248 - val_loss: 0.3839 - val_R_squared: 0.1348 - val_mae: 0.4888\n",
      "Epoch 81/300\n",
      "10/10 [==============================] - 10s 931ms/step - loss: 0.8843 - R_squared: -1.1647 - mae: 0.6264 - val_loss: 0.3340 - val_R_squared: 0.2521 - val_mae: 0.4501\n"
     ]
    },
    {
     "name": "stderr",
     "output_type": "stream",
     "text": [
      "WARNING:absl:Function `_wrapped_model` contains input name(s) input_7_Carbon_monoxide_alarm, input_7_Dryer_available, input_7_Elevator, input_7_Fire_extinguisher, input_7_Garden_backyard_available, input_7_Patio_balcony_available, input_7_Shampoo_Conditioner_available, input_7_TV_available, input_7_Workspace with unsupported characters which will be renamed to input_7_carbon_monoxide_alarm, input_7_dryer_available, input_7_elevator, input_7_fire_extinguisher, input_7_garden_backyard_available, input_7_patio_balcony_available, input_7_shampoo_conditioner_available, input_7_tv_available, input_7_workspace in the SavedModel.\n"
     ]
    },
    {
     "name": "stdout",
     "output_type": "stream",
     "text": [
      "INFO:tensorflow:Assets written to: logs/price/compound/final_frozen/checkpoint.ckpt/assets\n"
     ]
    },
    {
     "name": "stderr",
     "output_type": "stream",
     "text": [
      "INFO:tensorflow:Assets written to: logs/price/compound/final_frozen/checkpoint.ckpt/assets\n"
     ]
    },
    {
     "name": "stdout",
     "output_type": "stream",
     "text": [
      "Epoch 82/300\n",
      "10/10 [==============================] - 10s 865ms/step - loss: 0.8844 - R_squared: -1.1781 - mae: 0.6261 - val_loss: 0.3095 - val_R_squared: 0.3029 - val_mae: 0.4275\n"
     ]
    },
    {
     "name": "stderr",
     "output_type": "stream",
     "text": [
      "WARNING:absl:Function `_wrapped_model` contains input name(s) input_7_Carbon_monoxide_alarm, input_7_Dryer_available, input_7_Elevator, input_7_Fire_extinguisher, input_7_Garden_backyard_available, input_7_Patio_balcony_available, input_7_Shampoo_Conditioner_available, input_7_TV_available, input_7_Workspace with unsupported characters which will be renamed to input_7_carbon_monoxide_alarm, input_7_dryer_available, input_7_elevator, input_7_fire_extinguisher, input_7_garden_backyard_available, input_7_patio_balcony_available, input_7_shampoo_conditioner_available, input_7_tv_available, input_7_workspace in the SavedModel.\n"
     ]
    },
    {
     "name": "stdout",
     "output_type": "stream",
     "text": [
      "INFO:tensorflow:Assets written to: logs/price/compound/final_frozen/checkpoint.ckpt/assets\n"
     ]
    },
    {
     "name": "stderr",
     "output_type": "stream",
     "text": [
      "INFO:tensorflow:Assets written to: logs/price/compound/final_frozen/checkpoint.ckpt/assets\n"
     ]
    },
    {
     "name": "stdout",
     "output_type": "stream",
     "text": [
      "Epoch 83/300\n",
      "10/10 [==============================] - 8s 798ms/step - loss: 0.8648 - R_squared: -1.1299 - mae: 0.6239 - val_loss: 0.3178 - val_R_squared: 0.2967 - val_mae: 0.4341\n",
      "Epoch 84/300\n",
      "10/10 [==============================] - 10s 1s/step - loss: 0.8615 - R_squared: -1.1024 - mae: 0.6288 - val_loss: 0.2783 - val_R_squared: 0.3872 - val_mae: 0.4034\n"
     ]
    },
    {
     "name": "stderr",
     "output_type": "stream",
     "text": [
      "WARNING:absl:Function `_wrapped_model` contains input name(s) input_7_Carbon_monoxide_alarm, input_7_Dryer_available, input_7_Elevator, input_7_Fire_extinguisher, input_7_Garden_backyard_available, input_7_Patio_balcony_available, input_7_Shampoo_Conditioner_available, input_7_TV_available, input_7_Workspace with unsupported characters which will be renamed to input_7_carbon_monoxide_alarm, input_7_dryer_available, input_7_elevator, input_7_fire_extinguisher, input_7_garden_backyard_available, input_7_patio_balcony_available, input_7_shampoo_conditioner_available, input_7_tv_available, input_7_workspace in the SavedModel.\n"
     ]
    },
    {
     "name": "stdout",
     "output_type": "stream",
     "text": [
      "INFO:tensorflow:Assets written to: logs/price/compound/final_frozen/checkpoint.ckpt/assets\n"
     ]
    },
    {
     "name": "stderr",
     "output_type": "stream",
     "text": [
      "INFO:tensorflow:Assets written to: logs/price/compound/final_frozen/checkpoint.ckpt/assets\n"
     ]
    },
    {
     "name": "stdout",
     "output_type": "stream",
     "text": [
      "Epoch 85/300\n",
      "10/10 [==============================] - 11s 1s/step - loss: 0.8331 - R_squared: -1.0510 - mae: 0.6133 - val_loss: 0.2950 - val_R_squared: 0.3523 - val_mae: 0.4141\n",
      "Epoch 86/300\n",
      "10/10 [==============================] - 11s 1s/step - loss: 0.8272 - R_squared: -1.0298 - mae: 0.6098 - val_loss: 0.2741 - val_R_squared: 0.3979 - val_mae: 0.3963\n"
     ]
    },
    {
     "name": "stderr",
     "output_type": "stream",
     "text": [
      "WARNING:absl:Function `_wrapped_model` contains input name(s) input_7_Carbon_monoxide_alarm, input_7_Dryer_available, input_7_Elevator, input_7_Fire_extinguisher, input_7_Garden_backyard_available, input_7_Patio_balcony_available, input_7_Shampoo_Conditioner_available, input_7_TV_available, input_7_Workspace with unsupported characters which will be renamed to input_7_carbon_monoxide_alarm, input_7_dryer_available, input_7_elevator, input_7_fire_extinguisher, input_7_garden_backyard_available, input_7_patio_balcony_available, input_7_shampoo_conditioner_available, input_7_tv_available, input_7_workspace in the SavedModel.\n"
     ]
    },
    {
     "name": "stdout",
     "output_type": "stream",
     "text": [
      "INFO:tensorflow:Assets written to: logs/price/compound/final_frozen/checkpoint.ckpt/assets\n"
     ]
    },
    {
     "name": "stderr",
     "output_type": "stream",
     "text": [
      "INFO:tensorflow:Assets written to: logs/price/compound/final_frozen/checkpoint.ckpt/assets\n"
     ]
    },
    {
     "name": "stdout",
     "output_type": "stream",
     "text": [
      "Epoch 87/300\n",
      "10/10 [==============================] - 12s 1s/step - loss: 0.8234 - R_squared: -1.0256 - mae: 0.6120 - val_loss: 0.2711 - val_R_squared: 0.4020 - val_mae: 0.3949\n"
     ]
    },
    {
     "name": "stderr",
     "output_type": "stream",
     "text": [
      "WARNING:absl:Function `_wrapped_model` contains input name(s) input_7_Carbon_monoxide_alarm, input_7_Dryer_available, input_7_Elevator, input_7_Fire_extinguisher, input_7_Garden_backyard_available, input_7_Patio_balcony_available, input_7_Shampoo_Conditioner_available, input_7_TV_available, input_7_Workspace with unsupported characters which will be renamed to input_7_carbon_monoxide_alarm, input_7_dryer_available, input_7_elevator, input_7_fire_extinguisher, input_7_garden_backyard_available, input_7_patio_balcony_available, input_7_shampoo_conditioner_available, input_7_tv_available, input_7_workspace in the SavedModel.\n"
     ]
    },
    {
     "name": "stdout",
     "output_type": "stream",
     "text": [
      "INFO:tensorflow:Assets written to: logs/price/compound/final_frozen/checkpoint.ckpt/assets\n"
     ]
    },
    {
     "name": "stderr",
     "output_type": "stream",
     "text": [
      "INFO:tensorflow:Assets written to: logs/price/compound/final_frozen/checkpoint.ckpt/assets\n"
     ]
    },
    {
     "name": "stdout",
     "output_type": "stream",
     "text": [
      "Epoch 88/300\n",
      "10/10 [==============================] - 11s 1s/step - loss: 0.7974 - R_squared: -0.9590 - mae: 0.5974 - val_loss: 0.2571 - val_R_squared: 0.4301 - val_mae: 0.3808\n"
     ]
    },
    {
     "name": "stderr",
     "output_type": "stream",
     "text": [
      "WARNING:absl:Function `_wrapped_model` contains input name(s) input_7_Carbon_monoxide_alarm, input_7_Dryer_available, input_7_Elevator, input_7_Fire_extinguisher, input_7_Garden_backyard_available, input_7_Patio_balcony_available, input_7_Shampoo_Conditioner_available, input_7_TV_available, input_7_Workspace with unsupported characters which will be renamed to input_7_carbon_monoxide_alarm, input_7_dryer_available, input_7_elevator, input_7_fire_extinguisher, input_7_garden_backyard_available, input_7_patio_balcony_available, input_7_shampoo_conditioner_available, input_7_tv_available, input_7_workspace in the SavedModel.\n"
     ]
    },
    {
     "name": "stdout",
     "output_type": "stream",
     "text": [
      "INFO:tensorflow:Assets written to: logs/price/compound/final_frozen/checkpoint.ckpt/assets\n"
     ]
    },
    {
     "name": "stderr",
     "output_type": "stream",
     "text": [
      "INFO:tensorflow:Assets written to: logs/price/compound/final_frozen/checkpoint.ckpt/assets\n"
     ]
    },
    {
     "name": "stdout",
     "output_type": "stream",
     "text": [
      "Epoch 89/300\n",
      "10/10 [==============================] - 12s 1s/step - loss: 0.7495 - R_squared: -0.8456 - mae: 0.5859 - val_loss: 0.2734 - val_R_squared: 0.3976 - val_mae: 0.3981\n",
      "Epoch 90/300\n",
      "10/10 [==============================] - 12s 1s/step - loss: 0.7530 - R_squared: -0.8463 - mae: 0.5817 - val_loss: 0.2585 - val_R_squared: 0.4285 - val_mae: 0.3845\n",
      "Epoch 91/300\n",
      "10/10 [==============================] - 12s 1s/step - loss: 0.7416 - R_squared: -0.8101 - mae: 0.5719 - val_loss: 0.2852 - val_R_squared: 0.3626 - val_mae: 0.4112\n",
      "Epoch 92/300\n",
      "10/10 [==============================] - 11s 1s/step - loss: 0.7509 - R_squared: -0.8363 - mae: 0.5722 - val_loss: 0.3061 - val_R_squared: 0.3161 - val_mae: 0.4272\n",
      "Epoch 93/300\n",
      "10/10 [==============================] - 12s 1s/step - loss: 0.7636 - R_squared: -0.8746 - mae: 0.5756 - val_loss: 0.3066 - val_R_squared: 0.3121 - val_mae: 0.4291\n",
      "Epoch 94/300\n",
      "10/10 [==============================] - 12s 1s/step - loss: 0.7747 - R_squared: -0.9009 - mae: 0.5833 - val_loss: 0.3061 - val_R_squared: 0.3150 - val_mae: 0.4283\n",
      "Epoch 95/300\n",
      "10/10 [==============================] - 12s 1s/step - loss: 0.7452 - R_squared: -0.8313 - mae: 0.5656 - val_loss: 0.3273 - val_R_squared: 0.2705 - val_mae: 0.4455\n",
      "Epoch 96/300\n",
      "10/10 [==============================] - 11s 1s/step - loss: 0.8548 - R_squared: -1.0963 - mae: 0.6159 - val_loss: 0.3371 - val_R_squared: 0.2448 - val_mae: 0.4519\n",
      "Epoch 97/300\n",
      "10/10 [==============================] - 11s 1s/step - loss: 0.7228 - R_squared: -0.7784 - mae: 0.5613 - val_loss: 0.2970 - val_R_squared: 0.3336 - val_mae: 0.4178\n",
      "Epoch 98/300\n",
      "10/10 [==============================] - 11s 1s/step - loss: 0.7093 - R_squared: -0.7354 - mae: 0.5570 - val_loss: 0.3078 - val_R_squared: 0.3076 - val_mae: 0.4250\n",
      "Epoch 99/300\n",
      "10/10 [==============================] - 12s 1s/step - loss: 0.7286 - R_squared: -0.8028 - mae: 0.5650 - val_loss: 0.3182 - val_R_squared: 0.2921 - val_mae: 0.4349\n",
      "Epoch 100/300\n",
      "10/10 [==============================] - 11s 1s/step - loss: 0.7137 - R_squared: -0.7559 - mae: 0.5580 - val_loss: 0.3228 - val_R_squared: 0.2764 - val_mae: 0.4387\n",
      "Epoch 101/300\n",
      "10/10 [==============================] - 11s 1s/step - loss: 0.7014 - R_squared: -0.7244 - mae: 0.5544 - val_loss: 0.3449 - val_R_squared: 0.2260 - val_mae: 0.4577\n",
      "Epoch 102/300\n",
      "10/10 [==============================] - 11s 1s/step - loss: 0.6699 - R_squared: -0.6425 - mae: 0.5383 - val_loss: 0.3040 - val_R_squared: 0.3167 - val_mae: 0.4225\n",
      "Epoch 103/300\n",
      "10/10 [==============================] - 11s 1s/step - loss: 0.6156 - R_squared: -0.5108 - mae: 0.5154 - val_loss: 0.3045 - val_R_squared: 0.3171 - val_mae: 0.4206\n",
      "Epoch 104/300\n",
      "10/10 [==============================] - 10s 1s/step - loss: 0.6532 - R_squared: -0.6046 - mae: 0.5291 - val_loss: 0.3010 - val_R_squared: 0.3260 - val_mae: 0.4193\n",
      "Epoch 105/300\n",
      "10/10 [==============================] - 10s 1s/step - loss: 0.6527 - R_squared: -0.6026 - mae: 0.5394 - val_loss: 0.3184 - val_R_squared: 0.2834 - val_mae: 0.4356\n",
      "Epoch 106/300\n",
      "10/10 [==============================] - 11s 1s/step - loss: 0.6646 - R_squared: -0.6354 - mae: 0.5393 - val_loss: 0.2897 - val_R_squared: 0.3520 - val_mae: 0.4094\n",
      "Epoch 107/300\n",
      "10/10 [==============================] - 10s 1s/step - loss: 0.6610 - R_squared: -0.6169 - mae: 0.5372 - val_loss: 0.3137 - val_R_squared: 0.2958 - val_mae: 0.4304\n",
      "Epoch 108/300\n",
      "10/10 [==============================] - 11s 1s/step - loss: 0.6438 - R_squared: -0.5841 - mae: 0.5299 - val_loss: 0.2778 - val_R_squared: 0.3810 - val_mae: 0.3964\n",
      "Epoch 109/300\n",
      "10/10 [==============================] - 11s 1s/step - loss: 0.6303 - R_squared: -0.5453 - mae: 0.5273 - val_loss: 0.3107 - val_R_squared: 0.3051 - val_mae: 0.4277\n",
      "Epoch 110/300\n",
      "10/10 [==============================] - 12s 1s/step - loss: 0.6048 - R_squared: -0.4831 - mae: 0.5208 - val_loss: 0.2937 - val_R_squared: 0.3505 - val_mae: 0.4098\n",
      "Epoch 111/300\n",
      "10/10 [==============================] - 11s 1s/step - loss: 0.6396 - R_squared: -0.5649 - mae: 0.5306 - val_loss: 0.2889 - val_R_squared: 0.3574 - val_mae: 0.4060\n",
      "Epoch 112/300\n",
      "10/10 [==============================] - 11s 1s/step - loss: 0.6815 - R_squared: -0.6817 - mae: 0.5516 - val_loss: 0.2752 - val_R_squared: 0.3865 - val_mae: 0.3950\n",
      "Epoch 113/300\n",
      "10/10 [==============================] - 12s 1s/step - loss: 0.6620 - R_squared: -0.6250 - mae: 0.5415 - val_loss: 0.2449 - val_R_squared: 0.4560 - val_mae: 0.3684\n"
     ]
    },
    {
     "name": "stderr",
     "output_type": "stream",
     "text": [
      "WARNING:absl:Function `_wrapped_model` contains input name(s) input_7_Carbon_monoxide_alarm, input_7_Dryer_available, input_7_Elevator, input_7_Fire_extinguisher, input_7_Garden_backyard_available, input_7_Patio_balcony_available, input_7_Shampoo_Conditioner_available, input_7_TV_available, input_7_Workspace with unsupported characters which will be renamed to input_7_carbon_monoxide_alarm, input_7_dryer_available, input_7_elevator, input_7_fire_extinguisher, input_7_garden_backyard_available, input_7_patio_balcony_available, input_7_shampoo_conditioner_available, input_7_tv_available, input_7_workspace in the SavedModel.\n"
     ]
    },
    {
     "name": "stdout",
     "output_type": "stream",
     "text": [
      "INFO:tensorflow:Assets written to: logs/price/compound/final_frozen/checkpoint.ckpt/assets\n"
     ]
    },
    {
     "name": "stderr",
     "output_type": "stream",
     "text": [
      "INFO:tensorflow:Assets written to: logs/price/compound/final_frozen/checkpoint.ckpt/assets\n"
     ]
    },
    {
     "name": "stdout",
     "output_type": "stream",
     "text": [
      "Epoch 114/300\n",
      "10/10 [==============================] - 10s 1s/step - loss: 0.5443 - R_squared: -0.3290 - mae: 0.4866 - val_loss: 0.2957 - val_R_squared: 0.3466 - val_mae: 0.4135\n",
      "Epoch 115/300\n",
      "10/10 [==============================] - 11s 1s/step - loss: 0.6293 - R_squared: -0.5509 - mae: 0.5261 - val_loss: 0.2820 - val_R_squared: 0.3706 - val_mae: 0.4017\n",
      "Epoch 116/300\n",
      "10/10 [==============================] - 12s 1s/step - loss: 0.5930 - R_squared: -0.4588 - mae: 0.5083 - val_loss: 0.2737 - val_R_squared: 0.3902 - val_mae: 0.3925\n",
      "Epoch 117/300\n",
      "10/10 [==============================] - 11s 1s/step - loss: 0.6739 - R_squared: -0.6528 - mae: 0.5415 - val_loss: 0.2859 - val_R_squared: 0.3608 - val_mae: 0.4073\n",
      "Epoch 118/300\n",
      "10/10 [==============================] - 12s 1s/step - loss: 0.5670 - R_squared: -0.3948 - mae: 0.4951 - val_loss: 0.2875 - val_R_squared: 0.3538 - val_mae: 0.4098\n",
      "Epoch 119/300\n",
      "10/10 [==============================] - 11s 1s/step - loss: 0.6016 - R_squared: -0.4708 - mae: 0.5068 - val_loss: 0.2813 - val_R_squared: 0.3740 - val_mae: 0.4082\n",
      "Epoch 120/300\n",
      "10/10 [==============================] - 10s 994ms/step - loss: 0.5841 - R_squared: -0.4249 - mae: 0.5024 - val_loss: 0.2813 - val_R_squared: 0.3738 - val_mae: 0.4088\n",
      "Epoch 121/300\n",
      "10/10 [==============================] - 11s 1s/step - loss: 0.5849 - R_squared: -0.4390 - mae: 0.4954 - val_loss: 0.2680 - val_R_squared: 0.4049 - val_mae: 0.3935\n",
      "Epoch 122/300\n",
      "10/10 [==============================] - 11s 1s/step - loss: 0.5214 - R_squared: -0.2761 - mae: 0.4739 - val_loss: 0.2679 - val_R_squared: 0.4038 - val_mae: 0.3916\n",
      "Epoch 123/300\n",
      "10/10 [==============================] - 11s 1s/step - loss: 0.5876 - R_squared: -0.4344 - mae: 0.5073 - val_loss: 0.2491 - val_R_squared: 0.4410 - val_mae: 0.3791\n",
      "Epoch 124/300\n",
      "10/10 [==============================] - 11s 1s/step - loss: 0.5810 - R_squared: -0.4280 - mae: 0.5085 - val_loss: 0.2728 - val_R_squared: 0.3934 - val_mae: 0.3975\n",
      "Epoch 125/300\n",
      "10/10 [==============================] - 11s 1s/step - loss: 0.5555 - R_squared: -0.3646 - mae: 0.4927 - val_loss: 0.2783 - val_R_squared: 0.3842 - val_mae: 0.4053\n",
      "Epoch 126/300\n",
      "10/10 [==============================] - 11s 1s/step - loss: 0.5354 - R_squared: -0.3084 - mae: 0.4737 - val_loss: 0.2811 - val_R_squared: 0.3746 - val_mae: 0.4041\n",
      "Epoch 127/300\n",
      "10/10 [==============================] - 11s 1s/step - loss: 0.5220 - R_squared: -0.2729 - mae: 0.4724 - val_loss: 0.2868 - val_R_squared: 0.3610 - val_mae: 0.4101\n",
      "Epoch 128/300\n",
      "10/10 [==============================] - 11s 1s/step - loss: 0.5179 - R_squared: -0.2777 - mae: 0.4716 - val_loss: 0.2603 - val_R_squared: 0.4216 - val_mae: 0.3845\n",
      "Epoch 129/300\n",
      "10/10 [==============================] - 11s 1s/step - loss: 0.5382 - R_squared: -0.3289 - mae: 0.4800 - val_loss: 0.2843 - val_R_squared: 0.3697 - val_mae: 0.4072\n",
      "Epoch 130/300\n",
      "10/10 [==============================] - 11s 1s/step - loss: 0.5338 - R_squared: -0.3157 - mae: 0.4788 - val_loss: 0.2582 - val_R_squared: 0.4223 - val_mae: 0.3821\n",
      "Epoch 131/300\n",
      "10/10 [==============================] - 11s 1s/step - loss: 0.4948 - R_squared: -0.2173 - mae: 0.4624 - val_loss: 0.2979 - val_R_squared: 0.3308 - val_mae: 0.4189\n",
      "Epoch 132/300\n",
      "10/10 [==============================] - 12s 1s/step - loss: 0.4903 - R_squared: -0.1933 - mae: 0.4527 - val_loss: 0.2893 - val_R_squared: 0.3518 - val_mae: 0.4110\n",
      "Epoch 133/300\n",
      "10/10 [==============================] - 11s 1s/step - loss: 0.5162 - R_squared: -0.2724 - mae: 0.4656 - val_loss: 0.2921 - val_R_squared: 0.3465 - val_mae: 0.4110\n",
      "Epoch 134/300\n",
      "10/10 [==============================] - 11s 1s/step - loss: 0.4735 - R_squared: -0.1541 - mae: 0.4424 - val_loss: 0.2957 - val_R_squared: 0.3392 - val_mae: 0.4145\n",
      "Epoch 135/300\n",
      "10/10 [==============================] - 11s 1s/step - loss: 0.4973 - R_squared: -0.2189 - mae: 0.4560 - val_loss: 0.2861 - val_R_squared: 0.3593 - val_mae: 0.4104\n",
      "Epoch 136/300\n",
      "10/10 [==============================] - 11s 1s/step - loss: 0.5350 - R_squared: -0.3090 - mae: 0.4779 - val_loss: 0.2612 - val_R_squared: 0.4223 - val_mae: 0.3915\n",
      "Epoch 137/300\n",
      "10/10 [==============================] - 10s 987ms/step - loss: 0.4943 - R_squared: -0.2104 - mae: 0.4556 - val_loss: 0.2481 - val_R_squared: 0.4468 - val_mae: 0.3772\n",
      "Epoch 138/300\n",
      "10/10 [==============================] - 11s 1s/step - loss: 0.4881 - R_squared: -0.1951 - mae: 0.4530 - val_loss: 0.2836 - val_R_squared: 0.3680 - val_mae: 0.4103\n",
      "Epoch 139/300\n",
      "10/10 [==============================] - 11s 1s/step - loss: 0.4831 - R_squared: -0.1845 - mae: 0.4474 - val_loss: 0.2740 - val_R_squared: 0.3940 - val_mae: 0.3981\n",
      "Epoch 140/300\n",
      "10/10 [==============================] - 11s 1s/step - loss: 0.4804 - R_squared: -0.1805 - mae: 0.4444 - val_loss: 0.2988 - val_R_squared: 0.3382 - val_mae: 0.4191\n",
      "Epoch 141/300\n",
      "10/10 [==============================] - 11s 1s/step - loss: 0.4899 - R_squared: -0.2062 - mae: 0.4551 - val_loss: 0.2914 - val_R_squared: 0.3550 - val_mae: 0.4134\n",
      "Epoch 142/300\n",
      "10/10 [==============================] - 11s 1s/step - loss: 0.4460 - R_squared: -0.0884 - mae: 0.4300 - val_loss: 0.2935 - val_R_squared: 0.3496 - val_mae: 0.4150\n",
      "Epoch 143/300\n",
      "10/10 [==============================] - 11s 1s/step - loss: 0.4857 - R_squared: -0.1901 - mae: 0.4511 - val_loss: 0.2816 - val_R_squared: 0.3768 - val_mae: 0.4053\n",
      "Epoch 144/300\n",
      "10/10 [==============================] - 11s 1s/step - loss: 0.4769 - R_squared: -0.1713 - mae: 0.4448 - val_loss: 0.2947 - val_R_squared: 0.3464 - val_mae: 0.4156\n",
      "Epoch 145/300\n",
      "10/10 [==============================] - 11s 1s/step - loss: 0.4638 - R_squared: -0.1493 - mae: 0.4404 - val_loss: 0.2621 - val_R_squared: 0.4185 - val_mae: 0.3862\n",
      "Epoch 146/300\n",
      "10/10 [==============================] - 11s 1s/step - loss: 0.4517 - R_squared: -0.1145 - mae: 0.4343 - val_loss: 0.2773 - val_R_squared: 0.3823 - val_mae: 0.4027\n",
      "Epoch 147/300\n",
      "10/10 [==============================] - 11s 1s/step - loss: 0.4520 - R_squared: -0.1083 - mae: 0.4340 - val_loss: 0.2726 - val_R_squared: 0.3904 - val_mae: 0.3980\n",
      "Epoch 148/300\n",
      "10/10 [==============================] - 11s 1s/step - loss: 0.4462 - R_squared: -0.0970 - mae: 0.4298 - val_loss: 0.2897 - val_R_squared: 0.3581 - val_mae: 0.4141\n",
      "Epoch 149/300\n",
      "10/10 [==============================] - 11s 1s/step - loss: 0.4384 - R_squared: -0.0807 - mae: 0.4210 - val_loss: 0.2692 - val_R_squared: 0.4002 - val_mae: 0.3934\n",
      "Epoch 150/300\n",
      "10/10 [==============================] - 11s 1s/step - loss: 0.4273 - R_squared: -0.0486 - mae: 0.4223 - val_loss: 0.2656 - val_R_squared: 0.4057 - val_mae: 0.3903\n",
      "Epoch 151/300\n",
      "10/10 [==============================] - 11s 1s/step - loss: 0.3939 - R_squared: 0.0332 - mae: 0.4066 - val_loss: 0.2777 - val_R_squared: 0.3847 - val_mae: 0.4035\n",
      "Epoch 152/300\n",
      "10/10 [==============================] - 11s 1s/step - loss: 0.4320 - R_squared: -0.0591 - mae: 0.4214 - val_loss: 0.2740 - val_R_squared: 0.3888 - val_mae: 0.4000\n",
      "Epoch 153/300\n",
      "10/10 [==============================] - 11s 1s/step - loss: 0.4192 - R_squared: -0.0280 - mae: 0.4176 - val_loss: 0.2918 - val_R_squared: 0.3507 - val_mae: 0.4167\n",
      "Epoch 154/300\n",
      "10/10 [==============================] - 11s 1s/step - loss: 0.4394 - R_squared: -0.0735 - mae: 0.4186 - val_loss: 0.2817 - val_R_squared: 0.3761 - val_mae: 0.4080\n",
      "Epoch 155/300\n",
      "10/10 [==============================] - 11s 1s/step - loss: 0.4053 - R_squared: 0.0063 - mae: 0.4157 - val_loss: 0.2842 - val_R_squared: 0.3725 - val_mae: 0.4115\n",
      "Epoch 156/300\n",
      "10/10 [==============================] - 11s 1s/step - loss: 0.3805 - R_squared: 0.0541 - mae: 0.3990 - val_loss: 0.2871 - val_R_squared: 0.3643 - val_mae: 0.4129\n",
      "Epoch 157/300\n",
      "10/10 [==============================] - 11s 1s/step - loss: 0.4259 - R_squared: -0.0395 - mae: 0.4175 - val_loss: 0.2697 - val_R_squared: 0.4055 - val_mae: 0.3964\n",
      "Epoch 158/300\n",
      "10/10 [==============================] - 11s 1s/step - loss: 0.4181 - R_squared: -0.0259 - mae: 0.4134 - val_loss: 0.2702 - val_R_squared: 0.3995 - val_mae: 0.3997\n",
      "Epoch 159/300\n",
      "10/10 [==============================] - 12s 1s/step - loss: 0.3913 - R_squared: 0.0406 - mae: 0.3977 - val_loss: 0.2510 - val_R_squared: 0.4480 - val_mae: 0.3755\n",
      "Epoch 160/300\n",
      "10/10 [==============================] - 10s 1s/step - loss: 0.4354 - R_squared: -0.0655 - mae: 0.4183 - val_loss: 0.2623 - val_R_squared: 0.4244 - val_mae: 0.3877\n",
      "Epoch 161/300\n",
      "10/10 [==============================] - 11s 1s/step - loss: 0.3835 - R_squared: 0.0560 - mae: 0.3960 - val_loss: 0.2502 - val_R_squared: 0.4512 - val_mae: 0.3802\n",
      "Epoch 162/300\n",
      "10/10 [==============================] - 11s 1s/step - loss: 0.3972 - R_squared: 0.0316 - mae: 0.4066 - val_loss: 0.2670 - val_R_squared: 0.4075 - val_mae: 0.3935\n",
      "Epoch 163/300\n",
      "10/10 [==============================] - 11s 1s/step - loss: 0.3732 - R_squared: 0.0828 - mae: 0.3949 - val_loss: 0.2489 - val_R_squared: 0.4534 - val_mae: 0.3772\n",
      "Epoch 164/300\n",
      "10/10 [==============================] - 11s 1s/step - loss: 0.4000 - R_squared: 0.0183 - mae: 0.4057 - val_loss: 0.2446 - val_R_squared: 0.4647 - val_mae: 0.3720\n"
     ]
    },
    {
     "name": "stderr",
     "output_type": "stream",
     "text": [
      "WARNING:absl:Function `_wrapped_model` contains input name(s) input_7_Carbon_monoxide_alarm, input_7_Dryer_available, input_7_Elevator, input_7_Fire_extinguisher, input_7_Garden_backyard_available, input_7_Patio_balcony_available, input_7_Shampoo_Conditioner_available, input_7_TV_available, input_7_Workspace with unsupported characters which will be renamed to input_7_carbon_monoxide_alarm, input_7_dryer_available, input_7_elevator, input_7_fire_extinguisher, input_7_garden_backyard_available, input_7_patio_balcony_available, input_7_shampoo_conditioner_available, input_7_tv_available, input_7_workspace in the SavedModel.\n"
     ]
    },
    {
     "name": "stdout",
     "output_type": "stream",
     "text": [
      "INFO:tensorflow:Assets written to: logs/price/compound/final_frozen/checkpoint.ckpt/assets\n"
     ]
    },
    {
     "name": "stderr",
     "output_type": "stream",
     "text": [
      "INFO:tensorflow:Assets written to: logs/price/compound/final_frozen/checkpoint.ckpt/assets\n"
     ]
    },
    {
     "name": "stdout",
     "output_type": "stream",
     "text": [
      "Epoch 165/300\n",
      "10/10 [==============================] - 11s 1s/step - loss: 0.3965 - R_squared: 0.0324 - mae: 0.4080 - val_loss: 0.2646 - val_R_squared: 0.4180 - val_mae: 0.3924\n",
      "Epoch 166/300\n",
      "10/10 [==============================] - 13s 1s/step - loss: 0.3730 - R_squared: 0.0842 - mae: 0.3953 - val_loss: 0.2560 - val_R_squared: 0.4404 - val_mae: 0.3848\n",
      "Epoch 167/300\n",
      "10/10 [==============================] - 13s 1s/step - loss: 0.3466 - R_squared: 0.1490 - mae: 0.3780 - val_loss: 0.2643 - val_R_squared: 0.4229 - val_mae: 0.3923\n",
      "Epoch 168/300\n",
      "10/10 [==============================] - 13s 1s/step - loss: 0.3228 - R_squared: 0.2104 - mae: 0.3607 - val_loss: 0.2649 - val_R_squared: 0.4199 - val_mae: 0.3922\n",
      "Epoch 169/300\n",
      "10/10 [==============================] - 11s 1s/step - loss: 0.3336 - R_squared: 0.1816 - mae: 0.3654 - val_loss: 0.2657 - val_R_squared: 0.4136 - val_mae: 0.3945\n",
      "Epoch 170/300\n",
      "10/10 [==============================] - 11s 1s/step - loss: 0.3583 - R_squared: 0.1223 - mae: 0.3782 - val_loss: 0.2665 - val_R_squared: 0.4117 - val_mae: 0.3942\n",
      "Epoch 171/300\n",
      "10/10 [==============================] - 11s 1s/step - loss: 0.3606 - R_squared: 0.1181 - mae: 0.3799 - val_loss: 0.2677 - val_R_squared: 0.4137 - val_mae: 0.3964\n",
      "Epoch 172/300\n",
      "10/10 [==============================] - 12s 1s/step - loss: 0.3598 - R_squared: 0.1223 - mae: 0.3761 - val_loss: 0.2742 - val_R_squared: 0.3976 - val_mae: 0.4032\n",
      "Epoch 173/300\n",
      "10/10 [==============================] - 12s 1s/step - loss: 0.3432 - R_squared: 0.1628 - mae: 0.3740 - val_loss: 0.2680 - val_R_squared: 0.4130 - val_mae: 0.3977\n",
      "Epoch 174/300\n",
      "10/10 [==============================] - 10s 1s/step - loss: 0.3390 - R_squared: 0.1712 - mae: 0.3667 - val_loss: 0.2704 - val_R_squared: 0.4085 - val_mae: 0.3964\n",
      "Epoch 175/300\n",
      "10/10 [==============================] - 10s 1s/step - loss: 0.3477 - R_squared: 0.1482 - mae: 0.3700 - val_loss: 0.2783 - val_R_squared: 0.3884 - val_mae: 0.4055\n",
      "Epoch 176/300\n",
      "10/10 [==============================] - 10s 1s/step - loss: 0.3291 - R_squared: 0.1991 - mae: 0.3662 - val_loss: 0.2770 - val_R_squared: 0.3918 - val_mae: 0.4039\n",
      "Epoch 177/300\n",
      "10/10 [==============================] - 11s 1s/step - loss: 0.3190 - R_squared: 0.2158 - mae: 0.3602 - val_loss: 0.2584 - val_R_squared: 0.4326 - val_mae: 0.3911\n",
      "Epoch 178/300\n",
      "10/10 [==============================] - 11s 1s/step - loss: 0.3494 - R_squared: 0.1453 - mae: 0.3677 - val_loss: 0.2783 - val_R_squared: 0.3833 - val_mae: 0.4052\n",
      "Epoch 179/300\n",
      "10/10 [==============================] - 11s 1s/step - loss: 0.3025 - R_squared: 0.2580 - mae: 0.3478 - val_loss: 0.2458 - val_R_squared: 0.4565 - val_mae: 0.3751\n",
      "Epoch 180/300\n",
      "10/10 [==============================] - 11s 1s/step - loss: 0.3496 - R_squared: 0.1436 - mae: 0.3708 - val_loss: 0.2616 - val_R_squared: 0.4212 - val_mae: 0.3910\n",
      "Epoch 181/300\n",
      "10/10 [==============================] - 12s 1s/step - loss: 0.3411 - R_squared: 0.1603 - mae: 0.3650 - val_loss: 0.2795 - val_R_squared: 0.3868 - val_mae: 0.4069\n",
      "Epoch 182/300\n",
      "10/10 [==============================] - 11s 1s/step - loss: 0.3240 - R_squared: 0.2035 - mae: 0.3621 - val_loss: 0.2692 - val_R_squared: 0.4119 - val_mae: 0.3976\n",
      "Epoch 183/300\n",
      "10/10 [==============================] - 11s 1s/step - loss: 0.3219 - R_squared: 0.2093 - mae: 0.3581 - val_loss: 0.2902 - val_R_squared: 0.3585 - val_mae: 0.4141\n",
      "Epoch 184/300\n",
      "10/10 [==============================] - 11s 1s/step - loss: 0.3185 - R_squared: 0.2221 - mae: 0.3508 - val_loss: 0.2567 - val_R_squared: 0.4280 - val_mae: 0.3907\n",
      "Epoch 185/300\n",
      "10/10 [==============================] - 11s 1s/step - loss: 0.3313 - R_squared: 0.1911 - mae: 0.3577 - val_loss: 0.2635 - val_R_squared: 0.4140 - val_mae: 0.3954\n",
      "Epoch 186/300\n",
      "10/10 [==============================] - 11s 1s/step - loss: 0.3010 - R_squared: 0.2661 - mae: 0.3419 - val_loss: 0.2654 - val_R_squared: 0.4108 - val_mae: 0.3957\n",
      "Epoch 187/300\n",
      "10/10 [==============================] - 10s 998ms/step - loss: 0.3124 - R_squared: 0.2360 - mae: 0.3440 - val_loss: 0.2568 - val_R_squared: 0.4300 - val_mae: 0.3894\n",
      "Epoch 188/300\n",
      "10/10 [==============================] - 10s 1s/step - loss: 0.3028 - R_squared: 0.2565 - mae: 0.3402 - val_loss: 0.2720 - val_R_squared: 0.3985 - val_mae: 0.4012\n",
      "Epoch 189/300\n",
      "10/10 [==============================] - 10s 1s/step - loss: 0.3265 - R_squared: 0.2015 - mae: 0.3532 - val_loss: 0.2717 - val_R_squared: 0.3996 - val_mae: 0.4025\n",
      "Epoch 190/300\n",
      "10/10 [==============================] - 11s 1s/step - loss: 0.2897 - R_squared: 0.2899 - mae: 0.3354 - val_loss: 0.2536 - val_R_squared: 0.4377 - val_mae: 0.3875\n",
      "Epoch 191/300\n",
      "10/10 [==============================] - 10s 972ms/step - loss: 0.3035 - R_squared: 0.2567 - mae: 0.3448 - val_loss: 0.2705 - val_R_squared: 0.3949 - val_mae: 0.4026\n",
      "Epoch 192/300\n",
      "10/10 [==============================] - 11s 1s/step - loss: 0.2974 - R_squared: 0.2760 - mae: 0.3361 - val_loss: 0.2779 - val_R_squared: 0.3838 - val_mae: 0.4083\n",
      "Epoch 193/300\n",
      "10/10 [==============================] - 10s 992ms/step - loss: 0.2798 - R_squared: 0.3138 - mae: 0.3298 - val_loss: 0.2746 - val_R_squared: 0.3883 - val_mae: 0.4065\n",
      "Epoch 194/300\n",
      "10/10 [==============================] - 10s 1s/step - loss: 0.2964 - R_squared: 0.2770 - mae: 0.3330 - val_loss: 0.2625 - val_R_squared: 0.4133 - val_mae: 0.3968\n",
      "Epoch 195/300\n",
      "10/10 [==============================] - 10s 1s/step - loss: 0.2794 - R_squared: 0.3132 - mae: 0.3252 - val_loss: 0.2736 - val_R_squared: 0.3904 - val_mae: 0.4054\n",
      "Epoch 196/300\n",
      "10/10 [==============================] - 10s 1s/step - loss: 0.2883 - R_squared: 0.2938 - mae: 0.3308 - val_loss: 0.2517 - val_R_squared: 0.4379 - val_mae: 0.3855\n",
      "Epoch 197/300\n",
      "10/10 [==============================] - 11s 1s/step - loss: 0.2957 - R_squared: 0.2680 - mae: 0.3396 - val_loss: 0.2718 - val_R_squared: 0.3926 - val_mae: 0.3993\n",
      "Epoch 198/300\n",
      "10/10 [==============================] - 10s 1s/step - loss: 0.2882 - R_squared: 0.2899 - mae: 0.3379 - val_loss: 0.2799 - val_R_squared: 0.3744 - val_mae: 0.4040\n",
      "Epoch 199/300\n",
      "10/10 [==============================] - 10s 993ms/step - loss: 0.2848 - R_squared: 0.3064 - mae: 0.3302 - val_loss: 0.2784 - val_R_squared: 0.3867 - val_mae: 0.4053\n",
      "Epoch 200/300\n",
      "10/10 [==============================] - 10s 1s/step - loss: 0.2950 - R_squared: 0.2764 - mae: 0.3353 - val_loss: 0.2591 - val_R_squared: 0.4253 - val_mae: 0.3891\n",
      "Epoch 201/300\n",
      "10/10 [==============================] - 10s 982ms/step - loss: 0.2628 - R_squared: 0.3586 - mae: 0.3193 - val_loss: 0.2559 - val_R_squared: 0.4259 - val_mae: 0.3869\n",
      "Epoch 202/300\n",
      "10/10 [==============================] - 10s 986ms/step - loss: 0.2728 - R_squared: 0.3321 - mae: 0.3212 - val_loss: 0.2633 - val_R_squared: 0.4139 - val_mae: 0.3932\n",
      "Epoch 203/300\n",
      "10/10 [==============================] - 10s 1s/step - loss: 0.2966 - R_squared: 0.2758 - mae: 0.3344 - val_loss: 0.2443 - val_R_squared: 0.4547 - val_mae: 0.3768\n",
      "Epoch 204/300\n",
      "10/10 [==============================] - 10s 1s/step - loss: 0.2702 - R_squared: 0.3392 - mae: 0.3191 - val_loss: 0.2668 - val_R_squared: 0.4067 - val_mae: 0.3941\n",
      "Epoch 205/300\n",
      "10/10 [==============================] - 10s 996ms/step - loss: 0.2666 - R_squared: 0.3482 - mae: 0.3138 - val_loss: 0.2502 - val_R_squared: 0.4405 - val_mae: 0.3829\n",
      "Epoch 206/300\n",
      "10/10 [==============================] - 10s 1s/step - loss: 0.2674 - R_squared: 0.3351 - mae: 0.3228 - val_loss: 0.2628 - val_R_squared: 0.4180 - val_mae: 0.3922\n",
      "Epoch 207/300\n",
      "10/10 [==============================] - 10s 987ms/step - loss: 0.2549 - R_squared: 0.3729 - mae: 0.3085 - val_loss: 0.2552 - val_R_squared: 0.4317 - val_mae: 0.3880\n",
      "Epoch 208/300\n",
      "10/10 [==============================] - 10s 986ms/step - loss: 0.2566 - R_squared: 0.3704 - mae: 0.3129 - val_loss: 0.2574 - val_R_squared: 0.4306 - val_mae: 0.3885\n",
      "Epoch 209/300\n",
      "10/10 [==============================] - 10s 982ms/step - loss: 0.2576 - R_squared: 0.3683 - mae: 0.3111 - val_loss: 0.2637 - val_R_squared: 0.4154 - val_mae: 0.3928\n",
      "Epoch 210/300\n",
      "10/10 [==============================] - 10s 996ms/step - loss: 0.2520 - R_squared: 0.3830 - mae: 0.3069 - val_loss: 0.2599 - val_R_squared: 0.4187 - val_mae: 0.3903\n",
      "Epoch 211/300\n",
      "10/10 [==============================] - 11s 990ms/step - loss: 0.2469 - R_squared: 0.3920 - mae: 0.3088 - val_loss: 0.2532 - val_R_squared: 0.4338 - val_mae: 0.3858\n",
      "Epoch 212/300\n",
      "10/10 [==============================] - 10s 1s/step - loss: 0.2607 - R_squared: 0.3605 - mae: 0.3129 - val_loss: 0.2613 - val_R_squared: 0.4178 - val_mae: 0.3931\n",
      "Epoch 213/300\n",
      "10/10 [==============================] - 10s 1s/step - loss: 0.2519 - R_squared: 0.3816 - mae: 0.3075 - val_loss: 0.2527 - val_R_squared: 0.4383 - val_mae: 0.3840\n",
      "Epoch 214/300\n",
      "10/10 [==============================] - 10s 992ms/step - loss: 0.2516 - R_squared: 0.3830 - mae: 0.3075 - val_loss: 0.2696 - val_R_squared: 0.4015 - val_mae: 0.3964\n",
      "Epoch 215/300\n",
      "10/10 [==============================] - 10s 1s/step - loss: 0.2591 - R_squared: 0.3620 - mae: 0.3123 - val_loss: 0.2792 - val_R_squared: 0.3825 - val_mae: 0.4055\n",
      "Epoch 216/300\n",
      "10/10 [==============================] - 10s 1s/step - loss: 0.2433 - R_squared: 0.4041 - mae: 0.2988 - val_loss: 0.2553 - val_R_squared: 0.4324 - val_mae: 0.3884\n",
      "Epoch 217/300\n",
      "10/10 [==============================] - 10s 1s/step - loss: 0.2346 - R_squared: 0.4241 - mae: 0.2927 - val_loss: 0.2626 - val_R_squared: 0.4164 - val_mae: 0.3916\n",
      "Epoch 218/300\n",
      "10/10 [==============================] - 10s 1s/step - loss: 0.2438 - R_squared: 0.4022 - mae: 0.3026 - val_loss: 0.2545 - val_R_squared: 0.4334 - val_mae: 0.3845\n",
      "Epoch 219/300\n",
      "10/10 [==============================] - 10s 1s/step - loss: 0.2333 - R_squared: 0.4266 - mae: 0.3011 - val_loss: 0.2562 - val_R_squared: 0.4315 - val_mae: 0.3888\n",
      "Epoch 220/300\n",
      "10/10 [==============================] - 10s 1s/step - loss: 0.2495 - R_squared: 0.3903 - mae: 0.3044 - val_loss: 0.2521 - val_R_squared: 0.4392 - val_mae: 0.3848\n",
      "Epoch 221/300\n",
      "10/10 [==============================] - 10s 1s/step - loss: 0.2391 - R_squared: 0.4153 - mae: 0.2987 - val_loss: 0.2657 - val_R_squared: 0.4114 - val_mae: 0.3968\n",
      "Epoch 222/300\n",
      "10/10 [==============================] - 10s 1s/step - loss: 0.2477 - R_squared: 0.3891 - mae: 0.3050 - val_loss: 0.2547 - val_R_squared: 0.4316 - val_mae: 0.3882\n",
      "Epoch 223/300\n",
      "10/10 [==============================] - 10s 1s/step - loss: 0.2290 - R_squared: 0.4410 - mae: 0.2922 - val_loss: 0.2552 - val_R_squared: 0.4344 - val_mae: 0.3877\n",
      "Epoch 224/300\n",
      "10/10 [==============================] - 11s 1s/step - loss: 0.2242 - R_squared: 0.4528 - mae: 0.2881 - val_loss: 0.2478 - val_R_squared: 0.4488 - val_mae: 0.3817\n",
      "Epoch 225/300\n",
      "10/10 [==============================] - 11s 1s/step - loss: 0.2496 - R_squared: 0.3851 - mae: 0.3049 - val_loss: 0.2611 - val_R_squared: 0.4197 - val_mae: 0.3923\n",
      "Epoch 226/300\n",
      "10/10 [==============================] - 11s 1s/step - loss: 0.2400 - R_squared: 0.4142 - mae: 0.3008 - val_loss: 0.2471 - val_R_squared: 0.4504 - val_mae: 0.3807\n",
      "Epoch 227/300\n",
      "10/10 [==============================] - 10s 997ms/step - loss: 0.2290 - R_squared: 0.4363 - mae: 0.2901 - val_loss: 0.2628 - val_R_squared: 0.4180 - val_mae: 0.3950\n",
      "Epoch 228/300\n",
      "10/10 [==============================] - 10s 993ms/step - loss: 0.2398 - R_squared: 0.4128 - mae: 0.2986 - val_loss: 0.2471 - val_R_squared: 0.4506 - val_mae: 0.3825\n",
      "Epoch 229/300\n",
      "10/10 [==============================] - 10s 987ms/step - loss: 0.2097 - R_squared: 0.4876 - mae: 0.2796 - val_loss: 0.2539 - val_R_squared: 0.4355 - val_mae: 0.3879\n",
      "Epoch 230/300\n",
      "10/10 [==============================] - 10s 1s/step - loss: 0.2290 - R_squared: 0.4395 - mae: 0.2904 - val_loss: 0.2499 - val_R_squared: 0.4477 - val_mae: 0.3824\n",
      "Epoch 231/300\n",
      "10/10 [==============================] - 10s 975ms/step - loss: 0.2175 - R_squared: 0.4669 - mae: 0.2849 - val_loss: 0.2476 - val_R_squared: 0.4470 - val_mae: 0.3815\n",
      "Epoch 232/300\n",
      "10/10 [==============================] - 11s 1s/step - loss: 0.2217 - R_squared: 0.4570 - mae: 0.2841 - val_loss: 0.2552 - val_R_squared: 0.4300 - val_mae: 0.3882\n",
      "Epoch 233/300\n",
      "10/10 [==============================] - 10s 998ms/step - loss: 0.2264 - R_squared: 0.4447 - mae: 0.2912 - val_loss: 0.2493 - val_R_squared: 0.4438 - val_mae: 0.3825\n",
      "Epoch 234/300\n",
      "10/10 [==============================] - 10s 999ms/step - loss: 0.2186 - R_squared: 0.4656 - mae: 0.2876 - val_loss: 0.2596 - val_R_squared: 0.4207 - val_mae: 0.3920\n",
      "Epoch 235/300\n",
      "10/10 [==============================] - 10s 981ms/step - loss: 0.2036 - R_squared: 0.5039 - mae: 0.2747 - val_loss: 0.2543 - val_R_squared: 0.4302 - val_mae: 0.3867\n",
      "Epoch 236/300\n",
      "10/10 [==============================] - 10s 997ms/step - loss: 0.2086 - R_squared: 0.4866 - mae: 0.2768 - val_loss: 0.2679 - val_R_squared: 0.4043 - val_mae: 0.3986\n",
      "Epoch 237/300\n",
      "10/10 [==============================] - 10s 995ms/step - loss: 0.2258 - R_squared: 0.4453 - mae: 0.2879 - val_loss: 0.2564 - val_R_squared: 0.4270 - val_mae: 0.3881\n",
      "Epoch 238/300\n",
      "10/10 [==============================] - 10s 1s/step - loss: 0.2189 - R_squared: 0.4670 - mae: 0.2818 - val_loss: 0.2657 - val_R_squared: 0.4008 - val_mae: 0.3974\n",
      "Epoch 239/300\n",
      "10/10 [==============================] - 10s 1s/step - loss: 0.2229 - R_squared: 0.4556 - mae: 0.2848 - val_loss: 0.2644 - val_R_squared: 0.4125 - val_mae: 0.3911\n",
      "Epoch 240/300\n",
      "10/10 [==============================] - 11s 1s/step - loss: 0.2132 - R_squared: 0.4780 - mae: 0.2747 - val_loss: 0.2590 - val_R_squared: 0.4222 - val_mae: 0.3897\n",
      "Epoch 241/300\n",
      "10/10 [==============================] - 10s 1s/step - loss: 0.2296 - R_squared: 0.4348 - mae: 0.2894 - val_loss: 0.2651 - val_R_squared: 0.4062 - val_mae: 0.3933\n",
      "Epoch 242/300\n",
      "10/10 [==============================] - 10s 1s/step - loss: 0.2083 - R_squared: 0.4916 - mae: 0.2771 - val_loss: 0.2580 - val_R_squared: 0.4242 - val_mae: 0.3905\n",
      "Epoch 243/300\n",
      "10/10 [==============================] - 10s 979ms/step - loss: 0.2033 - R_squared: 0.5035 - mae: 0.2678 - val_loss: 0.2530 - val_R_squared: 0.4344 - val_mae: 0.3859\n",
      "Epoch 244/300\n",
      "10/10 [==============================] - 10s 1s/step - loss: 0.2152 - R_squared: 0.4734 - mae: 0.2848 - val_loss: 0.2508 - val_R_squared: 0.4431 - val_mae: 0.3844\n",
      "Epoch 245/300\n",
      "10/10 [==============================] - 10s 1s/step - loss: 0.2150 - R_squared: 0.4720 - mae: 0.2753 - val_loss: 0.2637 - val_R_squared: 0.4131 - val_mae: 0.3957\n",
      "Epoch 246/300\n",
      "10/10 [==============================] - 10s 1s/step - loss: 0.2073 - R_squared: 0.4908 - mae: 0.2734 - val_loss: 0.2666 - val_R_squared: 0.4063 - val_mae: 0.3972\n",
      "Epoch 247/300\n",
      "10/10 [==============================] - 10s 1s/step - loss: 0.2062 - R_squared: 0.4973 - mae: 0.2719 - val_loss: 0.2564 - val_R_squared: 0.4260 - val_mae: 0.3861\n",
      "Epoch 248/300\n",
      "10/10 [==============================] - 10s 1s/step - loss: 0.2299 - R_squared: 0.4357 - mae: 0.2847 - val_loss: 0.2565 - val_R_squared: 0.4307 - val_mae: 0.3879\n",
      "Epoch 249/300\n",
      "10/10 [==============================] - 11s 1s/step - loss: 0.1952 - R_squared: 0.5190 - mae: 0.2645 - val_loss: 0.2602 - val_R_squared: 0.4202 - val_mae: 0.3921\n",
      "Epoch 250/300\n",
      "10/10 [==============================] - 10s 996ms/step - loss: 0.2027 - R_squared: 0.5027 - mae: 0.2689 - val_loss: 0.2562 - val_R_squared: 0.4274 - val_mae: 0.3883\n",
      "Epoch 251/300\n",
      "10/10 [==============================] - 11s 1s/step - loss: 0.2006 - R_squared: 0.5095 - mae: 0.2700 - val_loss: 0.2565 - val_R_squared: 0.4259 - val_mae: 0.3895\n",
      "Epoch 252/300\n",
      "10/10 [==============================] - 11s 1s/step - loss: 0.1999 - R_squared: 0.5081 - mae: 0.2676 - val_loss: 0.2602 - val_R_squared: 0.4166 - val_mae: 0.3904\n",
      "Epoch 253/300\n",
      "10/10 [==============================] - 10s 1s/step - loss: 0.2083 - R_squared: 0.4898 - mae: 0.2730 - val_loss: 0.2565 - val_R_squared: 0.4313 - val_mae: 0.3857\n",
      "Epoch 254/300\n",
      "10/10 [==============================] - 10s 1s/step - loss: 0.2005 - R_squared: 0.5100 - mae: 0.2656 - val_loss: 0.2602 - val_R_squared: 0.4151 - val_mae: 0.3905\n",
      "Epoch 255/300\n",
      "10/10 [==============================] - 11s 1s/step - loss: 0.1880 - R_squared: 0.5361 - mae: 0.2640 - val_loss: 0.2520 - val_R_squared: 0.4368 - val_mae: 0.3841\n",
      "Epoch 256/300\n",
      "10/10 [==============================] - 10s 1s/step - loss: 0.2036 - R_squared: 0.5021 - mae: 0.2703 - val_loss: 0.2578 - val_R_squared: 0.4250 - val_mae: 0.3887\n",
      "Epoch 257/300\n",
      "10/10 [==============================] - 11s 1s/step - loss: 0.1849 - R_squared: 0.5476 - mae: 0.2607 - val_loss: 0.2630 - val_R_squared: 0.4146 - val_mae: 0.3927\n",
      "Epoch 258/300\n",
      "10/10 [==============================] - 10s 1s/step - loss: 0.1991 - R_squared: 0.5122 - mae: 0.2667 - val_loss: 0.2571 - val_R_squared: 0.4268 - val_mae: 0.3879\n",
      "Epoch 259/300\n",
      "10/10 [==============================] - 10s 1s/step - loss: 0.1756 - R_squared: 0.5705 - mae: 0.2550 - val_loss: 0.2591 - val_R_squared: 0.4269 - val_mae: 0.3893\n",
      "Epoch 260/300\n",
      "10/10 [==============================] - 10s 1s/step - loss: 0.2004 - R_squared: 0.5094 - mae: 0.2681 - val_loss: 0.2561 - val_R_squared: 0.4301 - val_mae: 0.3878\n",
      "Epoch 261/300\n",
      "10/10 [==============================] - 11s 1s/step - loss: 0.1873 - R_squared: 0.5409 - mae: 0.2559 - val_loss: 0.2597 - val_R_squared: 0.4174 - val_mae: 0.3922\n",
      "Epoch 262/300\n",
      "10/10 [==============================] - 11s 1s/step - loss: 0.1807 - R_squared: 0.5595 - mae: 0.2541 - val_loss: 0.2607 - val_R_squared: 0.4169 - val_mae: 0.3908\n",
      "Epoch 263/300\n",
      "10/10 [==============================] - 10s 1s/step - loss: 0.1897 - R_squared: 0.5361 - mae: 0.2595 - val_loss: 0.2573 - val_R_squared: 0.4240 - val_mae: 0.3895\n",
      "Epoch 264/300\n",
      "10/10 [==============================] - 10s 1s/step - loss: 0.1856 - R_squared: 0.5437 - mae: 0.2570 - val_loss: 0.2655 - val_R_squared: 0.4067 - val_mae: 0.3946\n",
      "Epoch 265/300\n",
      "10/10 [==============================] - 11s 1s/step - loss: 0.1918 - R_squared: 0.5286 - mae: 0.2596 - val_loss: 0.2540 - val_R_squared: 0.4354 - val_mae: 0.3847\n",
      "Epoch 266/300\n",
      "10/10 [==============================] - 10s 1s/step - loss: 0.1820 - R_squared: 0.5566 - mae: 0.2577 - val_loss: 0.2550 - val_R_squared: 0.4303 - val_mae: 0.3866\n",
      "Epoch 267/300\n",
      "10/10 [==============================] - 11s 1s/step - loss: 0.1822 - R_squared: 0.5529 - mae: 0.2525 - val_loss: 0.2576 - val_R_squared: 0.4216 - val_mae: 0.3881\n",
      "Epoch 268/300\n",
      "10/10 [==============================] - 10s 1s/step - loss: 0.1700 - R_squared: 0.5828 - mae: 0.2495 - val_loss: 0.2583 - val_R_squared: 0.4293 - val_mae: 0.3870\n",
      "Epoch 269/300\n",
      "10/10 [==============================] - 11s 1s/step - loss: 0.1882 - R_squared: 0.5397 - mae: 0.2642 - val_loss: 0.2531 - val_R_squared: 0.4365 - val_mae: 0.3830\n",
      "Epoch 270/300\n",
      "10/10 [==============================] - 10s 995ms/step - loss: 0.1925 - R_squared: 0.5258 - mae: 0.2634 - val_loss: 0.2536 - val_R_squared: 0.4311 - val_mae: 0.3845\n",
      "Epoch 271/300\n",
      "10/10 [==============================] - 10s 1s/step - loss: 0.1963 - R_squared: 0.5188 - mae: 0.2650 - val_loss: 0.2645 - val_R_squared: 0.4106 - val_mae: 0.3932\n",
      "Epoch 272/300\n",
      "10/10 [==============================] - 10s 1s/step - loss: 0.1884 - R_squared: 0.5407 - mae: 0.2608 - val_loss: 0.2543 - val_R_squared: 0.4321 - val_mae: 0.3854\n",
      "Epoch 273/300\n",
      "10/10 [==============================] - 11s 1s/step - loss: 0.1842 - R_squared: 0.5470 - mae: 0.2550 - val_loss: 0.2624 - val_R_squared: 0.4125 - val_mae: 0.3900\n",
      "Epoch 274/300\n",
      "10/10 [==============================] - 10s 1s/step - loss: 0.1824 - R_squared: 0.5540 - mae: 0.2543 - val_loss: 0.2602 - val_R_squared: 0.4216 - val_mae: 0.3895\n",
      "Epoch 275/300\n",
      "10/10 [==============================] - 11s 1s/step - loss: 0.1806 - R_squared: 0.5563 - mae: 0.2536 - val_loss: 0.2584 - val_R_squared: 0.4218 - val_mae: 0.3872\n",
      "Epoch 276/300\n",
      "10/10 [==============================] - 10s 1s/step - loss: 0.1875 - R_squared: 0.5412 - mae: 0.2595 - val_loss: 0.2583 - val_R_squared: 0.4240 - val_mae: 0.3900\n",
      "Epoch 277/300\n",
      "10/10 [==============================] - 10s 1000ms/step - loss: 0.1850 - R_squared: 0.5463 - mae: 0.2558 - val_loss: 0.2577 - val_R_squared: 0.4212 - val_mae: 0.3878\n",
      "Epoch 278/300\n",
      "10/10 [==============================] - 10s 999ms/step - loss: 0.1686 - R_squared: 0.5857 - mae: 0.2479 - val_loss: 0.2581 - val_R_squared: 0.4184 - val_mae: 0.3873\n",
      "Epoch 279/300\n",
      "10/10 [==============================] - 10s 994ms/step - loss: 0.1671 - R_squared: 0.5905 - mae: 0.2421 - val_loss: 0.2580 - val_R_squared: 0.4188 - val_mae: 0.3868\n",
      "Epoch 280/300\n",
      "10/10 [==============================] - 10s 1s/step - loss: 0.1665 - R_squared: 0.5942 - mae: 0.2482 - val_loss: 0.2628 - val_R_squared: 0.4085 - val_mae: 0.3911\n",
      "Epoch 281/300\n",
      "10/10 [==============================] - 10s 1s/step - loss: 0.1716 - R_squared: 0.5784 - mae: 0.2458 - val_loss: 0.2616 - val_R_squared: 0.4168 - val_mae: 0.3923\n",
      "Epoch 282/300\n",
      "10/10 [==============================] - 11s 1s/step - loss: 0.1751 - R_squared: 0.5723 - mae: 0.2497 - val_loss: 0.2563 - val_R_squared: 0.4277 - val_mae: 0.3876\n",
      "Epoch 283/300\n",
      "10/10 [==============================] - 10s 1s/step - loss: 0.1987 - R_squared: 0.5152 - mae: 0.2630 - val_loss: 0.2543 - val_R_squared: 0.4319 - val_mae: 0.3868\n",
      "Epoch 284/300\n",
      "10/10 [==============================] - 10s 1s/step - loss: 0.1858 - R_squared: 0.5434 - mae: 0.2557 - val_loss: 0.2559 - val_R_squared: 0.4263 - val_mae: 0.3875\n",
      "Epoch 285/300\n",
      "10/10 [==============================] - 10s 1s/step - loss: 0.1760 - R_squared: 0.5700 - mae: 0.2497 - val_loss: 0.2541 - val_R_squared: 0.4298 - val_mae: 0.3853\n",
      "Epoch 286/300\n",
      "10/10 [==============================] - 11s 1s/step - loss: 0.1850 - R_squared: 0.5470 - mae: 0.2574 - val_loss: 0.2570 - val_R_squared: 0.4236 - val_mae: 0.3862\n",
      "Epoch 287/300\n",
      "10/10 [==============================] - 11s 1s/step - loss: 0.1657 - R_squared: 0.5935 - mae: 0.2425 - val_loss: 0.2598 - val_R_squared: 0.4204 - val_mae: 0.3886\n",
      "Epoch 288/300\n",
      "10/10 [==============================] - 10s 1s/step - loss: 0.1748 - R_squared: 0.5755 - mae: 0.2441 - val_loss: 0.2585 - val_R_squared: 0.4216 - val_mae: 0.3877\n",
      "Epoch 289/300\n",
      "10/10 [==============================] - 10s 1s/step - loss: 0.1766 - R_squared: 0.5653 - mae: 0.2507 - val_loss: 0.2578 - val_R_squared: 0.4199 - val_mae: 0.3912\n",
      "Epoch 290/300\n",
      "10/10 [==============================] - 11s 1s/step - loss: 0.1841 - R_squared: 0.5479 - mae: 0.2532 - val_loss: 0.2606 - val_R_squared: 0.4223 - val_mae: 0.3904\n",
      "Epoch 291/300\n",
      "10/10 [==============================] - 10s 1s/step - loss: 0.1767 - R_squared: 0.5651 - mae: 0.2511 - val_loss: 0.2564 - val_R_squared: 0.4316 - val_mae: 0.3868\n",
      "Epoch 292/300\n",
      "10/10 [==============================] - 11s 1s/step - loss: 0.1676 - R_squared: 0.5904 - mae: 0.2394 - val_loss: 0.2550 - val_R_squared: 0.4349 - val_mae: 0.3850\n",
      "Epoch 293/300\n",
      "10/10 [==============================] - 11s 1s/step - loss: 0.1737 - R_squared: 0.5752 - mae: 0.2501 - val_loss: 0.2631 - val_R_squared: 0.4058 - val_mae: 0.3959\n",
      "Epoch 294/300\n",
      "10/10 [==============================] - 11s 1s/step - loss: 0.1744 - R_squared: 0.5704 - mae: 0.2510 - val_loss: 0.2553 - val_R_squared: 0.4277 - val_mae: 0.3878\n",
      "Epoch 295/300\n",
      "10/10 [==============================] - 11s 1s/step - loss: 0.1769 - R_squared: 0.5643 - mae: 0.2499 - val_loss: 0.2586 - val_R_squared: 0.4202 - val_mae: 0.3893\n",
      "Epoch 296/300\n",
      "10/10 [==============================] - 11s 1s/step - loss: 0.1743 - R_squared: 0.5750 - mae: 0.2496 - val_loss: 0.2575 - val_R_squared: 0.4203 - val_mae: 0.3890\n",
      "Epoch 297/300\n",
      "10/10 [==============================] - 11s 1s/step - loss: 0.1634 - R_squared: 0.6016 - mae: 0.2380 - val_loss: 0.2532 - val_R_squared: 0.4328 - val_mae: 0.3864\n",
      "Epoch 298/300\n",
      "10/10 [==============================] - 11s 1s/step - loss: 0.1651 - R_squared: 0.5956 - mae: 0.2413 - val_loss: 0.2584 - val_R_squared: 0.4297 - val_mae: 0.3893\n",
      "Epoch 299/300\n",
      "10/10 [==============================] - 11s 1s/step - loss: 0.1838 - R_squared: 0.5526 - mae: 0.2543 - val_loss: 0.2539 - val_R_squared: 0.4259 - val_mae: 0.3854\n",
      "Epoch 300/300\n",
      "10/10 [==============================] - 11s 1s/step - loss: 0.1680 - R_squared: 0.5879 - mae: 0.2463 - val_loss: 0.2498 - val_R_squared: 0.4401 - val_mae: 0.3833\n"
     ]
    },
    {
     "data": {
      "text/plain": [
       "<tensorflow.python.keras.callbacks.History at 0x36b2a6850>"
      ]
     },
     "execution_count": 61,
     "metadata": {},
     "output_type": "execute_result"
    }
   ],
   "source": [
    "tf.random.set_seed(123)\n",
    "model = Compound_model(feature_columns = feature_columns,\n",
    "                                output_dim=120, feature_dim=125, num_groups=1,\n",
    "                                num_decision_steps=2, relaxation_factor=1.5,\n",
    "                                sparsity_coefficient=1e-05, dropout= 0.2, nodes1 = 64, nodes2 = 1, l2 = 0)\n",
    "\n",
    "lr = tf.keras.optimizers.schedules.ExponentialDecay(0.01, decay_steps=100, decay_rate=0.95, staircase=False)\n",
    "optimizer = tf.keras.optimizers.Adam(lr)\n",
    "model.compile(optimizer, loss='mse' , metrics=[R_squared,\"mae\"])\n",
    "\n",
    "model.fit(train_dataset, validation_data = val_dataset, epochs=1, verbose=1)\n",
    "\n",
    "# set layer weights to pretrained weights\n",
    "model.layers[1:-4] = model_img.layers\n",
    "model.layers[0] = model_tn.layers[0]\n",
    "\n",
    "# freeze layer weights\n",
    "for layer in model.layers[:-4]:\n",
    "    layer.trainable = False\n",
    "    \n",
    "logdir = \"logs/price/compound/final_frozen\"\n",
    "checkpoint_callback = tf.keras.callbacks.ModelCheckpoint(filepath = logdir+\"/checkpoint.ckpt\", monitor='val_R_squared', save_best_only=True, mode='max')\n",
    "    \n",
    "model.fit(train_dataset, validation_data = val_dataset, epochs=300, verbose=1, callbacks = [checkpoint_callback])\n"
   ]
  },
  {
   "cell_type": "code",
   "execution_count": 67,
   "metadata": {},
   "outputs": [
    {
     "name": "stderr",
     "output_type": "stream",
     "text": [
      "2022-03-02 08:03:36.985329: W tensorflow/core/util/tensor_slice_reader.cc:95] Could not open logs/price/compound/final_frozen/checkpoint.ckpt: Failed precondition: logs/price/compound/final_frozen/checkpoint.ckpt; Is a directory: perhaps your file is in a different file format and you need to use a different restore operator?\n"
     ]
    },
    {
     "data": {
      "text/plain": [
       "[array([[-0.       ],\n",
       "        [ 1.0000001]], dtype=float32),\n",
       " array([3.5302231], dtype=float32)]"
      ]
     },
     "execution_count": 67,
     "metadata": {},
     "output_type": "execute_result"
    }
   ],
   "source": [
    "model.load_weights(\"logs/price/compound/final_frozen/checkpoint.ckpt\")\n",
    "model.layers[-1].get_weights()"
   ]
  },
  {
   "cell_type": "code",
   "execution_count": 71,
   "metadata": {},
   "outputs": [
    {
     "name": "stdout",
     "output_type": "stream",
     "text": [
      "Model: \"compound_model_6\"\n",
      "_________________________________________________________________\n",
      "Layer (type)                 Output Shape              Param #   \n",
      "=================================================================\n",
      "tab_net_7 (TabNet)           multiple                  177121    \n",
      "_________________________________________________________________\n",
      "batch_normalization_97 (Batc multiple                  8192      \n",
      "_________________________________________________________________\n",
      "dropout_97 (Dropout)         multiple                  0         \n",
      "_________________________________________________________________\n",
      "dense_103 (Dense)            multiple                  131136    \n",
      "_________________________________________________________________\n",
      "batch_normalization_98 (Batc multiple                  256       \n",
      "_________________________________________________________________\n",
      "dropout_98 (Dropout)         multiple                  0         \n",
      "_________________________________________________________________\n",
      "dense_104 (Dense)            multiple                  65        \n",
      "_________________________________________________________________\n",
      "batch_normalization_99 (Batc multiple                  8192      \n",
      "_________________________________________________________________\n",
      "dropout_99 (Dropout)         multiple                  0         \n",
      "_________________________________________________________________\n",
      "dense_105 (Dense)            multiple                  131136    \n",
      "_________________________________________________________________\n",
      "batch_normalization_100 (Bat multiple                  256       \n",
      "_________________________________________________________________\n",
      "dropout_100 (Dropout)        multiple                  0         \n",
      "_________________________________________________________________\n",
      "dense_106 (Dense)            multiple                  65        \n",
      "_________________________________________________________________\n",
      "batch_normalization_101 (Bat multiple                  8192      \n",
      "_________________________________________________________________\n",
      "dropout_101 (Dropout)        multiple                  0         \n",
      "_________________________________________________________________\n",
      "dense_107 (Dense)            multiple                  131136    \n",
      "_________________________________________________________________\n",
      "batch_normalization_102 (Bat multiple                  256       \n",
      "_________________________________________________________________\n",
      "dropout_102 (Dropout)        multiple                  0         \n",
      "_________________________________________________________________\n",
      "dense_108 (Dense)            multiple                  65        \n",
      "_________________________________________________________________\n",
      "batch_normalization_103 (Bat multiple                  8192      \n",
      "_________________________________________________________________\n",
      "dropout_103 (Dropout)        multiple                  0         \n",
      "_________________________________________________________________\n",
      "dense_109 (Dense)            multiple                  131136    \n",
      "_________________________________________________________________\n",
      "batch_normalization_104 (Bat multiple                  256       \n",
      "_________________________________________________________________\n",
      "dropout_104 (Dropout)        multiple                  0         \n",
      "_________________________________________________________________\n",
      "dense_110 (Dense)            multiple                  65        \n",
      "_________________________________________________________________\n",
      "batch_normalization_105 (Bat multiple                  8192      \n",
      "_________________________________________________________________\n",
      "dropout_105 (Dropout)        multiple                  0         \n",
      "_________________________________________________________________\n",
      "dense_111 (Dense)            multiple                  131136    \n",
      "_________________________________________________________________\n",
      "batch_normalization_106 (Bat multiple                  256       \n",
      "_________________________________________________________________\n",
      "dropout_106 (Dropout)        multiple                  0         \n",
      "_________________________________________________________________\n",
      "dense_112 (Dense)            multiple                  65        \n",
      "_________________________________________________________________\n",
      "batch_normalization_107 (Bat multiple                  8192      \n",
      "_________________________________________________________________\n",
      "dropout_107 (Dropout)        multiple                  0         \n",
      "_________________________________________________________________\n",
      "dense_113 (Dense)            multiple                  131136    \n",
      "_________________________________________________________________\n",
      "batch_normalization_108 (Bat multiple                  256       \n",
      "_________________________________________________________________\n",
      "dropout_108 (Dropout)        multiple                  0         \n",
      "_________________________________________________________________\n",
      "dense_114 (Dense)            multiple                  65        \n",
      "_________________________________________________________________\n",
      "batch_normalization_109 (Bat multiple                  24        \n",
      "_________________________________________________________________\n",
      "dropout_109 (Dropout)        multiple                  0         \n",
      "_________________________________________________________________\n",
      "dense_115 (Dense)            multiple                  7         \n",
      "_________________________________________________________________\n",
      "dense_116 (Dense)            multiple                  121       \n",
      "_________________________________________________________________\n",
      "batch_normalization_110 (Bat multiple                  8         \n",
      "_________________________________________________________________\n",
      "dropout_110 (Dropout)        multiple                  0         \n",
      "_________________________________________________________________\n",
      "dense_117 (Dense)            multiple                  3         \n",
      "=================================================================\n",
      "Total params: 1,015,178\n",
      "Trainable params: 128\n",
      "Non-trainable params: 1,015,050\n",
      "_________________________________________________________________\n"
     ]
    }
   ],
   "source": [
    "# freeze layer weights\n",
    "for layer in model.layers[:-4]:\n",
    "    layer.trainable = False\n",
    "model.summary()"
   ]
  },
  {
   "cell_type": "code",
   "execution_count": 63,
   "metadata": {},
   "outputs": [
    {
     "name": "stdout",
     "output_type": "stream",
     "text": [
      "10/10 [==============================] - 6s 518ms/step - loss: 0.1835 - R_squared: 0.5536 - mae: 0.3277\n"
     ]
    },
    {
     "data": {
      "text/plain": [
       "[0.1834837645292282, 0.5535845756530762, 0.3277072310447693]"
      ]
     },
     "execution_count": 63,
     "metadata": {},
     "output_type": "execute_result"
    }
   ],
   "source": [
    "model.evaluate(train_dataset)"
   ]
  },
  {
   "cell_type": "code",
   "execution_count": 64,
   "metadata": {},
   "outputs": [
    {
     "name": "stdout",
     "output_type": "stream",
     "text": [
      "3/3 [==============================] - 2s 391ms/step - loss: 0.2446 - R_squared: 0.4647 - mae: 0.3720\n"
     ]
    },
    {
     "data": {
      "text/plain": [
       "[0.24461446702480316, 0.4647457003593445, 0.3720126748085022]"
      ]
     },
     "execution_count": 64,
     "metadata": {},
     "output_type": "execute_result"
    }
   ],
   "source": [
    "model.evaluate(val_dataset)"
   ]
  },
  {
   "cell_type": "code",
   "execution_count": 65,
   "metadata": {},
   "outputs": [
    {
     "name": "stdout",
     "output_type": "stream",
     "text": [
      "4/4 [==============================] - 3s 507ms/step - loss: 0.2372 - R_squared: 0.4423 - mae: 0.3735\n"
     ]
    },
    {
     "data": {
      "text/plain": [
       "[0.23721563816070557, 0.44234317541122437, 0.3734670579433441]"
      ]
     },
     "execution_count": 65,
     "metadata": {},
     "output_type": "execute_result"
    }
   ],
   "source": [
    "model.evaluate(test_dataset)"
   ]
  },
  {
   "cell_type": "markdown",
   "metadata": {},
   "source": [
    "### Unfreeze weights"
   ]
  },
  {
   "cell_type": "code",
   "execution_count": 66,
   "metadata": {},
   "outputs": [
    {
     "name": "stderr",
     "output_type": "stream",
     "text": [
      "2022-03-01 22:06:19.178205: W tensorflow/core/util/tensor_slice_reader.cc:95] Could not open logs/price/compound/final_frozen/checkpoint.ckpt: Failed precondition: logs/price/compound/final_frozen/checkpoint.ckpt; Is a directory: perhaps your file is in a different file format and you need to use a different restore operator?\n"
     ]
    },
    {
     "name": "stdout",
     "output_type": "stream",
     "text": [
      "Epoch 1/300\n"
     ]
    },
    {
     "name": "stderr",
     "output_type": "stream",
     "text": [
      "2022-03-01 22:06:23.512580: I tensorflow/core/grappler/optimizers/custom_graph_optimizer_registry.cc:112] Plugin optimizer for device_type GPU is enabled.\n"
     ]
    },
    {
     "name": "stdout",
     "output_type": "stream",
     "text": [
      "10/10 [==============================] - ETA: 0s - loss: 0.3618 - R_squared: 0.1186 - mae: 0.3897"
     ]
    },
    {
     "name": "stderr",
     "output_type": "stream",
     "text": [
      "2022-03-01 22:06:30.903306: I tensorflow/core/grappler/optimizers/custom_graph_optimizer_registry.cc:112] Plugin optimizer for device_type GPU is enabled.\n"
     ]
    },
    {
     "name": "stdout",
     "output_type": "stream",
     "text": [
      "10/10 [==============================] - 12s 741ms/step - loss: 0.3618 - R_squared: 0.1186 - mae: 0.3897 - val_loss: 0.2460 - val_R_squared: 0.4618 - val_mae: 0.3731\n"
     ]
    },
    {
     "name": "stderr",
     "output_type": "stream",
     "text": [
      "WARNING:absl:Function `_wrapped_model` contains input name(s) input_7_Carbon_monoxide_alarm, input_7_Dryer_available, input_7_Elevator, input_7_Fire_extinguisher, input_7_Garden_backyard_available, input_7_Patio_balcony_available, input_7_Shampoo_Conditioner_available, input_7_TV_available, input_7_Workspace with unsupported characters which will be renamed to input_7_carbon_monoxide_alarm, input_7_dryer_available, input_7_elevator, input_7_fire_extinguisher, input_7_garden_backyard_available, input_7_patio_balcony_available, input_7_shampoo_conditioner_available, input_7_tv_available, input_7_workspace in the SavedModel.\n"
     ]
    },
    {
     "name": "stdout",
     "output_type": "stream",
     "text": [
      "INFO:tensorflow:Assets written to: logs/price/compound/final_unfrozen/checkpoint.ckpt/assets\n"
     ]
    },
    {
     "name": "stderr",
     "output_type": "stream",
     "text": [
      "INFO:tensorflow:Assets written to: logs/price/compound/final_unfrozen/checkpoint.ckpt/assets\n"
     ]
    },
    {
     "name": "stdout",
     "output_type": "stream",
     "text": [
      "Epoch 2/300\n",
      "10/10 [==============================] - 9s 868ms/step - loss: 0.3858 - R_squared: 0.0519 - mae: 0.4006 - val_loss: 0.2487 - val_R_squared: 0.4561 - val_mae: 0.3752\n",
      "Epoch 3/300\n",
      "10/10 [==============================] - 8s 813ms/step - loss: 0.3785 - R_squared: 0.0771 - mae: 0.3930 - val_loss: 0.2517 - val_R_squared: 0.4494 - val_mae: 0.3775\n",
      "Epoch 4/300\n",
      "10/10 [==============================] - 10s 951ms/step - loss: 0.3614 - R_squared: 0.1149 - mae: 0.3828 - val_loss: 0.2552 - val_R_squared: 0.4419 - val_mae: 0.3802\n",
      "Epoch 5/300\n",
      "10/10 [==============================] - 8s 815ms/step - loss: 0.3467 - R_squared: 0.1490 - mae: 0.3768 - val_loss: 0.2582 - val_R_squared: 0.4354 - val_mae: 0.3832\n",
      "Epoch 6/300\n",
      "10/10 [==============================] - 8s 806ms/step - loss: 0.3741 - R_squared: 0.0848 - mae: 0.3910 - val_loss: 0.2608 - val_R_squared: 0.4297 - val_mae: 0.3861\n",
      "Epoch 7/300\n",
      "10/10 [==============================] - 8s 797ms/step - loss: 0.3734 - R_squared: 0.0807 - mae: 0.3855 - val_loss: 0.2628 - val_R_squared: 0.4251 - val_mae: 0.3885\n",
      "Epoch 8/300\n",
      "10/10 [==============================] - 8s 808ms/step - loss: 0.3827 - R_squared: 0.0596 - mae: 0.3906 - val_loss: 0.2632 - val_R_squared: 0.4242 - val_mae: 0.3891\n",
      "Epoch 9/300\n",
      "10/10 [==============================] - 8s 800ms/step - loss: 0.3489 - R_squared: 0.1434 - mae: 0.3751 - val_loss: 0.2638 - val_R_squared: 0.4229 - val_mae: 0.3897\n",
      "Epoch 10/300\n",
      "10/10 [==============================] - 8s 810ms/step - loss: 0.3989 - R_squared: 0.0249 - mae: 0.3986 - val_loss: 0.2638 - val_R_squared: 0.4231 - val_mae: 0.3898\n",
      "Epoch 11/300\n",
      "10/10 [==============================] - 9s 858ms/step - loss: 0.3998 - R_squared: 0.0167 - mae: 0.3988 - val_loss: 0.2629 - val_R_squared: 0.4252 - val_mae: 0.3892\n",
      "Epoch 12/300\n",
      "10/10 [==============================] - 8s 779ms/step - loss: 0.3646 - R_squared: 0.1023 - mae: 0.3815 - val_loss: 0.2626 - val_R_squared: 0.4259 - val_mae: 0.3889\n",
      "Epoch 13/300\n",
      "10/10 [==============================] - 8s 802ms/step - loss: 0.3451 - R_squared: 0.1549 - mae: 0.3747 - val_loss: 0.2633 - val_R_squared: 0.4245 - val_mae: 0.3893\n",
      "Epoch 14/300\n",
      "10/10 [==============================] - 9s 832ms/step - loss: 0.3411 - R_squared: 0.1661 - mae: 0.3697 - val_loss: 0.2641 - val_R_squared: 0.4228 - val_mae: 0.3901\n",
      "Epoch 15/300\n",
      "10/10 [==============================] - 8s 810ms/step - loss: 0.3756 - R_squared: 0.0813 - mae: 0.3888 - val_loss: 0.2652 - val_R_squared: 0.4207 - val_mae: 0.3909\n",
      "Epoch 16/300\n",
      "10/10 [==============================] - 8s 799ms/step - loss: 0.3521 - R_squared: 0.1381 - mae: 0.3739 - val_loss: 0.2652 - val_R_squared: 0.4210 - val_mae: 0.3909\n",
      "Epoch 17/300\n",
      "10/10 [==============================] - 8s 803ms/step - loss: 0.3633 - R_squared: 0.1107 - mae: 0.3810 - val_loss: 0.2658 - val_R_squared: 0.4198 - val_mae: 0.3916\n",
      "Epoch 18/300\n",
      "10/10 [==============================] - 8s 799ms/step - loss: 0.4085 - R_squared: -0.0040 - mae: 0.4016 - val_loss: 0.2652 - val_R_squared: 0.4213 - val_mae: 0.3910\n",
      "Epoch 19/300\n",
      "10/10 [==============================] - 8s 816ms/step - loss: 0.3884 - R_squared: 0.0453 - mae: 0.3898 - val_loss: 0.2649 - val_R_squared: 0.4222 - val_mae: 0.3907\n",
      "Epoch 20/300\n",
      "10/10 [==============================] - 8s 813ms/step - loss: 0.3824 - R_squared: 0.0661 - mae: 0.3881 - val_loss: 0.2642 - val_R_squared: 0.4238 - val_mae: 0.3901\n",
      "Epoch 21/300\n",
      "10/10 [==============================] - 9s 825ms/step - loss: 0.3424 - R_squared: 0.1599 - mae: 0.3678 - val_loss: 0.2640 - val_R_squared: 0.4243 - val_mae: 0.3898\n",
      "Epoch 22/300\n",
      "10/10 [==============================] - 8s 799ms/step - loss: 0.3770 - R_squared: 0.0756 - mae: 0.3860 - val_loss: 0.2640 - val_R_squared: 0.4245 - val_mae: 0.3897\n",
      "Epoch 23/300\n",
      "10/10 [==============================] - 8s 809ms/step - loss: 0.3862 - R_squared: 0.0518 - mae: 0.3903 - val_loss: 0.2644 - val_R_squared: 0.4237 - val_mae: 0.3901\n",
      "Epoch 24/300\n",
      "10/10 [==============================] - 9s 896ms/step - loss: 0.3684 - R_squared: 0.0950 - mae: 0.3824 - val_loss: 0.2639 - val_R_squared: 0.4248 - val_mae: 0.3895\n",
      "Epoch 25/300\n",
      "10/10 [==============================] - 8s 796ms/step - loss: 0.3690 - R_squared: 0.0970 - mae: 0.3801 - val_loss: 0.2631 - val_R_squared: 0.4266 - val_mae: 0.3886\n",
      "Epoch 26/300\n",
      "10/10 [==============================] - 8s 806ms/step - loss: 0.3465 - R_squared: 0.1476 - mae: 0.3713 - val_loss: 0.2628 - val_R_squared: 0.4273 - val_mae: 0.3884\n",
      "Epoch 27/300\n",
      "10/10 [==============================] - 8s 820ms/step - loss: 0.3888 - R_squared: 0.0459 - mae: 0.3926 - val_loss: 0.2629 - val_R_squared: 0.4271 - val_mae: 0.3885\n",
      "Epoch 28/300\n",
      "10/10 [==============================] - 8s 819ms/step - loss: 0.3586 - R_squared: 0.1190 - mae: 0.3749 - val_loss: 0.2619 - val_R_squared: 0.4295 - val_mae: 0.3876\n",
      "Epoch 29/300\n",
      "10/10 [==============================] - 8s 798ms/step - loss: 0.3542 - R_squared: 0.1271 - mae: 0.3721 - val_loss: 0.2618 - val_R_squared: 0.4299 - val_mae: 0.3874\n",
      "Epoch 30/300\n",
      "10/10 [==============================] - 8s 810ms/step - loss: 0.3836 - R_squared: 0.0597 - mae: 0.3892 - val_loss: 0.2611 - val_R_squared: 0.4314 - val_mae: 0.3867\n",
      "Epoch 31/300\n",
      "10/10 [==============================] - 9s 831ms/step - loss: 0.3714 - R_squared: 0.0916 - mae: 0.3786 - val_loss: 0.2610 - val_R_squared: 0.4316 - val_mae: 0.3865\n",
      "Epoch 32/300\n",
      "10/10 [==============================] - 8s 812ms/step - loss: 0.3860 - R_squared: 0.0533 - mae: 0.3925 - val_loss: 0.2605 - val_R_squared: 0.4326 - val_mae: 0.3860\n",
      "Epoch 33/300\n",
      "10/10 [==============================] - 9s 828ms/step - loss: 0.3928 - R_squared: 0.0424 - mae: 0.3947 - val_loss: 0.2616 - val_R_squared: 0.4300 - val_mae: 0.3871\n",
      "Epoch 34/300\n",
      "10/10 [==============================] - 9s 821ms/step - loss: 0.3754 - R_squared: 0.0797 - mae: 0.3831 - val_loss: 0.2618 - val_R_squared: 0.4297 - val_mae: 0.3871\n",
      "Epoch 35/300\n",
      "10/10 [==============================] - 9s 833ms/step - loss: 0.3593 - R_squared: 0.1217 - mae: 0.3753 - val_loss: 0.2618 - val_R_squared: 0.4299 - val_mae: 0.3871\n",
      "Epoch 36/300\n",
      "10/10 [==============================] - 9s 821ms/step - loss: 0.3803 - R_squared: 0.0699 - mae: 0.3908 - val_loss: 0.2621 - val_R_squared: 0.4294 - val_mae: 0.3874\n",
      "Epoch 37/300\n",
      "10/10 [==============================] - 8s 827ms/step - loss: 0.3617 - R_squared: 0.1163 - mae: 0.3768 - val_loss: 0.2620 - val_R_squared: 0.4298 - val_mae: 0.3872\n",
      "Epoch 38/300\n",
      "10/10 [==============================] - 9s 839ms/step - loss: 0.3567 - R_squared: 0.1253 - mae: 0.3723 - val_loss: 0.2623 - val_R_squared: 0.4290 - val_mae: 0.3874\n",
      "Epoch 39/300\n",
      "10/10 [==============================] - 8s 828ms/step - loss: 0.3816 - R_squared: 0.0664 - mae: 0.3854 - val_loss: 0.2611 - val_R_squared: 0.4317 - val_mae: 0.3863\n",
      "Epoch 40/300\n",
      "10/10 [==============================] - 8s 827ms/step - loss: 0.3818 - R_squared: 0.0616 - mae: 0.3868 - val_loss: 0.2602 - val_R_squared: 0.4336 - val_mae: 0.3853\n",
      "Epoch 41/300\n",
      "10/10 [==============================] - 8s 813ms/step - loss: 0.3589 - R_squared: 0.1223 - mae: 0.3761 - val_loss: 0.2603 - val_R_squared: 0.4333 - val_mae: 0.3854\n",
      "Epoch 42/300\n",
      "10/10 [==============================] - 8s 815ms/step - loss: 0.3736 - R_squared: 0.0844 - mae: 0.3860 - val_loss: 0.2598 - val_R_squared: 0.4346 - val_mae: 0.3850\n",
      "Epoch 43/300\n",
      "10/10 [==============================] - 9s 822ms/step - loss: 0.3501 - R_squared: 0.1397 - mae: 0.3692 - val_loss: 0.2613 - val_R_squared: 0.4314 - val_mae: 0.3862\n",
      "Epoch 44/300\n",
      "10/10 [==============================] - 9s 839ms/step - loss: 0.3635 - R_squared: 0.1107 - mae: 0.3731 - val_loss: 0.2617 - val_R_squared: 0.4305 - val_mae: 0.3865\n",
      "Epoch 45/300\n",
      "10/10 [==============================] - 9s 839ms/step - loss: 0.3634 - R_squared: 0.1105 - mae: 0.3760 - val_loss: 0.2617 - val_R_squared: 0.4305 - val_mae: 0.3866\n",
      "Epoch 46/300\n",
      "10/10 [==============================] - 9s 831ms/step - loss: 0.3797 - R_squared: 0.0691 - mae: 0.3871 - val_loss: 0.2627 - val_R_squared: 0.4283 - val_mae: 0.3876\n",
      "Epoch 47/300\n",
      "10/10 [==============================] - 9s 832ms/step - loss: 0.3589 - R_squared: 0.1153 - mae: 0.3696 - val_loss: 0.2619 - val_R_squared: 0.4301 - val_mae: 0.3868\n",
      "Epoch 48/300\n",
      "10/10 [==============================] - 8s 816ms/step - loss: 0.3695 - R_squared: 0.0938 - mae: 0.3764 - val_loss: 0.2614 - val_R_squared: 0.4311 - val_mae: 0.3864\n",
      "Epoch 49/300\n",
      "10/10 [==============================] - 9s 853ms/step - loss: 0.4017 - R_squared: 0.0165 - mae: 0.3954 - val_loss: 0.2607 - val_R_squared: 0.4327 - val_mae: 0.3859\n",
      "Epoch 50/300\n",
      "10/10 [==============================] - 9s 852ms/step - loss: 0.3649 - R_squared: 0.1038 - mae: 0.3787 - val_loss: 0.2620 - val_R_squared: 0.4297 - val_mae: 0.3871\n",
      "Epoch 51/300\n",
      "10/10 [==============================] - 9s 842ms/step - loss: 0.3931 - R_squared: 0.0380 - mae: 0.3925 - val_loss: 0.2617 - val_R_squared: 0.4303 - val_mae: 0.3869\n",
      "Epoch 52/300\n",
      "10/10 [==============================] - 9s 840ms/step - loss: 0.3816 - R_squared: 0.0612 - mae: 0.3863 - val_loss: 0.2622 - val_R_squared: 0.4294 - val_mae: 0.3874\n",
      "Epoch 53/300\n",
      "10/10 [==============================] - 9s 836ms/step - loss: 0.3689 - R_squared: 0.0915 - mae: 0.3772 - val_loss: 0.2618 - val_R_squared: 0.4301 - val_mae: 0.3871\n",
      "Epoch 54/300\n",
      "10/10 [==============================] - 9s 827ms/step - loss: 0.3650 - R_squared: 0.1101 - mae: 0.3716 - val_loss: 0.2614 - val_R_squared: 0.4312 - val_mae: 0.3867\n",
      "Epoch 55/300\n",
      "10/10 [==============================] - 9s 833ms/step - loss: 0.3549 - R_squared: 0.1321 - mae: 0.3720 - val_loss: 0.2605 - val_R_squared: 0.4333 - val_mae: 0.3858\n",
      "Epoch 56/300\n",
      "10/10 [==============================] - 9s 907ms/step - loss: 0.3643 - R_squared: 0.0997 - mae: 0.3770 - val_loss: 0.2610 - val_R_squared: 0.4321 - val_mae: 0.3862\n",
      "Epoch 57/300\n",
      "10/10 [==============================] - 9s 877ms/step - loss: 0.3634 - R_squared: 0.1077 - mae: 0.3738 - val_loss: 0.2615 - val_R_squared: 0.4309 - val_mae: 0.3866\n",
      "Epoch 58/300\n",
      "10/10 [==============================] - 9s 853ms/step - loss: 0.3705 - R_squared: 0.0924 - mae: 0.3785 - val_loss: 0.2604 - val_R_squared: 0.4334 - val_mae: 0.3858\n",
      "Epoch 59/300\n",
      "10/10 [==============================] - 9s 853ms/step - loss: 0.3965 - R_squared: 0.0333 - mae: 0.3908 - val_loss: 0.2595 - val_R_squared: 0.4356 - val_mae: 0.3850\n",
      "Epoch 60/300\n",
      "10/10 [==============================] - 9s 855ms/step - loss: 0.3579 - R_squared: 0.1204 - mae: 0.3734 - val_loss: 0.2602 - val_R_squared: 0.4342 - val_mae: 0.3854\n",
      "Epoch 61/300\n",
      "10/10 [==============================] - 9s 838ms/step - loss: 0.3737 - R_squared: 0.0803 - mae: 0.3828 - val_loss: 0.2620 - val_R_squared: 0.4301 - val_mae: 0.3867\n",
      "Epoch 62/300\n",
      "10/10 [==============================] - 9s 860ms/step - loss: 0.3571 - R_squared: 0.1271 - mae: 0.3721 - val_loss: 0.2619 - val_R_squared: 0.4303 - val_mae: 0.3867\n",
      "Epoch 63/300\n",
      "10/10 [==============================] - 9s 842ms/step - loss: 0.3497 - R_squared: 0.1411 - mae: 0.3664 - val_loss: 0.2614 - val_R_squared: 0.4312 - val_mae: 0.3867\n",
      "Epoch 64/300\n",
      "10/10 [==============================] - 9s 861ms/step - loss: 0.3685 - R_squared: 0.0935 - mae: 0.3740 - val_loss: 0.2617 - val_R_squared: 0.4306 - val_mae: 0.3870\n",
      "Epoch 65/300\n",
      "10/10 [==============================] - 9s 849ms/step - loss: 0.3517 - R_squared: 0.1413 - mae: 0.3688 - val_loss: 0.2624 - val_R_squared: 0.4290 - val_mae: 0.3875\n",
      "Epoch 66/300\n",
      "10/10 [==============================] - 9s 927ms/step - loss: 0.3860 - R_squared: 0.0477 - mae: 0.3889 - val_loss: 0.2625 - val_R_squared: 0.4288 - val_mae: 0.3875\n",
      "Epoch 67/300\n",
      "10/10 [==============================] - 9s 858ms/step - loss: 0.3994 - R_squared: 0.0272 - mae: 0.3896 - val_loss: 0.2609 - val_R_squared: 0.4323 - val_mae: 0.3863\n",
      "Epoch 68/300\n",
      "10/10 [==============================] - 9s 872ms/step - loss: 0.3678 - R_squared: 0.1016 - mae: 0.3740 - val_loss: 0.2604 - val_R_squared: 0.4333 - val_mae: 0.3859\n",
      "Epoch 69/300\n",
      "10/10 [==============================] - 9s 841ms/step - loss: 0.3696 - R_squared: 0.0890 - mae: 0.3773 - val_loss: 0.2623 - val_R_squared: 0.4288 - val_mae: 0.3874\n",
      "Epoch 70/300\n",
      "10/10 [==============================] - 9s 857ms/step - loss: 0.3713 - R_squared: 0.0874 - mae: 0.3821 - val_loss: 0.2624 - val_R_squared: 0.4284 - val_mae: 0.3876\n",
      "Epoch 71/300\n",
      "10/10 [==============================] - 9s 865ms/step - loss: 0.3728 - R_squared: 0.0873 - mae: 0.3840 - val_loss: 0.2619 - val_R_squared: 0.4293 - val_mae: 0.3872\n",
      "Epoch 72/300\n",
      "10/10 [==============================] - 9s 849ms/step - loss: 0.3617 - R_squared: 0.1149 - mae: 0.3726 - val_loss: 0.2623 - val_R_squared: 0.4280 - val_mae: 0.3873\n",
      "Epoch 73/300\n",
      "10/10 [==============================] - 9s 834ms/step - loss: 0.3798 - R_squared: 0.0606 - mae: 0.3813 - val_loss: 0.2607 - val_R_squared: 0.4318 - val_mae: 0.3862\n",
      "Epoch 74/300\n",
      "10/10 [==============================] - 9s 867ms/step - loss: 0.3633 - R_squared: 0.1088 - mae: 0.3782 - val_loss: 0.2607 - val_R_squared: 0.4319 - val_mae: 0.3862\n",
      "Epoch 75/300\n",
      "10/10 [==============================] - 9s 861ms/step - loss: 0.3699 - R_squared: 0.0925 - mae: 0.3801 - val_loss: 0.2611 - val_R_squared: 0.4309 - val_mae: 0.3866\n",
      "Epoch 76/300\n",
      "10/10 [==============================] - 9s 916ms/step - loss: 0.3994 - R_squared: 0.0133 - mae: 0.3977 - val_loss: 0.2609 - val_R_squared: 0.4311 - val_mae: 0.3864\n",
      "Epoch 77/300\n",
      "10/10 [==============================] - 9s 856ms/step - loss: 0.3671 - R_squared: 0.0996 - mae: 0.3791 - val_loss: 0.2604 - val_R_squared: 0.4323 - val_mae: 0.3863\n",
      "Epoch 78/300\n",
      "10/10 [==============================] - 9s 862ms/step - loss: 0.3661 - R_squared: 0.1056 - mae: 0.3792 - val_loss: 0.2590 - val_R_squared: 0.4353 - val_mae: 0.3850\n",
      "Epoch 79/300\n",
      "10/10 [==============================] - 9s 866ms/step - loss: 0.3362 - R_squared: 0.1785 - mae: 0.3585 - val_loss: 0.2593 - val_R_squared: 0.4342 - val_mae: 0.3851\n",
      "Epoch 80/300\n",
      "10/10 [==============================] - 9s 858ms/step - loss: 0.3780 - R_squared: 0.0745 - mae: 0.3846 - val_loss: 0.2608 - val_R_squared: 0.4310 - val_mae: 0.3866\n",
      "Epoch 81/300\n",
      "10/10 [==============================] - 10s 972ms/step - loss: 0.3848 - R_squared: 0.0515 - mae: 0.3868 - val_loss: 0.2611 - val_R_squared: 0.4305 - val_mae: 0.3869\n",
      "Epoch 82/300\n",
      "10/10 [==============================] - 10s 1s/step - loss: 0.3773 - R_squared: 0.0785 - mae: 0.3835 - val_loss: 0.2622 - val_R_squared: 0.4279 - val_mae: 0.3878\n",
      "Epoch 83/300\n",
      "10/10 [==============================] - 11s 1s/step - loss: 0.3831 - R_squared: 0.0634 - mae: 0.3845 - val_loss: 0.2615 - val_R_squared: 0.4296 - val_mae: 0.3871\n",
      "Epoch 84/300\n",
      "10/10 [==============================] - 10s 983ms/step - loss: 0.3703 - R_squared: 0.0886 - mae: 0.3773 - val_loss: 0.2617 - val_R_squared: 0.4290 - val_mae: 0.3869\n",
      "Epoch 85/300\n",
      "10/10 [==============================] - 9s 881ms/step - loss: 0.4027 - R_squared: 0.0163 - mae: 0.3909 - val_loss: 0.2617 - val_R_squared: 0.4291 - val_mae: 0.3875\n",
      "Epoch 86/300\n",
      "10/10 [==============================] - 9s 872ms/step - loss: 0.3544 - R_squared: 0.1352 - mae: 0.3741 - val_loss: 0.2609 - val_R_squared: 0.4308 - val_mae: 0.3867\n",
      "Epoch 87/300\n",
      "10/10 [==============================] - 9s 859ms/step - loss: 0.3526 - R_squared: 0.1332 - mae: 0.3694 - val_loss: 0.2605 - val_R_squared: 0.4315 - val_mae: 0.3863\n",
      "Epoch 88/300\n",
      "10/10 [==============================] - 9s 880ms/step - loss: 0.3644 - R_squared: 0.1107 - mae: 0.3722 - val_loss: 0.2612 - val_R_squared: 0.4299 - val_mae: 0.3869\n",
      "Epoch 89/300\n",
      "10/10 [==============================] - 9s 878ms/step - loss: 0.3593 - R_squared: 0.1180 - mae: 0.3700 - val_loss: 0.2615 - val_R_squared: 0.4289 - val_mae: 0.3872\n",
      "Epoch 90/300\n",
      "10/10 [==============================] - 9s 857ms/step - loss: 0.3618 - R_squared: 0.1130 - mae: 0.3749 - val_loss: 0.2608 - val_R_squared: 0.4305 - val_mae: 0.3866\n",
      "Epoch 91/300\n",
      "10/10 [==============================] - 9s 867ms/step - loss: 0.3716 - R_squared: 0.0902 - mae: 0.3792 - val_loss: 0.2627 - val_R_squared: 0.4263 - val_mae: 0.3881\n",
      "Epoch 92/300\n",
      "10/10 [==============================] - 9s 873ms/step - loss: 0.3275 - R_squared: 0.1943 - mae: 0.3571 - val_loss: 0.2639 - val_R_squared: 0.4237 - val_mae: 0.3894\n",
      "Epoch 93/300\n",
      "10/10 [==============================] - 9s 860ms/step - loss: 0.3565 - R_squared: 0.1281 - mae: 0.3713 - val_loss: 0.2623 - val_R_squared: 0.4272 - val_mae: 0.3878\n",
      "Epoch 94/300\n",
      "10/10 [==============================] - 9s 860ms/step - loss: 0.3445 - R_squared: 0.1524 - mae: 0.3667 - val_loss: 0.2621 - val_R_squared: 0.4277 - val_mae: 0.3875\n",
      "Epoch 95/300\n",
      "10/10 [==============================] - 10s 873ms/step - loss: 0.3690 - R_squared: 0.0919 - mae: 0.3792 - val_loss: 0.2626 - val_R_squared: 0.4264 - val_mae: 0.3881\n",
      "Epoch 96/300\n",
      "10/10 [==============================] - 9s 861ms/step - loss: 0.3596 - R_squared: 0.1178 - mae: 0.3680 - val_loss: 0.2628 - val_R_squared: 0.4261 - val_mae: 0.3885\n",
      "Epoch 97/300\n",
      "10/10 [==============================] - 9s 881ms/step - loss: 0.3933 - R_squared: 0.0368 - mae: 0.3980 - val_loss: 0.2618 - val_R_squared: 0.4285 - val_mae: 0.3876\n",
      "Epoch 98/300\n",
      "10/10 [==============================] - 9s 868ms/step - loss: 0.3521 - R_squared: 0.1398 - mae: 0.3711 - val_loss: 0.2613 - val_R_squared: 0.4295 - val_mae: 0.3870\n",
      "Epoch 99/300\n",
      "10/10 [==============================] - 9s 865ms/step - loss: 0.3428 - R_squared: 0.1630 - mae: 0.3624 - val_loss: 0.2616 - val_R_squared: 0.4287 - val_mae: 0.3871\n",
      "Epoch 100/300\n",
      "10/10 [==============================] - 9s 889ms/step - loss: 0.3578 - R_squared: 0.1213 - mae: 0.3695 - val_loss: 0.2637 - val_R_squared: 0.4239 - val_mae: 0.3891\n",
      "Epoch 101/300\n",
      "10/10 [==============================] - 9s 833ms/step - loss: 0.3509 - R_squared: 0.1431 - mae: 0.3690 - val_loss: 0.2638 - val_R_squared: 0.4241 - val_mae: 0.3892\n",
      "Epoch 102/300\n",
      "10/10 [==============================] - 9s 839ms/step - loss: 0.3708 - R_squared: 0.0863 - mae: 0.3809 - val_loss: 0.2621 - val_R_squared: 0.4280 - val_mae: 0.3880\n",
      "Epoch 103/300\n",
      "10/10 [==============================] - 9s 834ms/step - loss: 0.3454 - R_squared: 0.1541 - mae: 0.3625 - val_loss: 0.2627 - val_R_squared: 0.4268 - val_mae: 0.3883\n",
      "Epoch 104/300\n",
      "10/10 [==============================] - 10s 940ms/step - loss: 0.3360 - R_squared: 0.1762 - mae: 0.3574 - val_loss: 0.2616 - val_R_squared: 0.4291 - val_mae: 0.3871\n",
      "Epoch 105/300\n",
      "10/10 [==============================] - 9s 858ms/step - loss: 0.3339 - R_squared: 0.1721 - mae: 0.3621 - val_loss: 0.2604 - val_R_squared: 0.4316 - val_mae: 0.3862\n",
      "Epoch 106/300\n",
      "10/10 [==============================] - 9s 845ms/step - loss: 0.3659 - R_squared: 0.1042 - mae: 0.3781 - val_loss: 0.2617 - val_R_squared: 0.4291 - val_mae: 0.3871\n",
      "Epoch 107/300\n",
      "10/10 [==============================] - 9s 862ms/step - loss: 0.3532 - R_squared: 0.1344 - mae: 0.3681 - val_loss: 0.2629 - val_R_squared: 0.4267 - val_mae: 0.3880\n",
      "Epoch 108/300\n",
      "10/10 [==============================] - 9s 862ms/step - loss: 0.3673 - R_squared: 0.1000 - mae: 0.3758 - val_loss: 0.2621 - val_R_squared: 0.4284 - val_mae: 0.3875\n",
      "Epoch 109/300\n",
      "10/10 [==============================] - 9s 850ms/step - loss: 0.3590 - R_squared: 0.1178 - mae: 0.3719 - val_loss: 0.2617 - val_R_squared: 0.4293 - val_mae: 0.3871\n",
      "Epoch 110/300\n",
      "10/10 [==============================] - 9s 863ms/step - loss: 0.3683 - R_squared: 0.0994 - mae: 0.3785 - val_loss: 0.2614 - val_R_squared: 0.4301 - val_mae: 0.3871\n",
      "Epoch 111/300\n",
      "10/10 [==============================] - 9s 871ms/step - loss: 0.3692 - R_squared: 0.0965 - mae: 0.3800 - val_loss: 0.2625 - val_R_squared: 0.4279 - val_mae: 0.3880\n",
      "Epoch 112/300\n",
      "10/10 [==============================] - 9s 869ms/step - loss: 0.3601 - R_squared: 0.1161 - mae: 0.3729 - val_loss: 0.2630 - val_R_squared: 0.4272 - val_mae: 0.3882\n",
      "Epoch 113/300\n",
      "10/10 [==============================] - 9s 859ms/step - loss: 0.3971 - R_squared: 0.0284 - mae: 0.3970 - val_loss: 0.2604 - val_R_squared: 0.4326 - val_mae: 0.3862\n",
      "Epoch 114/300\n",
      "10/10 [==============================] - 9s 880ms/step - loss: 0.3779 - R_squared: 0.0720 - mae: 0.3783 - val_loss: 0.2609 - val_R_squared: 0.4314 - val_mae: 0.3863\n",
      "Epoch 115/300\n",
      "10/10 [==============================] - 9s 880ms/step - loss: 0.3115 - R_squared: 0.2325 - mae: 0.3438 - val_loss: 0.2608 - val_R_squared: 0.4315 - val_mae: 0.3861\n",
      "Epoch 116/300\n",
      "10/10 [==============================] - 9s 855ms/step - loss: 0.3583 - R_squared: 0.1222 - mae: 0.3718 - val_loss: 0.2620 - val_R_squared: 0.4289 - val_mae: 0.3875\n",
      "Epoch 117/300\n",
      "10/10 [==============================] - 9s 869ms/step - loss: 0.3366 - R_squared: 0.1748 - mae: 0.3647 - val_loss: 0.2613 - val_R_squared: 0.4304 - val_mae: 0.3868\n",
      "Epoch 118/300\n",
      "10/10 [==============================] - 9s 870ms/step - loss: 0.3582 - R_squared: 0.1202 - mae: 0.3745 - val_loss: 0.2636 - val_R_squared: 0.4254 - val_mae: 0.3887\n",
      "Epoch 119/300\n",
      "10/10 [==============================] - 9s 863ms/step - loss: 0.3491 - R_squared: 0.1466 - mae: 0.3630 - val_loss: 0.2648 - val_R_squared: 0.4230 - val_mae: 0.3893\n",
      "Epoch 120/300\n",
      "10/10 [==============================] - 9s 877ms/step - loss: 0.3686 - R_squared: 0.0968 - mae: 0.3762 - val_loss: 0.2633 - val_R_squared: 0.4260 - val_mae: 0.3886\n",
      "Epoch 121/300\n",
      "10/10 [==============================] - 9s 867ms/step - loss: 0.3560 - R_squared: 0.1317 - mae: 0.3693 - val_loss: 0.2603 - val_R_squared: 0.4323 - val_mae: 0.3858\n",
      "Epoch 122/300\n",
      "10/10 [==============================] - 9s 866ms/step - loss: 0.3596 - R_squared: 0.1177 - mae: 0.3766 - val_loss: 0.2607 - val_R_squared: 0.4315 - val_mae: 0.3862\n",
      "Epoch 123/300\n",
      "10/10 [==============================] - 9s 869ms/step - loss: 0.3332 - R_squared: 0.1819 - mae: 0.3553 - val_loss: 0.2629 - val_R_squared: 0.4265 - val_mae: 0.3880\n",
      "Epoch 124/300\n",
      "10/10 [==============================] - 9s 899ms/step - loss: 0.3766 - R_squared: 0.0720 - mae: 0.3799 - val_loss: 0.2618 - val_R_squared: 0.4288 - val_mae: 0.3873\n",
      "Epoch 125/300\n",
      "10/10 [==============================] - 10s 871ms/step - loss: 0.3529 - R_squared: 0.1374 - mae: 0.3740 - val_loss: 0.2625 - val_R_squared: 0.4276 - val_mae: 0.3880\n",
      "Epoch 126/300\n",
      "10/10 [==============================] - 9s 856ms/step - loss: 0.3436 - R_squared: 0.1627 - mae: 0.3652 - val_loss: 0.2630 - val_R_squared: 0.4267 - val_mae: 0.3882\n",
      "Epoch 127/300\n",
      "10/10 [==============================] - 9s 884ms/step - loss: 0.3431 - R_squared: 0.1593 - mae: 0.3588 - val_loss: 0.2631 - val_R_squared: 0.4260 - val_mae: 0.3882\n",
      "Epoch 128/300\n",
      "10/10 [==============================] - 9s 877ms/step - loss: 0.3560 - R_squared: 0.1265 - mae: 0.3706 - val_loss: 0.2639 - val_R_squared: 0.4244 - val_mae: 0.3888\n",
      "Epoch 129/300\n",
      "10/10 [==============================] - 9s 840ms/step - loss: 0.3587 - R_squared: 0.1241 - mae: 0.3705 - val_loss: 0.2626 - val_R_squared: 0.4271 - val_mae: 0.3880\n",
      "Epoch 130/300\n",
      "10/10 [==============================] - 9s 871ms/step - loss: 0.3453 - R_squared: 0.1535 - mae: 0.3652 - val_loss: 0.2615 - val_R_squared: 0.4297 - val_mae: 0.3869\n",
      "Epoch 131/300\n",
      "10/10 [==============================] - 9s 845ms/step - loss: 0.3458 - R_squared: 0.1553 - mae: 0.3639 - val_loss: 0.2606 - val_R_squared: 0.4316 - val_mae: 0.3860\n",
      "Epoch 132/300\n",
      "10/10 [==============================] - 9s 854ms/step - loss: 0.3584 - R_squared: 0.1211 - mae: 0.3705 - val_loss: 0.2620 - val_R_squared: 0.4285 - val_mae: 0.3874\n",
      "Epoch 133/300\n",
      "10/10 [==============================] - 9s 855ms/step - loss: 0.3316 - R_squared: 0.1851 - mae: 0.3530 - val_loss: 0.2622 - val_R_squared: 0.4278 - val_mae: 0.3877\n",
      "Epoch 134/300\n",
      "10/10 [==============================] - 9s 889ms/step - loss: 0.3444 - R_squared: 0.1555 - mae: 0.3637 - val_loss: 0.2640 - val_R_squared: 0.4240 - val_mae: 0.3892\n",
      "Epoch 135/300\n",
      "10/10 [==============================] - 9s 872ms/step - loss: 0.3472 - R_squared: 0.1481 - mae: 0.3668 - val_loss: 0.2629 - val_R_squared: 0.4263 - val_mae: 0.3882\n",
      "Epoch 136/300\n",
      "10/10 [==============================] - 9s 888ms/step - loss: 0.3769 - R_squared: 0.0771 - mae: 0.3814 - val_loss: 0.2625 - val_R_squared: 0.4272 - val_mae: 0.3875\n",
      "Epoch 137/300\n",
      "10/10 [==============================] - 9s 860ms/step - loss: 0.3837 - R_squared: 0.0593 - mae: 0.3904 - val_loss: 0.2617 - val_R_squared: 0.4286 - val_mae: 0.3872\n",
      "Epoch 138/300\n",
      "10/10 [==============================] - 9s 873ms/step - loss: 0.3362 - R_squared: 0.1745 - mae: 0.3601 - val_loss: 0.2606 - val_R_squared: 0.4313 - val_mae: 0.3862\n",
      "Epoch 139/300\n",
      "10/10 [==============================] - 9s 884ms/step - loss: 0.3815 - R_squared: 0.0669 - mae: 0.3785 - val_loss: 0.2619 - val_R_squared: 0.4291 - val_mae: 0.3874\n",
      "Epoch 140/300\n",
      "10/10 [==============================] - 9s 883ms/step - loss: 0.3659 - R_squared: 0.1057 - mae: 0.3699 - val_loss: 0.2628 - val_R_squared: 0.4271 - val_mae: 0.3883\n",
      "Epoch 141/300\n",
      "10/10 [==============================] - 9s 922ms/step - loss: 0.3682 - R_squared: 0.1018 - mae: 0.3719 - val_loss: 0.2642 - val_R_squared: 0.4241 - val_mae: 0.3894\n",
      "Epoch 142/300\n",
      "10/10 [==============================] - 9s 879ms/step - loss: 0.3597 - R_squared: 0.1110 - mae: 0.3719 - val_loss: 0.2630 - val_R_squared: 0.4265 - val_mae: 0.3884\n",
      "Epoch 143/300\n",
      "10/10 [==============================] - 9s 878ms/step - loss: 0.3386 - R_squared: 0.1743 - mae: 0.3607 - val_loss: 0.2622 - val_R_squared: 0.4285 - val_mae: 0.3879\n",
      "Epoch 144/300\n",
      "10/10 [==============================] - 11s 1s/step - loss: 0.3659 - R_squared: 0.1005 - mae: 0.3780 - val_loss: 0.2618 - val_R_squared: 0.4296 - val_mae: 0.3877\n",
      "Epoch 145/300\n",
      "10/10 [==============================] - 10s 948ms/step - loss: 0.3726 - R_squared: 0.0884 - mae: 0.3812 - val_loss: 0.2620 - val_R_squared: 0.4293 - val_mae: 0.3880\n",
      "Epoch 146/300\n",
      "10/10 [==============================] - 9s 919ms/step - loss: 0.3540 - R_squared: 0.1277 - mae: 0.3710 - val_loss: 0.2607 - val_R_squared: 0.4320 - val_mae: 0.3867\n",
      "Epoch 147/300\n",
      "10/10 [==============================] - 10s 941ms/step - loss: 0.3692 - R_squared: 0.0942 - mae: 0.3796 - val_loss: 0.2606 - val_R_squared: 0.4323 - val_mae: 0.3863\n",
      "Epoch 148/300\n",
      "10/10 [==============================] - 10s 1s/step - loss: 0.3475 - R_squared: 0.1494 - mae: 0.3644 - val_loss: 0.2619 - val_R_squared: 0.4293 - val_mae: 0.3876\n",
      "Epoch 149/300\n",
      "10/10 [==============================] - 10s 958ms/step - loss: 0.3700 - R_squared: 0.0906 - mae: 0.3733 - val_loss: 0.2606 - val_R_squared: 0.4318 - val_mae: 0.3869\n",
      "Epoch 150/300\n",
      "10/10 [==============================] - 10s 954ms/step - loss: 0.3443 - R_squared: 0.1531 - mae: 0.3630 - val_loss: 0.2625 - val_R_squared: 0.4281 - val_mae: 0.3886\n",
      "Epoch 151/300\n",
      "10/10 [==============================] - 10s 954ms/step - loss: 0.3540 - R_squared: 0.1310 - mae: 0.3688 - val_loss: 0.2627 - val_R_squared: 0.4278 - val_mae: 0.3887\n",
      "Epoch 152/300\n",
      "10/10 [==============================] - 10s 975ms/step - loss: 0.3224 - R_squared: 0.2064 - mae: 0.3507 - val_loss: 0.2614 - val_R_squared: 0.4304 - val_mae: 0.3876\n",
      "Epoch 153/300\n",
      "10/10 [==============================] - 10s 990ms/step - loss: 0.3739 - R_squared: 0.0824 - mae: 0.3787 - val_loss: 0.2631 - val_R_squared: 0.4267 - val_mae: 0.3891\n",
      "Epoch 154/300\n",
      "10/10 [==============================] - 10s 958ms/step - loss: 0.3635 - R_squared: 0.1120 - mae: 0.3718 - val_loss: 0.2632 - val_R_squared: 0.4264 - val_mae: 0.3892\n",
      "Epoch 155/300\n",
      "10/10 [==============================] - 10s 967ms/step - loss: 0.3493 - R_squared: 0.1411 - mae: 0.3653 - val_loss: 0.2652 - val_R_squared: 0.4221 - val_mae: 0.3909\n",
      "Epoch 156/300\n",
      "10/10 [==============================] - 11s 1s/step - loss: 0.3518 - R_squared: 0.1399 - mae: 0.3658 - val_loss: 0.2654 - val_R_squared: 0.4216 - val_mae: 0.3914\n",
      "Epoch 157/300\n",
      "10/10 [==============================] - 10s 990ms/step - loss: 0.3558 - R_squared: 0.1249 - mae: 0.3657 - val_loss: 0.2631 - val_R_squared: 0.4264 - val_mae: 0.3893\n",
      "Epoch 158/300\n",
      "10/10 [==============================] - 10s 955ms/step - loss: 0.3570 - R_squared: 0.1292 - mae: 0.3686 - val_loss: 0.2625 - val_R_squared: 0.4277 - val_mae: 0.3887\n",
      "Epoch 159/300\n",
      "10/10 [==============================] - 10s 982ms/step - loss: 0.3371 - R_squared: 0.1740 - mae: 0.3589 - val_loss: 0.2637 - val_R_squared: 0.4253 - val_mae: 0.3894\n",
      "Epoch 160/300\n",
      "10/10 [==============================] - 10s 971ms/step - loss: 0.3524 - R_squared: 0.1372 - mae: 0.3622 - val_loss: 0.2639 - val_R_squared: 0.4249 - val_mae: 0.3899\n",
      "Epoch 161/300\n",
      "10/10 [==============================] - 11s 1s/step - loss: 0.3814 - R_squared: 0.0614 - mae: 0.3838 - val_loss: 0.2624 - val_R_squared: 0.4283 - val_mae: 0.3887\n",
      "Epoch 162/300\n",
      "10/10 [==============================] - 10s 991ms/step - loss: 0.3360 - R_squared: 0.1732 - mae: 0.3629 - val_loss: 0.2626 - val_R_squared: 0.4279 - val_mae: 0.3887\n",
      "Epoch 163/300\n",
      "10/10 [==============================] - 10s 955ms/step - loss: 0.3601 - R_squared: 0.1177 - mae: 0.3704 - val_loss: 0.2624 - val_R_squared: 0.4284 - val_mae: 0.3884\n",
      "Epoch 164/300\n",
      "10/10 [==============================] - 10s 955ms/step - loss: 0.3300 - R_squared: 0.1874 - mae: 0.3556 - val_loss: 0.2626 - val_R_squared: 0.4275 - val_mae: 0.3887\n",
      "Epoch 165/300\n",
      "10/10 [==============================] - 10s 953ms/step - loss: 0.3518 - R_squared: 0.1395 - mae: 0.3667 - val_loss: 0.2615 - val_R_squared: 0.4301 - val_mae: 0.3878\n",
      "Epoch 166/300\n",
      "10/10 [==============================] - 10s 939ms/step - loss: 0.3404 - R_squared: 0.1642 - mae: 0.3601 - val_loss: 0.2627 - val_R_squared: 0.4277 - val_mae: 0.3885\n",
      "Epoch 167/300\n",
      "10/10 [==============================] - 10s 960ms/step - loss: 0.3676 - R_squared: 0.0952 - mae: 0.3753 - val_loss: 0.2615 - val_R_squared: 0.4300 - val_mae: 0.3878\n",
      "Epoch 168/300\n",
      "10/10 [==============================] - 10s 945ms/step - loss: 0.3342 - R_squared: 0.1768 - mae: 0.3574 - val_loss: 0.2602 - val_R_squared: 0.4325 - val_mae: 0.3866\n",
      "Epoch 169/300\n",
      "10/10 [==============================] - 10s 956ms/step - loss: 0.3229 - R_squared: 0.2092 - mae: 0.3539 - val_loss: 0.2667 - val_R_squared: 0.4190 - val_mae: 0.3920\n",
      "Epoch 170/300\n",
      "10/10 [==============================] - 10s 953ms/step - loss: 0.3384 - R_squared: 0.1716 - mae: 0.3547 - val_loss: 0.2650 - val_R_squared: 0.4223 - val_mae: 0.3911\n",
      "Epoch 171/300\n",
      "10/10 [==============================] - 10s 955ms/step - loss: 0.3719 - R_squared: 0.0887 - mae: 0.3780 - val_loss: 0.2648 - val_R_squared: 0.4229 - val_mae: 0.3906\n",
      "Epoch 172/300\n",
      "10/10 [==============================] - 10s 942ms/step - loss: 0.3513 - R_squared: 0.1339 - mae: 0.3665 - val_loss: 0.2620 - val_R_squared: 0.4289 - val_mae: 0.3885\n",
      "Epoch 173/300\n",
      "10/10 [==============================] - 10s 980ms/step - loss: 0.3552 - R_squared: 0.1323 - mae: 0.3667 - val_loss: 0.2616 - val_R_squared: 0.4299 - val_mae: 0.3880\n",
      "Epoch 174/300\n",
      "10/10 [==============================] - 10s 941ms/step - loss: 0.3290 - R_squared: 0.1956 - mae: 0.3521 - val_loss: 0.2649 - val_R_squared: 0.4228 - val_mae: 0.3909\n",
      "Epoch 175/300\n",
      "10/10 [==============================] - 10s 973ms/step - loss: 0.3396 - R_squared: 0.1693 - mae: 0.3591 - val_loss: 0.2638 - val_R_squared: 0.4252 - val_mae: 0.3899\n",
      "Epoch 176/300\n",
      "10/10 [==============================] - 10s 969ms/step - loss: 0.3545 - R_squared: 0.1332 - mae: 0.3661 - val_loss: 0.2628 - val_R_squared: 0.4274 - val_mae: 0.3892\n",
      "Epoch 177/300\n",
      "10/10 [==============================] - 10s 958ms/step - loss: 0.3508 - R_squared: 0.1414 - mae: 0.3692 - val_loss: 0.2640 - val_R_squared: 0.4251 - val_mae: 0.3901\n",
      "Epoch 178/300\n",
      "10/10 [==============================] - 10s 973ms/step - loss: 0.3280 - R_squared: 0.1931 - mae: 0.3537 - val_loss: 0.2630 - val_R_squared: 0.4268 - val_mae: 0.3891\n",
      "Epoch 179/300\n",
      "10/10 [==============================] - 10s 1s/step - loss: 0.3493 - R_squared: 0.1447 - mae: 0.3632 - val_loss: 0.2634 - val_R_squared: 0.4261 - val_mae: 0.3893\n",
      "Epoch 180/300\n",
      "10/10 [==============================] - 10s 1s/step - loss: 0.3489 - R_squared: 0.1437 - mae: 0.3663 - val_loss: 0.2622 - val_R_squared: 0.4286 - val_mae: 0.3885\n",
      "Epoch 181/300\n",
      "10/10 [==============================] - 10s 973ms/step - loss: 0.3574 - R_squared: 0.1239 - mae: 0.3646 - val_loss: 0.2658 - val_R_squared: 0.4211 - val_mae: 0.3915\n",
      "Epoch 182/300\n",
      "10/10 [==============================] - 10s 956ms/step - loss: 0.3446 - R_squared: 0.1536 - mae: 0.3599 - val_loss: 0.2657 - val_R_squared: 0.4211 - val_mae: 0.3911\n",
      "Epoch 183/300\n",
      "10/10 [==============================] - 10s 965ms/step - loss: 0.3740 - R_squared: 0.0880 - mae: 0.3779 - val_loss: 0.2651 - val_R_squared: 0.4221 - val_mae: 0.3910\n",
      "Epoch 184/300\n",
      "10/10 [==============================] - 10s 967ms/step - loss: 0.3396 - R_squared: 0.1721 - mae: 0.3604 - val_loss: 0.2646 - val_R_squared: 0.4232 - val_mae: 0.3903\n",
      "Epoch 185/300\n",
      "10/10 [==============================] - 10s 969ms/step - loss: 0.3401 - R_squared: 0.1651 - mae: 0.3590 - val_loss: 0.2660 - val_R_squared: 0.4204 - val_mae: 0.3915\n",
      "Epoch 186/300\n",
      "10/10 [==============================] - 10s 972ms/step - loss: 0.3710 - R_squared: 0.0949 - mae: 0.3807 - val_loss: 0.2632 - val_R_squared: 0.4264 - val_mae: 0.3893\n",
      "Epoch 187/300\n",
      "10/10 [==============================] - 10s 964ms/step - loss: 0.3373 - R_squared: 0.1752 - mae: 0.3581 - val_loss: 0.2624 - val_R_squared: 0.4277 - val_mae: 0.3885\n",
      "Epoch 188/300\n",
      "10/10 [==============================] - 10s 1s/step - loss: 0.3226 - R_squared: 0.2067 - mae: 0.3487 - val_loss: 0.2639 - val_R_squared: 0.4245 - val_mae: 0.3899\n",
      "Epoch 189/300\n",
      "10/10 [==============================] - 10s 948ms/step - loss: 0.3370 - R_squared: 0.1648 - mae: 0.3566 - val_loss: 0.2655 - val_R_squared: 0.4209 - val_mae: 0.3916\n",
      "Epoch 190/300\n",
      "10/10 [==============================] - 10s 968ms/step - loss: 0.3309 - R_squared: 0.1904 - mae: 0.3603 - val_loss: 0.2662 - val_R_squared: 0.4194 - val_mae: 0.3922\n",
      "Epoch 191/300\n",
      "10/10 [==============================] - 11s 1s/step - loss: 0.3367 - R_squared: 0.1798 - mae: 0.3566 - val_loss: 0.2659 - val_R_squared: 0.4199 - val_mae: 0.3918\n",
      "Epoch 192/300\n",
      "10/10 [==============================] - 10s 944ms/step - loss: 0.3389 - R_squared: 0.1692 - mae: 0.3593 - val_loss: 0.2631 - val_R_squared: 0.4262 - val_mae: 0.3895\n",
      "Epoch 193/300\n",
      "10/10 [==============================] - 10s 934ms/step - loss: 0.3272 - R_squared: 0.1974 - mae: 0.3544 - val_loss: 0.2648 - val_R_squared: 0.4226 - val_mae: 0.3908\n",
      "Epoch 194/300\n",
      "10/10 [==============================] - 10s 963ms/step - loss: 0.3499 - R_squared: 0.1422 - mae: 0.3615 - val_loss: 0.2658 - val_R_squared: 0.4201 - val_mae: 0.3917\n",
      "Epoch 195/300\n",
      "10/10 [==============================] - 10s 958ms/step - loss: 0.3574 - R_squared: 0.1230 - mae: 0.3648 - val_loss: 0.2652 - val_R_squared: 0.4214 - val_mae: 0.3914\n",
      "Epoch 196/300\n",
      "10/10 [==============================] - 10s 943ms/step - loss: 0.3382 - R_squared: 0.1728 - mae: 0.3586 - val_loss: 0.2637 - val_R_squared: 0.4248 - val_mae: 0.3902\n",
      "Epoch 197/300\n",
      "10/10 [==============================] - 11s 980ms/step - loss: 0.3340 - R_squared: 0.1816 - mae: 0.3587 - val_loss: 0.2615 - val_R_squared: 0.4294 - val_mae: 0.3888\n",
      "Epoch 198/300\n",
      "10/10 [==============================] - 10s 957ms/step - loss: 0.3527 - R_squared: 0.1390 - mae: 0.3697 - val_loss: 0.2641 - val_R_squared: 0.4238 - val_mae: 0.3907\n",
      "Epoch 199/300\n",
      "10/10 [==============================] - 10s 961ms/step - loss: 0.3137 - R_squared: 0.2331 - mae: 0.3436 - val_loss: 0.2652 - val_R_squared: 0.4213 - val_mae: 0.3918\n",
      "Epoch 200/300\n",
      "10/10 [==============================] - 10s 955ms/step - loss: 0.3198 - R_squared: 0.2152 - mae: 0.3517 - val_loss: 0.2653 - val_R_squared: 0.4211 - val_mae: 0.3917\n",
      "Epoch 201/300\n",
      "10/10 [==============================] - 10s 984ms/step - loss: 0.3450 - R_squared: 0.1553 - mae: 0.3614 - val_loss: 0.2641 - val_R_squared: 0.4238 - val_mae: 0.3913\n",
      "Epoch 202/300\n",
      "10/10 [==============================] - 10s 955ms/step - loss: 0.3426 - R_squared: 0.1604 - mae: 0.3563 - val_loss: 0.2626 - val_R_squared: 0.4270 - val_mae: 0.3896\n",
      "Epoch 203/300\n",
      "10/10 [==============================] - 11s 988ms/step - loss: 0.3455 - R_squared: 0.1537 - mae: 0.3647 - val_loss: 0.2663 - val_R_squared: 0.4190 - val_mae: 0.3929\n",
      "Epoch 204/300\n",
      "10/10 [==============================] - 10s 983ms/step - loss: 0.3638 - R_squared: 0.1026 - mae: 0.3777 - val_loss: 0.2660 - val_R_squared: 0.4196 - val_mae: 0.3925\n",
      "Epoch 205/300\n",
      "10/10 [==============================] - 10s 966ms/step - loss: 0.3448 - R_squared: 0.1540 - mae: 0.3599 - val_loss: 0.2662 - val_R_squared: 0.4186 - val_mae: 0.3924\n",
      "Epoch 206/300\n",
      "10/10 [==============================] - 10s 977ms/step - loss: 0.3006 - R_squared: 0.2658 - mae: 0.3337 - val_loss: 0.2662 - val_R_squared: 0.4190 - val_mae: 0.3921\n",
      "Epoch 207/300\n",
      "10/10 [==============================] - 10s 961ms/step - loss: 0.3259 - R_squared: 0.2051 - mae: 0.3487 - val_loss: 0.2662 - val_R_squared: 0.4188 - val_mae: 0.3927\n",
      "Epoch 208/300\n",
      "10/10 [==============================] - 10s 968ms/step - loss: 0.3330 - R_squared: 0.1832 - mae: 0.3538 - val_loss: 0.2672 - val_R_squared: 0.4167 - val_mae: 0.3931\n",
      "Epoch 209/300\n",
      "10/10 [==============================] - 11s 1s/step - loss: 0.3489 - R_squared: 0.1514 - mae: 0.3623 - val_loss: 0.2652 - val_R_squared: 0.4210 - val_mae: 0.3917\n",
      "Epoch 210/300\n",
      "10/10 [==============================] - 10s 945ms/step - loss: 0.3267 - R_squared: 0.2008 - mae: 0.3517 - val_loss: 0.2677 - val_R_squared: 0.4152 - val_mae: 0.3940\n",
      "Epoch 211/300\n",
      "10/10 [==============================] - 10s 949ms/step - loss: 0.3282 - R_squared: 0.1937 - mae: 0.3506 - val_loss: 0.2670 - val_R_squared: 0.4171 - val_mae: 0.3936\n",
      "Epoch 212/300\n",
      "10/10 [==============================] - 10s 1s/step - loss: 0.3507 - R_squared: 0.1411 - mae: 0.3608 - val_loss: 0.2664 - val_R_squared: 0.4182 - val_mae: 0.3930\n",
      "Epoch 213/300\n",
      "10/10 [==============================] - 10s 979ms/step - loss: 0.3348 - R_squared: 0.1792 - mae: 0.3579 - val_loss: 0.2634 - val_R_squared: 0.4251 - val_mae: 0.3905\n",
      "Epoch 214/300\n",
      "10/10 [==============================] - 11s 954ms/step - loss: 0.3426 - R_squared: 0.1607 - mae: 0.3597 - val_loss: 0.2649 - val_R_squared: 0.4218 - val_mae: 0.3917\n",
      "Epoch 215/300\n",
      "10/10 [==============================] - 10s 949ms/step - loss: 0.3373 - R_squared: 0.1784 - mae: 0.3562 - val_loss: 0.2678 - val_R_squared: 0.4154 - val_mae: 0.3943\n",
      "Epoch 216/300\n",
      "10/10 [==============================] - 10s 937ms/step - loss: 0.3323 - R_squared: 0.1885 - mae: 0.3535 - val_loss: 0.2670 - val_R_squared: 0.4166 - val_mae: 0.3935\n",
      "Epoch 217/300\n",
      "10/10 [==============================] - 10s 969ms/step - loss: 0.3275 - R_squared: 0.1875 - mae: 0.3510 - val_loss: 0.2650 - val_R_squared: 0.4211 - val_mae: 0.3918\n",
      "Epoch 218/300\n",
      "10/10 [==============================] - 10s 942ms/step - loss: 0.3206 - R_squared: 0.2159 - mae: 0.3424 - val_loss: 0.2638 - val_R_squared: 0.4237 - val_mae: 0.3910\n",
      "Epoch 219/300\n",
      "10/10 [==============================] - 10s 925ms/step - loss: 0.3338 - R_squared: 0.1816 - mae: 0.3531 - val_loss: 0.2635 - val_R_squared: 0.4244 - val_mae: 0.3905\n",
      "Epoch 220/300\n",
      "10/10 [==============================] - 10s 932ms/step - loss: 0.3554 - R_squared: 0.1325 - mae: 0.3666 - val_loss: 0.2647 - val_R_squared: 0.4215 - val_mae: 0.3916\n",
      "Epoch 221/300\n",
      "10/10 [==============================] - 10s 947ms/step - loss: 0.3353 - R_squared: 0.1798 - mae: 0.3530 - val_loss: 0.2664 - val_R_squared: 0.4180 - val_mae: 0.3928\n",
      "Epoch 222/300\n",
      "10/10 [==============================] - 10s 946ms/step - loss: 0.3551 - R_squared: 0.1303 - mae: 0.3680 - val_loss: 0.2636 - val_R_squared: 0.4241 - val_mae: 0.3905\n",
      "Epoch 223/300\n",
      "10/10 [==============================] - 11s 1s/step - loss: 0.3695 - R_squared: 0.0926 - mae: 0.3751 - val_loss: 0.2640 - val_R_squared: 0.4234 - val_mae: 0.3909\n",
      "Epoch 224/300\n",
      "10/10 [==============================] - 11s 1s/step - loss: 0.3449 - R_squared: 0.1476 - mae: 0.3649 - val_loss: 0.2634 - val_R_squared: 0.4244 - val_mae: 0.3904\n",
      "Epoch 225/300\n",
      "10/10 [==============================] - 11s 1s/step - loss: 0.3075 - R_squared: 0.2462 - mae: 0.3395 - val_loss: 0.2671 - val_R_squared: 0.4163 - val_mae: 0.3932\n",
      "Epoch 226/300\n",
      "10/10 [==============================] - 10s 1s/step - loss: 0.3612 - R_squared: 0.1165 - mae: 0.3679 - val_loss: 0.2677 - val_R_squared: 0.4153 - val_mae: 0.3937\n",
      "Epoch 227/300\n",
      "10/10 [==============================] - 10s 1s/step - loss: 0.3459 - R_squared: 0.1485 - mae: 0.3593 - val_loss: 0.2656 - val_R_squared: 0.4196 - val_mae: 0.3924\n",
      "Epoch 228/300\n",
      "10/10 [==============================] - 10s 984ms/step - loss: 0.3450 - R_squared: 0.1526 - mae: 0.3590 - val_loss: 0.2659 - val_R_squared: 0.4188 - val_mae: 0.3921\n",
      "Epoch 229/300\n",
      "10/10 [==============================] - 11s 1s/step - loss: 0.3320 - R_squared: 0.1876 - mae: 0.3580 - val_loss: 0.2662 - val_R_squared: 0.4181 - val_mae: 0.3927\n",
      "Epoch 230/300\n",
      "10/10 [==============================] - 10s 982ms/step - loss: 0.3253 - R_squared: 0.1952 - mae: 0.3497 - val_loss: 0.2676 - val_R_squared: 0.4145 - val_mae: 0.3939\n",
      "Epoch 231/300\n",
      "10/10 [==============================] - 10s 995ms/step - loss: 0.3413 - R_squared: 0.1651 - mae: 0.3547 - val_loss: 0.2692 - val_R_squared: 0.4103 - val_mae: 0.3944\n",
      "Epoch 232/300\n",
      "10/10 [==============================] - 10s 992ms/step - loss: 0.3357 - R_squared: 0.1749 - mae: 0.3520 - val_loss: 0.2642 - val_R_squared: 0.4222 - val_mae: 0.3912\n",
      "Epoch 233/300\n",
      "10/10 [==============================] - 11s 1s/step - loss: 0.3256 - R_squared: 0.2029 - mae: 0.3511 - val_loss: 0.2672 - val_R_squared: 0.4154 - val_mae: 0.3936\n",
      "Epoch 234/300\n",
      "10/10 [==============================] - 10s 990ms/step - loss: 0.3457 - R_squared: 0.1524 - mae: 0.3612 - val_loss: 0.2666 - val_R_squared: 0.4170 - val_mae: 0.3929\n",
      "Epoch 235/300\n",
      "10/10 [==============================] - 11s 1s/step - loss: 0.3371 - R_squared: 0.1796 - mae: 0.3518 - val_loss: 0.2686 - val_R_squared: 0.4126 - val_mae: 0.3949\n",
      "Epoch 236/300\n",
      "10/10 [==============================] - 10s 990ms/step - loss: 0.3438 - R_squared: 0.1551 - mae: 0.3568 - val_loss: 0.2682 - val_R_squared: 0.4120 - val_mae: 0.3944\n",
      "Epoch 237/300\n",
      "10/10 [==============================] - 11s 989ms/step - loss: 0.3233 - R_squared: 0.2110 - mae: 0.3408 - val_loss: 0.2681 - val_R_squared: 0.4132 - val_mae: 0.3941\n",
      "Epoch 238/300\n",
      "10/10 [==============================] - 10s 998ms/step - loss: 0.3375 - R_squared: 0.1732 - mae: 0.3576 - val_loss: 0.2660 - val_R_squared: 0.4181 - val_mae: 0.3920\n",
      "Epoch 239/300\n",
      "10/10 [==============================] - 10s 991ms/step - loss: 0.3236 - R_squared: 0.2067 - mae: 0.3518 - val_loss: 0.2665 - val_R_squared: 0.4173 - val_mae: 0.3928\n",
      "Epoch 240/300\n",
      "10/10 [==============================] - 10s 988ms/step - loss: 0.3419 - R_squared: 0.1664 - mae: 0.3586 - val_loss: 0.2655 - val_R_squared: 0.4200 - val_mae: 0.3918\n",
      "Epoch 241/300\n",
      "10/10 [==============================] - 11s 1s/step - loss: 0.3452 - R_squared: 0.1538 - mae: 0.3556 - val_loss: 0.2652 - val_R_squared: 0.4202 - val_mae: 0.3910\n",
      "Epoch 242/300\n",
      "10/10 [==============================] - 11s 1s/step - loss: 0.3328 - R_squared: 0.1879 - mae: 0.3529 - val_loss: 0.2658 - val_R_squared: 0.4191 - val_mae: 0.3921\n",
      "Epoch 243/300\n",
      "10/10 [==============================] - 11s 1s/step - loss: 0.3381 - R_squared: 0.1689 - mae: 0.3575 - val_loss: 0.2695 - val_R_squared: 0.4112 - val_mae: 0.3953\n",
      "Epoch 244/300\n",
      "10/10 [==============================] - 12s 1s/step - loss: 0.3372 - R_squared: 0.1717 - mae: 0.3499 - val_loss: 0.2694 - val_R_squared: 0.4108 - val_mae: 0.3949\n",
      "Epoch 245/300\n",
      "10/10 [==============================] - 11s 1s/step - loss: 0.3438 - R_squared: 0.1542 - mae: 0.3600 - val_loss: 0.2697 - val_R_squared: 0.4092 - val_mae: 0.3952\n",
      "Epoch 246/300\n",
      "10/10 [==============================] - 12s 1s/step - loss: 0.3209 - R_squared: 0.2150 - mae: 0.3453 - val_loss: 0.2690 - val_R_squared: 0.4113 - val_mae: 0.3945\n",
      "Epoch 247/300\n",
      "10/10 [==============================] - 12s 1s/step - loss: 0.3475 - R_squared: 0.1445 - mae: 0.3565 - val_loss: 0.2698 - val_R_squared: 0.4084 - val_mae: 0.3958\n",
      "Epoch 248/300\n",
      "10/10 [==============================] - 12s 1s/step - loss: 0.3381 - R_squared: 0.1701 - mae: 0.3536 - val_loss: 0.2698 - val_R_squared: 0.4082 - val_mae: 0.3956\n",
      "Epoch 249/300\n",
      "10/10 [==============================] - 12s 1s/step - loss: 0.3404 - R_squared: 0.1629 - mae: 0.3565 - val_loss: 0.2673 - val_R_squared: 0.4138 - val_mae: 0.3932\n",
      "Epoch 250/300\n",
      "10/10 [==============================] - 12s 1s/step - loss: 0.3111 - R_squared: 0.2402 - mae: 0.3409 - val_loss: 0.2692 - val_R_squared: 0.4093 - val_mae: 0.3942\n",
      "Epoch 251/300\n",
      "10/10 [==============================] - 12s 1s/step - loss: 0.3167 - R_squared: 0.2243 - mae: 0.3410 - val_loss: 0.2677 - val_R_squared: 0.4146 - val_mae: 0.3946\n",
      "Epoch 252/300\n",
      "10/10 [==============================] - 12s 1s/step - loss: 0.3511 - R_squared: 0.1389 - mae: 0.3611 - val_loss: 0.2664 - val_R_squared: 0.4172 - val_mae: 0.3926\n",
      "Epoch 253/300\n",
      "10/10 [==============================] - 12s 1s/step - loss: 0.3471 - R_squared: 0.1474 - mae: 0.3643 - val_loss: 0.2650 - val_R_squared: 0.4202 - val_mae: 0.3915\n",
      "Epoch 254/300\n",
      "10/10 [==============================] - 12s 1s/step - loss: 0.3445 - R_squared: 0.1564 - mae: 0.3606 - val_loss: 0.2659 - val_R_squared: 0.4181 - val_mae: 0.3925\n",
      "Epoch 255/300\n",
      "10/10 [==============================] - 13s 1s/step - loss: 0.3333 - R_squared: 0.1864 - mae: 0.3509 - val_loss: 0.2664 - val_R_squared: 0.4171 - val_mae: 0.3921\n",
      "Epoch 256/300\n",
      "10/10 [==============================] - 12s 1s/step - loss: 0.3350 - R_squared: 0.1753 - mae: 0.3505 - val_loss: 0.2685 - val_R_squared: 0.4118 - val_mae: 0.3938\n",
      "Epoch 257/300\n",
      "10/10 [==============================] - 11s 1s/step - loss: 0.3391 - R_squared: 0.1637 - mae: 0.3547 - val_loss: 0.2696 - val_R_squared: 0.4094 - val_mae: 0.3952\n",
      "Epoch 258/300\n",
      "10/10 [==============================] - 12s 1s/step - loss: 0.3363 - R_squared: 0.1836 - mae: 0.3531 - val_loss: 0.2670 - val_R_squared: 0.4161 - val_mae: 0.3932\n",
      "Epoch 259/300\n",
      "10/10 [==============================] - 12s 1s/step - loss: 0.3346 - R_squared: 0.1781 - mae: 0.3555 - val_loss: 0.2678 - val_R_squared: 0.4126 - val_mae: 0.3928\n",
      "Epoch 260/300\n",
      "10/10 [==============================] - 11s 1s/step - loss: 0.3010 - R_squared: 0.2643 - mae: 0.3344 - val_loss: 0.2676 - val_R_squared: 0.4130 - val_mae: 0.3935\n",
      "Epoch 261/300\n",
      "10/10 [==============================] - 11s 1s/step - loss: 0.3296 - R_squared: 0.1893 - mae: 0.3521 - val_loss: 0.2689 - val_R_squared: 0.4109 - val_mae: 0.3942\n",
      "Epoch 262/300\n",
      "10/10 [==============================] - 11s 1s/step - loss: 0.3037 - R_squared: 0.2543 - mae: 0.3366 - val_loss: 0.2670 - val_R_squared: 0.4144 - val_mae: 0.3934\n",
      "Epoch 263/300\n",
      "10/10 [==============================] - 11s 1s/step - loss: 0.3162 - R_squared: 0.2276 - mae: 0.3402 - val_loss: 0.2672 - val_R_squared: 0.4136 - val_mae: 0.3923\n",
      "Epoch 264/300\n",
      "10/10 [==============================] - 10s 992ms/step - loss: 0.3283 - R_squared: 0.1935 - mae: 0.3532 - val_loss: 0.2663 - val_R_squared: 0.4158 - val_mae: 0.3921\n",
      "Epoch 265/300\n",
      "10/10 [==============================] - 10s 989ms/step - loss: 0.3180 - R_squared: 0.2212 - mae: 0.3395 - val_loss: 0.2689 - val_R_squared: 0.4103 - val_mae: 0.3939\n",
      "Epoch 266/300\n",
      "10/10 [==============================] - 10s 993ms/step - loss: 0.3249 - R_squared: 0.2010 - mae: 0.3428 - val_loss: 0.2699 - val_R_squared: 0.4074 - val_mae: 0.3952\n",
      "Epoch 267/300\n",
      "10/10 [==============================] - 11s 1s/step - loss: 0.3198 - R_squared: 0.2187 - mae: 0.3401 - val_loss: 0.2704 - val_R_squared: 0.4068 - val_mae: 0.3956\n",
      "Epoch 268/300\n",
      "10/10 [==============================] - 10s 965ms/step - loss: 0.3165 - R_squared: 0.2258 - mae: 0.3409 - val_loss: 0.2662 - val_R_squared: 0.4157 - val_mae: 0.3917\n",
      "Epoch 269/300\n",
      "10/10 [==============================] - 10s 970ms/step - loss: 0.3054 - R_squared: 0.2520 - mae: 0.3352 - val_loss: 0.2664 - val_R_squared: 0.4159 - val_mae: 0.3918\n",
      "Epoch 270/300\n",
      "10/10 [==============================] - 10s 1s/step - loss: 0.3504 - R_squared: 0.1442 - mae: 0.3608 - val_loss: 0.2670 - val_R_squared: 0.4140 - val_mae: 0.3928\n",
      "Epoch 271/300\n",
      "10/10 [==============================] - 11s 1s/step - loss: 0.3193 - R_squared: 0.2230 - mae: 0.3443 - val_loss: 0.2678 - val_R_squared: 0.4125 - val_mae: 0.3935\n",
      "Epoch 272/300\n",
      "10/10 [==============================] - 10s 983ms/step - loss: 0.3196 - R_squared: 0.2161 - mae: 0.3478 - val_loss: 0.2675 - val_R_squared: 0.4141 - val_mae: 0.3929\n",
      "Epoch 273/300\n",
      "10/10 [==============================] - 10s 992ms/step - loss: 0.3042 - R_squared: 0.2517 - mae: 0.3373 - val_loss: 0.2684 - val_R_squared: 0.4114 - val_mae: 0.3941\n",
      "Epoch 274/300\n",
      "10/10 [==============================] - 10s 978ms/step - loss: 0.3202 - R_squared: 0.2128 - mae: 0.3485 - val_loss: 0.2679 - val_R_squared: 0.4121 - val_mae: 0.3932\n",
      "Epoch 275/300\n",
      "10/10 [==============================] - 10s 967ms/step - loss: 0.3173 - R_squared: 0.2251 - mae: 0.3428 - val_loss: 0.2698 - val_R_squared: 0.4078 - val_mae: 0.3946\n",
      "Epoch 276/300\n",
      "10/10 [==============================] - 10s 975ms/step - loss: 0.3103 - R_squared: 0.2421 - mae: 0.3418 - val_loss: 0.2708 - val_R_squared: 0.4054 - val_mae: 0.3960\n",
      "Epoch 277/300\n",
      "10/10 [==============================] - 10s 966ms/step - loss: 0.3473 - R_squared: 0.1496 - mae: 0.3574 - val_loss: 0.2719 - val_R_squared: 0.4037 - val_mae: 0.3971\n",
      "Epoch 278/300\n",
      "10/10 [==============================] - 10s 948ms/step - loss: 0.3244 - R_squared: 0.2019 - mae: 0.3477 - val_loss: 0.2684 - val_R_squared: 0.4110 - val_mae: 0.3936\n",
      "Epoch 279/300\n",
      "10/10 [==============================] - 10s 976ms/step - loss: 0.3266 - R_squared: 0.1986 - mae: 0.3481 - val_loss: 0.2691 - val_R_squared: 0.4095 - val_mae: 0.3949\n",
      "Epoch 280/300\n",
      "10/10 [==============================] - 11s 1s/step - loss: 0.3000 - R_squared: 0.2636 - mae: 0.3343 - val_loss: 0.2673 - val_R_squared: 0.4144 - val_mae: 0.3931\n",
      "Epoch 281/300\n",
      "10/10 [==============================] - 10s 966ms/step - loss: 0.3249 - R_squared: 0.2016 - mae: 0.3484 - val_loss: 0.2666 - val_R_squared: 0.4144 - val_mae: 0.3922\n",
      "Epoch 282/300\n",
      "10/10 [==============================] - 10s 993ms/step - loss: 0.3526 - R_squared: 0.1367 - mae: 0.3588 - val_loss: 0.2688 - val_R_squared: 0.4110 - val_mae: 0.3940\n",
      "Epoch 283/300\n",
      "10/10 [==============================] - 10s 1s/step - loss: 0.3048 - R_squared: 0.2529 - mae: 0.3355 - val_loss: 0.2678 - val_R_squared: 0.4119 - val_mae: 0.3935\n",
      "Epoch 284/300\n",
      "10/10 [==============================] - 10s 990ms/step - loss: 0.3500 - R_squared: 0.1429 - mae: 0.3586 - val_loss: 0.2702 - val_R_squared: 0.4072 - val_mae: 0.3951\n",
      "Epoch 285/300\n",
      "10/10 [==============================] - 11s 1s/step - loss: 0.3238 - R_squared: 0.2081 - mae: 0.3433 - val_loss: 0.2723 - val_R_squared: 0.4020 - val_mae: 0.3973\n",
      "Epoch 286/300\n",
      "10/10 [==============================] - 10s 972ms/step - loss: 0.3311 - R_squared: 0.1856 - mae: 0.3525 - val_loss: 0.2697 - val_R_squared: 0.4075 - val_mae: 0.3946\n",
      "Epoch 287/300\n",
      "10/10 [==============================] - 10s 1s/step - loss: 0.3544 - R_squared: 0.1300 - mae: 0.3598 - val_loss: 0.2712 - val_R_squared: 0.4049 - val_mae: 0.3957\n",
      "Epoch 288/300\n",
      "10/10 [==============================] - 10s 1s/step - loss: 0.2993 - R_squared: 0.2637 - mae: 0.3335 - val_loss: 0.2716 - val_R_squared: 0.4039 - val_mae: 0.3965\n",
      "Epoch 289/300\n",
      "10/10 [==============================] - 10s 991ms/step - loss: 0.3221 - R_squared: 0.2111 - mae: 0.3442 - val_loss: 0.2677 - val_R_squared: 0.4130 - val_mae: 0.3933\n",
      "Epoch 290/300\n",
      "10/10 [==============================] - 10s 1s/step - loss: 0.3156 - R_squared: 0.2197 - mae: 0.3445 - val_loss: 0.2692 - val_R_squared: 0.4101 - val_mae: 0.3940\n",
      "Epoch 291/300\n",
      "10/10 [==============================] - 11s 1s/step - loss: 0.3407 - R_squared: 0.1635 - mae: 0.3576 - val_loss: 0.2713 - val_R_squared: 0.4051 - val_mae: 0.3959\n",
      "Epoch 292/300\n",
      "10/10 [==============================] - 10s 970ms/step - loss: 0.3409 - R_squared: 0.1687 - mae: 0.3575 - val_loss: 0.2708 - val_R_squared: 0.4065 - val_mae: 0.3958\n",
      "Epoch 293/300\n",
      "10/10 [==============================] - 10s 1s/step - loss: 0.3246 - R_squared: 0.2047 - mae: 0.3470 - val_loss: 0.2696 - val_R_squared: 0.4094 - val_mae: 0.3948\n",
      "Epoch 294/300\n",
      "10/10 [==============================] - 10s 1s/step - loss: 0.3232 - R_squared: 0.2099 - mae: 0.3450 - val_loss: 0.2699 - val_R_squared: 0.4087 - val_mae: 0.3950\n",
      "Epoch 295/300\n",
      "10/10 [==============================] - 10s 1s/step - loss: 0.3275 - R_squared: 0.1992 - mae: 0.3495 - val_loss: 0.2703 - val_R_squared: 0.4079 - val_mae: 0.3958\n",
      "Epoch 296/300\n",
      "10/10 [==============================] - 10s 1s/step - loss: 0.3220 - R_squared: 0.2115 - mae: 0.3496 - val_loss: 0.2710 - val_R_squared: 0.4062 - val_mae: 0.3962\n",
      "Epoch 297/300\n",
      "10/10 [==============================] - 10s 999ms/step - loss: 0.3225 - R_squared: 0.2064 - mae: 0.3488 - val_loss: 0.2686 - val_R_squared: 0.4111 - val_mae: 0.3940\n",
      "Epoch 298/300\n",
      "10/10 [==============================] - 10s 989ms/step - loss: 0.3191 - R_squared: 0.2166 - mae: 0.3453 - val_loss: 0.2699 - val_R_squared: 0.4088 - val_mae: 0.3950\n",
      "Epoch 299/300\n",
      "10/10 [==============================] - 11s 1s/step - loss: 0.3410 - R_squared: 0.1594 - mae: 0.3521 - val_loss: 0.2700 - val_R_squared: 0.4072 - val_mae: 0.3957\n",
      "Epoch 300/300\n",
      "10/10 [==============================] - 10s 1s/step - loss: 0.2996 - R_squared: 0.2636 - mae: 0.3350 - val_loss: 0.2691 - val_R_squared: 0.4100 - val_mae: 0.3942\n"
     ]
    },
    {
     "data": {
      "text/plain": [
       "<tensorflow.python.keras.callbacks.History at 0x36f811610>"
      ]
     },
     "execution_count": 66,
     "metadata": {},
     "output_type": "execute_result"
    }
   ],
   "source": [
    "for layer in model.layers[:-4]:\n",
    "    layer.trainable = True\n",
    "    \n",
    "logdir = \"logs/price/compound/final_unfrozen\"\n",
    "checkpoint_callback = tf.keras.callbacks.ModelCheckpoint(filepath = logdir+\"/checkpoint.ckpt\", monitor='val_R_squared', save_best_only=True, mode='max')\n",
    "\n",
    "lr = 0.0001\n",
    "optimizer = tf.keras.optimizers.Adam(lr)\n",
    "model.compile(optimizer, loss='mse' , metrics=[R_squared,\"mae\"])\n",
    "model.load_weights(\"logs/price/compound/final_frozen/checkpoint.ckpt\")\n",
    "\n",
    "model.fit(train_dataset, validation_data = val_dataset, epochs=300, verbose=1, callbacks = [checkpoint_callback])"
   ]
  },
  {
   "cell_type": "code",
   "execution_count": 73,
   "metadata": {},
   "outputs": [
    {
     "name": "stderr",
     "output_type": "stream",
     "text": [
      "2022-03-02 08:14:16.110196: W tensorflow/core/util/tensor_slice_reader.cc:95] Could not open logs/price/compound/final_unfrozen/checkpoint.ckpt: Failed precondition: logs/price/compound/final_unfrozen/checkpoint.ckpt; Is a directory: perhaps your file is in a different file format and you need to use a different restore operator?\n"
     ]
    },
    {
     "data": {
      "text/plain": [
       "[array([[-0.],\n",
       "        [ 1.]], dtype=float32),\n",
       " array([3.530381], dtype=float32)]"
      ]
     },
     "execution_count": 73,
     "metadata": {},
     "output_type": "execute_result"
    }
   ],
   "source": [
    "model.load_weights(\"logs/price/compound/final_unfrozen/checkpoint.ckpt\")\n",
    "model.layers[-1].get_weights()"
   ]
  },
  {
   "cell_type": "code",
   "execution_count": null,
   "metadata": {},
   "outputs": [],
   "source": []
  }
 ],
 "metadata": {
  "interpreter": {
   "hash": "f0e252e38867c5c5dbaa4d840f6f52d4785511881d0242d037299812a0aec8ad"
  },
  "kernelspec": {
   "display_name": "Python 3.9.0 64-bit ('tensorflow_m1': conda)",
   "language": "python",
   "name": "python3"
  },
  "language_info": {
   "codemirror_mode": {
    "name": "ipython",
    "version": 3
   },
   "file_extension": ".py",
   "mimetype": "text/x-python",
   "name": "python",
   "nbconvert_exporter": "python",
   "pygments_lexer": "ipython3",
   "version": "3.9.0"
  },
  "orig_nbformat": 4
 },
 "nbformat": 4,
 "nbformat_minor": 2
}
